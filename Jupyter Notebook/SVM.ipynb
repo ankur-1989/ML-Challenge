{
 "cells": [
  {
   "cell_type": "code",
   "execution_count": 24,
   "metadata": {
    "collapsed": true
   },
   "outputs": [],
   "source": [
    "import numpy as np\n",
    "import pandas as pd\n",
    "import sklearn\n",
    "from sklearn import svm\n",
    "from sklearn.model_selection import train_test_split"
   ]
  },
  {
   "cell_type": "code",
   "execution_count": 25,
   "metadata": {
    "collapsed": true
   },
   "outputs": [],
   "source": [
    "input_path = \"C:\\\\Users\\\\Varma\\\\ML Challenge\\\\data\\\\ml1data.train.txt\"\n",
    "data_csv_path = \"C:\\\\Users\\\\Varma\\\\ML Challenge\\\\data\\\\challengeDataset.csv\"\n",
    "\n",
    "# input_path = \"/home/ankur/MachineLearning/challenge/ml-Challenge/data/ml1data.train.txt\"\n",
    "# output_path = \"/home/ankur/MachineLearning/challenge/ml-Challenge/data/challengeDataset.csv\""
   ]
  },
  {
   "cell_type": "code",
   "execution_count": 26,
   "metadata": {},
   "outputs": [],
   "source": [
    "dataml =  np.genfromtxt('C:\\\\Users\\\\Varma\\\\ML Challenge\\\\data\\\\ml1data.train.txt', delimiter=',', dtype=str)\n",
    "\n",
    "labels = dataml[:,21]\n",
    "le= sklearn.preprocessing.LabelEncoder()\n",
    "le.fit(labels)\n",
    "labels = le.transform(labels)\n",
    "class_names = le.classes_\n",
    "dataml = dataml[:,:-1]"
   ]
  },
  {
   "cell_type": "code",
   "execution_count": 28,
   "metadata": {},
   "outputs": [
    {
     "data": {
      "text/plain": [
       "array([['A', '138', 'E', ..., '71.81', 'DP', 'DO'],\n",
       "       ['A', '966', 'E', ..., '71.81', 'NN', 'DO'],\n",
       "       ['C', '345', 'E', ..., '71.81', 'DP', 'DO'],\n",
       "       ..., \n",
       "       ['C', '276', 'E', ..., '71.81', 'NN', 'DO'],\n",
       "       ['A', '276', 'F', ..., '143.62', 'NN', 'DO'],\n",
       "       ['C', '414', 'E', ..., '71.81', 'NN', 'DO']],\n",
       "      dtype='<U6')"
      ]
     },
     "execution_count": 28,
     "metadata": {},
     "output_type": "execute_result"
    }
   ],
   "source": [
    "dataml"
   ]
  },
  {
   "cell_type": "code",
   "execution_count": 27,
   "metadata": {
    "collapsed": true
   },
   "outputs": [],
   "source": [
    "categorical_features = [0,2,4,6,7,9,10,12,14,15,17,19,20]"
   ]
  },
  {
   "cell_type": "code",
   "execution_count": 29,
   "metadata": {
    "collapsed": true
   },
   "outputs": [],
   "source": [
    " categorical_names = {}\n",
    "for feature in categorical_features:\n",
    "    le = sklearn.preprocessing.LabelEncoder()\n",
    "    le.fit(dataml[:, feature])\n",
    "    dataml[:, feature] = le.transform(dataml[:, feature])\n",
    "    categorical_names[feature] = le.classes_\n"
   ]
  },
  {
   "cell_type": "code",
   "execution_count": 31,
   "metadata": {},
   "outputs": [],
   "source": [
    "dataml = dataml.astype(float)\n",
    "encoder = sklearn.preprocessing.OneHotEncoder(categorical_features=categorical_features)\n"
   ]
  },
  {
   "cell_type": "code",
   "execution_count": 32,
   "metadata": {},
   "outputs": [
    {
     "name": "stderr",
     "output_type": "stream",
     "text": [
      "C:\\Users\\Varma\\Anaconda3\\lib\\site-packages\\sklearn\\model_selection\\_split.py:2026: FutureWarning: From version 0.21, test_size will always complement train_size unless both are specified.\n",
      "  FutureWarning)\n"
     ]
    }
   ],
   "source": [
    "np.random.seed(1)\n",
    "train, test, labels_train, labels_test = sklearn.model_selection.train_test_split(dataml, labels, train_size=0.80)\n"
   ]
  },
  {
   "cell_type": "code",
   "execution_count": 33,
   "metadata": {
    "collapsed": true
   },
   "outputs": [],
   "source": [
    "encoder.fit(dataml)\n",
    "encoded_train = encoder.transform(train)"
   ]
  },
  {
   "cell_type": "code",
   "execution_count": 40,
   "metadata": {},
   "outputs": [
    {
     "data": {
      "text/plain": [
       "SVR(C=1.0, cache_size=200, coef0=0.0, degree=3, epsilon=0.1, gamma='auto',\n",
       "  kernel='rbf', max_iter=-1, shrinking=True, tol=0.001, verbose=False)"
      ]
     },
     "execution_count": 40,
     "metadata": {},
     "output_type": "execute_result"
    }
   ],
   "source": [
    "clf = svm.SVR()\n",
    "clf.fit(encoder.transform(train), labels_train)"
   ]
  },
  {
   "cell_type": "code",
   "execution_count": 41,
   "metadata": {},
   "outputs": [
    {
     "data": {
      "text/plain": [
       "0.036411183195662722"
      ]
     },
     "execution_count": 41,
     "metadata": {},
     "output_type": "execute_result"
    }
   ],
   "source": [
    "clf.score(encoder.transform(test),labels_test)"
   ]
  },
  {
   "cell_type": "code",
   "execution_count": null,
   "metadata": {
    "collapsed": true
   },
   "outputs": [],
   "source": []
  }
 ],
 "metadata": {
  "kernelspec": {
   "display_name": "Python 3",
   "language": "python",
   "name": "python3"
  },
  "language_info": {
   "codemirror_mode": {
    "name": "ipython",
    "version": 3
   },
   "file_extension": ".py",
   "mimetype": "text/x-python",
   "name": "python",
   "nbconvert_exporter": "python",
   "pygments_lexer": "ipython3",
   "version": "3.6.3"
  }
 },
 "nbformat": 4,
 "nbformat_minor": 2
}
