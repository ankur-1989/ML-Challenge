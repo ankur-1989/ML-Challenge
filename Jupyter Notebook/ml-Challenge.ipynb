{
 "cells": [
  {
   "cell_type": "markdown",
   "metadata": {},
   "source": [
    "                                    Welcome to Machine Learning Challenge!"
   ]
  },
  {
   "cell_type": "code",
   "execution_count": 74,
   "metadata": {
    "collapsed": true
   },
   "outputs": [],
   "source": [
    "import numpy as np\n",
    "import pandas as pd\n",
    "from sklearn.model_selection import train_test_split\n",
    "from sklearn.ensemble import RandomForestClassifier\n",
    "from sklearn.metrics import accuracy_score\n",
    "from sklearn.metrics import confusion_matrix"
   ]
  },
  {
   "cell_type": "code",
   "execution_count": 75,
   "metadata": {
    "collapsed": true
   },
   "outputs": [],
   "source": [
    "import pdb"
   ]
  },
  {
   "cell_type": "code",
   "execution_count": 108,
   "metadata": {
    "collapsed": true
   },
   "outputs": [],
   "source": [
    "input_path = \"/home/ankur/MachineLearning/challenge/ml-Challenge/data/ml1data.train.txt\"\n",
    "output_path = \"/home/ankur/MachineLearning/challenge/ml-Challenge/data/challengeDataset.csv\""
   ]
  },
  {
   "cell_type": "code",
   "execution_count": 81,
   "metadata": {},
   "outputs": [
    {
     "name": "stdout",
     "output_type": "stream",
     "text": [
      "     A   138  E  35.91  J    7.79  P  AA  88  AF  ...   CQ  177.27  NK  DF  \\\n",
      "0    A   966  E  35.91  V   22.63  Q  AD  88  AF  ...   DC  171.97  NK  DF   \n",
      "1    C   345  E  35.91  J   12.19  Q  AA  88  AF  ...   DC  121.70  NK  DF   \n",
      "2    B   276  F  35.91  O    5.61  T  AC  44  BA  ...   CQ   60.85  NK  DG   \n",
      "3    C   552  G  35.91  L   27.67  T  AB  44  AF  ...   DA   92.60  NK  DF   \n",
      "4    B   161  F  35.91  J   17.17  Q  AB  44  AF  ...   CQ   92.60  NK  DF   \n",
      "5    A   345  H  71.81  M    6.33  Q  AA  88  AF  ...   DC   87.31  NK  DG   \n",
      "6    B   460  F  35.91  N   43.12  P  AD  22  AG  ...   CQ  158.75  NK  DF   \n",
      "7    C   414  E  35.91  N   25.67  Q  AC  66  AF  ...   DC   71.44  NK  DF   \n",
      "8    B  1242  H  35.91  O  106.30  Q  AE  66  AF  ...   DB  153.45  NK  DG   \n",
      "9    C   483  F  35.91  O   10.48  S  AA  88  BA  ...   CQ   95.25  DE  DF   \n",
      "10   B   138  F  35.91  J    3.93  Q  AE  66  BF  ...   CQ   68.79  NK  DF   \n",
      "11   C   276  F  35.91  L   10.49  Q  AB  88  AF  ...   CQ  132.29  NK  DF   \n",
      "12   B   345  F  35.91  V    8.72  Q  AA  88  AF  ...   DC  100.54  NK  DF   \n",
      "13   B   690  F  35.91  L   22.94  T  AB  44  BA  ...   DC   55.56  NK  DG   \n",
      "14   A   483  F  35.91  J   22.38  S  AE  88  BA  ...   DC   76.73  DE  DF   \n",
      "15   C   621  G  35.91  O   34.11  Q  AC  66  AF  ...   DC   68.79  NK  DF   \n",
      "16   B   345  E  35.91  O   15.51  R  AB  44  AF  ...   DC   71.44  DE  DF   \n",
      "17   A   299  E  35.91  O   11.98  Q  AE  66  AF  ...   DA   74.08  DE  DF   \n",
      "18   C   345  F  35.91  K   30.82  T  AB  66  AF  ...   DA  105.83  NK  DF   \n",
      "19   B   690  E  35.91  M   34.89  Q  AD  88  BF  ...   DC   74.08  NK  DF   \n",
      "20   B   690  F  35.91  M   14.33  Q  AB  88  BA  ...   DB   63.50  DE  DF   \n",
      "21   C   207  F  35.91  M   16.71  R  AA  44  AF  ...   DB  134.93  NK  DS   \n",
      "22   B   207  E  71.81  K    7.57  S  AA  88  AF  ...   DB   84.66  NK  DS   \n",
      "23   D   345  F  35.91  J   15.51  Q  AE  44  BA  ...   CQ   66.14  NK  DF   \n",
      "24   C   345  F  35.91  M   23.71  P  AB  66  AF  ...   DB   76.73  NK  DF   \n",
      "25   B   207  F  35.91  J    7.21  Q  AA  88  AF  ...   DC   71.44  NK  DF   \n",
      "26   B   276  E  71.81  M    6.39  Q  AC  44  AF  ...   CQ  124.35  NK  DF   \n",
      "27   C   828  F  35.91  L   73.16  Q  AD  88  BA  ...   DC   68.79  NK  DF   \n",
      "28   B   414  F  35.91  L   12.83  P  AE  88  BA  ...   CQ   71.44  NK  DG   \n",
      "29   C   414  F  35.91  J   13.67  Q  AE  88  AF  ...   CQ   87.31  NK  DF   \n",
      "..  ..   ... ..    ... ..     ... ..  ..  ..  ..  ...   ..     ...  ..  ..   \n",
      "472  A  1035  H  35.91  O   78.77  Q  AA  44  AF  ...   DC   76.73  NK  DG   \n",
      "473  C   828  F  35.91  J   25.57  P  AA  44  BA  ...   CQ  119.06  NK  DF   \n",
      "474  C   552  F  35.91  J    9.17  R  AC  88  BA  ...   DC   74.08  NK  DF   \n",
      "475  A   345  F  35.91  L   12.30  Q  AE  88  BA  ...   DA  121.70  NK  DG   \n",
      "476  C   207  F  35.91  L    8.75  Q  AA  22  AF  ...   DC   52.92  NK  DF   \n",
      "477  C   552  F  35.91  J   39.62  P  AE  22  BA  ...   DC  116.41  NK  DF   \n",
      "478  C   138  F  35.91  N    8.24  R  AB  44  AF  ...   DA  132.29  NK  DG   \n",
      "479  C   414  E  35.91  L   25.20  Q  AE  66  AG  ...   DC   92.60  NK  DF   \n",
      "480  C   230  E  71.81  M    8.21  Q  AA  66  AF  ...   CQ   84.66  NK  DF   \n",
      "481  A   184  E  35.91  M   22.65  Q  AC  22  AF  ...   CQ  103.18  NK  DF   \n",
      "482  B  1104  E  35.91  L   33.97  Q  AB  44  BA  ...   DC   79.37  NK  DF   \n",
      "483  D   230  F  71.81  M    8.27  T  AA  22  BA  ...   DB  127.00  NK  DS   \n",
      "484  C   483  H  35.91  M   33.35  P  AB  22  BA  ...   DA   76.73  DE  DF   \n",
      "485  C   345  G  35.91  N   23.96  Q  AE  22  BA  ...   DA  121.70  NK  DF   \n",
      "486  B   966  E  35.91  O   39.69  Q  AC  44  BA  ...   CQ  108.48  DE  DF   \n",
      "487  A   230  E  35.91  M    6.92  Q  AC  88  AF  ...   DA  129.64  NK  DF   \n",
      "488  B   276  F  35.91  M    5.57  T  AE  88  BA  ...   DA   60.85  DE  DF   \n",
      "489  A   920  E  35.91  K   39.99  Q  AB  88  AF  ...   DB   71.44  DE  DF   \n",
      "490  C   207  E  35.91  M    8.16  Q  AB  66  AF  ...   CQ   79.37  NK  DF   \n",
      "491  A   828  F  35.91  J   15.35  Q  AB  88  AG  ...   DC   82.02  NK  DG   \n",
      "492  C   207  F  35.91  L   15.34  T  AE  44  BA  ...   DA   58.21  NK  DG   \n",
      "493  C   276  E  35.91  L    9.35  R  AC  66  BA  ...   DC   97.89  NK  DG   \n",
      "494  C   115  F  35.91  O   22.99  Q  AC  22  AF  ...   CQ  195.79  NK  DF   \n",
      "495  A   138  F  35.91  N    9.01  R  AD  22  BA  ...   DA   60.85  NK  DG   \n",
      "496  C   552  F  35.91  N   36.22  P  AD  44  BA  ...   DA   68.79  NK  DG   \n",
      "497  A   828  E  35.91  K   53.77  Q  AB  66  BA  ...   DB   66.14  NK  DF   \n",
      "498  C   552  F  35.91  M    9.83  T  AE  88  BF  ...   CQ   87.31  NK  DF   \n",
      "499  C   276  E  35.91  J    4.78  Q  AA  88  AF  ...   CQ  137.58  NK  DF   \n",
      "500  A   276  F  71.81  L   23.93  Q  AB  44  AF  ...   DA   76.73  NK  DF   \n",
      "501  C   414  E  35.91  J    7.66  S  AB  88  AF  ...   CQ  121.70  NK  DF   \n",
      "\n",
      "     108642  DM   71.81  DP  DO   MEM  \n",
      "0    108642  DJ   71.81  NN  DO   MEM  \n",
      "1    108642  DM   71.81  DP  DO   MEM  \n",
      "2     54321  DH   71.81  NN  DO   MEM  \n",
      "3    108642  DM   71.81  NN  DO   MEM  \n",
      "4     54321  DM   71.81  NN  DO   MEM  \n",
      "5    108642  DM  143.62  NN  DO  NMEM  \n",
      "6     54321  DI   71.81  DP  DO   MEM  \n",
      "7    108642  DM   71.81  NN  DO   MEM  \n",
      "8     54321  DM   71.81  DP  DO  NMEM  \n",
      "9     54321  DH   71.81  NN  DO   MEM  \n",
      "10    54321  DH   71.81  NN  DT   MEM  \n",
      "11    54321  DM   71.81  NN  DO   MEM  \n",
      "12   108642  DH   71.81  NN  DO   MEM  \n",
      "13    54321  DM   71.81  NN  DO  NMEM  \n",
      "14    54321  DM   71.81  NN  DO   MEM  \n",
      "15   108642  DM   71.81  NN  DO   MEM  \n",
      "16    54321  DM   71.81  NN  DO   MEM  \n",
      "17   108642  DH   71.81  NN  DO   MEM  \n",
      "18    54321  DI   71.81  DP  DO  NMEM  \n",
      "19   108642  DI   71.81  NN  DO  NMEM  \n",
      "20    54321  DM   71.81  NN  DO  NMEM  \n",
      "21    54321  DH   71.81  NN  DO   MEM  \n",
      "22   108642  DM  143.62  NN  DO  NMEM  \n",
      "23    54321  DH   71.81  NN  DO  NMEM  \n",
      "24    54321  DM   71.81  NN  DO   MEM  \n",
      "25   108642  DH   71.81  NN  DO   MEM  \n",
      "26   108642  DH  143.62  NN  DO   MEM  \n",
      "27   108642  DI   71.81  DP  DO  NMEM  \n",
      "28    54321  DM   71.81  NN  DO  NMEM  \n",
      "29    54321  DM   71.81  NN  DO   MEM  \n",
      "..      ...  ..     ...  ..  ..   ...  \n",
      "472  108642  DM   71.81  NN  DO  NMEM  \n",
      "473   54321  DH   71.81  DP  DO   MEM  \n",
      "474   54321  DM   71.81  NN  DO   MEM  \n",
      "475   54321  DM   71.81  NN  DO   MEM  \n",
      "476   54321  DM   71.81  NN  DO   MEM  \n",
      "477  108642  DM   71.81  DP  DO  NMEM  \n",
      "478   54321  DM   71.81  NN  DO   MEM  \n",
      "479  108642  DI   71.81  DP  DO   MEM  \n",
      "480  108642  DH  143.62  NN  DT   MEM  \n",
      "481  108642  DH   71.81  NN  DT   MEM  \n",
      "482   54321  DI   71.81  DP  DO  NMEM  \n",
      "483   54321  DH  143.62  NN  DO  NMEM  \n",
      "484  108642  DM   71.81  DP  DO  NMEM  \n",
      "485  108642  DH   71.81  NN  DO   MEM  \n",
      "486  108642  DH   71.81  NN  DO   MEM  \n",
      "487  108642  DM   71.81  DP  DO   MEM  \n",
      "488   54321  DH   71.81  NN  DO  NMEM  \n",
      "489   54321  DM   71.81  DP  DO  NMEM  \n",
      "490  108642  DM   71.81  NN  DO   MEM  \n",
      "491   54321  DM   71.81  NN  DO  NMEM  \n",
      "492   54321  DM   71.81  NN  DO   MEM  \n",
      "493   54321  DM   71.81  DP  DO   MEM  \n",
      "494   54321  DH   71.81  NN  DO   MEM  \n",
      "495   54321  DJ   71.81  DP  DO   MEM  \n",
      "496   54321  DI   71.81  DP  DO   MEM  \n",
      "497  108642  DI   71.81  DP  DO  NMEM  \n",
      "498   54321  DM   71.81  DP  DO   MEM  \n",
      "499  162963  DM   71.81  NN  DO   MEM  \n",
      "500   54321  DH  143.62  NN  DO   MEM  \n",
      "501  108642  DM   71.81  NN  DO   MEM  \n",
      "\n",
      "[502 rows x 22 columns]\n"
     ]
    }
   ],
   "source": [
    "dataset = pd.read_csv(input_path)\n",
    "print(dataset)"
   ]
  },
  {
   "cell_type": "code",
   "execution_count": 93,
   "metadata": {
    "collapsed": true
   },
   "outputs": [],
   "source": [
    "headers = [\"X1\", \"X2\", \"X3\", \"X4\", \"X5\",\n",
    "               \"X6\", \"X7\", \"X8\", \"X9\", \"X10\",\n",
    "               \"X11\",\"X12\",\"X13\",\"X14\", \"X15\", \"X16\", \"X17\", \"X18\",\n",
    "               \"X19\", \"X20\", \"X21\",\"Y\"]"
   ]
  },
  {
   "cell_type": "code",
   "execution_count": 107,
   "metadata": {},
   "outputs": [
    {
     "name": "stdout",
     "output_type": "stream",
     "text": [
      "    X1    X2 X3     X4 X5      X6 X7  X8  X9 X10  ...  X13     X14 X15  X16  \\\n",
      "0    A   966  E  35.91  V   22.63  Q  AD  88  AF  ...   DC  171.97  NK   DF   \n",
      "1    C   345  E  35.91  J   12.19  Q  AA  88  AF  ...   DC  121.70  NK   DF   \n",
      "2    B   276  F  35.91  O    5.61  T  AC  44  BA  ...   CQ   60.85  NK   DG   \n",
      "3    C   552  G  35.91  L   27.67  T  AB  44  AF  ...   DA   92.60  NK   DF   \n",
      "4    B   161  F  35.91  J   17.17  Q  AB  44  AF  ...   CQ   92.60  NK   DF   \n",
      "5    A   345  H  71.81  M    6.33  Q  AA  88  AF  ...   DC   87.31  NK   DG   \n",
      "6    B   460  F  35.91  N   43.12  P  AD  22  AG  ...   CQ  158.75  NK   DF   \n",
      "7    C   414  E  35.91  N   25.67  Q  AC  66  AF  ...   DC   71.44  NK   DF   \n",
      "8    B  1242  H  35.91  O  106.30  Q  AE  66  AF  ...   DB  153.45  NK   DG   \n",
      "9    C   483  F  35.91  O   10.48  S  AA  88  BA  ...   CQ   95.25  DE   DF   \n",
      "10   B   138  F  35.91  J    3.93  Q  AE  66  BF  ...   CQ   68.79  NK   DF   \n",
      "11   C   276  F  35.91  L   10.49  Q  AB  88  AF  ...   CQ  132.29  NK   DF   \n",
      "12   B   345  F  35.91  V    8.72  Q  AA  88  AF  ...   DC  100.54  NK   DF   \n",
      "13   B   690  F  35.91  L   22.94  T  AB  44  BA  ...   DC   55.56  NK   DG   \n",
      "14   A   483  F  35.91  J   22.38  S  AE  88  BA  ...   DC   76.73  DE   DF   \n",
      "15   C   621  G  35.91  O   34.11  Q  AC  66  AF  ...   DC   68.79  NK   DF   \n",
      "16   B   345  E  35.91  O   15.51  R  AB  44  AF  ...   DC   71.44  DE   DF   \n",
      "17   A   299  E  35.91  O   11.98  Q  AE  66  AF  ...   DA   74.08  DE   DF   \n",
      "18   C   345  F  35.91  K   30.82  T  AB  66  AF  ...   DA  105.83  NK   DF   \n",
      "19   B   690  E  35.91  M   34.89  Q  AD  88  BF  ...   DC   74.08  NK   DF   \n",
      "20   B   690  F  35.91  M   14.33  Q  AB  88  BA  ...   DB   63.50  DE   DF   \n",
      "21   C   207  F  35.91  M   16.71  R  AA  44  AF  ...   DB  134.93  NK   DS   \n",
      "22   B   207  E  71.81  K    7.57  S  AA  88  AF  ...   DB   84.66  NK   DS   \n",
      "23   D   345  F  35.91  J   15.51  Q  AE  44  BA  ...   CQ   66.14  NK   DF   \n",
      "24   C   345  F  35.91  M   23.71  P  AB  66  AF  ...   DB   76.73  NK   DF   \n",
      "25   B   207  F  35.91  J    7.21  Q  AA  88  AF  ...   DC   71.44  NK   DF   \n",
      "26   B   276  E  71.81  M    6.39  Q  AC  44  AF  ...   CQ  124.35  NK   DF   \n",
      "27   C   828  F  35.91  L   73.16  Q  AD  88  BA  ...   DC   68.79  NK   DF   \n",
      "28   B   414  F  35.91  L   12.83  P  AE  88  BA  ...   CQ   71.44  NK   DG   \n",
      "29   C   414  F  35.91  J   13.67  Q  AE  88  AF  ...   CQ   87.31  NK   DF   \n",
      "..  ..   ... ..    ... ..     ... ..  ..  ..  ..  ...   ..     ...  ..  ...   \n",
      "472  A  1035  H  35.91  O   78.77  Q  AA  44  AF  ...   DC   76.73  NK   DG   \n",
      "473  C   828  F  35.91  J   25.57  P  AA  44  BA  ...   CQ  119.06  NK   DF   \n",
      "474  C   552  F  35.91  J    9.17  R  AC  88  BA  ...   DC   74.08  NK   DF   \n",
      "475  A   345  F  35.91  L   12.30  Q  AE  88  BA  ...   DA  121.70  NK   DG   \n",
      "476  C   207  F  35.91  L    8.75  Q  AA  22  AF  ...   DC   52.92  NK   DF   \n",
      "477  C   552  F  35.91  J   39.62  P  AE  22  BA  ...   DC  116.41  NK   DF   \n",
      "478  C   138  F  35.91  N    8.24  R  AB  44  AF  ...   DA  132.29  NK   DG   \n",
      "479  C   414  E  35.91  L   25.20  Q  AE  66  AG  ...   DC   92.60  NK   DF   \n",
      "480  C   230  E  71.81  M    8.21  Q  AA  66  AF  ...   CQ   84.66  NK   DF   \n",
      "481  A   184  E  35.91  M   22.65  Q  AC  22  AF  ...   CQ  103.18  NK   DF   \n",
      "482  B  1104  E  35.91  L   33.97  Q  AB  44  BA  ...   DC   79.37  NK   DF   \n",
      "483  D   230  F  71.81  M    8.27  T  AA  22  BA  ...   DB  127.00  NK   DS   \n",
      "484  C   483  H  35.91  M   33.35  P  AB  22  BA  ...   DA   76.73  DE   DF   \n",
      "485  C   345  G  35.91  N   23.96  Q  AE  22  BA  ...   DA  121.70  NK   DF   \n",
      "486  B   966  E  35.91  O   39.69  Q  AC  44  BA  ...   CQ  108.48  DE   DF   \n",
      "487  A   230  E  35.91  M    6.92  Q  AC  88  AF  ...   DA  129.64  NK   DF   \n",
      "488  B   276  F  35.91  M    5.57  T  AE  88  BA  ...   DA   60.85  DE   DF   \n",
      "489  A   920  E  35.91  K   39.99  Q  AB  88  AF  ...   DB   71.44  DE   DF   \n",
      "490  C   207  E  35.91  M    8.16  Q  AB  66  AF  ...   CQ   79.37  NK   DF   \n",
      "491  A   828  F  35.91  J   15.35  Q  AB  88  AG  ...   DC   82.02  NK   DG   \n",
      "492  C   207  F  35.91  L   15.34  T  AE  44  BA  ...   DA   58.21  NK   DG   \n",
      "493  C   276  E  35.91  L    9.35  R  AC  66  BA  ...   DC   97.89  NK   DG   \n",
      "494  C   115  F  35.91  O   22.99  Q  AC  22  AF  ...   CQ  195.79  NK   DF   \n",
      "495  A   138  F  35.91  N    9.01  R  AD  22  BA  ...   DA   60.85  NK   DG   \n",
      "496  C   552  F  35.91  N   36.22  P  AD  44  BA  ...   DA   68.79  NK   DG   \n",
      "497  A   828  E  35.91  K   53.77  Q  AB  66  BA  ...   DB   66.14  NK   DF   \n",
      "498  C   552  F  35.91  M    9.83  T  AE  88  BF  ...   CQ   87.31  NK   DF   \n",
      "499  C   276  E  35.91  J    4.78  Q  AA  88  AF  ...   CQ  137.58  NK   DF   \n",
      "500  A   276  F  71.81  L   23.93  Q  AB  44  AF  ...   DA   76.73  NK   DF   \n",
      "501  C   414  E  35.91  J    7.66  S  AB  88  AF  ...   CQ  121.70  NK   DF   \n",
      "\n",
      "        X17 X18     X19 X20  X21     Y  \n",
      "0    108642  DJ   71.81  NN   DO   MEM  \n",
      "1    108642  DM   71.81  DP   DO   MEM  \n",
      "2     54321  DH   71.81  NN   DO   MEM  \n",
      "3    108642  DM   71.81  NN   DO   MEM  \n",
      "4     54321  DM   71.81  NN   DO   MEM  \n",
      "5    108642  DM  143.62  NN   DO  NMEM  \n",
      "6     54321  DI   71.81  DP   DO   MEM  \n",
      "7    108642  DM   71.81  NN   DO   MEM  \n",
      "8     54321  DM   71.81  DP   DO  NMEM  \n",
      "9     54321  DH   71.81  NN   DO   MEM  \n",
      "10    54321  DH   71.81  NN   DT   MEM  \n",
      "11    54321  DM   71.81  NN   DO   MEM  \n",
      "12   108642  DH   71.81  NN   DO   MEM  \n",
      "13    54321  DM   71.81  NN   DO  NMEM  \n",
      "14    54321  DM   71.81  NN   DO   MEM  \n",
      "15   108642  DM   71.81  NN   DO   MEM  \n",
      "16    54321  DM   71.81  NN   DO   MEM  \n",
      "17   108642  DH   71.81  NN   DO   MEM  \n",
      "18    54321  DI   71.81  DP   DO  NMEM  \n",
      "19   108642  DI   71.81  NN   DO  NMEM  \n",
      "20    54321  DM   71.81  NN   DO  NMEM  \n",
      "21    54321  DH   71.81  NN   DO   MEM  \n",
      "22   108642  DM  143.62  NN   DO  NMEM  \n",
      "23    54321  DH   71.81  NN   DO  NMEM  \n",
      "24    54321  DM   71.81  NN   DO   MEM  \n",
      "25   108642  DH   71.81  NN   DO   MEM  \n",
      "26   108642  DH  143.62  NN   DO   MEM  \n",
      "27   108642  DI   71.81  DP   DO  NMEM  \n",
      "28    54321  DM   71.81  NN   DO  NMEM  \n",
      "29    54321  DM   71.81  NN   DO   MEM  \n",
      "..      ...  ..     ...  ..  ...   ...  \n",
      "472  108642  DM   71.81  NN   DO  NMEM  \n",
      "473   54321  DH   71.81  DP   DO   MEM  \n",
      "474   54321  DM   71.81  NN   DO   MEM  \n",
      "475   54321  DM   71.81  NN   DO   MEM  \n",
      "476   54321  DM   71.81  NN   DO   MEM  \n",
      "477  108642  DM   71.81  DP   DO  NMEM  \n",
      "478   54321  DM   71.81  NN   DO   MEM  \n",
      "479  108642  DI   71.81  DP   DO   MEM  \n",
      "480  108642  DH  143.62  NN   DT   MEM  \n",
      "481  108642  DH   71.81  NN   DT   MEM  \n",
      "482   54321  DI   71.81  DP   DO  NMEM  \n",
      "483   54321  DH  143.62  NN   DO  NMEM  \n",
      "484  108642  DM   71.81  DP   DO  NMEM  \n",
      "485  108642  DH   71.81  NN   DO   MEM  \n",
      "486  108642  DH   71.81  NN   DO   MEM  \n",
      "487  108642  DM   71.81  DP   DO   MEM  \n",
      "488   54321  DH   71.81  NN   DO  NMEM  \n",
      "489   54321  DM   71.81  DP   DO  NMEM  \n",
      "490  108642  DM   71.81  NN   DO   MEM  \n",
      "491   54321  DM   71.81  NN   DO  NMEM  \n",
      "492   54321  DM   71.81  NN   DO   MEM  \n",
      "493   54321  DM   71.81  DP   DO   MEM  \n",
      "494   54321  DH   71.81  NN   DO   MEM  \n",
      "495   54321  DJ   71.81  DP   DO   MEM  \n",
      "496   54321  DI   71.81  DP   DO   MEM  \n",
      "497  108642  DI   71.81  DP   DO  NMEM  \n",
      "498   54321  DM   71.81  DP   DO   MEM  \n",
      "499  162963  DM   71.81  NN   DO   MEM  \n",
      "500   54321  DH  143.62  NN   DO   MEM  \n",
      "501  108642  DM   71.81  NN   DO   MEM  \n",
      "\n",
      "[502 rows x 22 columns]\n"
     ]
    }
   ],
   "source": [
    "dataset.columns = headers\n",
    "print(dataset)"
   ]
  },
  {
   "cell_type": "code",
   "execution_count": 110,
   "metadata": {},
   "outputs": [
    {
     "name": "stdout",
     "output_type": "stream",
     "text": [
      "                X2          X4          X6          X9         X12  \\\n",
      "count   502.000000  502.000000  502.000000  502.000000  502.000000   \n",
      "mean    475.211155   41.273546   21.807888   65.956175   45.131474   \n",
      "std     283.880178   12.810565   18.927118   23.934835   17.652971   \n",
      "min      92.000000   35.910000    1.670000   22.000000   16.000000   \n",
      "25%     276.000000   35.910000    9.070000   44.000000   32.000000   \n",
      "50%     414.000000   35.910000   15.465000   66.000000   48.000000   \n",
      "75%     552.000000   35.910000   26.507500   88.000000   64.000000   \n",
      "max    1380.000000   71.810000  106.300000   88.000000   64.000000   \n",
      "\n",
      "              X14            X17         X19  \n",
      "count  502.000000     502.000000  502.000000  \n",
      "mean    94.878406   74988.950199   82.538586  \n",
      "std     30.228991   30537.163623   25.624699  \n",
      "min     52.920000   54321.000000   71.810000  \n",
      "25%     71.440000   54321.000000   71.810000  \n",
      "50%     89.960000   54321.000000   71.810000  \n",
      "75%    108.480000  108642.000000   71.810000  \n",
      "max    198.430000  217284.000000  143.620000  \n"
     ]
    }
   ],
   "source": [
    "dataset.to_csv(output_path, index=False)\n",
    "print(dataset.describe())"
   ]
  },
  {
   "cell_type": "code",
   "execution_count": 111,
   "metadata": {
    "collapsed": true
   },
   "outputs": [],
   "source": [
    "def split_dataset(dataset, train_percentage, feature_headers, target_header):\n",
    "    \"\"\"\n",
    "    Split the dataset with train_percentage\n",
    "    :param dataset:\n",
    "    :param train_percentage:\n",
    "    :param feature_headers:\n",
    "    :param target_header:\n",
    "    :return: train_x, test_x, train_y, test_y\n",
    "    \"\"\"\n",
    "\n",
    "    # Split dataset into train and test dataset\n",
    "    train_x, test_x, train_y, test_y = train_test_split(dataset[feature_headers], dataset[target_header],\n",
    "                                                        train_size=train_percentage)\n",
    "    return train_x, test_x, train_y, test_y"
   ]
  },
  {
   "cell_type": "code",
   "execution_count": 103,
   "metadata": {},
   "outputs": [
    {
     "name": "stdout",
     "output_type": "stream",
     "text": [
      "['X1', 'X2', 'X3', 'X4', 'X5', 'X6', 'X7', 'X8', 'X9', 'X10', 'X11', 'X12', 'X13', 'X14', 'X15', 'X16', 'X17', 'X18', 'X19', 'X20', 'X21', 'Y']\n"
     ]
    }
   ],
   "source": [
    "print(headers[0:])"
   ]
  },
  {
   "cell_type": "code",
   "execution_count": 121,
   "metadata": {},
   "outputs": [
    {
     "name": "stderr",
     "output_type": "stream",
     "text": [
      "/home/ankur/anaconda3/lib/python3.6/site-packages/sklearn/model_selection/_split.py:2026: FutureWarning: From version 0.21, test_size will always complement train_size unless both are specified.\n",
      "  FutureWarning)\n"
     ]
    }
   ],
   "source": [
    "train_x, test_x, train_y, test_y = split_dataset(dataset, 0.7, headers[0:-1], headers[21])"
   ]
  },
  {
   "cell_type": "code",
   "execution_count": 119,
   "metadata": {},
   "outputs": [
    {
     "name": "stdout",
     "output_type": "stream",
     "text": [
      "Train_x Shape ::  (351, 21)\n",
      "    X1    X2 X3     X4 X5     X6 X7  X8  X9 X10 ... X12  X13     X14  X15 X16  \\\n",
      "48   C   552  G  35.91  N  31.19  Q  AC  66  AF ...  48   DC   92.60   NK  DF   \n",
      "380  B  1104  G  35.91  X  50.55  T  AD  44  AF ...  64   DB   82.02   NK  DS   \n",
      "482  B  1104  E  35.91  L  33.97  Q  AB  44  BA ...  48   DC   79.37   NK  DF   \n",
      "320  B   828  F  35.91  J  17.81  T  AB  88  BA ...  64   DB  132.29   NK  DS   \n",
      "378  C   138  F  35.91  M   4.48  Q  AD  22  BA ...  64   CQ  142.87   NK  DF   \n",
      "446  C   552  F  35.91  N  17.80  Q  AA  88  AF ...  64   DC   92.60   NK  DF   \n",
      "146  B   414  F  35.91  O  12.75  S  AE  66  BF ...  48   CQ   95.25   DE  DF   \n",
      "379  A   828  F  35.91  M  61.81  Q  AC  44  AF ...  16   DC   63.50   NK  DF   \n",
      "235  B   276  F  35.91  J   7.28  Q  AB  88  BA ...  64   CQ  129.64   NK  DF   \n",
      "483  D   230  F  71.81  M   8.27  T  AA  22  BA ...  64   DB  127.00   NK  DS   \n",
      "7    C   414  E  35.91  N  25.67  Q  AC  66  AF ...  16   DC   71.44   NK  DF   \n",
      "346  C   414  F  35.91  J   7.51  P  AE  88  BA ...  32   CQ   55.56   NK  DG   \n",
      "36   C   276  F  35.91  M   4.27  Q  AB  88  AG ...  32   CQ  129.64   NK  DF   \n",
      "338  C   207  E  35.91  L  16.04  Q  AD  44  AF ...  48   DC   82.02   NK  DF   \n",
      "400  C   276  E  35.91  O   7.90  Q  AB  66  BA ...  32   CQ   71.44   NK  DF   \n",
      "402  C   230  F  35.91  M   8.73  P  AB  88  AF ...  64   DA   71.44   NK  DF   \n",
      "68   D   138  G  35.91  J   4.55  Q  AE  44  BA ...  16   DA   76.73   DE  DF   \n",
      "272  B   276  F  35.91  J   7.35  Q  AC  88  AF ...  48   CQ   76.73   NK  DF   \n",
      "84   D   207  F  35.91  J   4.97  Q  AB  66  BA ...  32   CQ   74.08   NK  DF   \n",
      "160  B   207  F  35.91  M   1.84  Q  AB  88  BF ...  64   CQ   58.21   NK  DG   \n",
      "79   D   230  F  35.91  L   8.50  Q  AE  88  BA ...  32   DA   60.85   NK  DF   \n",
      "475  A   345  F  35.91  L  12.30  Q  AE  88  BA ...  16   DA  121.70   NK  DG   \n",
      "243  B   414  E  35.91  L  24.08  Q  AA  66  BA ...  64   DA   97.89   NK  DF   \n",
      "345  C   414  E  35.91  J  10.55  S  AA  88  AF ...  64   DC  121.70   NK  DF   \n",
      "387  A   552  F  35.91  J  12.92  Q  AE  88  AG ...  48   DA   84.66   NK  DF   \n",
      "13   B   690  F  35.91  L  22.94  T  AB  44  BA ...  64   DC   55.56   NK  DG   \n",
      "123  B   276  E  71.81  M  20.83  Q  AE  22  AF ...  48   CQ  129.64   DE  DF   \n",
      "202  B   897  E  35.91  J  32.89  Q  AC  44  AF ...  32   CQ   66.14   NK  DF   \n",
      "364  A   138  I  35.91  K   7.99  Q  AA  88  BA ...  64   DB   92.60   NK  DS   \n",
      "497  A   828  E  35.91  K  53.77  Q  AB  66  BA ...  32   DB   66.14   NK  DF   \n",
      "..  ..   ... ..    ... ..    ... ..  ..  ..  .. ...  ..  ...     ...  ...  ..   \n",
      "296  B   598  F  35.91  N  53.11  Q  AE  44  AF ...  48   DC   79.37   NK  DF   \n",
      "436  D   276  E  35.91  M   9.87  R  AD  44  AF ...  64   DB  174.62   DE  DS   \n",
      "409  C   276  F  35.91  N  31.17  P  AE  22  BA ...  64   DC   52.92   NK  DG   \n",
      "327  B   276  E  35.91  M  15.77  R  AC  66  AG ...  48   DC   95.25   NK  DF   \n",
      "86   A   276  F  35.91  K   8.00  P  AB  88  BA ...  64   DA   60.85   DE  DG   \n",
      "444  A   644  F  35.91  M  26.71  Q  AB  66  AF ...  32   DC  119.06   NK  DF   \n",
      "278  C   552  F  35.91  M  15.03  P  AE  88  AF ...  16   DA  142.87   NK  DF   \n",
      "210  C   690  F  35.91  J  15.55  R  AA  88  AF ...  32   DC   79.37   DE  DF   \n",
      "325  A   552  F  35.91  M  20.82  Q  AE  88  BA ...  16   DA   71.44   NK  DF   \n",
      "180  A   552  F  35.91  M   8.57  P  AC  88  BA ...  64   DB   84.66   NK  DG   \n",
      "499  C   276  E  35.91  J   4.78  Q  AA  88  AF ...  64   CQ  137.58   NK  DF   \n",
      "117  B  1104  G  71.81  O  44.54  P  AB  88  AF ...  64   DB  100.54   NK  DS   \n",
      "198  B   828  F  35.91  M  82.59  P  AB  22  AF ...  64   DB   97.89   NK  DS   \n",
      "44   C   276  F  35.91  N   9.42  S  AC  66  AF ...  32   DA  145.52   NK  DF   \n",
      "149  C   552  E  35.91  O  27.59  T  AB  66  AF ...  48   DA   71.44   NK  DF   \n",
      "290  A   483  E  35.91  M  10.68  Q  AA  88  BF ...  48   DC   79.37   NK  DF   \n",
      "216  B   828  I  35.91  U  26.60  P  AE  66  BA ...  32   DB   76.73   DE  DF   \n",
      "408  A  1104  F  35.91  K  49.84  Q  AC  88  AF ...  16   DB  132.29   NK  DS   \n",
      "223  C   552  E  35.91  M   8.58  S  AA  88  BA ...  64   CQ   97.89   NK  DF   \n",
      "340  A   276  F  35.91  L  12.39  Q  AE  88  BA ...  16   DC   58.21   NK  DG   \n",
      "269  A   690  H  35.91  L  30.55  Q  AB  44  AG ...  32   CQ   84.66   NK  DF   \n",
      "449  A   276  G  71.81  M   8.96  Q  AB  88  AF ...  32   CQ  113.77   NK  DF   \n",
      "451  A   345  F  35.91  M  11.47  Q  AE  44  AF ...  48   CQ   95.25   NK  DF   \n",
      "300  C   690  E  35.91  J  39.69  Q  AC  66  AF ...  32   DC  100.54   NK  DF   \n",
      "162  A   552  F  35.91  L  21.56  Q  AE  88  BA ...  64   CQ   60.85   NK  DG   \n",
      "472  A  1035  H  35.91  O  78.77  Q  AA  44  AF ...  64   DC   76.73   NK  DG   \n",
      "225  C   483  F  35.91  J  21.07  P  AA  88  AF ...  48   DA  108.48   NK  DF   \n",
      "362  A   276  F  35.91  M   6.00  P  AB  88  BF ...  32   DC   60.85   NK  DF   \n",
      "0    A   966  E  35.91  V  22.63  Q  AD  88  AF ...  64   DC  171.97   NK  DF   \n",
      "244  C   552  E  35.91  K  12.85  P  AB  66  BA ...  32   DC   87.31   NK  DF   \n",
      "\n",
      "        X17  X18     X19  X20 X21  \n",
      "48   108642   DH   71.81   DP  DO  \n",
      "380   54321   DI   71.81   DP  DO  \n",
      "482   54321   DI   71.81   DP  DO  \n",
      "320   54321   DM   71.81   NN  DO  \n",
      "378   54321   DJ   71.81   DP  DO  \n",
      "446   54321   DI   71.81   DP  DO  \n",
      "146   54321   DM   71.81   DP  DO  \n",
      "379   54321   DM   71.81   DP  DO  \n",
      "235  108642   DM   71.81   DP  DO  \n",
      "483   54321   DH  143.62   NN  DO  \n",
      "7    108642   DM   71.81   NN  DO  \n",
      "346   54321   DM   71.81   DP  DO  \n",
      "36    54321   DH   71.81   NN  DO  \n",
      "338   54321   DI   71.81   NN  DO  \n",
      "400  108642   DM   71.81   NN  DO  \n",
      "402   54321   DH   71.81   NN  DO  \n",
      "68    54321   DM   71.81   NN  DO  \n",
      "272  108642   DM   71.81   NN  DT  \n",
      "84    54321   DH   71.81   NN  DO  \n",
      "160   54321   DH   71.81   NN  DO  \n",
      "79    54321   DM   71.81   NN  DO  \n",
      "475   54321   DM   71.81   NN  DO  \n",
      "243   54321   DM   71.81   DP  DO  \n",
      "345  108642   DM   71.81   NN  DO  \n",
      "387   54321   DM   71.81   NN  DO  \n",
      "13    54321   DM   71.81   NN  DO  \n",
      "123  108642   DH  143.62   NN  DO  \n",
      "202  108642   DM   71.81   NN  DO  \n",
      "364   54321   DM   71.81   NN  DO  \n",
      "497  108642   DI   71.81   DP  DO  \n",
      "..      ...  ...     ...  ...  ..  \n",
      "296  108642   DM   71.81   NN  DO  \n",
      "436  162963   DJ   71.81   NN  DO  \n",
      "409   54321   DM   71.81   NN  DO  \n",
      "327   54321   DI   71.81   DP  DO  \n",
      "86    54321   DM   71.81   DP  DO  \n",
      "444   54321   DH   71.81   NN  DO  \n",
      "278   54321   DM   71.81   NN  DO  \n",
      "210   54321   DI   71.81   NN  DO  \n",
      "325   54321   DM   71.81   NN  DO  \n",
      "180   54321   DM   71.81   NN  DO  \n",
      "499  162963   DM   71.81   NN  DO  \n",
      "117   54321   DM  143.62   DP  DO  \n",
      "198   54321   DM   71.81   DP  DO  \n",
      "44    54321   DM   71.81   NN  DT  \n",
      "149  108642   DH   71.81   DP  DO  \n",
      "290  108642   DM   71.81   DP  DO  \n",
      "216   54321   DJ   71.81   NN  DO  \n",
      "408   54321   DI   71.81   DP  DO  \n",
      "223  108642   DM   71.81   DP  DO  \n",
      "340   54321   DM   71.81   NN  DO  \n",
      "269  108642   DM   71.81   NN  DO  \n",
      "449  108642   DH  143.62   NN  DO  \n",
      "451   54321   DM   71.81   NN  DO  \n",
      "300   54321   DM   71.81   NN  DO  \n",
      "162   54321   DH   71.81   DP  DO  \n",
      "472  108642   DM   71.81   NN  DO  \n",
      "225   54321   DM   71.81   DP  DO  \n",
      "362   54321   DM   71.81   NN  DO  \n",
      "0    108642   DJ   71.81   NN  DO  \n",
      "244  108642   DM   71.81   DP  DO  \n",
      "\n",
      "[351 rows x 21 columns]\n"
     ]
    }
   ],
   "source": [
    "print (\"Train_x Shape :: \", train_x.shape)\n",
    "print(train_x)"
   ]
  },
  {
   "cell_type": "code",
   "execution_count": 123,
   "metadata": {},
   "outputs": [
    {
     "name": "stdout",
     "output_type": "stream",
     "text": [
      "Train_y Shape ::  (351,)\n",
      "48      MEM\n",
      "57      MEM\n",
      "26      MEM\n",
      "71      MEM\n",
      "102     MEM\n",
      "184     MEM\n",
      "134    NMEM\n",
      "498     MEM\n",
      "147    NMEM\n",
      "248     MEM\n",
      "178     MEM\n",
      "439     MEM\n",
      "119    NMEM\n",
      "446     MEM\n",
      "399     MEM\n",
      "283     MEM\n",
      "295     MEM\n",
      "176     MEM\n",
      "23     NMEM\n",
      "364    NMEM\n",
      "54      MEM\n",
      "133     MEM\n",
      "281    NMEM\n",
      "406     MEM\n",
      "218     MEM\n",
      "323     MEM\n",
      "400     MEM\n",
      "237     MEM\n",
      "320    NMEM\n",
      "309     MEM\n",
      "       ... \n",
      "82     NMEM\n",
      "88     NMEM\n",
      "211    NMEM\n",
      "496     MEM\n",
      "357     MEM\n",
      "491    NMEM\n",
      "65      MEM\n",
      "179     MEM\n",
      "249     MEM\n",
      "45      MEM\n",
      "405     MEM\n",
      "459     MEM\n",
      "144     MEM\n",
      "37     NMEM\n",
      "306    NMEM\n",
      "253     MEM\n",
      "53      MEM\n",
      "159    NMEM\n",
      "279    NMEM\n",
      "359    NMEM\n",
      "293     MEM\n",
      "425     MEM\n",
      "174     MEM\n",
      "122    NMEM\n",
      "458    NMEM\n",
      "432     MEM\n",
      "476     MEM\n",
      "469    NMEM\n",
      "481     MEM\n",
      "325    NMEM\n",
      "Name: Y, Length: 351, dtype: object\n",
      "Test_x Shape ::  (151, 21)\n",
      "Test_y Shape ::  (151,)\n"
     ]
    }
   ],
   "source": [
    "    print (\"Train_y Shape :: \", train_y.shape)\n",
    "    print(train_y)\n",
    "    print (\"Test_x Shape :: \", test_x.shape)\n",
    "    print (\"Test_y Shape :: \", test_y.shape)"
   ]
  },
  {
   "cell_type": "code",
   "execution_count": 127,
   "metadata": {
    "collapsed": true
   },
   "outputs": [],
   "source": [
    "def random_forest_classifier(features, target):\n",
    "    \"\"\"\n",
    "    To train the random forest classifier with features and target data\n",
    "    :param features:\n",
    "    :param target:\n",
    "    :return: trained random forest classifier\n",
    "    \"\"\"\n",
    "    clf = RandomForestClassifier()\n",
    "    clf.fit(features, target)\n",
    "    return clf"
   ]
  },
  {
   "cell_type": "code",
   "execution_count": 128,
   "metadata": {},
   "outputs": [
    {
     "ename": "ValueError",
     "evalue": "could not convert string to float: 'DO'",
     "output_type": "error",
     "traceback": [
      "\u001b[0;31m---------------------------------------------------------------------------\u001b[0m",
      "\u001b[0;31mValueError\u001b[0m                                Traceback (most recent call last)",
      "\u001b[0;32m<ipython-input-128-d2a3150f607f>\u001b[0m in \u001b[0;36m<module>\u001b[0;34m()\u001b[0m\n\u001b[1;32m      1\u001b[0m \u001b[0;31m# Create random forest classifier instance\u001b[0m\u001b[0;34m\u001b[0m\u001b[0;34m\u001b[0m\u001b[0m\n\u001b[0;32m----> 2\u001b[0;31m \u001b[0mtrained_model\u001b[0m \u001b[0;34m=\u001b[0m \u001b[0mrandom_forest_classifier\u001b[0m\u001b[0;34m(\u001b[0m\u001b[0mtrain_x\u001b[0m\u001b[0;34m,\u001b[0m \u001b[0mtrain_y\u001b[0m\u001b[0;34m)\u001b[0m\u001b[0;34m\u001b[0m\u001b[0m\n\u001b[0m\u001b[1;32m      3\u001b[0m \u001b[0mprint\u001b[0m \u001b[0;34m(\u001b[0m\u001b[0;34m\"Trained model :: \"\u001b[0m\u001b[0;34m,\u001b[0m \u001b[0mtrained_model\u001b[0m\u001b[0;34m)\u001b[0m\u001b[0;34m\u001b[0m\u001b[0m\n\u001b[1;32m      4\u001b[0m \u001b[0mpredictions\u001b[0m \u001b[0;34m=\u001b[0m \u001b[0mtrained_model\u001b[0m\u001b[0;34m.\u001b[0m\u001b[0mpredict\u001b[0m\u001b[0;34m(\u001b[0m\u001b[0mtest_x\u001b[0m\u001b[0;34m)\u001b[0m\u001b[0;34m\u001b[0m\u001b[0m\n\u001b[1;32m      5\u001b[0m \u001b[0;34m\u001b[0m\u001b[0m\n",
      "\u001b[0;32m<ipython-input-127-d61986e317bd>\u001b[0m in \u001b[0;36mrandom_forest_classifier\u001b[0;34m(features, target)\u001b[0m\n\u001b[1;32m      7\u001b[0m     \"\"\"\n\u001b[1;32m      8\u001b[0m     \u001b[0mclf\u001b[0m \u001b[0;34m=\u001b[0m \u001b[0mRandomForestClassifier\u001b[0m\u001b[0;34m(\u001b[0m\u001b[0;34m)\u001b[0m\u001b[0;34m\u001b[0m\u001b[0m\n\u001b[0;32m----> 9\u001b[0;31m     \u001b[0mclf\u001b[0m\u001b[0;34m.\u001b[0m\u001b[0mfit\u001b[0m\u001b[0;34m(\u001b[0m\u001b[0mfeatures\u001b[0m\u001b[0;34m,\u001b[0m \u001b[0mtarget\u001b[0m\u001b[0;34m)\u001b[0m\u001b[0;34m\u001b[0m\u001b[0m\n\u001b[0m\u001b[1;32m     10\u001b[0m     \u001b[0;32mreturn\u001b[0m \u001b[0mclf\u001b[0m\u001b[0;34m\u001b[0m\u001b[0m\n",
      "\u001b[0;32m~/anaconda3/lib/python3.6/site-packages/sklearn/ensemble/forest.py\u001b[0m in \u001b[0;36mfit\u001b[0;34m(self, X, y, sample_weight)\u001b[0m\n\u001b[1;32m    245\u001b[0m         \"\"\"\n\u001b[1;32m    246\u001b[0m         \u001b[0;31m# Validate or convert input data\u001b[0m\u001b[0;34m\u001b[0m\u001b[0;34m\u001b[0m\u001b[0m\n\u001b[0;32m--> 247\u001b[0;31m         \u001b[0mX\u001b[0m \u001b[0;34m=\u001b[0m \u001b[0mcheck_array\u001b[0m\u001b[0;34m(\u001b[0m\u001b[0mX\u001b[0m\u001b[0;34m,\u001b[0m \u001b[0maccept_sparse\u001b[0m\u001b[0;34m=\u001b[0m\u001b[0;34m\"csc\"\u001b[0m\u001b[0;34m,\u001b[0m \u001b[0mdtype\u001b[0m\u001b[0;34m=\u001b[0m\u001b[0mDTYPE\u001b[0m\u001b[0;34m)\u001b[0m\u001b[0;34m\u001b[0m\u001b[0m\n\u001b[0m\u001b[1;32m    248\u001b[0m         \u001b[0my\u001b[0m \u001b[0;34m=\u001b[0m \u001b[0mcheck_array\u001b[0m\u001b[0;34m(\u001b[0m\u001b[0my\u001b[0m\u001b[0;34m,\u001b[0m \u001b[0maccept_sparse\u001b[0m\u001b[0;34m=\u001b[0m\u001b[0;34m'csc'\u001b[0m\u001b[0;34m,\u001b[0m \u001b[0mensure_2d\u001b[0m\u001b[0;34m=\u001b[0m\u001b[0;32mFalse\u001b[0m\u001b[0;34m,\u001b[0m \u001b[0mdtype\u001b[0m\u001b[0;34m=\u001b[0m\u001b[0;32mNone\u001b[0m\u001b[0;34m)\u001b[0m\u001b[0;34m\u001b[0m\u001b[0m\n\u001b[1;32m    249\u001b[0m         \u001b[0;32mif\u001b[0m \u001b[0msample_weight\u001b[0m \u001b[0;32mis\u001b[0m \u001b[0;32mnot\u001b[0m \u001b[0;32mNone\u001b[0m\u001b[0;34m:\u001b[0m\u001b[0;34m\u001b[0m\u001b[0m\n",
      "\u001b[0;32m~/anaconda3/lib/python3.6/site-packages/sklearn/utils/validation.py\u001b[0m in \u001b[0;36mcheck_array\u001b[0;34m(array, accept_sparse, dtype, order, copy, force_all_finite, ensure_2d, allow_nd, ensure_min_samples, ensure_min_features, warn_on_dtype, estimator)\u001b[0m\n\u001b[1;32m    431\u001b[0m                                       force_all_finite)\n\u001b[1;32m    432\u001b[0m     \u001b[0;32melse\u001b[0m\u001b[0;34m:\u001b[0m\u001b[0;34m\u001b[0m\u001b[0m\n\u001b[0;32m--> 433\u001b[0;31m         \u001b[0marray\u001b[0m \u001b[0;34m=\u001b[0m \u001b[0mnp\u001b[0m\u001b[0;34m.\u001b[0m\u001b[0marray\u001b[0m\u001b[0;34m(\u001b[0m\u001b[0marray\u001b[0m\u001b[0;34m,\u001b[0m \u001b[0mdtype\u001b[0m\u001b[0;34m=\u001b[0m\u001b[0mdtype\u001b[0m\u001b[0;34m,\u001b[0m \u001b[0morder\u001b[0m\u001b[0;34m=\u001b[0m\u001b[0morder\u001b[0m\u001b[0;34m,\u001b[0m \u001b[0mcopy\u001b[0m\u001b[0;34m=\u001b[0m\u001b[0mcopy\u001b[0m\u001b[0;34m)\u001b[0m\u001b[0;34m\u001b[0m\u001b[0m\n\u001b[0m\u001b[1;32m    434\u001b[0m \u001b[0;34m\u001b[0m\u001b[0m\n\u001b[1;32m    435\u001b[0m         \u001b[0;32mif\u001b[0m \u001b[0mensure_2d\u001b[0m\u001b[0;34m:\u001b[0m\u001b[0;34m\u001b[0m\u001b[0m\n",
      "\u001b[0;31mValueError\u001b[0m: could not convert string to float: 'DO'"
     ]
    }
   ],
   "source": [
    " # Create random forest classifier instance\n",
    "trained_model = random_forest_classifier(train_x, train_y)\n",
    "print (\"Trained model :: \", trained_model)\n",
    "predictions = trained_model.predict(test_x)\n",
    "\n",
    "for i in xrange(0, 5):\n",
    "    print (\"Actual outcome :: {} and Predicted outcome :: {}\".format(list(test_y)[i], predictions[i]))\n",
    "\n",
    "print (\"Train Accuracy :: \", accuracy_score(train_y, trained_model.predict(train_x)))\n",
    "print (\"Test Accuracy  :: \", accuracy_score(test_y, predictions))\n",
    "print (\"Confusion matrix \", confusion_matrix(test_y, predictions))\n"
   ]
  },
  {
   "cell_type": "code",
   "execution_count": 77,
   "metadata": {},
   "outputs": [
    {
     "name": "stdout",
     "output_type": "stream",
     "text": [
      "[['A', '138', 'E', '35.91', 'J', '7.79', 'P', 'AA', '88', 'AF', 'NP', '64', 'CQ', '177.27', 'NK', 'DF', '108642', 'DM', '71.81', 'DP', 'DO', 'MEM'], ['A', '966', 'E', '35.91', 'V', '22.63', 'Q', 'AD', '88', 'AF', 'CCA', '64', 'DC', '171.97', 'NK', 'DF', '108642', 'DJ', '71.81', 'NN', 'DO', 'MEM'], ['C', '345', 'E', '35.91', 'J', '12.19', 'Q', 'AA', '88', 'AF', 'NP', '64', 'DC', '121.7', 'NK', 'DF', '108642', 'DM', '71.81', 'DP', 'DO', 'MEM'], ['B', '276', 'F', '35.91', 'O', '5.61', 'T', 'AC', '44', 'BA', 'NP', '64', 'CQ', '60.85', 'NK', 'DG', '54321', 'DH', '71.81', 'NN', 'DO', 'MEM'], ['C', '552', 'G', '35.91', 'L', '27.67', 'T', 'AB', '44', 'AF', 'NP', '48', 'DA', '92.6', 'NK', 'DF', '108642', 'DM', '71.81', 'NN', 'DO', 'MEM'], ['B', '161', 'F', '35.91', 'J', '17.17', 'Q', 'AB', '44', 'AF', 'GA', '32', 'CQ', '92.6', 'NK', 'DF', '54321', 'DM', '71.81', 'NN', 'DO', 'MEM'], ['A', '345', 'H', '71.81', 'M', '6.33', 'Q', 'AA', '88', 'AF', 'NP', '48', 'DC', '87.31', 'NK', 'DG', '108642', 'DM', '143.62', 'NN', 'DO', 'NMEM'], ['B', '460', 'F', '35.91', 'N', '43.12', 'P', 'AD', '22', 'AG', 'NP', '64', 'CQ', '158.75', 'NK', 'DF', '54321', 'DI', '71.81', 'DP', 'DO', 'MEM'], ['C', '414', 'E', '35.91', 'N', '25.67', 'Q', 'AC', '66', 'AF', 'NP', '16', 'DC', '71.44', 'NK', 'DF', '108642', 'DM', '71.81', 'NN', 'DO', 'MEM'], ['B', '1242', 'H', '35.91', 'O', '106.3', 'Q', 'AE', '66', 'AF', 'NP', '64', 'DB', '153.45', 'NK', 'DG', '54321', 'DM', '71.81', 'DP', 'DO', 'NMEM'], ['C', '483', 'F', '35.91', 'O', '10.48', 'S', 'AA', '88', 'BA', 'NP', '64', 'CQ', '95.25', 'DE', 'DF', '54321', 'DH', '71.81', 'NN', 'DO', 'MEM'], ['B', '138', 'F', '35.91', 'J', '3.93', 'Q', 'AE', '66', 'BF', 'NP', '48', 'CQ', '68.79', 'NK', 'DF', '54321', 'DH', '71.81', 'NN', 'DT', 'MEM'], ['C', '276', 'F', '35.91', 'L', '10.49', 'Q', 'AB', '88', 'AF', 'NP', '32', 'CQ', '132.29', 'NK', 'DF', '54321', 'DM', '71.81', 'NN', 'DO', 'MEM'], ['B', '345', 'F', '35.91', 'V', '8.72', 'Q', 'AA', '88', 'AF', 'NP', '64', 'DC', '100.54', 'NK', 'DF', '108642', 'DH', '71.81', 'NN', 'DO', 'MEM'], ['B', '690', 'F', '35.91', 'L', '22.94', 'T', 'AB', '44', 'BA', 'CCA', '64', 'DC', '55.56', 'NK', 'DG', '54321', 'DM', '71.81', 'NN', 'DO', 'NMEM'], ['A', '483', 'F', '35.91', 'J', '22.38', 'S', 'AE', '88', 'BA', 'NP', '32', 'DC', '76.73', 'DE', 'DF', '54321', 'DM', '71.81', 'NN', 'DO', 'MEM'], ['C', '621', 'G', '35.91', 'O', '34.11', 'Q', 'AC', '66', 'AF', 'NP', '64', 'DC', '68.79', 'NK', 'DF', '108642', 'DM', '71.81', 'NN', 'DO', 'MEM'], ['B', '345', 'E', '35.91', 'O', '15.51', 'R', 'AB', '44', 'AF', 'NP', '64', 'DC', '71.44', 'DE', 'DF', '54321', 'DM', '71.81', 'NN', 'DO', 'MEM'], ['A', '299', 'E', '35.91', 'O', '11.98', 'Q', 'AE', '66', 'AF', 'NP', '16', 'DA', '74.08', 'DE', 'DF', '108642', 'DH', '71.81', 'NN', 'DO', 'MEM'], ['C', '345', 'F', '35.91', 'K', '30.82', 'T', 'AB', '66', 'AF', 'NP', '32', 'DA', '105.83', 'NK', 'DF', '54321', 'DI', '71.81', 'DP', 'DO', 'NMEM'], ['B', '690', 'E', '35.91', 'M', '34.89', 'Q', 'AD', '88', 'BF', 'NP', '32', 'DC', '74.08', 'NK', 'DF', '108642', 'DI', '71.81', 'NN', 'DO', 'NMEM'], ['B', '690', 'F', '35.91', 'M', '14.33', 'Q', 'AB', '88', 'BA', 'GA', '32', 'DB', '63.5', 'DE', 'DF', '54321', 'DM', '71.81', 'NN', 'DO', 'NMEM'], ['C', '207', 'F', '35.91', 'M', '16.71', 'R', 'AA', '44', 'AF', 'NP', '64', 'DB', '134.93', 'NK', 'DS', '54321', 'DH', '71.81', 'NN', 'DO', 'MEM'], ['B', '207', 'E', '71.81', 'K', '7.57', 'S', 'AA', '88', 'AF', 'NP', '48', 'DB', '84.66', 'NK', 'DS', '108642', 'DM', '143.62', 'NN', 'DO', 'NMEM'], ['D', '345', 'F', '35.91', 'J', '15.51', 'Q', 'AE', '44', 'BA', 'NP', '48', 'CQ', '66.14', 'NK', 'DF', '54321', 'DH', '71.81', 'NN', 'DO', 'NMEM'], ['C', '345', 'F', '35.91', 'M', '23.71', 'P', 'AB', '66', 'AF', 'NP', '32', 'DB', '76.73', 'NK', 'DF', '54321', 'DM', '71.81', 'NN', 'DO', 'MEM'], ['B', '207', 'F', '35.91', 'J', '7.21', 'Q', 'AA', '88', 'AF', 'NP', '64', 'DC', '71.44', 'NK', 'DF', '108642', 'DH', '71.81', 'NN', 'DO', 'MEM'], ['B', '276', 'E', '71.81', 'M', '6.39', 'Q', 'AC', '44', 'AF', 'NP', '48', 'CQ', '124.35', 'NK', 'DF', '108642', 'DH', '143.62', 'NN', 'DO', 'MEM'], ['C', '828', 'F', '35.91', 'L', '73.16', 'Q', 'AD', '88', 'BA', 'NP', '32', 'DC', '68.79', 'NK', 'DF', '108642', 'DI', '71.81', 'DP', 'DO', 'NMEM'], ['B', '414', 'F', '35.91', 'L', '12.83', 'P', 'AE', '88', 'BA', 'NP', '48', 'CQ', '71.44', 'NK', 'DG', '54321', 'DM', '71.81', 'NN', 'DO', 'NMEM'], ['C', '414', 'F', '35.91', 'J', '13.67', 'Q', 'AE', '88', 'AF', 'NP', '16', 'CQ', '87.31', 'NK', 'DF', '54321', 'DM', '71.81', 'NN', 'DO', 'MEM'], ['C', '1104', 'E', '35.91', 'M', '67.51', 'R', 'AB', '44', 'AF', 'NP', '32', 'DB', '116.41', 'DE', 'DS', '54321', 'DM', '71.81', 'NN', 'DO', 'NMEM'], ['A', '552', 'F', '35.91', 'L', '20.14', 'Q', 'AB', '44', 'AG', 'NP', '32', 'CQ', '63.5', 'NK', 'DG', '54321', 'DH', '71.81', 'NN', 'DO', 'MEM'], ['C', '1104', 'E', '71.81', 'N', '18.34', 'P', 'AA', '88', 'AF', 'NP', '48', 'DC', '100.54', 'NK', 'DF', '108642', 'DM', '143.62', 'DP', 'DO', 'MEM'], ['C', '276', 'E', '35.91', 'J', '6.2', 'P', 'AA', '88', 'AF', 'NP', '64', 'CQ', '171.97', 'NK', 'DF', '217284', 'DM', '71.81', 'NN', 'DO', 'MEM'], ['A', '276', 'F', '35.91', 'L', '10.8', 'Q', 'AB', '44', 'BA', 'CCA', '48', 'DA', '79.37', 'NK', 'DF', '54321', 'DM', '71.81', 'NN', 'DO', 'MEM'], ['B', '897', 'G', '35.91', 'K', '78.4', 'T', 'AC', '44', 'AF', 'NP', '48', 'DB', '84.66', 'NK', 'DG', '54321', 'DM', '71.81', 'DP', 'DO', 'MEM'], ['C', '276', 'F', '35.91', 'M', '4.27', 'Q', 'AB', '88', 'AG', 'NP', '32', 'CQ', '129.64', 'NK', 'DF', '54321', 'DH', '71.81', 'NN', 'DO', 'MEM'], ['B', '552', 'F', '35.91', 'M', '18.12', 'Q', 'AB', '66', 'BA', 'NP', '64', 'DA', '52.92', 'NK', 'DG', '54321', 'DH', '71.81', 'DP', 'DO', 'NMEM'], ['B', '1035', 'E', '35.91', 'J', '31.64', 'Q', 'AE', '88', 'AF', 'NP', '32', 'DA', '66.14', 'NK', 'DF', '108642', 'DH', '71.81', 'NN', 'DO', 'NMEM'], ['B', '161', 'F', '35.91', 'J', '15.53', 'Q', 'AE', '22', 'BA', 'GA', '16', 'CQ', '119.06', 'NK', 'DF', '54321', 'DM', '71.81', 'NN', 'DO', 'MEM'], ['B', '1380', 'I', '35.91', 'X', '98.55', 'T', 'AA', '66', 'BA', 'NP', '64', 'DB', '158.75', 'DE', 'DS', '108642', 'DI', '71.81', 'DP', 'DO', 'NMEM'], ['B', '1380', 'G', '35.91', 'J', '61.05', 'P', 'AB', '44', 'AF', 'NP', '32', 'DB', '71.44', 'NK', 'DS', '54321', 'DI', '71.81', 'NN', 'DO', 'MEM'], ['A', '276', 'F', '71.81', 'L', '4.72', 'Q', 'AB', '44', 'AF', 'GA', '48', 'DA', '100.54', 'NK', 'DF', '54321', 'DH', '143.62', 'NN', 'DO', 'MEM'], ['D', '414', 'F', '71.81', 'L', '19.09', 'Q', 'AB', '44', 'AF', 'NP', '16', 'CQ', '89.96', 'NK', 'DF', '54321', 'DH', '143.62', 'NN', 'DO', 'NMEM'], ['C', '276', 'F', '35.91', 'N', '9.42', 'S', 'AC', '66', 'AF', 'NP', '32', 'DA', '145.52', 'NK', 'DF', '54321', 'DM', '71.81', 'NN', 'DT', 'MEM'], ['B', '207', 'F', '35.91', 'M', '21.3', 'P', 'AB', '22', 'BA', 'NP', '32', 'CQ', '87.31', 'NK', 'DF', '54321', 'DH', '71.81', 'NN', 'DO', 'MEM'], ['D', '207', 'H', '35.91', 'J', '8.91', 'Q', 'AE', '88', 'AF', 'NP', '32', 'DC', '89.96', 'NK', 'DF', '108642', 'DI', '71.81', 'DP', 'DO', 'NMEM'], ['B', '207', 'E', '35.91', 'L', '12.79', 'Q', 'AC', '88', 'AF', 'NP', '48', 'DC', '92.6', 'NK', 'DG', '54321', 'DM', '71.81', 'DP', 'DO', 'MEM'], ['C', '552', 'G', '35.91', 'N', '31.19', 'Q', 'AC', '66', 'AF', 'NP', '48', 'DC', '92.6', 'NK', 'DF', '108642', 'DH', '71.81', 'DP', 'DO', 'MEM'], ['C', '552', 'F', '71.81', 'M', '10.17', 'S', 'AC', '88', 'BA', 'NP', '48', 'DC', '89.96', 'NK', 'DF', '54321', 'DM', '143.62', 'DP', 'DO', 'MEM'], ['B', '276', 'F', '35.91', 'J', '7.72', 'R', 'AB', '66', 'AG', 'NP', '16', 'DC', '68.79', 'NK', 'DF', '54321', 'DM', '71.81', 'DP', 'DO', 'MEM'], ['D', '483', 'E', '35.91', 'K', '15.46', 'Q', 'AE', '44', 'AG', 'NP', '16', 'DC', '87.31', 'NK', 'DG', '54321', 'DM', '71.81', 'NN', 'DO', 'NMEM'], ['B', '552', 'E', '35.91', 'J', '11.62', 'Q', 'AA', '88', 'AF', 'NP', '32', 'DA', '127', 'NK', 'DF', '108642', 'DH', '71.81', 'NN', 'DO', 'MEM'], ['C', '552', 'F', '35.91', 'J', '6.66', 'P', 'AA', '88', 'AF', 'NP', '32', 'DC', '66.14', 'NK', 'DF', '108642', 'DM', '71.81', 'NN', 'DO', 'MEM'], ['B', '828', 'F', '71.81', 'K', '15.15', 'Q', 'AC', '66', 'AF', 'NP', '16', 'DC', '84.66', 'NK', 'DF', '108642', 'DM', '143.62', 'NN', 'DO', 'MEM'], ['A', '230', 'E', '35.91', 'L', '14.21', 'P', 'AE', '44', 'BA', 'CCA', '48', 'CQ', '71.44', 'NK', 'DG', '108642', 'DM', '71.81', 'NN', 'DT', 'MEM'], ['A', '253', 'E', '71.81', 'M', '26.03', 'Q', 'AB', '44', 'AF', 'NP', '32', 'CQ', '95.25', 'NK', 'DG', '108642', 'DM', '143.62', 'NN', 'DO', 'MEM'], ['D', '276', 'F', '35.91', 'J', '22.66', 'P', 'AA', '44', 'AF', 'NP', '48', 'DC', '97.89', 'NK', 'DF', '54321', 'DI', '71.81', 'NN', 'DO', 'MEM'], ['A', '897', 'E', '35.91', 'L', '94.53', 'P', 'AC', '88', 'AF', 'NP', '64', 'DA', '79.37', 'NK', 'DF', '108642', 'DI', '71.81', 'DP', 'DO', 'MEM'], ['B', '414', 'E', '35.91', 'L', '42.41', 'Q', 'AA', '44', 'AF', 'NP', '16', 'DB', '108.48', 'NK', 'DF', '54321', 'DM', '71.81', 'DP', 'DO', 'MEM'], ['C', '966', 'E', '35.91', 'L', '26.95', 'R', 'AB', '88', 'AF', 'NP', '64', 'CQ', '95.25', 'NK', 'DF', '108642', 'DM', '71.81', 'DP', 'DO', 'MEM'], ['B', '483', 'E', '35.91', 'L', '18.3', 'S', 'AC', '66', 'AF', 'NP', '32', 'DC', '84.66', 'NK', 'DF', '108642', 'DM', '71.81', 'DP', 'DO', 'MEM'], ['C', '552', 'F', '35.91', 'J', '12.67', 'T', 'AB', '88', 'AF', 'NP', '64', 'DC', '76.73', 'NK', 'DG', '54321', 'DI', '71.81', 'DP', 'DO', 'MEM'], ['C', '552', 'F', '71.81', 'J', '10.35', 'Q', 'AC', '66', 'AF', 'NP', '16', 'DC', '84.66', 'DE', 'DF', '54321', 'DM', '143.62', 'NN', 'DO', 'MEM'], ['A', '552', 'F', '35.91', 'X', '11.7', 'Q', 'AA', '88', 'BA', 'GA', '64', 'CQ', '153.45', 'NK', 'DF', '54321', 'DH', '71.81', 'DP', 'DO', 'MEM'], ['A', '230', 'F', '35.91', 'J', '15.43', 'Q', 'AA', '66', 'AF', 'NP', '64', 'CQ', '137.58', 'NK', 'DF', '54321', 'DH', '71.81', 'NN', 'DO', 'MEM'], ['A', '207', 'F', '35.91', 'M', '4.36', 'Q', 'AB', '88', 'AF', 'NP', '48', 'DC', '74.08', 'NK', 'DF', '54321', 'DH', '71.81', 'NN', 'DO', 'NMEM'], ['A', '690', 'F', '35.91', 'L', '16.04', 'Q', 'AC', '88', 'BA', 'NP', '64', 'CQ', '60.85', 'NK', 'DG', '54321', 'DM', '71.81', 'NN', 'DO', 'NMEM'], ['D', '138', 'G', '35.91', 'J', '4.55', 'Q', 'AE', '44', 'BA', 'NP', '16', 'DA', '76.73', 'DE', 'DF', '54321', 'DM', '71.81', 'NN', 'DO', 'MEM'], ['A', '483', 'F', '35.91', 'J', '17.37', 'Q', 'AE', '88', 'BA', 'NP', '64', 'DA', '74.08', 'NK', 'DG', '54321', 'DI', '71.81', 'DP', 'DO', 'MEM'], ['B', '1104', 'F', '35.91', 'J', '20.4', 'Q', 'AC', '88', 'AF', 'NP', '64', 'CQ', '74.08', 'NK', 'DF', '108642', 'DM', '71.81', 'NN', 'DO', 'NMEM'], ['C', '230', 'F', '35.91', 'M', '9.09', 'Q', 'AB', '44', 'BA', 'NP', '64', 'DC', '169.33', 'NK', 'DF', '54321', 'DM', '71.81', 'DP', 'DO', 'MEM'], ['A', '276', 'I', '35.91', 'M', '4.65', 'Q', 'AE', '88', 'AF', 'NP', '32', 'DC', '121.7', 'DE', 'DF', '108642', 'DM', '71.81', 'DP', 'DO', 'NMEM'], ['C', '552', 'E', '35.91', 'J', '17.19', 'S', 'AA', '44', 'AF', 'NP', '32', 'DC', '89.96', 'NK', 'DF', '54321', 'DM', '71.81', 'NN', 'DO', 'MEM'], ['C', '138', 'F', '35.91', 'K', '10.25', 'Q', 'AE', '22', 'BA', 'NP', '32', 'DB', '148.16', 'NK', 'DF', '54321', 'DM', '71.81', 'NN', 'DO', 'MEM'], ['C', '506', 'F', '35.91', 'J', '17.83', 'R', 'AA', '66', 'AF', 'NP', '64', 'DC', '105.83', 'NK', 'DF', '54321', 'DM', '71.81', 'NN', 'DO', 'MEM'], ['B', '184', 'F', '35.91', 'O', '6.05', 'Q', 'AE', '66', 'BF', 'NP', '32', 'CQ', '68.79', 'NK', 'DF', '54321', 'DM', '71.81', 'DP', 'DO', 'MEM'], ['C', '345', 'G', '35.91', 'L', '6.4', 'S', 'AC', '66', 'BA', 'NP', '32', 'DA', '79.37', 'NK', 'DF', '108642', 'DM', '71.81', 'NN', 'DO', 'MEM'], ['B', '552', 'F', '35.91', 'N', '18.4', 'P', 'AA', '88', 'AF', 'NP', '64', 'DB', '95.25', 'DE', 'DS', '54321', 'DM', '71.81', 'DP', 'DO', 'MEM'], ['D', '230', 'F', '35.91', 'L', '8.5', 'Q', 'AE', '88', 'BA', 'NP', '32', 'DA', '60.85', 'NK', 'DF', '54321', 'DM', '71.81', 'NN', 'DO', 'MEM'], ['D', '276', 'F', '35.91', 'L', '9.83', 'Q', 'AE', '88', 'BA', 'NP', '16', 'DA', '87.31', 'DE', 'DF', '54321', 'DI', '71.81', 'DP', 'DO', 'MEM'], ['A', '552', 'I', '35.91', 'J', '10.31', 'Q', 'AC', '88', 'AF', 'GA', '64', 'DC', '63.5', 'DE', 'DG', '54321', 'DH', '71.81', 'NN', 'DO', 'NMEM'], ['A', '621', 'H', '35.91', 'O', '35.29', 'Q', 'AD', '44', 'AF', 'NP', '64', 'DA', '132.29', 'DD', 'DF', '108642', 'DM', '71.81', 'DP', 'DO', 'NMEM'], ['D', '276', 'F', '35.91', 'M', '8.87', 'Q', 'AE', '88', 'AF', 'NP', '16', 'CQ', '68.79', 'NK', 'DF', '54321', 'DM', '71.81', 'NN', 'DO', 'MEM'], ['D', '207', 'F', '35.91', 'J', '4.97', 'Q', 'AB', '66', 'BA', 'NP', '32', 'CQ', '74.08', 'NK', 'DF', '54321', 'DH', '71.81', 'NN', 'DO', 'NMEM'], ['B', '414', 'F', '35.91', 'V', '25.81', 'Q', 'AD', '44', 'BA', 'NP', '64', 'DC', '177.27', 'NK', 'DF', '54321', 'DM', '71.81', 'DP', 'DO', 'MEM'], ['A', '276', 'F', '35.91', 'K', '8', 'P', 'AB', '88', 'BA', 'NP', '64', 'DA', '60.85', 'DE', 'DG', '54321', 'DM', '71.81', 'DP', 'DO', 'MEM'], ['A', '552', 'F', '71.81', 'J', '13.25', 'Q', 'AB', '44', 'AF', 'NP', '64', 'CQ', '55.56', 'NK', 'DG', '54321', 'DH', '143.62', 'NN', 'DO', 'NMEM'], ['B', '276', 'F', '35.91', 'L', '12.81', 'Q', 'AB', '88', 'AF', 'NP', '32', 'DA', '97.89', 'NK', 'DF', '54321', 'DH', '71.81', 'NN', 'DO', 'NMEM'], ['D', '828', 'F', '35.91', 'J', '26.09', 'Q', 'AB', '44', 'AF', 'NP', '32', 'CQ', '60.85', 'NK', 'DF', '54321', 'DM', '71.81', 'DP', 'DO', 'MEM'], ['C', '1380', 'F', '35.91', 'J', '67.63', 'T', 'AC', '44', 'BA', 'NP', '64', 'CQ', '55.56', 'NK', 'DF', '54321', 'DM', '71.81', 'DP', 'DO', 'MEM'], ['B', '276', 'F', '35.91', 'J', '4.17', 'Q', 'AE', '88', 'BF', 'GA', '16', 'CQ', '68.79', 'DE', 'DF', '54321', 'DH', '71.81', 'NN', 'DO', 'MEM'], ['A', '483', 'I', '71.81', 'M', '10.98', 'P', 'AB', '88', 'AF', 'NP', '32', 'DA', '105.83', 'NK', 'DF', '108642', 'DH', '143.62', 'NN', 'DO', 'NMEM'], ['B', '690', 'E', '35.91', 'L', '55.91', 'Q', 'AC', '44', 'AF', 'NP', '32', 'DA', '129.64', 'NK', 'DF', '54321', 'DM', '71.81', 'NN', 'DO', 'NMEM'], ['B', '207', 'F', '35.91', 'O', '9.27', 'Q', 'AB', '44', 'BF', 'NP', '16', 'CQ', '71.44', 'DE', 'DF', '54321', 'DM', '71.81', 'DP', 'DO', 'MEM'], ['A', '1104', 'F', '35.91', 'U', '20.34', 'Q', 'AB', '66', 'AF', 'NP', '64', 'DC', '142.87', 'NK', 'DF', '54321', 'DM', '71.81', 'NN', 'DO', 'NMEM'], ['A', '414', 'F', '35.91', 'L', '13.59', 'Q', 'AB', '22', 'BA', 'NP', '64', 'CQ', '52.92', 'DE', 'DG', '54321', 'DM', '71.81', 'NN', 'DO', 'NMEM'], ['B', '1104', 'H', '71.81', 'O', '25.63', 'T', 'AC', '88', 'AF', 'NP', '64', 'DB', '89.96', 'NK', 'DS', '54321', 'DH', '143.62', 'NN', 'DO', 'NMEM'], ['B', '276', 'F', '35.91', 'J', '10.45', 'Q', 'AB', '22', 'BA', 'NP', '16', 'DC', '58.21', 'NK', 'DF', '54321', 'DM', '71.81', 'DP', 'DO', 'MEM'], ['C', '276', 'F', '35.91', 'J', '20.51', 'Q', 'AB', '44', 'AF', 'NP', '64', 'DC', '137.58', 'NK', 'DF', '54321', 'DM', '71.81', 'DP', 'DO', 'MEM'], ['C', '92', 'F', '71.81', 'L', '4.01', 'Q', 'AE', '22', 'BA', 'NP', '48', 'CQ', '60.85', 'NK', 'DG', '54321', 'DH', '143.62', 'NN', 'DO', 'MEM'], ['C', '552', 'I', '35.91', 'O', '10.39', 'Q', 'AC', '88', 'AF', 'NP', '64', 'DC', '132.29', 'DE', 'DF', '54321', 'DM', '71.81', 'DP', 'DO', 'MEM'], ['C', '552', 'E', '35.91', 'N', '38.69', 'S', 'AB', '88', 'AF', 'NP', '32', 'CQ', '71.44', 'NK', 'DF', '108642', 'DM', '71.81', 'NN', 'DO', 'MEM'], ['C', '414', 'F', '35.91', 'O', '10.45', 'T', 'AB', '66', 'BA', 'NP', '64', 'DA', '63.5', 'NK', 'DG', '54321', 'DH', '71.81', 'NN', 'DO', 'MEM'], ['D', '276', 'F', '35.91', 'J', '8.65', 'Q', 'AB', '66', 'BF', 'NP', '64', 'CQ', '60.85', 'NK', 'DG', '54321', 'DM', '71.81', 'NN', 'DO', 'MEM'], ['B', '552', 'F', '35.91', 'N', '83.86', 'Q', 'AA', '88', 'BA', 'NP', '32', 'DB', '116.41', 'NK', 'DS', '54321', 'DI', '71.81', 'DP', 'DO', 'NMEM'], ['B', '552', 'F', '35.91', 'L', '27.05', 'Q', 'AC', '66', 'AG', 'NP', '48', 'DC', '113.77', 'NK', 'DF', '54321', 'DM', '71.81', 'DP', 'DO', 'NMEM'], ['B', '253', 'F', '35.91', 'L', '10.51', 'S', 'AE', '88', 'BA', 'NP', '16', 'CQ', '52.92', 'NK', 'DF', '54321', 'DM', '71.81', 'NN', 'DO', 'MEM'], ['B', '276', 'F', '35.91', 'J', '9.89', 'P', 'AB', '44', 'BF', 'NP', '16', 'CQ', '66.14', 'NK', 'DF', '54321', 'DM', '71.81', 'DP', 'DO', 'NMEM'], ['A', '483', 'E', '35.91', 'M', '3.81', 'Q', 'AA', '88', 'AF', 'NP', '64', 'CQ', '171.97', 'NK', 'DF', '108642', 'DM', '71.81', 'NN', 'DO', 'MEM'], ['B', '345', 'I', '35.91', 'M', '8.43', 'T', 'AB', '44', 'BF', 'NP', '32', 'DA', '66.14', 'NK', 'DG', '54321', 'DM', '71.81', 'NN', 'DO', 'NMEM'], ['B', '621', 'F', '71.81', 'O', '26.1', 'Q', 'AB', '88', 'AF', 'NP', '32', 'DC', '95.25', 'NK', 'DF', '54321', 'DM', '143.62', 'DP', 'DO', 'NMEM'], ['B', '552', 'G', '35.91', 'O', '31.41', 'P', 'AB', '88', 'AF', 'NP', '32', 'DA', '97.89', 'DE', 'DF', '108642', 'DI', '71.81', 'DP', 'DO', 'MEM'], ['C', '230', 'E', '35.91', 'L', '13.79', 'P', 'AB', '44', 'BF', 'NP', '16', 'DC', '68.79', 'NK', 'DF', '108642', 'DM', '71.81', 'NN', 'DT', 'MEM'], ['C', '276', 'E', '35.91', 'L', '10.61', 'S', 'AC', '66', 'BA', 'NP', '32', 'DA', '92.6', 'NK', 'DF', '54321', 'DM', '71.81', 'NN', 'DT', 'MEM'], ['C', '276', 'E', '35.91', 'M', '8.37', 'Q', 'AA', '88', 'AF', 'NP', '64', 'CQ', '161.39', 'NK', 'DF', '108642', 'DH', '71.81', 'NN', 'DO', 'MEM'], ['B', '322', 'F', '35.91', 'O', '9.4', 'R', 'AA', '22', 'BF', 'NP', '32', 'CQ', '92.6', 'NK', 'DF', '54321', 'DM', '71.81', 'DP', 'DO', 'MEM'], ['B', '1104', 'G', '71.81', 'O', '44.54', 'P', 'AB', '88', 'AF', 'NP', '64', 'DB', '100.54', 'NK', 'DS', '54321', 'DM', '143.62', 'DP', 'DO', 'MEM'], ['A', '1035', 'F', '35.91', 'J', '12.3', 'Q', 'AB', '88', 'AF', 'NP', '64', 'DB', '60.85', 'NK', 'DS', '54321', 'DM', '71.81', 'DP', 'DO', 'NMEM'], ['A', '276', 'F', '35.91', 'J', '4.85', 'T', 'AE', '88', 'BF', 'NP', '48', 'DB', '87.31', 'NK', 'DF', '54321', 'DH', '71.81', 'DP', 'DO', 'NMEM'], ['A', '552', 'F', '35.91', 'J', '10.69', 'Q', 'AA', '88', 'BA', 'NP', '64', 'DC', '145.52', 'NK', 'DF', '54321', 'DM', '71.81', 'NN', 'DO', 'MEM'], ['C', '138', 'G', '35.91', 'O', '11.62', 'T', 'AB', '22', 'AF', 'NP', '32', 'CQ', '89.96', 'NK', 'DF', '108642', 'DH', '71.81', 'NN', 'DO', 'MEM'], ['B', '207', 'F', '35.91', 'L', '6.12', 'Q', 'AB', '88', 'BA', 'NP', '16', 'DA', '79.37', 'NK', 'DF', '54321', 'DM', '71.81', 'NN', 'DO', 'NMEM'], ['B', '276', 'E', '71.81', 'M', '20.83', 'Q', 'AE', '22', 'AF', 'NP', '48', 'CQ', '129.64', 'DE', 'DF', '108642', 'DH', '143.62', 'NN', 'DO', 'MEM'], ['A', '253', 'E', '71.81', 'M', '26.26', 'Q', 'AB', '22', 'AF', 'NP', '32', 'CQ', '105.83', 'NK', 'DF', '108642', 'DH', '143.62', 'NN', 'DO', 'MEM'], ['B', '276', 'F', '35.91', 'L', '18.41', 'P', 'AA', '22', 'BA', 'NP', '32', 'DA', '66.14', 'DE', 'DF', '54321', 'DM', '71.81', 'DP', 'DO', 'NMEM'], ['C', '414', 'E', '35.91', 'N', '21.53', 'P', 'AD', '44', 'AF', 'NP', '64', 'DB', '100.54', 'NK', 'DF', '54321', 'DI', '71.81', 'DP', 'DO', 'MEM'], ['B', '299', 'F', '35.91', 'J', '14.01', 'Q', 'AE', '44', 'BA', 'GA', '64', 'DA', '60.85', 'NK', 'DF', '54321', 'DH', '71.81', 'NN', 'DO', 'MEM'], ['C', '138', 'E', '35.91', 'J', '10.36', 'Q', 'AC', '22', 'BA', 'NP', '32', 'DC', '63.5', 'NK', 'DG', '108642', 'DM', '71.81', 'DP', 'DO', 'MEM'], ['C', '414', 'F', '35.91', 'M', '12.13', 'Q', 'AB', '44', 'BF', 'NP', '32', 'DA', '79.37', 'NK', 'DF', '54321', 'DI', '71.81', 'DP', 'DO', 'MEM'], ['A', '276', 'E', '71.81', 'M', '14.15', 'Q', 'AB', '66', 'AF', 'NP', '32', 'CQ', '103.18', 'NK', 'DG', '108642', 'DH', '143.62', 'NN', 'DT', 'MEM'], ['B', '276', 'F', '35.91', 'J', '5.11', 'R', 'AB', '88', 'AF', 'NP', '48', 'CQ', '174.62', 'NK', 'DF', '54321', 'DH', '71.81', 'NN', 'DO', 'NMEM'], ['A', '207', 'F', '35.91', 'J', '9.09', 'Q', 'AC', '66', 'AF', 'NP', '64', 'CQ', '156.1', 'NK', 'DF', '54321', 'DM', '71.81', 'NN', 'DO', 'MEM'], ['C', '1104', 'G', '35.91', 'J', '84.99', 'R', 'AC', '88', 'AF', 'NP', '16', 'DC', '97.89', 'NK', 'DF', '54321', 'DI', '71.81', 'DP', 'DO', 'MEM'], ['C', '1104', 'F', '35.91', 'O', '32.29', 'Q', 'AD', '66', 'AF', 'NP', '32', 'DC', '87.31', 'DE', 'DG', '54321', 'DI', '71.81', 'DP', 'DO', 'NMEM'], ['C', '552', 'E', '35.91', 'N', '25.79', 'Q', 'AA', '88', 'BA', 'NP', '32', 'DC', '108.48', 'NK', 'DG', '108642', 'DI', '71.81', 'DP', 'DO', 'MEM'], ['D', '230', 'E', '35.91', 'M', '5.21', 'Q', 'AA', '88', 'AF', 'NP', '64', 'DB', '166.68', 'NK', 'DS', '108642', 'DM', '71.81', 'DP', 'DO', 'MEM'], ['C', '414', 'G', '35.91', 'O', '14.46', 'Q', 'AB', '88', 'BF', 'NP', '32', 'DC', '74.08', 'NK', 'DF', '54321', 'DM', '71.81', 'DP', 'DO', 'NMEM'], ['B', '483', 'F', '35.91', 'O', '18.45', 'T', 'AA', '88', 'AG', 'NP', '32', 'DC', '161.39', 'DE', 'DG', '108642', 'DH', '71.81', 'NN', 'DO', 'NMEM'], ['C', '828', 'E', '35.91', 'J', '22.28', 'P', 'AA', '88', 'AF', 'NP', '32', 'DC', '134.93', 'NK', 'DF', '54321', 'DM', '71.81', 'DP', 'DO', 'MEM'], ['A', '276', 'E', '35.91', 'N', '10.17', 'Q', 'AA', '88', 'AF', 'NP', '64', 'DB', '174.62', 'NK', 'DS', '108642', 'DI', '71.81', 'NN', 'DO', 'MEM'], ['A', '828', 'F', '35.91', 'X', '105.71', 'Q', 'AD', '44', 'AG', 'CCA', '48', 'DC', '113.77', 'NK', 'DF', '54321', 'DI', '71.81', 'NN', 'DO', 'MEM'], ['C', '552', 'F', '35.91', 'J', '21.57', 'R', 'AA', '66', 'AG', 'NP', '32', 'DC', '68.79', 'NK', 'DF', '54321', 'DI', '71.81', 'DP', 'DO', 'MEM'], ['A', '552', 'F', '35.91', 'N', '19.4', 'Q', 'AC', '44', 'AF', 'NP', '16', 'DB', '89.96', 'NK', 'DS', '54321', 'DI', '71.81', 'DP', 'DO', 'MEM'], ['C', '276', 'E', '35.91', 'J', '12.89', 'Q', 'AA', '44', 'AF', 'NP', '32', 'DB', '68.79', 'NK', 'DF', '108642', 'DM', '71.81', 'NN', 'DO', 'MEM'], ['B', '828', 'H', '35.91', 'O', '13.02', 'Q', 'AA', '88', 'AF', 'NP', '64', 'DB', '161.39', 'NK', 'DS', '54321', 'DI', '71.81', 'DP', 'DO', 'NMEM'], ['B', '414', 'F', '35.91', 'O', '12.75', 'S', 'AE', '66', 'BF', 'NP', '48', 'CQ', '95.25', 'DE', 'DF', '54321', 'DM', '71.81', 'DP', 'DO', 'MEM'], ['B', '552', 'F', '35.91', 'M', '8.31', 'Q', 'AE', '88', 'AF', 'NP', '32', 'CQ', '60.85', 'DD', 'DF', '54321', 'DH', '71.81', 'NN', 'DO', 'NMEM'], ['D', '138', 'E', '35.91', 'K', '6.98', 'Q', 'AB', '44', 'BA', 'NP', '64', 'DA', '132.29', 'NK', 'DF', '54321', 'DH', '71.81', 'NN', 'DO', 'MEM'], ['C', '552', 'E', '35.91', 'O', '27.59', 'T', 'AB', '66', 'AF', 'NP', '48', 'DA', '71.44', 'NK', 'DF', '108642', 'DH', '71.81', 'DP', 'DO', 'MEM'], ['A', '345', 'F', '35.91', 'O', '5.37', 'Q', 'AB', '88', 'BA', 'NP', '64', 'DA', '58.21', 'NK', 'DF', '54321', 'DH', '71.81', 'NN', 'DO', 'MEM'], ['A', '276', 'F', '35.91', 'J', '11.2', 'R', 'AA', '66', 'BF', 'NP', '16', 'CQ', '92.6', 'NK', 'DF', '54321', 'DM', '71.81', 'NN', 'DO', 'MEM'], ['A', '414', 'F', '35.91', 'L', '16.41', 'Q', 'AB', '44', 'AF', 'NP', '32', 'DC', '58.21', 'NK', 'DF', '54321', 'DM', '71.81', 'NN', 'DO', 'NMEM'], ['A', '414', 'E', '35.91', 'M', '26.44', 'Q', 'AA', '22', 'BA', 'NP', '64', 'CQ', '87.31', 'DE', 'DG', '162963', 'DM', '71.81', 'DP', 'DO', 'NMEM'], ['D', '552', 'E', '35.91', 'O', '8.5', 'S', 'AB', '44', 'AG', 'NP', '64', 'CQ', '95.25', 'NK', 'DF', '108642', 'DM', '71.81', 'DP', 'DO', 'MEM'], ['A', '207', 'F', '35.91', 'M', '9.48', 'Q', 'AE', '66', 'AF', 'NP', '32', 'DB', '71.44', 'NK', 'DS', '54321', 'DI', '71.81', 'DP', 'DO', 'NMEM'], ['B', '276', 'F', '35.91', 'M', '49.81', 'P', 'AD', '22', 'BA', 'NP', '32', 'CQ', '63.5', 'NK', 'DG', '54321', 'DJ', '71.81', 'NN', 'DO', 'MEM'], ['C', '138', 'G', '35.91', 'J', '6.21', 'Q', 'AB', '66', 'BA', 'NP', '32', 'CQ', '63.5', 'NK', 'DF', '54321', 'DM', '71.81', 'NN', 'DO', 'MEM'], ['A', '184', 'E', '35.91', 'M', '4.87', 'Q', 'AA', '88', 'AF', 'NP', '64', 'CQ', '124.35', 'NK', 'DF', '108642', 'DH', '71.81', 'NN', 'DO', 'MEM'], ['A', '276', 'F', '35.91', 'M', '8.49', 'Q', 'AE', '66', 'BA', 'NP', '16', 'CQ', '97.89', 'NK', 'DF', '54321', 'DH', '71.81', 'NN', 'DO', 'NMEM'], ['B', '207', 'F', '35.91', 'M', '1.84', 'Q', 'AB', '88', 'BF', 'NP', '64', 'CQ', '58.21', 'NK', 'DG', '54321', 'DH', '71.81', 'NN', 'DO', 'MEM'], ['B', '621', 'H', '35.91', 'O', '55.45', 'Q', 'AA', '44', 'BA', 'NP', '64', 'DB', '111.12', 'NK', 'DS', '108642', 'DI', '71.81', 'DP', 'DO', 'NMEM'], ['A', '552', 'F', '35.91', 'L', '21.56', 'Q', 'AE', '88', 'BA', 'NP', '64', 'CQ', '60.85', 'NK', 'DG', '54321', 'DH', '71.81', 'DP', 'DO', 'NMEM'], ['A', '414', 'I', '35.91', 'L', '10.35', 'Q', 'AB', '88', 'AF', 'NP', '48', 'DC', '116.41', 'DE', 'DF', '54321', 'DM', '71.81', 'NN', 'DO', 'NMEM'], ['A', '552', 'F', '35.91', 'M', '32.11', 'Q', 'AC', '44', 'AF', 'CCA', '48', 'DA', '82.02', 'NK', 'DF', '54321', 'DM', '71.81', 'DP', 'DO', 'NMEM'], ['A', '368', 'E', '35.91', 'M', '17.5', 'Q', 'AA', '44', 'AF', 'GA', '64', 'DA', '113.77', 'DE', 'DG', '54321', 'DM', '71.81', 'DP', 'DO', 'NMEM'], ['C', '828', 'F', '35.91', 'O', '38.28', 'T', 'AC', '44', 'AF', 'NP', '32', 'DC', '82.02', 'NK', 'DF', '108642', 'DM', '71.81', 'DP', 'DO', 'MEM'], ['C', '414', 'F', '35.91', 'M', '45.07', 'P', 'AB', '44', 'AF', 'NP', '64', 'DC', '179.91', 'NK', 'DG', '108642', 'DM', '71.81', 'NN', 'DO', 'NMEM'], ['C', '690', 'E', '35.91', 'J', '18.87', 'Q', 'AB', '88', 'BA', 'NP', '32', 'DC', '87.31', 'NK', 'DF', '54321', 'DM', '71.81', 'DP', 'DO', 'MEM'], ['A', '414', 'F', '35.91', 'U', '8.11', 'Q', 'AB', '88', 'BF', 'NP', '48', 'CQ', '124.35', 'NK', 'DF', '54321', 'DH', '71.81', 'DP', 'DO', 'NMEM'], ['B', '138', 'F', '35.91', 'M', '97.03', 'P', 'AD', '22', 'AF', 'NP', '32', 'DA', '60.85', 'NK', 'DF', '54321', 'DJ', '71.81', 'DP', 'DO', 'NMEM'], ['C', '345', 'F', '35.91', 'U', '5.83', 'P', 'AE', '88', 'BA', 'NP', '16', 'CQ', '63.5', 'NK', 'DF', '54321', 'DM', '71.81', 'NN', 'DO', 'MEM'], ['C', '345', 'E', '35.91', 'L', '22.29', 'Q', 'AB', '88', 'AF', 'NP', '32', 'DB', '74.08', 'NK', 'DS', '54321', 'DM', '71.81', 'DP', 'DO', 'MEM'], ['A', '414', 'F', '35.91', 'L', '16.49', 'Q', 'AD', '88', 'AF', 'NP', '16', 'DC', '66.14', 'NK', 'DF', '54321', 'DJ', '71.81', 'NN', 'DO', 'NMEM'], ['C', '828', 'H', '35.91', 'V', '17.42', 'Q', 'AB', '88', 'AF', 'NP', '32', 'DC', '71.44', 'NK', 'DF', '108642', 'DM', '71.81', 'NN', 'DO', 'MEM'], ['C', '552', 'G', '35.91', 'M', '13.55', 'Q', 'AA', '88', 'AF', 'NP', '64', 'DB', '158.75', 'NK', 'DS', '108642', 'DM', '71.81', 'DP', 'DO', 'MEM'], ['C', '414', 'F', '35.91', 'J', '9.69', 'Q', 'AE', '66', 'BA', 'NP', '16', 'CQ', '68.79', 'NK', 'DF', '54321', 'DM', '71.81', 'NN', 'DO', 'MEM'], ['C', '460', 'E', '35.91', 'M', '23.23', 'P', 'AE', '44', 'AG', 'NP', '64', 'CQ', '116.41', 'NK', 'DF', '108642', 'DM', '71.81', 'DP', 'DO', 'MEM'], ['B', '460', 'H', '35.91', 'N', '40.99', 'T', 'AA', '66', 'BF', 'NP', '64', 'DC', '82.02', 'DE', 'DF', '108642', 'DM', '71.81', 'DP', 'DO', 'MEM'], ['C', '1104', 'F', '35.91', 'J', '68.15', 'P', 'AC', '88', 'AF', 'NP', '48', 'DC', '97.89', 'DD', 'DF', '54321', 'DM', '71.81', 'DP', 'DO', 'MEM'], ['A', '552', 'F', '35.91', 'M', '8.57', 'P', 'AC', '88', 'BA', 'NP', '64', 'DB', '84.66', 'NK', 'DG', '54321', 'DM', '71.81', 'NN', 'DO', 'NMEM'], ['C', '552', 'E', '35.91', 'J', '10.11', 'S', 'AB', '88', 'BA', 'NP', '16', 'CQ', '113.77', 'NK', 'DF', '108642', 'DH', '71.81', 'NN', 'DO', 'MEM'], ['A', '690', 'F', '35.91', 'N', '25.71', 'Q', 'AB', '88', 'AG', 'NP', '64', 'DA', '105.83', 'NK', 'DF', '54321', 'DI', '71.81', 'DP', 'DO', 'MEM'], ['C', '138', 'F', '35.91', 'U', '8.92', 'R', 'AB', '22', 'AG', 'NP', '64', 'CQ', '164.04', 'NK', 'DF', '54321', 'DM', '71.81', 'NN', 'DO', 'MEM'], ['B', '138', 'F', '35.91', 'J', '3.23', 'Q', 'AC', '66', 'BF', 'GA', '48', 'CQ', '74.08', 'DE', 'DF', '54321', 'DH', '71.81', 'NN', 'DO', 'MEM'], ['B', '552', 'E', '35.91', 'N', '51.72', 'S', 'AA', '44', 'BA', 'NP', '64', 'DB', '76.73', 'NK', 'DG', '54321', 'DM', '71.81', 'NN', 'DO', 'MEM'], ['C', '828', 'F', '35.91', 'J', '23.97', 'Q', 'AA', '88', 'AF', 'NP', '32', 'DC', '74.08', 'NK', 'DF', '54321', 'DM', '71.81', 'NN', 'DO', 'MEM'], ['D', '552', 'F', '35.91', 'J', '34.35', 'Q', 'AC', '88', 'AF', 'NP', '32', 'DC', '66.14', 'DE', 'DF', '54321', 'DM', '71.81', 'NN', 'DO', 'MEM'], ['C', '276', 'E', '35.91', 'V', '6.64', 'P', 'AC', '88', 'BA', 'NP', '64', 'CQ', '60.85', 'NK', 'DF', '108642', 'DM', '71.81', 'NN', 'DO', 'MEM'], ['C', '690', 'F', '35.91', 'N', '32.07', 'P', 'AC', '44', 'BA', 'NP', '64', 'DA', '63.5', 'DD', 'DG', '54321', 'DH', '71.81', 'NN', 'DO', 'MEM'], ['B', '552', 'F', '35.91', 'J', '13.59', 'Q', 'AE', '22', 'BF', 'NP', '16', 'DA', '58.21', 'NK', 'DF', '54321', 'DM', '71.81', 'DP', 'DO', 'NMEM'], ['D', '966', 'E', '35.91', 'N', '31.97', 'Q', 'AA', '88', 'AF', 'NP', '64', 'DB', '148.16', 'NK', 'DS', '54321', 'DM', '71.81', 'NN', 'DO', 'MEM'], ['B', '276', 'F', '71.81', 'M', '5.92', 'Q', 'AA', '88', 'AF', 'NP', '64', 'DC', '108.48', 'DE', 'DF', '54321', 'DH', '143.62', 'NN', 'DO', 'NMEM'], ['C', '552', 'E', '35.91', 'L', '34.33', 'Q', 'AA', '88', 'AF', 'NP', '64', 'DC', '87.31', 'NK', 'DF', '54321', 'DM', '71.81', 'DP', 'DO', 'MEM'], ['C', '828', 'E', '71.81', 'N', '38.95', 'Q', 'AA', '44', 'AF', 'NP', '32', 'DA', '92.6', 'NK', 'DF', '108642', 'DM', '143.62', 'DP', 'DO', 'MEM'], ['C', '276', 'G', '35.91', 'N', '10.02', 'Q', 'AB', '88', 'BF', 'NP', '64', 'CQ', '108.48', 'NK', 'DG', '54321', 'DM', '71.81', 'NN', 'DO', 'MEM'], ['B', '345', 'F', '35.91', 'V', '17.54', 'T', 'AB', '66', 'BA', 'NP', '32', 'CQ', '66.14', 'NK', 'DF', '54321', 'DH', '71.81', 'NN', 'DO', 'MEM'], ['C', '552', 'F', '35.91', 'J', '8.52', 'Q', 'AA', '88', 'AF', 'NP', '16', 'CQ', '95.25', 'NK', 'DF', '54321', 'DI', '71.81', 'DP', 'DO', 'MEM'], ['B', '828', 'F', '35.91', 'M', '82.59', 'P', 'AB', '22', 'AF', 'NP', '64', 'DB', '97.89', 'NK', 'DS', '54321', 'DM', '71.81', 'DP', 'DO', 'NMEM'], ['C', '276', 'F', '35.91', 'J', '5.91', 'P', 'AB', '88', 'BA', 'NP', '32', 'DC', '55.56', 'NK', 'DF', '54321', 'DM', '71.81', 'NN', 'DO', 'MEM'], ['B', '621', 'F', '71.81', 'O', '16.85', 'Q', 'AE', '88', 'BA', 'NP', '16', 'DA', '84.66', 'NK', 'DF', '54321', 'DM', '143.62', 'DP', 'DO', 'MEM'], ['B', '1104', 'F', '35.91', 'M', '43.73', 'T', 'AC', '66', 'AF', 'NP', '32', 'DA', '63.5', 'NK', 'DF', '54321', 'DM', '71.81', 'NN', 'DO', 'NMEM'], ['B', '897', 'E', '35.91', 'J', '32.89', 'Q', 'AC', '44', 'AF', 'GA', '32', 'CQ', '66.14', 'NK', 'DF', '108642', 'DM', '71.81', 'NN', 'DO', 'NMEM'], ['B', '1104', 'F', '35.91', 'M', '56.58', 'P', 'AC', '22', 'BA', 'NP', '32', 'DC', '63.5', 'NK', 'DF', '54321', 'DM', '71.81', 'NN', 'DO', 'MEM'], ['B', '552', 'F', '35.91', 'N', '27.42', 'R', 'AE', '66', 'BA', 'NP', '64', 'DC', '74.08', 'NK', 'DG', '54321', 'DM', '71.81', 'NN', 'DO', 'NMEM'], ['C', '414', 'E', '35.91', 'M', '6.85', 'Q', 'AB', '88', 'BA', 'NP', '48', 'CQ', '95.25', 'NK', 'DF', '108642', 'DM', '71.81', 'NN', 'DO', 'MEM'], ['A', '414', 'F', '35.91', 'L', '24.33', 'Q', 'AE', '22', 'BA', 'NP', '64', 'DC', '58.21', 'NK', 'DG', '54321', 'DM', '71.81', 'NN', 'DO', 'MEM'], ['B', '138', 'F', '35.91', 'V', '3.03', 'Q', 'AE', '66', 'BF', 'NP', '16', 'DA', '58.21', 'NK', 'DF', '54321', 'DH', '71.81', 'NN', 'DO', 'MEM'], ['B', '690', 'G', '35.91', 'J', '12.79', 'T', 'AE', '88', 'AF', 'NP', '48', 'DB', '79.37', 'DD', 'DF', '108642', 'DI', '71.81', 'NN', 'DO', 'NMEM'], ['C', '552', 'F', '71.81', 'N', '42.09', 'P', 'AA', '66', 'AF', 'NP', '64', 'DC', '108.48', 'NK', 'DF', '54321', 'DI', '143.62', 'DP', 'DO', 'MEM'], ['C', '690', 'F', '35.91', 'J', '15.55', 'R', 'AA', '88', 'AF', 'NP', '32', 'DC', '79.37', 'DE', 'DF', '54321', 'DI', '71.81', 'NN', 'DO', 'MEM'], ['B', '828', 'F', '35.91', 'L', '60.23', 'T', 'AE', '88', 'AF', 'CCA', '16', 'DB', '76.73', 'NK', 'DG', '54321', 'DI', '71.81', 'DP', 'DO', 'NMEM'], ['C', '276', 'E', '35.91', 'L', '38.67', 'P', 'AA', '44', 'AF', 'NP', '64', 'DA', '129.64', 'NK', 'DG', '54321', 'DM', '71.81', 'DP', 'DO', 'MEM'], ['C', '276', 'E', '35.91', 'O', '15.28', 'Q', 'AD', '88', 'AF', 'NP', '32', 'DC', '111.12', 'DD', 'DF', '108642', 'DI', '71.81', 'DP', 'DO', 'NMEM'], ['C', '138', 'H', '35.91', 'J', '2.84', 'Q', 'AA', '88', 'BF', 'NP', '64', 'DC', '103.18', 'NK', 'DF', '54321', 'DH', '71.81', 'NN', 'DO', 'MEM'], ['A', '414', 'E', '35.91', 'M', '35.35', 'Q', 'AA', '44', 'AF', 'NP', '64', 'DB', '95.25', 'NK', 'DS', '162963', 'DI', '71.81', 'DP', 'DO', 'MEM'], ['B', '828', 'I', '35.91', 'U', '26.6', 'P', 'AE', '66', 'BA', 'NP', '32', 'DB', '76.73', 'DE', 'DF', '54321', 'DJ', '71.81', 'NN', 'DO', 'MEM'], ['D', '138', 'E', '71.81', 'M', '8.95', 'Q', 'AA', '22', 'AF', 'NP', '64', 'CQ', '121.7', 'NK', 'DF', '108642', 'DM', '143.62', 'NN', 'DT', 'MEM'], ['D', '230', 'F', '35.91', 'U', '8.17', 'Q', 'AB', '44', 'AF', 'NP', '32', 'DC', '97.89', 'NK', 'DF', '54321', 'DM', '71.81', 'DP', 'DO', 'MEM'], ['A', '414', 'E', '35.91', 'L', '14.16', 'Q', 'AB', '88', 'BA', 'NP', '64', 'CQ', '63.5', 'NK', 'DG', '108642', 'DM', '71.81', 'NN', 'DO', 'NMEM'], ['A', '276', 'F', '35.91', 'L', '8.41', 'P', 'AA', '44', 'AG', 'NP', '64', 'DA', '129.64', 'NK', 'DF', '54321', 'DH', '71.81', 'DP', 'DO', 'MEM'], ['B', '414', 'E', '35.91', 'J', '11.97', 'Q', 'AA', '66', 'BA', 'GA', '64', 'CQ', '127', 'DE', 'DG', '108642', 'DH', '71.81', 'DP', 'DO', 'MEM'], ['B', '552', 'E', '35.91', 'M', '25.85', 'T', 'AE', '88', 'AG', 'NP', '32', 'DC', '97.89', 'NK', 'DF', '54321', 'DM', '71.81', 'DP', 'DO', 'MEM'], ['C', '552', 'E', '35.91', 'M', '8.58', 'S', 'AA', '88', 'BA', 'NP', '64', 'CQ', '97.89', 'NK', 'DF', '108642', 'DM', '71.81', 'DP', 'DO', 'MEM'], ['C', '621', 'F', '35.91', 'M', '17.13', 'Q', 'AB', '66', 'BA', 'NP', '48', 'CQ', '55.56', 'NK', 'DG', '54321', 'DM', '71.81', 'NN', 'DO', 'NMEM'], ['C', '483', 'F', '35.91', 'J', '21.07', 'P', 'AA', '88', 'AF', 'NP', '48', 'DA', '108.48', 'NK', 'DF', '54321', 'DM', '71.81', 'DP', 'DO', 'MEM'], ['A', '552', 'F', '71.81', 'N', '19.49', 'Q', 'AB', '66', 'AF', 'GA', '64', 'DB', '166.68', 'DE', 'DF', '54321', 'DM', '143.62', 'DP', 'DO', 'MEM'], ['C', '1104', 'F', '35.91', 'O', '26.09', 'P', 'AB', '88', 'AG', 'NP', '32', 'CQ', '100.54', 'DE', 'DF', '54321', 'DM', '71.81', 'NN', 'DO', 'NMEM'], ['C', '345', 'F', '35.91', 'N', '25.41', 'T', 'AE', '22', 'BA', 'NP', '64', 'DC', '60.85', 'NK', 'DF', '54321', 'DM', '71.81', 'DP', 'DO', 'MEM'], ['A', '1104', 'F', '35.91', 'M', '51.75', 'Q', 'AA', '88', 'AF', 'NP', '64', 'DB', '111.12', 'DE', 'DS', '54321', 'DI', '71.81', 'NN', 'DO', 'NMEM'], ['C', '690', 'E', '35.91', 'J', '38.47', 'Q', 'AC', '88', 'BA', 'NP', '32', 'DC', '66.14', 'NK', 'DF', '108642', 'DM', '71.81', 'NN', 'DO', 'MEM'], ['A', '828', 'F', '35.91', 'K', '13.18', 'P', 'AA', '88', 'AF', 'NP', '64', 'DB', '105.83', 'NK', 'DF', '54321', 'DI', '71.81', 'DP', 'DO', 'NMEM'], ['C', '138', 'E', '35.91', 'J', '4.67', 'P', 'AA', '88', 'AF', 'NP', '64', 'DB', '95.25', 'NK', 'DS', '108642', 'DM', '71.81', 'NN', 'DO', 'MEM'], ['C', '276', 'F', '35.91', 'J', '8.41', 'Q', 'AB', '66', 'AF', 'NP', '32', 'DC', '66.14', 'NK', 'DF', '54321', 'DM', '71.81', 'NN', 'DO', 'MEM'], ['C', '483', 'E', '35.91', 'M', '84.53', 'P', 'AA', '88', 'AF', 'NP', '64', 'DB', '79.37', 'NK', 'DS', '54321', 'DI', '71.81', 'DP', 'DO', 'NMEM'], ['B', '276', 'F', '35.91', 'J', '7.28', 'Q', 'AB', '88', 'BA', 'GA', '64', 'CQ', '129.64', 'NK', 'DF', '108642', 'DM', '71.81', 'DP', 'DO', 'MEM'], ['A', '276', 'H', '35.91', 'J', '41.33', 'Q', 'AB', '88', 'AF', 'NP', '32', 'DA', '74.08', 'NK', 'DG', '108642', 'DM', '71.81', 'DP', 'DO', 'NMEM'], ['B', '138', 'F', '71.81', 'J', '7.12', 'Q', 'AA', '88', 'AF', 'NP', '64', 'DC', '74.08', 'NK', 'DF', '54321', 'DM', '143.62', 'NN', 'DO', 'MEM'], ['D', '138', 'F', '35.91', 'M', '4.73', 'S', 'AE', '44', 'BF', 'NP', '32', 'CQ', '71.44', 'NK', 'DF', '54321', 'DJ', '71.81', 'NN', 'DT', 'MEM'], ['C', '414', 'F', '35.91', 'O', '13', 'Q', 'AC', '88', 'AF', 'NP', '16', 'DC', '89.96', 'DD', 'DF', '108642', 'DM', '71.81', 'DP', 'DO', 'MEM'], ['C', '345', 'F', '35.91', 'J', '23.79', 'Q', 'AA', '88', 'BA', 'NP', '32', 'DC', '142.87', 'DE', 'DG', '54321', 'DI', '71.81', 'DP', 'DO', 'MEM'], ['C', '138', 'F', '35.91', 'V', '4.4', 'R', 'AC', '44', 'BF', 'NP', '64', 'CQ', '60.85', 'NK', 'DG', '54321', 'DH', '71.81', 'NN', 'DO', 'MEM'], ['C', '138', 'H', '35.91', 'M', '8.03', 'T', 'AB', '88', 'AF', 'NP', '16', 'DB', '92.6', 'DE', 'DG', '54321', 'DM', '71.81', 'NN', 'DT', 'MEM'], ['B', '414', 'E', '35.91', 'L', '24.08', 'Q', 'AA', '66', 'BA', 'NP', '64', 'DA', '97.89', 'NK', 'DF', '54321', 'DM', '71.81', 'DP', 'DO', 'MEM'], ['C', '552', 'E', '35.91', 'K', '12.85', 'P', 'AB', '66', 'BA', 'NP', '32', 'DC', '87.31', 'NK', 'DF', '108642', 'DM', '71.81', 'DP', 'DO', 'MEM'], ['A', '552', 'E', '71.81', 'N', '42.79', 'Q', 'AA', '44', 'BA', 'NP', '64', 'DB', '116.41', 'NK', 'DS', '108642', 'DI', '143.62', 'DP', 'DO', 'MEM'], ['C', '552', 'E', '71.81', 'N', '14.65', 'P', 'AC', '88', 'AF', 'NP', '64', 'DC', '113.77', 'NK', 'DF', '108642', 'DM', '143.62', 'DP', 'DO', 'MEM'], ['A', '828', 'F', '71.81', 'M', '21.66', 'Q', 'AC', '44', 'AF', 'NP', '64', 'DB', '103.18', 'DE', 'DS', '54321', 'DI', '143.62', 'DP', 'DO', 'MEM'], ['B', '690', 'E', '35.91', 'M', '14.54', 'P', 'AA', '88', 'AF', 'NP', '64', 'CQ', '95.25', 'NK', 'DF', '108642', 'DM', '71.81', 'NN', 'DO', 'MEM'], ['C', '276', 'F', '35.91', 'L', '11.57', 'Q', 'AC', '66', 'BA', 'NP', '64', 'CQ', '82.02', 'NK', 'DF', '54321', 'DH', '71.81', 'NN', 'DO', 'MEM'], ['A', '552', 'I', '35.91', 'M', '7.95', 'Q', 'AD', '22', 'BA', 'CCA', '64', 'DB', '76.73', 'NK', 'DG', '108642', 'DJ', '71.81', 'NN', 'DO', 'NMEM'], ['B', '552', 'E', '71.81', 'X', '79.59', 'Q', 'AB', '44', 'AF', 'CCA', '48', 'DC', '103.18', 'NK', 'DF', '108642', 'DI', '143.62', 'DP', 'DO', 'NMEM'], ['C', '828', 'F', '35.91', 'N', '31.24', 'Q', 'AB', '44', 'AF', 'NP', '32', 'DB', '84.66', 'NK', 'DS', '54321', 'DI', '71.81', 'DP', 'DO', 'MEM'], ['C', '276', 'E', '35.91', 'L', '12.9', 'Q', 'AA', '88', 'AF', 'NP', '64', 'CQ', '113.77', 'NK', 'DF', '162963', 'DM', '71.81', 'DP', 'DO', 'MEM'], ['C', '207', 'E', '35.91', 'K', '8.29', 'P', 'AA', '88', 'BA', 'NP', '64', 'DA', '108.48', 'NK', 'DG', '108642', 'DH', '71.81', 'NN', 'DO', 'MEM'], ['C', '345', 'F', '35.91', 'L', '14.81', 'R', 'AB', '44', 'BA', 'NP', '64', 'DC', '52.92', 'NK', 'DG', '54321', 'DM', '71.81', 'NN', 'DO', 'MEM'], ['C', '345', 'F', '35.91', 'N', '31.05', 'Q', 'AB', '66', 'AF', 'NP', '32', 'DC', '79.37', 'NK', 'DF', '54321', 'DM', '71.81', 'DP', 'DO', 'MEM'], ['A', '138', 'F', '35.91', 'K', '2.99', 'Q', 'AE', '88', 'BA', 'NP', '64', 'DA', '60.85', 'NK', 'DF', '54321', 'DM', '71.81', 'NN', 'DO', 'NMEM'], ['D', '966', 'H', '35.91', 'O', '41.93', 'Q', 'AE', '44', 'AG', 'NP', '16', 'DA', '87.31', 'NK', 'DF', '108642', 'DM', '71.81', 'NN', 'DO', 'MEM'], ['C', '644', 'E', '35.91', 'J', '18.29', 'Q', 'AA', '88', 'AF', 'NP', '32', 'DC', '76.73', 'NK', 'DF', '108642', 'DM', '71.81', 'NN', 'DO', 'MEM'], ['C', '207', 'E', '71.81', 'J', '20.49', 'P', 'AB', '22', 'AF', 'NP', '32', 'CQ', '87.31', 'NK', 'DF', '108642', 'DM', '143.62', 'NN', 'DO', 'MEM'], ['A', '276', 'E', '35.91', 'L', '14.97', 'Q', 'AA', '66', 'AF', 'NP', '48', 'DA', '158.75', 'NK', 'DF', '108642', 'DM', '71.81', 'NN', 'DO', 'NMEM'], ['C', '276', 'E', '35.91', 'J', '4.12', 'Q', 'AA', '88', 'AF', 'NP', '64', 'CQ', '148.16', 'NK', 'DF', '54321', 'DM', '71.81', 'NN', 'DO', 'MEM'], ['A', '690', 'F', '71.81', 'J', '16.81', 'Q', 'AA', '22', 'AF', 'GA', '48', 'DA', '103.18', 'NK', 'DF', '54321', 'DM', '143.62', 'NN', 'DO', 'MEM'], ['A', '1081', 'F', '35.91', 'M', '71.48', 'Q', 'AE', '22', 'BA', 'NP', '16', 'CQ', '92.6', 'NK', 'DF', '54321', 'DH', '71.81', 'DP', 'DO', 'MEM'], ['B', '1380', 'F', '35.91', 'M', '49.39', 'T', 'AE', '88', 'BA', 'NP', '32', 'DA', '63.5', 'NK', 'DF', '54321', 'DI', '71.81', 'NN', 'DO', 'NMEM'], ['C', '552', 'G', '71.81', 'O', '15.83', 'R', 'AB', '88', 'AF', 'NP', '32', 'DC', '116.41', 'NK', 'DF', '108642', 'DM', '143.62', 'DP', 'DO', 'MEM'], ['B', '552', 'G', '35.91', 'M', '13.1', 'P', 'AB', '88', 'BA', 'NP', '64', 'DC', '111.12', 'NK', 'DG', '108642', 'DM', '71.81', 'DP', 'DO', 'MEM'], ['C', '92', 'E', '71.81', 'J', '10.29', 'Q', 'AC', '44', 'AF', 'NP', '16', 'CQ', '111.12', 'NK', 'DF', '162963', 'DH', '143.62', 'NN', 'DO', 'MEM'], ['A', '690', 'H', '35.91', 'L', '30.55', 'Q', 'AB', '44', 'AG', 'GA', '32', 'CQ', '84.66', 'NK', 'DF', '108642', 'DM', '71.81', 'NN', 'DO', 'MEM'], ['C', '414', 'E', '35.91', 'M', '10.2', 'Q', 'AB', '66', 'AF', 'NP', '32', 'DA', '84.66', 'DE', 'DF', '108642', 'DM', '71.81', 'NN', 'DO', 'NMEM'], ['C', '552', 'E', '35.91', 'X', '42.09', 'Q', 'AD', '88', 'AF', 'CCA', '32', 'DB', '71.44', 'DE', 'DF', '108642', 'DI', '71.81', 'DP', 'DO', 'MEM'], ['B', '276', 'F', '35.91', 'J', '7.35', 'Q', 'AC', '88', 'AF', 'GA', '48', 'CQ', '76.73', 'NK', 'DF', '108642', 'DM', '71.81', 'NN', 'DT', 'MEM'], ['C', '552', 'E', '35.91', 'N', '26.95', 'P', 'AC', '66', 'AF', 'NP', '64', 'DA', '113.77', 'NK', 'DF', '108642', 'DM', '71.81', 'DP', 'DO', 'MEM'], ['A', '828', 'F', '71.81', 'N', '54.86', 'Q', 'AB', '44', 'AF', 'NP', '32', 'DA', '68.79', 'NK', 'DF', '54321', 'DM', '143.62', 'NN', 'DO', 'NMEM'], ['C', '828', 'F', '35.91', 'M', '6.06', 'R', 'AA', '88', 'AF', 'NP', '64', 'DA', '95.25', 'NK', 'DF', '54321', 'DM', '71.81', 'NN', 'DO', 'MEM'], ['C', '276', 'F', '35.91', 'M', '19.06', 'P', 'AD', '88', 'AF', 'NP', '64', 'DB', '100.54', 'NK', 'DF', '54321', 'DI', '71.81', 'DP', 'DO', 'MEM'], ['C', '552', 'E', '35.91', 'M', '13.48', 'Q', 'AB', '88', 'BA', 'NP', '64', 'DC', '97.89', 'NK', 'DF', '54321', 'DM', '71.81', 'DP', 'DO', 'MEM'], ['C', '552', 'F', '35.91', 'M', '15.03', 'P', 'AE', '88', 'AF', 'NP', '16', 'DA', '142.87', 'NK', 'DF', '54321', 'DM', '71.81', 'NN', 'DO', 'MEM'], ['B', '690', 'H', '35.91', 'O', '28.53', 'T', 'AB', '88', 'BA', 'NP', '64', 'DC', '68.79', 'NK', 'DG', '108642', 'DH', '71.81', 'NN', 'DO', 'NMEM'], ['A', '828', 'G', '35.91', 'K', '45.91', 'Q', 'AB', '88', 'AF', 'NP', '48', 'DA', '76.73', 'DD', 'DF', '54321', 'DM', '71.81', 'DP', 'DO', 'NMEM'], ['B', '207', 'I', '71.81', 'N', '34.19', 'Q', 'AA', '44', 'BA', 'NP', '64', 'DB', '195.79', 'DE', 'DS', '54321', 'DI', '143.62', 'DP', 'DO', 'NMEM'], ['C', '621', 'F', '71.81', 'V', '34.6', 'P', 'AA', '88', 'AF', 'NP', '64', 'DA', '127', 'NK', 'DF', '217284', 'DM', '143.62', 'DP', 'DO', 'MEM'], ['C', '276', 'F', '35.91', 'L', '11.79', 'Q', 'AB', '66', 'AF', 'NP', '32', 'CQ', '63.5', 'NK', 'DG', '54321', 'DH', '71.81', 'NN', 'DO', 'MEM'], ['C', '230', 'F', '35.91', 'L', '14.73', 'Q', 'AB', '44', 'AF', 'NP', '32', 'CQ', '66.14', 'DE', 'DG', '54321', 'DH', '71.81', 'NN', 'DO', 'NMEM'], ['A', '345', 'F', '35.91', 'M', '16.74', 'Q', 'AD', '22', 'BA', 'NP', '64', 'DC', '60.85', 'NK', 'DG', '54321', 'DM', '71.81', 'NN', 'DO', 'MEM'], ['A', '1104', 'F', '35.91', 'J', '46.66', 'Q', 'AC', '22', 'BF', 'GA', '16', 'CQ', '89.96', 'NK', 'DF', '108642', 'DM', '71.81', 'DP', 'DO', 'NMEM'], ['C', '276', 'E', '35.91', 'O', '8.43', 'P', 'AA', '88', 'AF', 'NP', '64', 'DB', '150.81', 'NK', 'DG', '54321', 'DH', '71.81', 'NN', 'DO', 'MEM'], ['B', '368', 'E', '35.91', 'M', '7.83', 'Q', 'AD', '44', 'AF', 'NP', '48', 'DC', '179.91', 'NK', 'DS', '162963', 'DJ', '71.81', 'DP', 'DO', 'MEM'], ['B', '1104', 'H', '35.91', 'O', '96.14', 'Q', 'AB', '44', 'AF', 'NP', '32', 'DC', '66.14', 'NK', 'DF', '54321', 'DM', '71.81', 'DP', 'DO', 'NMEM'], ['A', '483', 'E', '35.91', 'M', '10.68', 'Q', 'AA', '88', 'BF', 'NP', '48', 'DC', '79.37', 'NK', 'DF', '108642', 'DM', '71.81', 'DP', 'DO', 'MEM'], ['B', '414', 'E', '35.91', 'L', '49.16', 'Q', 'AD', '88', 'AF', 'NP', '64', 'DA', '105.83', 'DD', 'DF', '108642', 'DI', '71.81', 'DP', 'DO', 'MEM'], ['A', '138', 'F', '71.81', 'J', '17.65', 'R', 'AB', '44', 'AF', 'NP', '48', 'CQ', '116.41', 'NK', 'DG', '54321', 'DM', '143.62', 'NN', 'DO', 'MEM'], ['B', '828', 'F', '35.91', 'J', '31.97', 'Q', 'AE', '88', 'BA', 'NP', '16', 'DB', '79.37', 'NK', 'DF', '54321', 'DI', '71.81', 'DP', 'DO', 'MEM'], ['D', '92', 'F', '71.81', 'M', '9.96', 'P', 'AE', '22', 'AF', 'NP', '32', 'CQ', '76.73', 'NK', 'DF', '54321', 'DH', '143.62', 'NN', 'DT', 'MEM'], ['C', '138', 'F', '35.91', 'L', '19.85', 'R', 'AB', '22', 'AF', 'NP', '32', 'DC', '84.66', 'NK', 'DF', '54321', 'DM', '71.81', 'DP', 'DO', 'MEM'], ['B', '598', 'F', '35.91', 'N', '53.11', 'Q', 'AE', '44', 'AF', 'NP', '48', 'DC', '79.37', 'NK', 'DF', '108642', 'DM', '71.81', 'NN', 'DO', 'MEM'], ['D', '207', 'F', '35.91', 'J', '7.51', 'T', 'AA', '44', 'AG', 'NP', '64', 'CQ', '129.64', 'NK', 'DF', '54321', 'DM', '71.81', 'NN', 'DO', 'MEM'], ['C', '230', 'F', '35.91', 'J', '12.83', 'Q', 'AB', '22', 'AF', 'NP', '64', 'DA', '100.54', 'NK', 'DF', '54321', 'DM', '71.81', 'DP', 'DT', 'MEM'], ['C', '207', 'F', '35.91', 'K', '25.55', 'P', 'AA', '22', 'AF', 'NP', '64', 'CQ', '169.33', 'NK', 'DF', '54321', 'DH', '71.81', 'NN', 'DO', 'MEM'], ['C', '690', 'E', '35.91', 'J', '39.69', 'Q', 'AC', '66', 'AF', 'CCA', '32', 'DC', '100.54', 'NK', 'DF', '54321', 'DM', '71.81', 'NN', 'DO', 'MEM'], ['B', '552', 'E', '71.81', 'O', '18.83', 'P', 'AC', '88', 'AF', 'NP', '48', 'DB', '89.96', 'NK', 'DF', '108642', 'DM', '143.62', 'DP', 'DO', 'MEM'], ['C', '1104', 'E', '35.91', 'N', '77.27', 'T', 'AB', '44', 'BA', 'NP', '64', 'DC', '63.5', 'DE', 'DG', '108642', 'DH', '71.81', 'NN', 'DO', 'NMEM'], ['C', '345', 'E', '35.91', 'L', '18.59', 'Q', 'AC', '44', 'BA', 'CCA', '48', 'DC', '63.5', 'DE', 'DF', '108642', 'DM', '71.81', 'NN', 'DO', 'MEM'], ['C', '552', 'G', '35.91', 'O', '57.65', 'Q', 'AE', '44', 'AF', 'NP', '32', 'DC', '71.44', 'DE', 'DF', '108642', 'DM', '71.81', 'DP', 'DO', 'NMEM'], ['C', '230', 'F', '71.81', 'M', '10.31', 'Q', 'AB', '66', 'AF', 'NP', '32', 'CQ', '82.02', 'NK', 'DF', '54321', 'DH', '143.62', 'NN', 'DT', 'MEM'], ['C', '276', 'G', '71.81', 'V', '10.37', 'S', 'AA', '88', 'AF', 'NP', '64', 'DB', '145.52', 'NK', 'DS', '108642', 'DM', '143.62', 'NN', 'DO', 'NMEM'], ['A', '552', 'F', '35.91', 'L', '20.99', 'Q', 'AE', '88', 'AF', 'NP', '16', 'DB', '58.21', 'DE', 'DS', '54321', 'DM', '71.81', 'NN', 'DO', 'MEM'], ['B', '483', 'F', '71.81', 'O', '7.92', 'Q', 'AA', '44', 'BA', 'NP', '64', 'DA', '103.18', 'NK', 'DF', '54321', 'DM', '143.62', 'NN', 'DO', 'NMEM'], ['C', '276', 'E', '35.91', 'J', '8.27', 'P', 'AA', '88', 'BA', 'NP', '32', 'CQ', '100.54', 'NK', 'DF', '108642', 'DM', '71.81', 'DP', 'DO', 'MEM'], ['B', '1104', 'F', '35.91', 'J', '73.07', 'S', 'AC', '22', 'AF', 'CCA', '32', 'DB', '71.44', 'DE', 'DF', '108642', 'DM', '71.81', 'DP', 'DO', 'NMEM'], ['C', '345', 'E', '35.91', 'J', '9.07', 'Q', 'AB', '88', 'AF', 'NP', '32', 'DA', '82.02', 'NK', 'DF', '108642', 'DM', '71.81', 'NN', 'DO', 'MEM'], ['A', '138', 'E', '35.91', 'M', '4.44', 'S', 'AC', '66', 'BA', 'NP', '64', 'CQ', '103.18', 'NK', 'DF', '108642', 'DH', '71.81', 'DP', 'DO', 'MEM'], ['B', '345', 'I', '71.81', 'M', '45.67', 'T', 'AD', '22', 'AF', 'NP', '32', 'DA', '89.96', 'NK', 'DF', '54321', 'DI', '143.62', 'DP', 'DO', 'NMEM'], ['B', '1104', 'G', '35.91', 'K', '41.49', 'Q', 'AA', '88', 'AF', 'NP', '64', 'DB', '132.29', 'NK', 'DS', '54321', 'DM', '71.81', 'NN', 'DO', 'NMEM'], ['C', '414', 'E', '35.91', 'J', '40.47', 'Q', 'AA', '66', 'AF', 'NP', '64', 'DC', '87.31', 'NK', 'DF', '108642', 'DM', '71.81', 'DP', 'DO', 'MEM'], ['B', '1104', 'I', '35.91', 'O', '42.77', 'Q', 'AA', '88', 'BA', 'NP', '48', 'DB', '156.1', 'NK', 'DG', '54321', 'DM', '71.81', 'NN', 'DO', 'NMEM'], ['B', '828', 'G', '35.91', 'M', '53.91', 'T', 'AA', '44', 'AF', 'NP', '64', 'DC', '111.12', 'NK', 'DF', '217284', 'DI', '71.81', 'DP', 'DO', 'NMEM'], ['A', '414', 'F', '35.91', 'L', '7.54', 'Q', 'AD', '88', 'BA', 'NP', '32', 'DC', '87.31', 'NK', 'DF', '54321', 'DM', '71.81', 'NN', 'DO', 'NMEM'], ['B', '253', 'E', '35.91', 'M', '8.81', 'S', 'AB', '88', 'BA', 'NP', '64', 'DC', '105.83', 'NK', 'DF', '108642', 'DM', '71.81', 'NN', 'DO', 'MEM'], ['B', '828', 'F', '35.91', 'J', '17.81', 'T', 'AB', '88', 'BA', 'CCA', '64', 'DB', '132.29', 'NK', 'DS', '54321', 'DM', '71.81', 'NN', 'DO', 'NMEM'], ['B', '414', 'E', '71.81', 'O', '23.93', 'Q', 'AD', '66', 'BF', 'NP', '48', 'DC', '105.83', 'NK', 'DF', '162963', 'DJ', '143.62', 'DP', 'DO', 'MEM'], ['C', '828', 'E', '35.91', 'O', '42.03', 'P', 'AA', '88', 'AF', 'NP', '64', 'CQ', '95.25', 'NK', 'DF', '108642', 'DM', '71.81', 'NN', 'DO', 'MEM'], ['A', '138', 'E', '71.81', 'M', '9.07', 'Q', 'AE', '44', 'AF', 'NP', '64', 'CQ', '105.83', 'NK', 'DF', '54321', 'DH', '143.62', 'NN', 'DT', 'MEM'], ['A', '690', 'F', '35.91', 'L', '20.72', 'Q', 'AE', '44', 'AG', 'NP', '64', 'DA', '82.02', 'NK', 'DF', '54321', 'DH', '71.81', 'NN', 'DO', 'NMEM'], ['A', '552', 'F', '35.91', 'M', '20.82', 'Q', 'AE', '88', 'BA', 'NP', '16', 'DA', '71.44', 'NK', 'DF', '54321', 'DM', '71.81', 'NN', 'DO', 'NMEM'], ['C', '345', 'E', '35.91', 'L', '10.13', 'P', 'AA', '88', 'AF', 'NP', '64', 'DA', '166.68', 'NK', 'DF', '54321', 'DM', '71.81', 'NN', 'DO', 'MEM'], ['B', '276', 'E', '35.91', 'M', '15.77', 'R', 'AC', '66', 'AG', 'NP', '48', 'DC', '95.25', 'NK', 'DF', '54321', 'DI', '71.81', 'DP', 'DO', 'MEM'], ['B', '276', 'F', '35.91', 'O', '6.91', 'T', 'AC', '66', 'AF', 'NP', '64', 'CQ', '103.18', 'NK', 'DF', '54321', 'DH', '71.81', 'NN', 'DO', 'MEM'], ['D', '690', 'E', '35.91', 'J', '20.11', 'Q', 'AA', '88', 'AF', 'NP', '64', 'DA', '124.35', 'NK', 'DF', '54321', 'DM', '71.81', 'NN', 'DO', 'MEM'], ['A', '276', 'F', '35.91', 'L', '52.43', 'Q', 'AA', '88', 'AF', 'NP', '64', 'DB', '140.22', 'NK', 'DS', '54321', 'DI', '71.81', 'DP', 'DO', 'NMEM'], ['C', '552', 'E', '35.91', 'J', '16.16', 'P', 'AA', '88', 'AF', 'NP', '64', 'DA', '140.22', 'NK', 'DF', '108642', 'DM', '71.81', 'NN', 'DO', 'MEM'], ['A', '1104', 'F', '35.91', 'O', '28.72', 'Q', 'AE', '66', 'BA', 'NP', '64', 'DA', '63.5', 'NK', 'DG', '54321', 'DM', '71.81', 'NN', 'DO', 'NMEM'], ['C', '1380', 'F', '71.81', 'M', '43.51', 'P', 'AB', '88', 'AF', 'NP', '64', 'DB', '89.96', 'NK', 'DS', '54321', 'DM', '143.62', 'DP', 'DO', 'MEM'], ['C', '414', 'G', '35.91', 'J', '15.47', 'Q', 'AD', '44', 'BF', 'NP', '48', 'CQ', '89.96', 'NK', 'DF', '108642', 'DM', '71.81', 'NN', 'DO', 'MEM'], ['C', '690', 'F', '35.91', 'J', '12.45', 'P', 'AA', '88', 'AF', 'NP', '64', 'DC', '153.45', 'NK', 'DF', '54321', 'DM', '71.81', 'DP', 'DO', 'MEM'], ['A', '460', 'E', '35.91', 'M', '14.9', 'Q', 'AB', '88', 'BF', 'GA', '32', 'DA', '87.31', 'DE', 'DG', '108642', 'DM', '71.81', 'NN', 'DT', 'NMEM'], ['B', '552', 'G', '35.91', 'O', '46.45', 'T', 'AC', '88', 'AF', 'NP', '64', 'DC', '95.25', 'NK', 'DG', '54321', 'DI', '71.81', 'DP', 'DO', 'MEM'], ['C', '207', 'E', '35.91', 'L', '16.04', 'Q', 'AD', '44', 'AF', 'NP', '48', 'DC', '82.02', 'NK', 'DF', '54321', 'DI', '71.81', 'NN', 'DO', 'MEM'], ['A', '276', 'E', '35.91', 'M', '14.14', 'Q', 'AB', '88', 'AF', 'NP', '32', 'DA', '79.37', 'NK', 'DF', '108642', 'DM', '71.81', 'NN', 'DO', 'MEM'], ['A', '276', 'F', '35.91', 'L', '12.39', 'Q', 'AE', '88', 'BA', 'NP', '16', 'DC', '58.21', 'NK', 'DG', '54321', 'DM', '71.81', 'NN', 'DO', 'MEM'], ['C', '138', 'F', '35.91', 'M', '23.45', 'Q', 'AB', '44', 'AF', 'GA', '48', 'DA', '68.79', 'NK', 'DG', '54321', 'DM', '71.81', 'NN', 'DO', 'MEM'], ['B', '138', 'G', '35.91', 'M', '8.06', 'Q', 'AD', '88', 'AF', 'NP', '64', 'DA', '124.35', 'NK', 'DF', '54321', 'DI', '71.81', 'DP', 'DO', 'NMEM'], ['A', '276', 'F', '35.91', 'J', '14.76', 'Q', 'AB', '88', 'AF', 'NP', '48', 'DA', '63.5', 'NK', 'DF', '54321', 'DH', '71.81', 'NN', 'DO', 'MEM'], ['B', '207', 'F', '35.91', 'K', '7.99', 'Q', 'AC', '88', 'BA', 'NP', '64', 'DA', '177.27', 'NK', 'DF', '108642', 'DI', '71.81', 'DP', 'DO', 'MEM'], ['C', '414', 'E', '35.91', 'J', '10.55', 'S', 'AA', '88', 'AF', 'NP', '64', 'DC', '121.7', 'NK', 'DF', '108642', 'DM', '71.81', 'NN', 'DO', 'MEM'], ['C', '414', 'F', '35.91', 'J', '7.51', 'P', 'AE', '88', 'BA', 'NP', '32', 'CQ', '55.56', 'NK', 'DG', '54321', 'DM', '71.81', 'DP', 'DO', 'MEM'], ['B', '345', 'F', '71.81', 'J', '5.35', 'Q', 'AA', '88', 'AF', 'NP', '48', 'DC', '97.89', 'NK', 'DF', '54321', 'DM', '143.62', 'NN', 'DO', 'NMEM'], ['C', '276', 'F', '71.81', 'J', '9.95', 'Q', 'AE', '88', 'BA', 'NP', '48', 'DC', '89.96', 'NK', 'DF', '54321', 'DM', '143.62', 'NN', 'DO', 'MEM'], ['A', '345', 'E', '35.91', 'L', '9.55', 'Q', 'AB', '88', 'BA', 'NP', '48', 'DA', '66.14', 'NK', 'DG', '108642', 'DM', '71.81', 'NN', 'DO', 'MEM'], ['C', '414', 'F', '35.91', 'J', '30.63', 'Q', 'AE', '66', 'AF', 'NP', '32', 'DC', '84.66', 'NK', 'DF', '54321', 'DM', '71.81', 'DP', 'DO', 'MEM'], ['B', '345', 'F', '35.91', 'J', '9.63', 'P', 'AE', '88', 'AF', 'NP', '16', 'DA', '60.85', 'NK', 'DF', '54321', 'DM', '71.81', 'NN', 'DO', 'MEM'], ['C', '276', 'F', '35.91', 'L', '7.49', 'R', 'AB', '88', 'BA', 'NP', '64', 'DC', '76.73', 'NK', 'DG', '54321', 'DH', '71.81', 'NN', 'DO', 'NMEM'], ['C', '138', 'F', '35.91', 'J', '3.45', 'Q', 'AB', '66', 'BA', 'NP', '16', 'CQ', '76.73', 'NK', 'DF', '54321', 'DM', '71.81', 'NN', 'DO', 'MEM'], ['B', '161', 'F', '35.91', 'J', '16.1', 'Q', 'AB', '66', 'AF', 'GA', '32', 'CQ', '89.96', 'NK', 'DF', '54321', 'DM', '71.81', 'NN', 'DO', 'MEM'], ['B', '414', 'F', '35.91', 'J', '5.77', 'Q', 'AB', '88', 'BF', 'GA', '32', 'CQ', '66.14', 'NK', 'DF', '54321', 'DH', '71.81', 'NN', 'DO', 'MEM'], ['B', '552', 'G', '35.91', 'J', '42.69', 'Q', 'AE', '22', 'AF', 'NP', '32', 'DC', '87.31', 'NK', 'DF', '54321', 'DM', '71.81', 'NN', 'DO', 'MEM'], ['C', '276', 'F', '35.91', 'J', '5.36', 'Q', 'AA', '88', 'AF', 'NP', '64', 'DC', '100.54', 'NK', 'DF', '54321', 'DM', '71.81', 'NN', 'DO', 'MEM'], ['A', '552', 'F', '35.91', 'L', '26.8', 'Q', 'AB', '44', 'AF', 'NP', '32', 'DC', '71.44', 'DD', 'DF', '54321', 'DM', '71.81', 'NN', 'DO', 'MEM'], ['B', '1035', 'F', '35.91', 'J', '20.21', 'T', 'AB', '88', 'AF', 'GA', '64', 'DA', '55.56', 'NK', 'DG', '54321', 'DM', '71.81', 'NN', 'DO', 'NMEM'], ['B', '138', 'G', '35.91', 'L', '7', 'Q', 'AD', '88', 'AF', 'NP', '16', 'DA', '92.6', 'DD', 'DF', '108642', 'DI', '71.81', 'DP', 'DO', 'MEM'], ['B', '138', 'I', '71.81', 'K', '2.89', 'S', 'AE', '88', 'BA', 'NP', '32', 'DA', '63.5', 'DE', 'DG', '54321', 'DM', '143.62', 'NN', 'DO', 'NMEM'], ['A', '276', 'F', '35.91', 'M', '6', 'P', 'AB', '88', 'BF', 'NP', '32', 'DC', '60.85', 'NK', 'DF', '54321', 'DM', '71.81', 'NN', 'DO', 'NMEM'], ['B', '1380', 'G', '35.91', 'J', '49.45', 'P', 'AB', '22', 'AF', 'NP', '16', 'CQ', '71.44', 'NK', 'DF', '54321', 'DH', '71.81', 'NN', 'DO', 'MEM'], ['A', '138', 'I', '35.91', 'K', '7.99', 'Q', 'AA', '88', 'BA', 'NP', '64', 'DB', '92.6', 'NK', 'DS', '54321', 'DM', '71.81', 'NN', 'DO', 'NMEM'], ['C', '92', 'E', '71.81', 'J', '10.02', 'Q', 'AC', '44', 'AF', 'NP', '16', 'CQ', '111.12', 'NK', 'DF', '108642', 'DH', '143.62', 'NN', 'DO', 'MEM'], ['A', '552', 'G', '71.81', 'M', '32.47', 'Q', 'AB', '66', 'AF', 'NP', '64', 'DB', '140.22', 'NK', 'DS', '108642', 'DM', '143.62', 'NN', 'DO', 'NMEM'], ['C', '345', 'F', '35.91', 'N', '20.19', 'Q', 'AC', '44', 'AF', 'NP', '32', 'DC', '87.31', 'NK', 'DF', '54321', 'DM', '71.81', 'NN', 'DO', 'MEM'], ['C', '253', 'E', '35.91', 'M', '9.29', 'Q', 'AE', '88', 'BA', 'NP', '64', 'DC', '92.6', 'NK', 'DF', '108642', 'DI', '71.81', 'NN', 'DO', 'MEM'], ['A', '552', 'F', '35.91', 'L', '22.3', 'Q', 'AA', '88', 'AF', 'NP', '32', 'DA', '103.18', 'NK', 'DG', '54321', 'DI', '71.81', 'DP', 'DO', 'NMEM'], ['B', '828', 'E', '35.91', 'M', '18.8', 'Q', 'AE', '88', 'AG', 'NP', '64', 'DC', '71.44', 'NK', 'DF', '108642', 'DM', '71.81', 'NN', 'DO', 'NMEM'], ['C', '552', 'E', '71.81', 'J', '19.15', 'T', 'AA', '66', 'AF', 'NP', '64', 'CQ', '95.25', 'NK', 'DF', '54321', 'DM', '143.62', 'DP', 'DO', 'MEM'], ['C', '138', 'F', '71.81', 'W', '8.25', 'P', 'AD', '88', 'AF', 'NP', '64', 'DA', '95.25', 'NK', 'DF', '54321', 'DI', '143.62', 'DP', 'DO', 'MEM'], ['C', '552', 'F', '35.91', 'J', '8.74', 'T', 'AC', '88', 'BF', 'NP', '48', 'DA', '68.79', 'NK', 'DF', '54321', 'DM', '71.81', 'DP', 'DO', 'MEM'], ['B', '207', 'E', '35.91', 'K', '10.01', 'Q', 'AA', '44', 'BA', 'NP', '48', 'DC', '89.96', 'NK', 'DF', '108642', 'DI', '71.81', 'DP', 'DO', 'NMEM'], ['C', '1104', 'G', '71.81', 'J', '48.25', 'P', 'AA', '66', 'AF', 'NP', '48', 'DC', '84.66', 'DE', 'DF', '108642', 'DM', '143.62', 'NN', 'DO', 'MEM'], ['B', '1380', 'F', '35.91', 'K', '41.92', 'Q', 'AB', '88', 'AF', 'NP', '64', 'DB', '111.12', 'NK', 'DS', '54321', 'DM', '71.81', 'NN', 'DO', 'NMEM'], ['D', '552', 'E', '71.81', 'M', '8.96', 'P', 'AC', '88', 'AF', 'NP', '32', 'CQ', '97.89', 'DE', 'DF', '108642', 'DH', '143.62', 'NN', 'DO', 'NMEM'], ['C', '138', 'F', '35.91', 'M', '4.48', 'Q', 'AD', '22', 'BA', 'NP', '64', 'CQ', '142.87', 'NK', 'DF', '54321', 'DJ', '71.81', 'DP', 'DO', 'MEM'], ['A', '828', 'F', '35.91', 'M', '61.81', 'Q', 'AC', '44', 'AF', 'NP', '16', 'DC', '63.5', 'NK', 'DF', '54321', 'DM', '71.81', 'DP', 'DO', 'NMEM'], ['B', '1104', 'G', '35.91', 'X', '50.55', 'T', 'AD', '44', 'AF', 'NP', '64', 'DB', '82.02', 'NK', 'DS', '54321', 'DI', '71.81', 'DP', 'DO', 'MEM'], ['A', '552', 'E', '35.91', 'M', '7.99', 'Q', 'AA', '88', 'AF', 'NP', '64', 'DC', '158.75', 'NK', 'DF', '108642', 'DH', '71.81', 'NN', 'DO', 'NMEM'], ['A', '552', 'G', '71.81', 'M', '8.89', 'Q', 'AD', '88', 'AF', 'NP', '32', 'CQ', '113.77', 'NK', 'DS', '108642', 'DM', '143.62', 'NN', 'DO', 'NMEM'], ['B', '690', 'I', '71.81', 'L', '23.31', 'S', 'AB', '88', 'AF', 'NP', '32', 'DC', '89.96', 'DD', 'DF', '54321', 'DM', '143.62', 'DP', 'DO', 'MEM'], ['B', '276', 'F', '35.91', 'M', '8.63', 'Q', 'AE', '66', 'BA', 'NP', '16', 'DC', '66.14', 'NK', 'DG', '54321', 'DM', '71.81', 'NN', 'DO', 'NMEM'], ['C', '161', 'E', '35.91', 'J', '4.87', 'P', 'AA', '88', 'AF', 'NP', '32', 'DA', '121.7', 'NK', 'DG', '108642', 'DH', '71.81', 'DP', 'DO', 'MEM'], ['A', '276', 'F', '71.81', 'M', '24.34', 'S', 'AB', '22', 'AF', 'NP', '48', 'DA', '82.02', 'NK', 'DF', '54321', 'DM', '143.62', 'NN', 'DO', 'MEM'], ['A', '552', 'F', '35.91', 'J', '12.92', 'Q', 'AE', '88', 'AG', 'NP', '48', 'DA', '84.66', 'NK', 'DF', '54321', 'DM', '71.81', 'NN', 'DO', 'NMEM'], ['A', '276', 'F', '35.91', 'L', '17.18', 'Q', 'AB', '44', 'AG', 'NP', '16', 'DC', '111.12', 'NK', 'DF', '54321', 'DM', '71.81', 'NN', 'DO', 'MEM'], ['A', '483', 'F', '35.91', 'M', '25.09', 'P', 'AC', '44', 'AF', 'CCA', '32', 'CQ', '63.5', 'NK', 'DF', '54321', 'DH', '71.81', 'NN', 'DT', 'MEM'], ['B', '276', 'F', '35.91', 'W', '5.03', 'P', 'AA', '88', 'AF', 'NP', '64', 'DA', '100.54', 'NK', 'DF', '108642', 'DM', '71.81', 'NN', 'DO', 'MEM'], ['A', '621', 'E', '71.81', 'O', '16.28', 'Q', 'AA', '88', 'AF', 'NP', '64', 'DC', '113.77', 'DD', 'DF', '217284', 'DI', '143.62', 'DP', 'DO', 'MEM'], ['C', '828', 'F', '35.91', 'N', '54.22', 'Q', 'AB', '22', 'BA', 'NP', '32', 'DA', '79.37', 'DE', 'DF', '54321', 'DM', '71.81', 'NN', 'DO', 'MEM'], ['B', '690', 'G', '35.91', 'O', '16.69', 'T', 'AA', '88', 'AF', 'NP', '32', 'DA', '108.48', 'DD', 'DF', '108642', 'DM', '71.81', 'NN', 'DO', 'MEM'], ['A', '276', 'F', '35.91', 'N', '22.57', 'Q', 'AA', '66', 'AF', 'NP', '64', 'DB', '92.6', 'NK', 'DS', '54321', 'DM', '71.81', 'DP', 'DO', 'NMEM'], ['A', '138', 'F', '35.91', 'M', '99.31', 'Q', 'AA', '22', 'AF', 'NP', '64', 'DB', '179.91', 'DE', 'DF', '54321', 'DI', '71.81', 'DP', 'DO', 'NMEM'], ['B', '207', 'F', '35.91', 'M', '10.33', 'P', 'AE', '88', 'AF', 'NP', '32', 'CQ', '92.6', 'NK', 'DF', '54321', 'DJ', '71.81', 'NN', 'DO', 'MEM'], ['C', '414', 'E', '35.91', 'K', '12.43', 'T', 'AB', '88', 'BA', 'NP', '32', 'CQ', '79.37', 'NK', 'DF', '108642', 'DM', '71.81', 'NN', 'DO', 'NMEM'], ['C', '276', 'E', '71.81', 'J', '5.31', 'P', 'AA', '88', 'BA', 'NP', '48', 'DA', '87.31', 'DE', 'DF', '54321', 'DH', '143.62', 'NN', 'DO', 'NMEM'], ['D', '552', 'E', '35.91', 'L', '24.11', 'P', 'AA', '88', 'AF', 'CCA', '64', 'DB', '52.92', 'NK', 'DG', '108642', 'DM', '71.81', 'NN', 'DO', 'MEM'], ['C', '276', 'E', '35.91', 'O', '7.9', 'Q', 'AB', '66', 'BA', 'NP', '32', 'CQ', '71.44', 'NK', 'DF', '108642', 'DM', '71.81', 'NN', 'DO', 'MEM'], ['A', '552', 'I', '35.91', 'L', '16.55', 'R', 'AB', '88', 'AF', 'NP', '64', 'CQ', '58.21', 'DD', 'DF', '54321', 'DM', '71.81', 'DP', 'DO', 'MEM'], ['C', '230', 'F', '35.91', 'M', '8.73', 'P', 'AB', '88', 'AF', 'GA', '64', 'DA', '71.44', 'NK', 'DF', '54321', 'DH', '71.81', 'NN', 'DO', 'NMEM'], ['B', '966', 'I', '35.91', 'N', '61.89', 'Q', 'AD', '22', 'AF', 'NP', '32', 'DB', '145.52', 'DE', 'DS', '54321', 'DI', '71.81', 'DP', 'DO', 'MEM'], ['C', '276', 'F', '35.91', 'O', '10.28', 'Q', 'AC', '44', 'AF', 'NP', '64', 'DC', '95.25', 'NK', 'DF', '54321', 'DM', '71.81', 'DP', 'DO', 'MEM'], ['B', '552', 'G', '35.91', 'J', '10.35', 'T', 'AC', '66', 'BA', 'NP', '32', 'DA', '60.85', 'NK', 'DG', '108642', 'DM', '71.81', 'DP', 'DO', 'MEM'], ['C', '1380', 'F', '35.91', 'M', '69.11', 'Q', 'AA', '44', 'AF', 'NP', '64', 'DA', '111.12', 'NK', 'DF', '54321', 'DI', '71.81', 'DP', 'DO', 'MEM'], ['C', '828', 'E', '35.91', 'J', '63.77', 'Q', 'AB', '44', 'BA', 'NP', '32', 'DC', '82.02', 'DD', 'DF', '108642', 'DM', '71.81', 'NN', 'DO', 'MEM'], ['A', '1104', 'F', '35.91', 'K', '49.84', 'Q', 'AC', '88', 'AF', 'NP', '16', 'DB', '132.29', 'NK', 'DS', '54321', 'DI', '71.81', 'DP', 'DO', 'MEM'], ['C', '276', 'F', '35.91', 'N', '31.17', 'P', 'AE', '22', 'BA', 'NP', '64', 'DC', '52.92', 'NK', 'DG', '54321', 'DM', '71.81', 'NN', 'DO', 'MEM'], ['C', '276', 'F', '71.81', 'K', '4.79', 'Q', 'AA', '88', 'AF', 'NP', '64', 'DC', '108.48', 'DE', 'DF', '54321', 'DH', '143.62', 'NN', 'DO', 'NMEM'], ['C', '276', 'E', '35.91', 'K', '13.41', 'P', 'AC', '88', 'BA', 'NP', '32', 'DC', '161.39', 'NK', 'DF', '54321', 'DM', '71.81', 'NN', 'DO', 'MEM'], ['C', '276', 'E', '35.91', 'K', '4.67', 'Q', 'AB', '88', 'AF', 'NP', '32', 'DC', '84.66', 'NK', 'DF', '108642', 'DM', '71.81', 'NN', 'DO', 'MEM'], ['C', '276', 'F', '35.91', 'M', '12.56', 'Q', 'AA', '88', 'AF', 'NP', '64', 'DC', '103.18', 'NK', 'DF', '54321', 'DI', '71.81', 'DP', 'DO', 'MEM'], ['C', '414', 'F', '35.91', 'J', '9.82', 'Q', 'AE', '66', 'BF', 'NP', '64', 'CQ', '103.18', 'NK', 'DF', '54321', 'DM', '71.81', 'DP', 'DO', 'MEM'], ['A', '276', 'F', '35.91', 'M', '7.79', 'Q', 'AB', '88', 'BF', 'NP', '48', 'CQ', '71.44', 'NK', 'DF', '54321', 'DH', '71.81', 'NN', 'DO', 'MEM'], ['A', '138', 'F', '35.91', 'L', '9.16', 'Q', 'AB', '22', 'AF', 'NP', '32', 'CQ', '95.25', 'DE', 'DF', '54321', 'DH', '71.81', 'DP', 'DO', 'MEM'], ['C', '414', 'E', '35.91', 'J', '16.03', 'Q', 'AB', '44', 'BA', 'NP', '32', 'DC', '68.79', 'NK', 'DF', '108642', 'DM', '71.81', 'NN', 'DO', 'MEM'], ['D', '414', 'F', '35.91', 'L', '20.33', 'Q', 'AE', '22', 'BA', 'NP', '16', 'DA', '119.06', 'DD', 'DF', '54321', 'DH', '71.81', 'NN', 'DO', 'MEM'], ['B', '414', 'E', '35.91', 'M', '7.04', 'Q', 'AA', '66', 'AF', 'GA', '48', 'CQ', '79.37', 'DE', 'DF', '108642', 'DM', '71.81', 'NN', 'DO', 'NMEM'], ['C', '138', 'F', '35.91', 'L', '30.74', 'Q', 'AE', '22', 'BA', 'NP', '64', 'DA', '84.66', 'NK', 'DF', '54321', 'DM', '71.81', 'NN', 'DO', 'NMEM'], ['C', '230', 'F', '71.81', 'N', '18.99', 'T', 'AB', '22', 'AF', 'CCA', '32', 'CQ', '84.66', 'NK', 'DF', '54321', 'DM', '143.62', 'NN', 'DO', 'MEM'], ['C', '552', 'E', '35.91', 'L', '10.57', 'Q', 'AC', '88', 'AF', 'NP', '48', 'DA', '105.83', 'NK', 'DF', '108642', 'DM', '71.81', 'NN', 'DO', 'MEM'], ['B', '276', 'E', '35.91', 'N', '12.4', 'Q', 'AD', '88', 'AF', 'NP', '32', 'DC', '89.96', 'NK', 'DF', '108642', 'DI', '71.81', 'DP', 'DO', 'MEM'], ['B', '414', 'F', '35.91', 'L', '20.01', 'Q', 'AC', '44', 'BA', 'NP', '64', 'CQ', '105.83', 'NK', 'DG', '54321', 'DM', '71.81', 'NN', 'DO', 'MEM'], ['C', '345', 'F', '35.91', 'J', '13.19', 'P', 'AA', '88', 'AF', 'NP', '32', 'DC', '92.6', 'NK', 'DF', '54321', 'DM', '71.81', 'NN', 'DO', 'MEM'], ['B', '276', 'F', '35.91', 'L', '20.11', 'Q', 'AE', '66', 'BA', 'NP', '16', 'CQ', '89.96', 'NK', 'DG', '54321', 'DI', '71.81', 'NN', 'DO', 'MEM'], ['A', '207', 'E', '35.91', 'J', '7.59', 'Q', 'AB', '88', 'AF', 'NP', '64', 'CQ', '66.14', 'NK', 'DF', '108642', 'DH', '71.81', 'NN', 'DO', 'MEM'], ['A', '414', 'F', '71.81', 'M', '14.99', 'T', 'AC', '88', 'AF', 'NP', '48', 'DC', '79.37', 'NK', 'DF', '54321', 'DI', '143.62', 'DP', 'DO', 'MEM'], ['A', '276', 'F', '35.91', 'W', '6.01', 'Q', 'AC', '88', 'BF', 'NP', '64', 'DA', '55.56', 'NK', 'DG', '54321', 'DM', '71.81', 'NN', 'DO', 'NMEM'], ['C', '138', 'F', '35.91', 'L', '10.29', 'S', 'AB', '88', 'AG', 'NP', '32', 'CQ', '87.31', 'NK', 'DF', '54321', 'DM', '71.81', 'NN', 'DO', 'MEM'], ['B', '483', 'G', '35.91', 'M', '15.69', 'Q', 'AB', '22', 'AG', 'NP', '64', 'DA', '124.35', 'NK', 'DF', '108642', 'DM', '71.81', 'NN', 'DO', 'MEM'], ['B', '1104', 'F', '71.81', 'J', '26.53', 'P', 'AC', '88', 'AF', 'NP', '16', 'DC', '108.48', 'NK', 'DF', '108642', 'DM', '143.62', 'DP', 'DO', 'MEM'], ['A', '552', 'F', '35.91', 'J', '15.89', 'Q', 'AA', '88', 'AF', 'NP', '64', 'CQ', '169.33', 'DE', 'DG', '54321', 'DH', '71.81', 'NN', 'DO', 'MEM'], ['D', '828', 'F', '35.91', 'J', '29.82', 'Q', 'AA', '88', 'AF', 'NP', '32', 'DC', '82.02', 'NK', 'DF', '54321', 'DM', '71.81', 'NN', 'DO', 'MEM'], ['B', '414', 'E', '35.91', 'J', '8.3', 'Q', 'AB', '88', 'BF', 'NP', '32', 'DC', '87.31', 'NK', 'DF', '54321', 'DM', '71.81', 'NN', 'DO', 'NMEM'], ['D', '276', 'E', '35.91', 'M', '9.87', 'R', 'AD', '44', 'AF', 'NP', '64', 'DB', '174.62', 'DE', 'DS', '162963', 'DJ', '71.81', 'NN', 'DO', 'MEM'], ['B', '414', 'G', '35.91', 'L', '28.65', 'Q', 'AA', '88', 'AG', 'NP', '48', 'DB', '105.83', 'NK', 'DF', '54321', 'DI', '71.81', 'DP', 'DO', 'NMEM'], ['C', '207', 'F', '71.81', 'J', '17.98', 'Q', 'AB', '22', 'AF', 'NP', '32', 'CQ', '84.66', 'NK', 'DF', '54321', 'DM', '143.62', 'NN', 'DO', 'MEM'], ['A', '552', 'F', '35.91', 'N', '18.75', 'P', 'AA', '44', 'BA', 'NP', '64', 'CQ', '68.79', 'NK', 'DG', '54321', 'DM', '71.81', 'NN', 'DO', 'MEM'], ['C', '552', 'E', '35.91', 'V', '36.71', 'Q', 'AA', '66', 'AF', 'NP', '64', 'DB', '116.41', 'NK', 'DS', '108642', 'DM', '71.81', 'NN', 'DO', 'MEM'], ['C', '414', 'E', '35.91', 'M', '7.03', 'Q', 'AE', '88', 'BA', 'NP', '16', 'DA', '79.37', 'NK', 'DF', '108642', 'DM', '71.81', 'NN', 'DO', 'MEM'], ['A', '276', 'F', '35.91', 'J', '4.67', 'Q', 'AB', '88', 'BF', 'NP', '32', 'CQ', '105.83', 'NK', 'DF', '54321', 'DH', '71.81', 'NN', 'DO', 'MEM'], ['C', '276', 'F', '35.91', 'J', '14.27', 'T', 'AC', '66', 'AF', 'NP', '16', 'DB', '92.6', 'NK', 'DF', '54321', 'DM', '71.81', 'NN', 'DO', 'MEM'], ['A', '644', 'F', '35.91', 'M', '26.71', 'Q', 'AB', '66', 'AF', 'NP', '32', 'DC', '119.06', 'NK', 'DF', '54321', 'DH', '71.81', 'NN', 'DO', 'NMEM'], ['B', '414', 'F', '35.91', 'O', '17.48', 'T', 'AB', '88', 'AF', 'NP', '64', 'DC', '89.96', 'NK', 'DF', '54321', 'DM', '71.81', 'NN', 'DO', 'MEM'], ['C', '552', 'F', '35.91', 'N', '17.8', 'Q', 'AA', '88', 'AF', 'NP', '64', 'DC', '92.6', 'NK', 'DF', '54321', 'DI', '71.81', 'DP', 'DO', 'MEM'], ['C', '207', 'F', '35.91', 'J', '9.85', 'Q', 'AC', '88', 'AF', 'NP', '32', 'DC', '58.21', 'NK', 'DF', '54321', 'DM', '71.81', 'NN', 'DO', 'NMEM'], ['C', '483', 'G', '35.91', 'L', '10.61', 'T', 'AC', '88', 'AF', 'NP', '48', 'CQ', '89.96', 'NK', 'DF', '108642', 'DI', '71.81', 'NN', 'DO', 'MEM'], ['A', '276', 'G', '71.81', 'M', '8.96', 'Q', 'AB', '88', 'AF', 'NP', '32', 'CQ', '113.77', 'NK', 'DF', '108642', 'DH', '143.62', 'NN', 'DO', 'MEM'], ['B', '414', 'F', '35.91', 'M', '41.73', 'Q', 'AC', '66', 'AF', 'NP', '48', 'CQ', '74.08', 'NK', 'DG', '54321', 'DH', '71.81', 'NN', 'DO', 'MEM'], ['A', '345', 'F', '35.91', 'M', '11.47', 'Q', 'AE', '44', 'AF', 'NP', '48', 'CQ', '95.25', 'NK', 'DF', '54321', 'DM', '71.81', 'NN', 'DO', 'MEM'], ['A', '138', 'E', '35.91', 'L', '22.56', 'Q', 'AB', '22', 'AG', 'NP', '64', 'CQ', '116.41', 'NK', 'DG', '54321', 'DI', '71.81', 'DP', 'DO', 'NMEM'], ['C', '207', 'F', '71.81', 'M', '23.85', 'T', 'AB', '22', 'AF', 'GA', '32', 'CQ', '68.79', 'NK', 'DG', '54321', 'DM', '143.62', 'NN', 'DT', 'MEM'], ['B', '276', 'E', '35.91', 'M', '13.3', 'T', 'AE', '88', 'AF', 'NP', '16', 'DC', '71.44', 'NK', 'DF', '54321', 'DM', '71.81', 'NN', 'DO', 'MEM'], ['D', '552', 'F', '35.91', 'L', '12.83', 'Q', 'AB', '44', 'AF', 'NP', '32', 'CQ', '68.79', 'NK', 'DF', '54321', 'DM', '71.81', 'NN', 'DO', 'MEM'], ['C', '345', 'F', '35.91', 'L', '18.05', 'Q', 'AE', '44', 'AF', 'NP', '48', 'DA', '71.44', 'DE', 'DF', '108642', 'DH', '71.81', 'NN', 'DO', 'MEM'], ['D', '828', 'F', '35.91', 'J', '38.99', 'Q', 'AB', '88', 'AF', 'NP', '16', 'DC', '63.5', 'NK', 'DF', '54321', 'DM', '71.81', 'NN', 'DO', 'MEM'], ['C', '483', 'G', '71.81', 'O', '17.2', 'R', 'AE', '88', 'AF', 'NP', '32', 'CQ', '108.48', 'DE', 'DF', '54321', 'DH', '143.62', 'NN', 'DO', 'NMEM'], ['D', '552', 'F', '35.91', 'L', '19.28', 'Q', 'AA', '66', 'AG', 'NP', '64', 'DB', '134.93', 'NK', 'DS', '54321', 'DM', '71.81', 'NN', 'DO', 'MEM'], ['D', '230', 'F', '71.81', 'M', '26.33', 'Q', 'AE', '22', 'AF', 'GA', '16', 'DA', '97.89', 'NK', 'DF', '54321', 'DH', '143.62', 'NN', 'DO', 'MEM'], ['C', '138', 'E', '35.91', 'M', '1.67', 'S', 'AB', '44', 'BA', 'NP', '32', 'CQ', '108.48', 'DE', 'DF', '108642', 'DH', '71.81', 'NN', 'DO', 'MEM'], ['C', '138', 'F', '35.91', 'J', '14.05', 'Q', 'AC', '44', 'BF', 'NP', '32', 'CQ', '76.73', 'NK', 'DG', '54321', 'DM', '71.81', 'NN', 'DO', 'MEM'], ['C', '759', 'G', '35.91', 'O', '18.43', 'Q', 'AB', '44', 'BA', 'NP', '32', 'DC', '68.79', 'NK', 'DF', '108642', 'DM', '71.81', 'DP', 'DO', 'MEM'], ['C', '828', 'G', '35.91', 'O', '53.2', 'P', 'AE', '88', 'AF', 'NP', '64', 'DC', '71.44', 'NK', 'DG', '108642', 'DM', '71.81', 'DP', 'DO', 'NMEM'], ['B', '414', 'G', '71.81', 'V', '41.36', 'Q', 'AB', '44', 'AF', 'NP', '64', 'CQ', '116.41', 'NK', 'DF', '54321', 'DH', '143.62', 'DP', 'DO', 'MEM'], ['B', '552', 'F', '35.91', 'X', '75.52', 'Q', 'AB', '44', 'AF', 'CCA', '48', 'DC', '76.73', 'DE', 'DF', '108642', 'DI', '71.81', 'DP', 'DO', 'NMEM'], ['A', '552', 'E', '35.91', 'N', '44.1', 'Q', 'AD', '44', 'AF', 'NP', '64', 'DB', '198.43', 'NK', 'DS', '108642', 'DI', '71.81', 'DP', 'DO', 'MEM'], ['B', '276', 'E', '35.91', 'U', '9.49', 'Q', 'AC', '88', 'AF', 'NP', '48', 'DA', '68.79', 'NK', 'DF', '54321', 'DM', '71.81', 'NN', 'DO', 'MEM'], ['B', '552', 'F', '35.91', 'M', '9.03', 'Q', 'AE', '66', 'BA', 'NP', '64', 'DC', '66.14', 'NK', 'DF', '54321', 'DH', '71.81', 'DP', 'DO', 'NMEM'], ['C', '690', 'E', '71.81', 'J', '20.51', 'P', 'AA', '66', 'AF', 'NP', '32', 'DC', '105.83', 'NK', 'DF', '108642', 'DM', '143.62', 'DP', 'DO', 'MEM'], ['A', '276', 'F', '35.91', 'J', '4.49', 'T', 'AC', '88', 'BF', 'NP', '16', 'DA', '52.92', 'NK', 'DF', '54321', 'DM', '71.81', 'NN', 'DO', 'NMEM'], ['A', '1035', 'H', '35.91', 'O', '78.77', 'Q', 'AA', '44', 'AF', 'NP', '64', 'DC', '76.73', 'NK', 'DG', '108642', 'DM', '71.81', 'NN', 'DO', 'NMEM'], ['C', '828', 'F', '35.91', 'J', '25.57', 'P', 'AA', '44', 'BA', 'NP', '64', 'CQ', '119.06', 'NK', 'DF', '54321', 'DH', '71.81', 'DP', 'DO', 'MEM'], ['C', '552', 'F', '35.91', 'J', '9.17', 'R', 'AC', '88', 'BA', 'NP', '16', 'DC', '74.08', 'NK', 'DF', '54321', 'DM', '71.81', 'NN', 'DO', 'MEM'], ['A', '345', 'F', '35.91', 'L', '12.3', 'Q', 'AE', '88', 'BA', 'GA', '16', 'DA', '121.7', 'NK', 'DG', '54321', 'DM', '71.81', 'NN', 'DO', 'MEM'], ['C', '207', 'F', '35.91', 'L', '8.75', 'Q', 'AA', '22', 'AF', 'NP', '64', 'DC', '52.92', 'NK', 'DF', '54321', 'DM', '71.81', 'NN', 'DO', 'MEM'], ['C', '552', 'F', '35.91', 'J', '39.62', 'P', 'AE', '22', 'BA', 'NP', '16', 'DC', '116.41', 'NK', 'DF', '108642', 'DM', '71.81', 'DP', 'DO', 'NMEM'], ['C', '138', 'F', '35.91', 'N', '8.24', 'R', 'AB', '44', 'AF', 'NP', '64', 'DA', '132.29', 'NK', 'DG', '54321', 'DM', '71.81', 'NN', 'DO', 'MEM'], ['C', '414', 'E', '35.91', 'L', '25.2', 'Q', 'AE', '66', 'AG', 'NP', '32', 'DC', '92.6', 'NK', 'DF', '108642', 'DI', '71.81', 'DP', 'DO', 'MEM'], ['C', '230', 'E', '71.81', 'M', '8.21', 'Q', 'AA', '66', 'AF', 'NP', '64', 'CQ', '84.66', 'NK', 'DF', '108642', 'DH', '143.62', 'NN', 'DT', 'MEM'], ['A', '184', 'E', '35.91', 'M', '22.65', 'Q', 'AC', '22', 'AF', 'NP', '64', 'CQ', '103.18', 'NK', 'DF', '108642', 'DH', '71.81', 'NN', 'DT', 'MEM'], ['B', '1104', 'E', '35.91', 'L', '33.97', 'Q', 'AB', '44', 'BA', 'NP', '48', 'DC', '79.37', 'NK', 'DF', '54321', 'DI', '71.81', 'DP', 'DO', 'NMEM'], ['D', '230', 'F', '71.81', 'M', '8.27', 'T', 'AA', '22', 'BA', 'NP', '64', 'DB', '127', 'NK', 'DS', '54321', 'DH', '143.62', 'NN', 'DO', 'NMEM'], ['C', '483', 'H', '35.91', 'M', '33.35', 'P', 'AB', '22', 'BA', 'NP', '64', 'DA', '76.73', 'DE', 'DF', '108642', 'DM', '71.81', 'DP', 'DO', 'NMEM'], ['C', '345', 'G', '35.91', 'N', '23.96', 'Q', 'AE', '22', 'BA', 'NP', '32', 'DA', '121.7', 'NK', 'DF', '108642', 'DH', '71.81', 'NN', 'DO', 'MEM'], ['B', '966', 'E', '35.91', 'O', '39.69', 'Q', 'AC', '44', 'BA', 'NP', '16', 'CQ', '108.48', 'DE', 'DF', '108642', 'DH', '71.81', 'NN', 'DO', 'MEM'], ['A', '230', 'E', '35.91', 'M', '6.92', 'Q', 'AC', '88', 'AF', 'CCA', '48', 'DA', '129.64', 'NK', 'DF', '108642', 'DM', '71.81', 'DP', 'DO', 'MEM'], ['B', '276', 'F', '35.91', 'M', '5.57', 'T', 'AE', '88', 'BA', 'NP', '32', 'DA', '60.85', 'DE', 'DF', '54321', 'DH', '71.81', 'NN', 'DO', 'NMEM'], ['A', '920', 'E', '35.91', 'K', '39.99', 'Q', 'AB', '88', 'AF', 'NP', '48', 'DB', '71.44', 'DE', 'DF', '54321', 'DM', '71.81', 'DP', 'DO', 'NMEM'], ['C', '207', 'E', '35.91', 'M', '8.16', 'Q', 'AB', '66', 'AF', 'NP', '16', 'CQ', '79.37', 'NK', 'DF', '108642', 'DM', '71.81', 'NN', 'DO', 'MEM'], ['A', '828', 'F', '35.91', 'J', '15.35', 'Q', 'AB', '88', 'AG', 'NP', '64', 'DC', '82.02', 'NK', 'DG', '54321', 'DM', '71.81', 'NN', 'DO', 'NMEM'], ['C', '207', 'F', '35.91', 'L', '15.34', 'T', 'AE', '44', 'BA', 'NP', '64', 'DA', '58.21', 'NK', 'DG', '54321', 'DM', '71.81', 'NN', 'DO', 'MEM'], ['C', '276', 'E', '35.91', 'L', '9.35', 'R', 'AC', '66', 'BA', 'NP', '64', 'DC', '97.89', 'NK', 'DG', '54321', 'DM', '71.81', 'DP', 'DO', 'MEM'], ['C', '115', 'F', '35.91', 'O', '22.99', 'Q', 'AC', '22', 'AF', 'NP', '64', 'CQ', '195.79', 'NK', 'DF', '54321', 'DH', '71.81', 'NN', 'DO', 'MEM'], ['A', '138', 'F', '35.91', 'N', '9.01', 'R', 'AD', '22', 'BA', 'NP', '32', 'DA', '60.85', 'NK', 'DG', '54321', 'DJ', '71.81', 'DP', 'DO', 'MEM'], ['C', '552', 'F', '35.91', 'N', '36.22', 'P', 'AD', '44', 'BA', 'NP', '64', 'DA', '68.79', 'NK', 'DG', '54321', 'DI', '71.81', 'DP', 'DO', 'MEM'], ['A', '828', 'E', '35.91', 'K', '53.77', 'Q', 'AB', '66', 'BA', 'NP', '32', 'DB', '66.14', 'NK', 'DF', '108642', 'DI', '71.81', 'DP', 'DO', 'NMEM'], ['C', '552', 'F', '35.91', 'M', '9.83', 'T', 'AE', '88', 'BF', 'NP', '48', 'CQ', '87.31', 'NK', 'DF', '54321', 'DM', '71.81', 'DP', 'DO', 'MEM'], ['C', '276', 'E', '35.91', 'J', '4.78', 'Q', 'AA', '88', 'AF', 'NP', '64', 'CQ', '137.58', 'NK', 'DF', '162963', 'DM', '71.81', 'NN', 'DO', 'MEM'], ['A', '276', 'F', '71.81', 'L', '23.93', 'Q', 'AB', '44', 'AF', 'CCA', '32', 'DA', '76.73', 'NK', 'DF', '54321', 'DH', '143.62', 'NN', 'DO', 'MEM'], ['C', '414', 'E', '35.91', 'J', '7.66', 'S', 'AB', '88', 'AF', 'NP', '48', 'CQ', '121.7', 'NK', 'DF', '108642', 'DM', '71.81', 'NN', 'DO', 'MEM']]\n"
     ]
    }
   ],
   "source": [
    "# Read data\n",
    "\n",
    "# data = np.loadtxt(\"C:\\\\Users\\\\Varma\\\\ML Challenge\\\\data\\\\ml1data.train.txt\")\n",
    "##with open('C:\\\\Users\\\\Varma\\\\ML Challenge\\\\data\\\\ml1data.train.txt', 'r') as f:\n",
    "with open(input_path,'r') as f:\n",
    "        data = [i.split(\",\") for i in f.read().split()]\n",
    "        print(data)\n",
    "        "
   ]
  },
  {
   "cell_type": "code",
   "execution_count": 3,
   "metadata": {},
   "outputs": [
    {
     "data": {
      "text/plain": [
       "array([[  nan,  138.,   nan, ...,   nan,   nan,   nan],\n",
       "       [  nan,  966.,   nan, ...,   nan,   nan,   nan],\n",
       "       [  nan,  345.,   nan, ...,   nan,   nan,   nan],\n",
       "       ..., \n",
       "       [  nan,  276.,   nan, ...,   nan,   nan,   nan],\n",
       "       [  nan,  276.,   nan, ...,   nan,   nan,   nan],\n",
       "       [  nan,  414.,   nan, ...,   nan,   nan,   nan]])"
      ]
     },
     "execution_count": 3,
     "metadata": {},
     "output_type": "execute_result"
    }
   ],
   "source": [
    "np.genfromtxt('C:\\\\Users\\\\Varma\\\\ML Challenge\\\\data\\\\ml1data.train.txt', delimiter=',')"
   ]
  },
  {
   "cell_type": "code",
   "execution_count": 9,
   "metadata": {},
   "outputs": [
    {
     "name": "stdout",
     "output_type": "stream",
     "text": [
      "Help on list object:\n",
      "\n",
      "class list(object)\n",
      " |  list() -> new empty list\n",
      " |  list(iterable) -> new list initialized from iterable's items\n",
      " |  \n",
      " |  Methods defined here:\n",
      " |  \n",
      " |  __add__(self, value, /)\n",
      " |      Return self+value.\n",
      " |  \n",
      " |  __contains__(self, key, /)\n",
      " |      Return key in self.\n",
      " |  \n",
      " |  __delitem__(self, key, /)\n",
      " |      Delete self[key].\n",
      " |  \n",
      " |  __eq__(self, value, /)\n",
      " |      Return self==value.\n",
      " |  \n",
      " |  __ge__(self, value, /)\n",
      " |      Return self>=value.\n",
      " |  \n",
      " |  __getattribute__(self, name, /)\n",
      " |      Return getattr(self, name).\n",
      " |  \n",
      " |  __getitem__(...)\n",
      " |      x.__getitem__(y) <==> x[y]\n",
      " |  \n",
      " |  __gt__(self, value, /)\n",
      " |      Return self>value.\n",
      " |  \n",
      " |  __iadd__(self, value, /)\n",
      " |      Implement self+=value.\n",
      " |  \n",
      " |  __imul__(self, value, /)\n",
      " |      Implement self*=value.\n",
      " |  \n",
      " |  __init__(self, /, *args, **kwargs)\n",
      " |      Initialize self.  See help(type(self)) for accurate signature.\n",
      " |  \n",
      " |  __iter__(self, /)\n",
      " |      Implement iter(self).\n",
      " |  \n",
      " |  __le__(self, value, /)\n",
      " |      Return self<=value.\n",
      " |  \n",
      " |  __len__(self, /)\n",
      " |      Return len(self).\n",
      " |  \n",
      " |  __lt__(self, value, /)\n",
      " |      Return self<value.\n",
      " |  \n",
      " |  __mul__(self, value, /)\n",
      " |      Return self*value.n\n",
      " |  \n",
      " |  __ne__(self, value, /)\n",
      " |      Return self!=value.\n",
      " |  \n",
      " |  __new__(*args, **kwargs) from builtins.type\n",
      " |      Create and return a new object.  See help(type) for accurate signature.\n",
      " |  \n",
      " |  __repr__(self, /)\n",
      " |      Return repr(self).\n",
      " |  \n",
      " |  __reversed__(...)\n",
      " |      L.__reversed__() -- return a reverse iterator over the list\n",
      " |  \n",
      " |  __rmul__(self, value, /)\n",
      " |      Return self*value.\n",
      " |  \n",
      " |  __setitem__(self, key, value, /)\n",
      " |      Set self[key] to value.\n",
      " |  \n",
      " |  __sizeof__(...)\n",
      " |      L.__sizeof__() -- size of L in memory, in bytes\n",
      " |  \n",
      " |  append(...)\n",
      " |      L.append(object) -> None -- append object to end\n",
      " |  \n",
      " |  clear(...)\n",
      " |      L.clear() -> None -- remove all items from L\n",
      " |  \n",
      " |  copy(...)\n",
      " |      L.copy() -> list -- a shallow copy of L\n",
      " |  \n",
      " |  count(...)\n",
      " |      L.count(value) -> integer -- return number of occurrences of value\n",
      " |  \n",
      " |  extend(...)\n",
      " |      L.extend(iterable) -> None -- extend list by appending elements from the iterable\n",
      " |  \n",
      " |  index(...)\n",
      " |      L.index(value, [start, [stop]]) -> integer -- return first index of value.\n",
      " |      Raises ValueError if the value is not present.\n",
      " |  \n",
      " |  insert(...)\n",
      " |      L.insert(index, object) -- insert object before index\n",
      " |  \n",
      " |  pop(...)\n",
      " |      L.pop([index]) -> item -- remove and return item at index (default last).\n",
      " |      Raises IndexError if list is empty or index is out of range.\n",
      " |  \n",
      " |  remove(...)\n",
      " |      L.remove(value) -> None -- remove first occurrence of value.\n",
      " |      Raises ValueError if the value is not present.\n",
      " |  \n",
      " |  reverse(...)\n",
      " |      L.reverse() -- reverse *IN PLACE*\n",
      " |  \n",
      " |  sort(...)\n",
      " |      L.sort(key=None, reverse=False) -> None -- stable sort *IN PLACE*\n",
      " |  \n",
      " |  ----------------------------------------------------------------------\n",
      " |  Data and other attributes defined here:\n",
      " |  \n",
      " |  __hash__ = None\n",
      "\n"
     ]
    }
   ],
   "source": [
    "help(data)"
   ]
  },
  {
   "cell_type": "code",
   "execution_count": 43,
   "metadata": {},
   "outputs": [],
   "source": [
    "labels = []\n",
    "for i in range(503):\n",
    "    labels.append(data[i][21])"
   ]
  },
  {
   "cell_type": "code",
   "execution_count": 46,
   "metadata": {},
   "outputs": [
    {
     "name": "stdout",
     "output_type": "stream",
     "text": [
      "503\n"
     ]
    }
   ],
   "source": [
    "print(len(labels))"
   ]
  },
  {
   "cell_type": "code",
   "execution_count": 55,
   "metadata": {
    "collapsed": true
   },
   "outputs": [],
   "source": [
    "x_data = []\n",
    "for i in range(503):\n",
    "    for j in range(21):\n",
    "        x_data.append(data[i][j])"
   ]
  },
  {
   "cell_type": "code",
   "execution_count": 61,
   "metadata": {},
   "outputs": [],
   "source": [
    "input_data = np.array(x_data).reshape(503,21)"
   ]
  },
  {
   "cell_type": "code",
   "execution_count": 72,
   "metadata": {},
   "outputs": [
    {
     "name": "stdout",
     "output_type": "stream",
     "text": [
      "['A' '138' 'E' '35.91' 'J' '7.79' 'P' 'AA' '88' 'AF' 'NP' '64' 'CQ'\n",
      " '177.27' 'NK' 'DF' '108642' 'DM' '71.81' 'DP' 'DO']\n"
     ]
    }
   ],
   "source": [
    "print(input_data[0])"
   ]
  },
  {
   "cell_type": "code",
   "execution_count": 69,
   "metadata": {},
   "outputs": [],
   "source": [
    "import matplotlib.pyplot as plot"
   ]
  },
  {
   "cell_type": "code",
   "execution_count": 70,
   "metadata": {},
   "outputs": [
    {
     "data": {
      "text/plain": [
       "[<matplotlib.lines.Line2D at 0x7f36afae6da0>,\n",
       " <matplotlib.lines.Line2D at 0x7f36afa9c278>,\n",
       " <matplotlib.lines.Line2D at 0x7f36afa9c3c8>,\n",
       " <matplotlib.lines.Line2D at 0x7f36afa9c518>,\n",
       " <matplotlib.lines.Line2D at 0x7f36afa9c668>,\n",
       " <matplotlib.lines.Line2D at 0x7f36afa9c7b8>,\n",
       " <matplotlib.lines.Line2D at 0x7f36afa9c908>,\n",
       " <matplotlib.lines.Line2D at 0x7f36afa9ca58>,\n",
       " <matplotlib.lines.Line2D at 0x7f36afa9cba8>,\n",
       " <matplotlib.lines.Line2D at 0x7f36afa9ccf8>,\n",
       " <matplotlib.lines.Line2D at 0x7f36afaf2358>,\n",
       " <matplotlib.lines.Line2D at 0x7f36afa9cf60>,\n",
       " <matplotlib.lines.Line2D at 0x7f36afab70f0>,\n",
       " <matplotlib.lines.Line2D at 0x7f36afab7240>,\n",
       " <matplotlib.lines.Line2D at 0x7f36afab7390>,\n",
       " <matplotlib.lines.Line2D at 0x7f36afab74e0>,\n",
       " <matplotlib.lines.Line2D at 0x7f36afab7630>,\n",
       " <matplotlib.lines.Line2D at 0x7f36afab7780>,\n",
       " <matplotlib.lines.Line2D at 0x7f36afab78d0>,\n",
       " <matplotlib.lines.Line2D at 0x7f36afab7a20>,\n",
       " <matplotlib.lines.Line2D at 0x7f36afab7b70>]"
      ]
     },
     "execution_count": 70,
     "metadata": {},
     "output_type": "execute_result"
    }
   ],
   "source": [
    "plot.plot(input_data)"
   ]
  },
  {
   "cell_type": "code",
   "execution_count": 71,
   "metadata": {},
   "outputs": [
    {
     "data": {
      "image/png": "[encoded data removed]",
      "text/plain": [
       "<matplotlib.figure.Figure at 0x7f36b7b4fdd8>"
      ]
     },
     "metadata": {},
     "output_type": "display_data"
    }
   ],
   "source": [
    "plot.show()"
   ]
  },
  {
   "cell_type": "code",
   "execution_count": null,
   "metadata": {
    "collapsed": true
   },
   "outputs": [],
   "source": []
  }
 ],
 "metadata": {
  "kernelspec": {
   "display_name": "Python 3",
   "language": "python",
   "name": "python3"
  },
  "language_info": {
   "codemirror_mode": {
    "name": "ipython",
    "version": 3
   },
   "file_extension": ".py",
   "mimetype": "text/x-python",
   "name": "python",
   "nbconvert_exporter": "python",
   "pygments_lexer": "ipython3",
   "version": "3.6.3"
  }
 },
 "nbformat": 4,
 "nbformat_minor": 2
}
