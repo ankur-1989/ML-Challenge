{
 "cells": [
  {
   "cell_type": "markdown",
   "metadata": {},
   "source": [
    "                                    Welcome to Machine Learning Challenge!"
   ]
  },
  {
   "cell_type": "code",
   "execution_count": 4,
   "metadata": {
    "collapsed": true
   },
   "outputs": [],
   "source": [
    "import numpy as np"
   ]
  },
  {
   "cell_type": "code",
<<<<<<< HEAD
   "execution_count": 75,
   "metadata": {
    "collapsed": true
   },
   "outputs": [],
   "source": [
    "import pdb"
   ]
  },
  {
   "cell_type": "code",
   "execution_count": 108,
   "metadata": {
    "collapsed": true
   },
   "outputs": [],
   "source": [
    "input_path = \"/home/ankur/MachineLearning/challenge/ml-Challenge/data/ml1data.train.txt\"\n",
    "output_path = \"/home/ankur/MachineLearning/challenge/ml-Challenge/data/challengeDataset.csv\""
   ]
  },
  {
   "cell_type": "code",
   "execution_count": 81,
   "metadata": {},
   "outputs": [
    {
     "name": "stdout",
     "output_type": "stream",
     "text": [
      "     A   138  E  35.91  J    7.79  P  AA  88  AF  ...   CQ  177.27  NK  DF  \\\n",
      "0    A   966  E  35.91  V   22.63  Q  AD  88  AF  ...   DC  171.97  NK  DF   \n",
      "1    C   345  E  35.91  J   12.19  Q  AA  88  AF  ...   DC  121.70  NK  DF   \n",
      "2    B   276  F  35.91  O    5.61  T  AC  44  BA  ...   CQ   60.85  NK  DG   \n",
      "3    C   552  G  35.91  L   27.67  T  AB  44  AF  ...   DA   92.60  NK  DF   \n",
      "4    B   161  F  35.91  J   17.17  Q  AB  44  AF  ...   CQ   92.60  NK  DF   \n",
      "5    A   345  H  71.81  M    6.33  Q  AA  88  AF  ...   DC   87.31  NK  DG   \n",
      "6    B   460  F  35.91  N   43.12  P  AD  22  AG  ...   CQ  158.75  NK  DF   \n",
      "7    C   414  E  35.91  N   25.67  Q  AC  66  AF  ...   DC   71.44  NK  DF   \n",
      "8    B  1242  H  35.91  O  106.30  Q  AE  66  AF  ...   DB  153.45  NK  DG   \n",
      "9    C   483  F  35.91  O   10.48  S  AA  88  BA  ...   CQ   95.25  DE  DF   \n",
      "10   B   138  F  35.91  J    3.93  Q  AE  66  BF  ...   CQ   68.79  NK  DF   \n",
      "11   C   276  F  35.91  L   10.49  Q  AB  88  AF  ...   CQ  132.29  NK  DF   \n",
      "12   B   345  F  35.91  V    8.72  Q  AA  88  AF  ...   DC  100.54  NK  DF   \n",
      "13   B   690  F  35.91  L   22.94  T  AB  44  BA  ...   DC   55.56  NK  DG   \n",
      "14   A   483  F  35.91  J   22.38  S  AE  88  BA  ...   DC   76.73  DE  DF   \n",
      "15   C   621  G  35.91  O   34.11  Q  AC  66  AF  ...   DC   68.79  NK  DF   \n",
      "16   B   345  E  35.91  O   15.51  R  AB  44  AF  ...   DC   71.44  DE  DF   \n",
      "17   A   299  E  35.91  O   11.98  Q  AE  66  AF  ...   DA   74.08  DE  DF   \n",
      "18   C   345  F  35.91  K   30.82  T  AB  66  AF  ...   DA  105.83  NK  DF   \n",
      "19   B   690  E  35.91  M   34.89  Q  AD  88  BF  ...   DC   74.08  NK  DF   \n",
      "20   B   690  F  35.91  M   14.33  Q  AB  88  BA  ...   DB   63.50  DE  DF   \n",
      "21   C   207  F  35.91  M   16.71  R  AA  44  AF  ...   DB  134.93  NK  DS   \n",
      "22   B   207  E  71.81  K    7.57  S  AA  88  AF  ...   DB   84.66  NK  DS   \n",
      "23   D   345  F  35.91  J   15.51  Q  AE  44  BA  ...   CQ   66.14  NK  DF   \n",
      "24   C   345  F  35.91  M   23.71  P  AB  66  AF  ...   DB   76.73  NK  DF   \n",
      "25   B   207  F  35.91  J    7.21  Q  AA  88  AF  ...   DC   71.44  NK  DF   \n",
      "26   B   276  E  71.81  M    6.39  Q  AC  44  AF  ...   CQ  124.35  NK  DF   \n",
      "27   C   828  F  35.91  L   73.16  Q  AD  88  BA  ...   DC   68.79  NK  DF   \n",
      "28   B   414  F  35.91  L   12.83  P  AE  88  BA  ...   CQ   71.44  NK  DG   \n",
      "29   C   414  F  35.91  J   13.67  Q  AE  88  AF  ...   CQ   87.31  NK  DF   \n",
      "..  ..   ... ..    ... ..     ... ..  ..  ..  ..  ...   ..     ...  ..  ..   \n",
      "472  A  1035  H  35.91  O   78.77  Q  AA  44  AF  ...   DC   76.73  NK  DG   \n",
      "473  C   828  F  35.91  J   25.57  P  AA  44  BA  ...   CQ  119.06  NK  DF   \n",
      "474  C   552  F  35.91  J    9.17  R  AC  88  BA  ...   DC   74.08  NK  DF   \n",
      "475  A   345  F  35.91  L   12.30  Q  AE  88  BA  ...   DA  121.70  NK  DG   \n",
      "476  C   207  F  35.91  L    8.75  Q  AA  22  AF  ...   DC   52.92  NK  DF   \n",
      "477  C   552  F  35.91  J   39.62  P  AE  22  BA  ...   DC  116.41  NK  DF   \n",
      "478  C   138  F  35.91  N    8.24  R  AB  44  AF  ...   DA  132.29  NK  DG   \n",
      "479  C   414  E  35.91  L   25.20  Q  AE  66  AG  ...   DC   92.60  NK  DF   \n",
      "480  C   230  E  71.81  M    8.21  Q  AA  66  AF  ...   CQ   84.66  NK  DF   \n",
      "481  A   184  E  35.91  M   22.65  Q  AC  22  AF  ...   CQ  103.18  NK  DF   \n",
      "482  B  1104  E  35.91  L   33.97  Q  AB  44  BA  ...   DC   79.37  NK  DF   \n",
      "483  D   230  F  71.81  M    8.27  T  AA  22  BA  ...   DB  127.00  NK  DS   \n",
      "484  C   483  H  35.91  M   33.35  P  AB  22  BA  ...   DA   76.73  DE  DF   \n",
      "485  C   345  G  35.91  N   23.96  Q  AE  22  BA  ...   DA  121.70  NK  DF   \n",
      "486  B   966  E  35.91  O   39.69  Q  AC  44  BA  ...   CQ  108.48  DE  DF   \n",
      "487  A   230  E  35.91  M    6.92  Q  AC  88  AF  ...   DA  129.64  NK  DF   \n",
      "488  B   276  F  35.91  M    5.57  T  AE  88  BA  ...   DA   60.85  DE  DF   \n",
      "489  A   920  E  35.91  K   39.99  Q  AB  88  AF  ...   DB   71.44  DE  DF   \n",
      "490  C   207  E  35.91  M    8.16  Q  AB  66  AF  ...   CQ   79.37  NK  DF   \n",
      "491  A   828  F  35.91  J   15.35  Q  AB  88  AG  ...   DC   82.02  NK  DG   \n",
      "492  C   207  F  35.91  L   15.34  T  AE  44  BA  ...   DA   58.21  NK  DG   \n",
      "493  C   276  E  35.91  L    9.35  R  AC  66  BA  ...   DC   97.89  NK  DG   \n",
      "494  C   115  F  35.91  O   22.99  Q  AC  22  AF  ...   CQ  195.79  NK  DF   \n",
      "495  A   138  F  35.91  N    9.01  R  AD  22  BA  ...   DA   60.85  NK  DG   \n",
      "496  C   552  F  35.91  N   36.22  P  AD  44  BA  ...   DA   68.79  NK  DG   \n",
      "497  A   828  E  35.91  K   53.77  Q  AB  66  BA  ...   DB   66.14  NK  DF   \n",
      "498  C   552  F  35.91  M    9.83  T  AE  88  BF  ...   CQ   87.31  NK  DF   \n",
      "499  C   276  E  35.91  J    4.78  Q  AA  88  AF  ...   CQ  137.58  NK  DF   \n",
      "500  A   276  F  71.81  L   23.93  Q  AB  44  AF  ...   DA   76.73  NK  DF   \n",
      "501  C   414  E  35.91  J    7.66  S  AB  88  AF  ...   CQ  121.70  NK  DF   \n",
      "\n",
      "     108642  DM   71.81  DP  DO   MEM  \n",
      "0    108642  DJ   71.81  NN  DO   MEM  \n",
      "1    108642  DM   71.81  DP  DO   MEM  \n",
      "2     54321  DH   71.81  NN  DO   MEM  \n",
      "3    108642  DM   71.81  NN  DO   MEM  \n",
      "4     54321  DM   71.81  NN  DO   MEM  \n",
      "5    108642  DM  143.62  NN  DO  NMEM  \n",
      "6     54321  DI   71.81  DP  DO   MEM  \n",
      "7    108642  DM   71.81  NN  DO   MEM  \n",
      "8     54321  DM   71.81  DP  DO  NMEM  \n",
      "9     54321  DH   71.81  NN  DO   MEM  \n",
      "10    54321  DH   71.81  NN  DT   MEM  \n",
      "11    54321  DM   71.81  NN  DO   MEM  \n",
      "12   108642  DH   71.81  NN  DO   MEM  \n",
      "13    54321  DM   71.81  NN  DO  NMEM  \n",
      "14    54321  DM   71.81  NN  DO   MEM  \n",
      "15   108642  DM   71.81  NN  DO   MEM  \n",
      "16    54321  DM   71.81  NN  DO   MEM  \n",
      "17   108642  DH   71.81  NN  DO   MEM  \n",
      "18    54321  DI   71.81  DP  DO  NMEM  \n",
      "19   108642  DI   71.81  NN  DO  NMEM  \n",
      "20    54321  DM   71.81  NN  DO  NMEM  \n",
      "21    54321  DH   71.81  NN  DO   MEM  \n",
      "22   108642  DM  143.62  NN  DO  NMEM  \n",
      "23    54321  DH   71.81  NN  DO  NMEM  \n",
      "24    54321  DM   71.81  NN  DO   MEM  \n",
      "25   108642  DH   71.81  NN  DO   MEM  \n",
      "26   108642  DH  143.62  NN  DO   MEM  \n",
      "27   108642  DI   71.81  DP  DO  NMEM  \n",
      "28    54321  DM   71.81  NN  DO  NMEM  \n",
      "29    54321  DM   71.81  NN  DO   MEM  \n",
      "..      ...  ..     ...  ..  ..   ...  \n",
      "472  108642  DM   71.81  NN  DO  NMEM  \n",
      "473   54321  DH   71.81  DP  DO   MEM  \n",
      "474   54321  DM   71.81  NN  DO   MEM  \n",
      "475   54321  DM   71.81  NN  DO   MEM  \n",
      "476   54321  DM   71.81  NN  DO   MEM  \n",
      "477  108642  DM   71.81  DP  DO  NMEM  \n",
      "478   54321  DM   71.81  NN  DO   MEM  \n",
      "479  108642  DI   71.81  DP  DO   MEM  \n",
      "480  108642  DH  143.62  NN  DT   MEM  \n",
      "481  108642  DH   71.81  NN  DT   MEM  \n",
      "482   54321  DI   71.81  DP  DO  NMEM  \n",
      "483   54321  DH  143.62  NN  DO  NMEM  \n",
      "484  108642  DM   71.81  DP  DO  NMEM  \n",
      "485  108642  DH   71.81  NN  DO   MEM  \n",
      "486  108642  DH   71.81  NN  DO   MEM  \n",
      "487  108642  DM   71.81  DP  DO   MEM  \n",
      "488   54321  DH   71.81  NN  DO  NMEM  \n",
      "489   54321  DM   71.81  DP  DO  NMEM  \n",
      "490  108642  DM   71.81  NN  DO   MEM  \n",
      "491   54321  DM   71.81  NN  DO  NMEM  \n",
      "492   54321  DM   71.81  NN  DO   MEM  \n",
      "493   54321  DM   71.81  DP  DO   MEM  \n",
      "494   54321  DH   71.81  NN  DO   MEM  \n",
      "495   54321  DJ   71.81  DP  DO   MEM  \n",
      "496   54321  DI   71.81  DP  DO   MEM  \n",
      "497  108642  DI   71.81  DP  DO  NMEM  \n",
      "498   54321  DM   71.81  DP  DO   MEM  \n",
      "499  162963  DM   71.81  NN  DO   MEM  \n",
      "500   54321  DH  143.62  NN  DO   MEM  \n",
      "501  108642  DM   71.81  NN  DO   MEM  \n",
      "\n",
      "[502 rows x 22 columns]\n"
     ]
    }
   ],
   "source": [
    "dataset = pd.read_csv(input_path)\n",
    "print(dataset)"
   ]
  },
  {
   "cell_type": "code",
   "execution_count": 93,
   "metadata": {
    "collapsed": true
   },
   "outputs": [],
   "source": [
    "headers = [\"X1\", \"X2\", \"X3\", \"X4\", \"X5\",\n",
    "               \"X6\", \"X7\", \"X8\", \"X9\", \"X10\",\n",
    "               \"X11\",\"X12\",\"X13\",\"X14\", \"X15\", \"X16\", \"X17\", \"X18\",\n",
    "               \"X19\", \"X20\", \"X21\",\"Y\"]"
   ]
  },
  {
   "cell_type": "code",
   "execution_count": 107,
   "metadata": {},
   "outputs": [
    {
     "name": "stdout",
     "output_type": "stream",
     "text": [
      "    X1    X2 X3     X4 X5      X6 X7  X8  X9 X10  ...  X13     X14 X15  X16  \\\n",
      "0    A   966  E  35.91  V   22.63  Q  AD  88  AF  ...   DC  171.97  NK   DF   \n",
      "1    C   345  E  35.91  J   12.19  Q  AA  88  AF  ...   DC  121.70  NK   DF   \n",
      "2    B   276  F  35.91  O    5.61  T  AC  44  BA  ...   CQ   60.85  NK   DG   \n",
      "3    C   552  G  35.91  L   27.67  T  AB  44  AF  ...   DA   92.60  NK   DF   \n",
      "4    B   161  F  35.91  J   17.17  Q  AB  44  AF  ...   CQ   92.60  NK   DF   \n",
      "5    A   345  H  71.81  M    6.33  Q  AA  88  AF  ...   DC   87.31  NK   DG   \n",
      "6    B   460  F  35.91  N   43.12  P  AD  22  AG  ...   CQ  158.75  NK   DF   \n",
      "7    C   414  E  35.91  N   25.67  Q  AC  66  AF  ...   DC   71.44  NK   DF   \n",
      "8    B  1242  H  35.91  O  106.30  Q  AE  66  AF  ...   DB  153.45  NK   DG   \n",
      "9    C   483  F  35.91  O   10.48  S  AA  88  BA  ...   CQ   95.25  DE   DF   \n",
      "10   B   138  F  35.91  J    3.93  Q  AE  66  BF  ...   CQ   68.79  NK   DF   \n",
      "11   C   276  F  35.91  L   10.49  Q  AB  88  AF  ...   CQ  132.29  NK   DF   \n",
      "12   B   345  F  35.91  V    8.72  Q  AA  88  AF  ...   DC  100.54  NK   DF   \n",
      "13   B   690  F  35.91  L   22.94  T  AB  44  BA  ...   DC   55.56  NK   DG   \n",
      "14   A   483  F  35.91  J   22.38  S  AE  88  BA  ...   DC   76.73  DE   DF   \n",
      "15   C   621  G  35.91  O   34.11  Q  AC  66  AF  ...   DC   68.79  NK   DF   \n",
      "16   B   345  E  35.91  O   15.51  R  AB  44  AF  ...   DC   71.44  DE   DF   \n",
      "17   A   299  E  35.91  O   11.98  Q  AE  66  AF  ...   DA   74.08  DE   DF   \n",
      "18   C   345  F  35.91  K   30.82  T  AB  66  AF  ...   DA  105.83  NK   DF   \n",
      "19   B   690  E  35.91  M   34.89  Q  AD  88  BF  ...   DC   74.08  NK   DF   \n",
      "20   B   690  F  35.91  M   14.33  Q  AB  88  BA  ...   DB   63.50  DE   DF   \n",
      "21   C   207  F  35.91  M   16.71  R  AA  44  AF  ...   DB  134.93  NK   DS   \n",
      "22   B   207  E  71.81  K    7.57  S  AA  88  AF  ...   DB   84.66  NK   DS   \n",
      "23   D   345  F  35.91  J   15.51  Q  AE  44  BA  ...   CQ   66.14  NK   DF   \n",
      "24   C   345  F  35.91  M   23.71  P  AB  66  AF  ...   DB   76.73  NK   DF   \n",
      "25   B   207  F  35.91  J    7.21  Q  AA  88  AF  ...   DC   71.44  NK   DF   \n",
      "26   B   276  E  71.81  M    6.39  Q  AC  44  AF  ...   CQ  124.35  NK   DF   \n",
      "27   C   828  F  35.91  L   73.16  Q  AD  88  BA  ...   DC   68.79  NK   DF   \n",
      "28   B   414  F  35.91  L   12.83  P  AE  88  BA  ...   CQ   71.44  NK   DG   \n",
      "29   C   414  F  35.91  J   13.67  Q  AE  88  AF  ...   CQ   87.31  NK   DF   \n",
      "..  ..   ... ..    ... ..     ... ..  ..  ..  ..  ...   ..     ...  ..  ...   \n",
      "472  A  1035  H  35.91  O   78.77  Q  AA  44  AF  ...   DC   76.73  NK   DG   \n",
      "473  C   828  F  35.91  J   25.57  P  AA  44  BA  ...   CQ  119.06  NK   DF   \n",
      "474  C   552  F  35.91  J    9.17  R  AC  88  BA  ...   DC   74.08  NK   DF   \n",
      "475  A   345  F  35.91  L   12.30  Q  AE  88  BA  ...   DA  121.70  NK   DG   \n",
      "476  C   207  F  35.91  L    8.75  Q  AA  22  AF  ...   DC   52.92  NK   DF   \n",
      "477  C   552  F  35.91  J   39.62  P  AE  22  BA  ...   DC  116.41  NK   DF   \n",
      "478  C   138  F  35.91  N    8.24  R  AB  44  AF  ...   DA  132.29  NK   DG   \n",
      "479  C   414  E  35.91  L   25.20  Q  AE  66  AG  ...   DC   92.60  NK   DF   \n",
      "480  C   230  E  71.81  M    8.21  Q  AA  66  AF  ...   CQ   84.66  NK   DF   \n",
      "481  A   184  E  35.91  M   22.65  Q  AC  22  AF  ...   CQ  103.18  NK   DF   \n",
      "482  B  1104  E  35.91  L   33.97  Q  AB  44  BA  ...   DC   79.37  NK   DF   \n",
      "483  D   230  F  71.81  M    8.27  T  AA  22  BA  ...   DB  127.00  NK   DS   \n",
      "484  C   483  H  35.91  M   33.35  P  AB  22  BA  ...   DA   76.73  DE   DF   \n",
      "485  C   345  G  35.91  N   23.96  Q  AE  22  BA  ...   DA  121.70  NK   DF   \n",
      "486  B   966  E  35.91  O   39.69  Q  AC  44  BA  ...   CQ  108.48  DE   DF   \n",
      "487  A   230  E  35.91  M    6.92  Q  AC  88  AF  ...   DA  129.64  NK   DF   \n",
      "488  B   276  F  35.91  M    5.57  T  AE  88  BA  ...   DA   60.85  DE   DF   \n",
      "489  A   920  E  35.91  K   39.99  Q  AB  88  AF  ...   DB   71.44  DE   DF   \n",
      "490  C   207  E  35.91  M    8.16  Q  AB  66  AF  ...   CQ   79.37  NK   DF   \n",
      "491  A   828  F  35.91  J   15.35  Q  AB  88  AG  ...   DC   82.02  NK   DG   \n",
      "492  C   207  F  35.91  L   15.34  T  AE  44  BA  ...   DA   58.21  NK   DG   \n",
      "493  C   276  E  35.91  L    9.35  R  AC  66  BA  ...   DC   97.89  NK   DG   \n",
      "494  C   115  F  35.91  O   22.99  Q  AC  22  AF  ...   CQ  195.79  NK   DF   \n",
      "495  A   138  F  35.91  N    9.01  R  AD  22  BA  ...   DA   60.85  NK   DG   \n",
      "496  C   552  F  35.91  N   36.22  P  AD  44  BA  ...   DA   68.79  NK   DG   \n",
      "497  A   828  E  35.91  K   53.77  Q  AB  66  BA  ...   DB   66.14  NK   DF   \n",
      "498  C   552  F  35.91  M    9.83  T  AE  88  BF  ...   CQ   87.31  NK   DF   \n",
      "499  C   276  E  35.91  J    4.78  Q  AA  88  AF  ...   CQ  137.58  NK   DF   \n",
      "500  A   276  F  71.81  L   23.93  Q  AB  44  AF  ...   DA   76.73  NK   DF   \n",
      "501  C   414  E  35.91  J    7.66  S  AB  88  AF  ...   CQ  121.70  NK   DF   \n",
      "\n",
      "        X17 X18     X19 X20  X21     Y  \n",
      "0    108642  DJ   71.81  NN   DO   MEM  \n",
      "1    108642  DM   71.81  DP   DO   MEM  \n",
      "2     54321  DH   71.81  NN   DO   MEM  \n",
      "3    108642  DM   71.81  NN   DO   MEM  \n",
      "4     54321  DM   71.81  NN   DO   MEM  \n",
      "5    108642  DM  143.62  NN   DO  NMEM  \n",
      "6     54321  DI   71.81  DP   DO   MEM  \n",
      "7    108642  DM   71.81  NN   DO   MEM  \n",
      "8     54321  DM   71.81  DP   DO  NMEM  \n",
      "9     54321  DH   71.81  NN   DO   MEM  \n",
      "10    54321  DH   71.81  NN   DT   MEM  \n",
      "11    54321  DM   71.81  NN   DO   MEM  \n",
      "12   108642  DH   71.81  NN   DO   MEM  \n",
      "13    54321  DM   71.81  NN   DO  NMEM  \n",
      "14    54321  DM   71.81  NN   DO   MEM  \n",
      "15   108642  DM   71.81  NN   DO   MEM  \n",
      "16    54321  DM   71.81  NN   DO   MEM  \n",
      "17   108642  DH   71.81  NN   DO   MEM  \n",
      "18    54321  DI   71.81  DP   DO  NMEM  \n",
      "19   108642  DI   71.81  NN   DO  NMEM  \n",
      "20    54321  DM   71.81  NN   DO  NMEM  \n",
      "21    54321  DH   71.81  NN   DO   MEM  \n",
      "22   108642  DM  143.62  NN   DO  NMEM  \n",
      "23    54321  DH   71.81  NN   DO  NMEM  \n",
      "24    54321  DM   71.81  NN   DO   MEM  \n",
      "25   108642  DH   71.81  NN   DO   MEM  \n",
      "26   108642  DH  143.62  NN   DO   MEM  \n",
      "27   108642  DI   71.81  DP   DO  NMEM  \n",
      "28    54321  DM   71.81  NN   DO  NMEM  \n",
      "29    54321  DM   71.81  NN   DO   MEM  \n",
      "..      ...  ..     ...  ..  ...   ...  \n",
      "472  108642  DM   71.81  NN   DO  NMEM  \n",
      "473   54321  DH   71.81  DP   DO   MEM  \n",
      "474   54321  DM   71.81  NN   DO   MEM  \n",
      "475   54321  DM   71.81  NN   DO   MEM  \n",
      "476   54321  DM   71.81  NN   DO   MEM  \n",
      "477  108642  DM   71.81  DP   DO  NMEM  \n",
      "478   54321  DM   71.81  NN   DO   MEM  \n",
      "479  108642  DI   71.81  DP   DO   MEM  \n",
      "480  108642  DH  143.62  NN   DT   MEM  \n",
      "481  108642  DH   71.81  NN   DT   MEM  \n",
      "482   54321  DI   71.81  DP   DO  NMEM  \n",
      "483   54321  DH  143.62  NN   DO  NMEM  \n",
      "484  108642  DM   71.81  DP   DO  NMEM  \n",
      "485  108642  DH   71.81  NN   DO   MEM  \n",
      "486  108642  DH   71.81  NN   DO   MEM  \n",
      "487  108642  DM   71.81  DP   DO   MEM  \n",
      "488   54321  DH   71.81  NN   DO  NMEM  \n",
      "489   54321  DM   71.81  DP   DO  NMEM  \n",
      "490  108642  DM   71.81  NN   DO   MEM  \n",
      "491   54321  DM   71.81  NN   DO  NMEM  \n",
      "492   54321  DM   71.81  NN   DO   MEM  \n",
      "493   54321  DM   71.81  DP   DO   MEM  \n",
      "494   54321  DH   71.81  NN   DO   MEM  \n",
      "495   54321  DJ   71.81  DP   DO   MEM  \n",
      "496   54321  DI   71.81  DP   DO   MEM  \n",
      "497  108642  DI   71.81  DP   DO  NMEM  \n",
      "498   54321  DM   71.81  DP   DO   MEM  \n",
      "499  162963  DM   71.81  NN   DO   MEM  \n",
      "500   54321  DH  143.62  NN   DO   MEM  \n",
      "501  108642  DM   71.81  NN   DO   MEM  \n",
      "\n",
      "[502 rows x 22 columns]\n"
     ]
    }
   ],
   "source": [
    "dataset.columns = headers\n",
    "print(dataset)"
   ]
  },
  {
   "cell_type": "code",
   "execution_count": 110,
   "metadata": {},
   "outputs": [
    {
     "name": "stdout",
     "output_type": "stream",
     "text": [
      "                X2          X4          X6          X9         X12  \\\n",
      "count   502.000000  502.000000  502.000000  502.000000  502.000000   \n",
      "mean    475.211155   41.273546   21.807888   65.956175   45.131474   \n",
      "std     283.880178   12.810565   18.927118   23.934835   17.652971   \n",
      "min      92.000000   35.910000    1.670000   22.000000   16.000000   \n",
      "25%     276.000000   35.910000    9.070000   44.000000   32.000000   \n",
      "50%     414.000000   35.910000   15.465000   66.000000   48.000000   \n",
      "75%     552.000000   35.910000   26.507500   88.000000   64.000000   \n",
      "max    1380.000000   71.810000  106.300000   88.000000   64.000000   \n",
      "\n",
      "              X14            X17         X19  \n",
      "count  502.000000     502.000000  502.000000  \n",
      "mean    94.878406   74988.950199   82.538586  \n",
      "std     30.228991   30537.163623   25.624699  \n",
      "min     52.920000   54321.000000   71.810000  \n",
      "25%     71.440000   54321.000000   71.810000  \n",
      "50%     89.960000   54321.000000   71.810000  \n",
      "75%    108.480000  108642.000000   71.810000  \n",
      "max    198.430000  217284.000000  143.620000  \n"
=======
   "execution_count": 6,
   "metadata": {},
   "outputs": [
    {
     "ename": "ValueError",
     "evalue": "sequence too large; cannot be greater than 32",
     "output_type": "error",
     "traceback": [
      "\u001b[1;31m---------------------------------------------------------------------------\u001b[0m",
      "\u001b[1;31mValueError\u001b[0m                                Traceback (most recent call last)",
      "\u001b[1;32m<ipython-input-6-a5aec2d8e397>\u001b[0m in \u001b[0;36m<module>\u001b[1;34m()\u001b[0m\n\u001b[0;32m      1\u001b[0m \u001b[1;31m# Read data\u001b[0m\u001b[1;33m\u001b[0m\u001b[1;33m\u001b[0m\u001b[0m\n\u001b[0;32m      2\u001b[0m \u001b[1;33m\u001b[0m\u001b[0m\n\u001b[1;32m----> 3\u001b[1;33m \u001b[0mdata\u001b[0m \u001b[1;33m=\u001b[0m \u001b[0mnp\u001b[0m\u001b[1;33m.\u001b[0m\u001b[0mchararray\u001b[0m\u001b[1;33m(\u001b[0m\u001b[1;34m\"C:\\\\Users\\\\Varma\\\\ML Challenge\\\\data\\\\ml1data.train.txt\"\u001b[0m\u001b[1;33m)\u001b[0m\u001b[1;33m\u001b[0m\u001b[0m\n\u001b[0m\u001b[0;32m      4\u001b[0m \u001b[1;31m# with open('C:\\\\Users\\\\Varma\\\\ML Challenge\\\\data\\\\ml1data.train.txt', 'r') as f:\u001b[0m\u001b[1;33m\u001b[0m\u001b[1;33m\u001b[0m\u001b[0m\n\u001b[0;32m      5\u001b[0m \u001b[1;31m#     data = [i.split(\",\") for i in f.read().split()]\u001b[0m\u001b[1;33m\u001b[0m\u001b[1;33m\u001b[0m\u001b[0m\n",
      "\u001b[1;32mC:\\Anaconda3\\lib\\site-packages\\numpy\\core\\defchararray.py\u001b[0m in \u001b[0;36m__new__\u001b[1;34m(subtype, shape, itemsize, unicode, buffer, offset, strides, order)\u001b[0m\n\u001b[0;32m   1833\u001b[0m         \u001b[1;32mif\u001b[0m \u001b[0mbuffer\u001b[0m \u001b[1;32mis\u001b[0m \u001b[1;32mNone\u001b[0m\u001b[1;33m:\u001b[0m\u001b[1;33m\u001b[0m\u001b[0m\n\u001b[0;32m   1834\u001b[0m             self = ndarray.__new__(subtype, shape, (dtype, itemsize),\n\u001b[1;32m-> 1835\u001b[1;33m                                    order=order)\n\u001b[0m\u001b[0;32m   1836\u001b[0m         \u001b[1;32melse\u001b[0m\u001b[1;33m:\u001b[0m\u001b[1;33m\u001b[0m\u001b[0m\n\u001b[0;32m   1837\u001b[0m             self = ndarray.__new__(subtype, shape, (dtype, itemsize),\n",
      "\u001b[1;31mValueError\u001b[0m: sequence too large; cannot be greater than 32"
>>>>>>> 15e419ba1f0a831aa24cf53aba86a1d89724e963
     ]
    }
   ],
   "source": [
<<<<<<< HEAD
    "dataset.to_csv(output_path, index=False)\n",
    "print(dataset.describe())"
   ]
  },
  {
   "cell_type": "code",
   "execution_count": 111,
   "metadata": {
    "collapsed": true
   },
   "outputs": [],
   "source": [
    "def split_dataset(dataset, train_percentage, feature_headers, target_header):\n",
    "    \"\"\"\n",
    "    Split the dataset with train_percentage\n",
    "    :param dataset:\n",
    "    :param train_percentage:\n",
    "    :param feature_headers:\n",
    "    :param target_header:\n",
    "    :return: train_x, test_x, train_y, test_y\n",
    "    \"\"\"\n",
    "\n",
    "    # Split dataset into train and test dataset\n",
    "    train_x, test_x, train_y, test_y = train_test_split(dataset[feature_headers], dataset[target_header],\n",
    "                                                        train_size=train_percentage)\n",
    "    return train_x, test_x, train_y, test_y"
   ]
  },
  {
   "cell_type": "code",
   "execution_count": 103,
   "metadata": {},
   "outputs": [
    {
     "name": "stdout",
     "output_type": "stream",
     "text": [
      "['X1', 'X2', 'X3', 'X4', 'X5', 'X6', 'X7', 'X8', 'X9', 'X10', 'X11', 'X12', 'X13', 'X14', 'X15', 'X16', 'X17', 'X18', 'X19', 'X20', 'X21', 'Y']\n"
     ]
    }
   ],
   "source": [
    "print(headers[0:])"
   ]
  },
  {
   "cell_type": "code",
   "execution_count": 121,
   "metadata": {},
   "outputs": [
    {
     "name": "stderr",
     "output_type": "stream",
     "text": [
      "/home/ankur/anaconda3/lib/python3.6/site-packages/sklearn/model_selection/_split.py:2026: FutureWarning: From version 0.21, test_size will always complement train_size unless both are specified.\n",
      "  FutureWarning)\n"
     ]
    }
   ],
   "source": [
    "train_x, test_x, train_y, test_y = split_dataset(dataset, 0.7, headers[0:-1], headers[21])"
   ]
  },
  {
   "cell_type": "code",
   "execution_count": 119,
   "metadata": {},
   "outputs": [
    {
     "name": "stdout",
     "output_type": "stream",
     "text": [
      "Train_x Shape ::  (351, 21)\n",
      "    X1    X2 X3     X4 X5     X6 X7  X8  X9 X10 ... X12  X13     X14  X15 X16  \\\n",
      "48   C   552  G  35.91  N  31.19  Q  AC  66  AF ...  48   DC   92.60   NK  DF   \n",
      "380  B  1104  G  35.91  X  50.55  T  AD  44  AF ...  64   DB   82.02   NK  DS   \n",
      "482  B  1104  E  35.91  L  33.97  Q  AB  44  BA ...  48   DC   79.37   NK  DF   \n",
      "320  B   828  F  35.91  J  17.81  T  AB  88  BA ...  64   DB  132.29   NK  DS   \n",
      "378  C   138  F  35.91  M   4.48  Q  AD  22  BA ...  64   CQ  142.87   NK  DF   \n",
      "446  C   552  F  35.91  N  17.80  Q  AA  88  AF ...  64   DC   92.60   NK  DF   \n",
      "146  B   414  F  35.91  O  12.75  S  AE  66  BF ...  48   CQ   95.25   DE  DF   \n",
      "379  A   828  F  35.91  M  61.81  Q  AC  44  AF ...  16   DC   63.50   NK  DF   \n",
      "235  B   276  F  35.91  J   7.28  Q  AB  88  BA ...  64   CQ  129.64   NK  DF   \n",
      "483  D   230  F  71.81  M   8.27  T  AA  22  BA ...  64   DB  127.00   NK  DS   \n",
      "7    C   414  E  35.91  N  25.67  Q  AC  66  AF ...  16   DC   71.44   NK  DF   \n",
      "346  C   414  F  35.91  J   7.51  P  AE  88  BA ...  32   CQ   55.56   NK  DG   \n",
      "36   C   276  F  35.91  M   4.27  Q  AB  88  AG ...  32   CQ  129.64   NK  DF   \n",
      "338  C   207  E  35.91  L  16.04  Q  AD  44  AF ...  48   DC   82.02   NK  DF   \n",
      "400  C   276  E  35.91  O   7.90  Q  AB  66  BA ...  32   CQ   71.44   NK  DF   \n",
      "402  C   230  F  35.91  M   8.73  P  AB  88  AF ...  64   DA   71.44   NK  DF   \n",
      "68   D   138  G  35.91  J   4.55  Q  AE  44  BA ...  16   DA   76.73   DE  DF   \n",
      "272  B   276  F  35.91  J   7.35  Q  AC  88  AF ...  48   CQ   76.73   NK  DF   \n",
      "84   D   207  F  35.91  J   4.97  Q  AB  66  BA ...  32   CQ   74.08   NK  DF   \n",
      "160  B   207  F  35.91  M   1.84  Q  AB  88  BF ...  64   CQ   58.21   NK  DG   \n",
      "79   D   230  F  35.91  L   8.50  Q  AE  88  BA ...  32   DA   60.85   NK  DF   \n",
      "475  A   345  F  35.91  L  12.30  Q  AE  88  BA ...  16   DA  121.70   NK  DG   \n",
      "243  B   414  E  35.91  L  24.08  Q  AA  66  BA ...  64   DA   97.89   NK  DF   \n",
      "345  C   414  E  35.91  J  10.55  S  AA  88  AF ...  64   DC  121.70   NK  DF   \n",
      "387  A   552  F  35.91  J  12.92  Q  AE  88  AG ...  48   DA   84.66   NK  DF   \n",
      "13   B   690  F  35.91  L  22.94  T  AB  44  BA ...  64   DC   55.56   NK  DG   \n",
      "123  B   276  E  71.81  M  20.83  Q  AE  22  AF ...  48   CQ  129.64   DE  DF   \n",
      "202  B   897  E  35.91  J  32.89  Q  AC  44  AF ...  32   CQ   66.14   NK  DF   \n",
      "364  A   138  I  35.91  K   7.99  Q  AA  88  BA ...  64   DB   92.60   NK  DS   \n",
      "497  A   828  E  35.91  K  53.77  Q  AB  66  BA ...  32   DB   66.14   NK  DF   \n",
      "..  ..   ... ..    ... ..    ... ..  ..  ..  .. ...  ..  ...     ...  ...  ..   \n",
      "296  B   598  F  35.91  N  53.11  Q  AE  44  AF ...  48   DC   79.37   NK  DF   \n",
      "436  D   276  E  35.91  M   9.87  R  AD  44  AF ...  64   DB  174.62   DE  DS   \n",
      "409  C   276  F  35.91  N  31.17  P  AE  22  BA ...  64   DC   52.92   NK  DG   \n",
      "327  B   276  E  35.91  M  15.77  R  AC  66  AG ...  48   DC   95.25   NK  DF   \n",
      "86   A   276  F  35.91  K   8.00  P  AB  88  BA ...  64   DA   60.85   DE  DG   \n",
      "444  A   644  F  35.91  M  26.71  Q  AB  66  AF ...  32   DC  119.06   NK  DF   \n",
      "278  C   552  F  35.91  M  15.03  P  AE  88  AF ...  16   DA  142.87   NK  DF   \n",
      "210  C   690  F  35.91  J  15.55  R  AA  88  AF ...  32   DC   79.37   DE  DF   \n",
      "325  A   552  F  35.91  M  20.82  Q  AE  88  BA ...  16   DA   71.44   NK  DF   \n",
      "180  A   552  F  35.91  M   8.57  P  AC  88  BA ...  64   DB   84.66   NK  DG   \n",
      "499  C   276  E  35.91  J   4.78  Q  AA  88  AF ...  64   CQ  137.58   NK  DF   \n",
      "117  B  1104  G  71.81  O  44.54  P  AB  88  AF ...  64   DB  100.54   NK  DS   \n",
      "198  B   828  F  35.91  M  82.59  P  AB  22  AF ...  64   DB   97.89   NK  DS   \n",
      "44   C   276  F  35.91  N   9.42  S  AC  66  AF ...  32   DA  145.52   NK  DF   \n",
      "149  C   552  E  35.91  O  27.59  T  AB  66  AF ...  48   DA   71.44   NK  DF   \n",
      "290  A   483  E  35.91  M  10.68  Q  AA  88  BF ...  48   DC   79.37   NK  DF   \n",
      "216  B   828  I  35.91  U  26.60  P  AE  66  BA ...  32   DB   76.73   DE  DF   \n",
      "408  A  1104  F  35.91  K  49.84  Q  AC  88  AF ...  16   DB  132.29   NK  DS   \n",
      "223  C   552  E  35.91  M   8.58  S  AA  88  BA ...  64   CQ   97.89   NK  DF   \n",
      "340  A   276  F  35.91  L  12.39  Q  AE  88  BA ...  16   DC   58.21   NK  DG   \n",
      "269  A   690  H  35.91  L  30.55  Q  AB  44  AG ...  32   CQ   84.66   NK  DF   \n",
      "449  A   276  G  71.81  M   8.96  Q  AB  88  AF ...  32   CQ  113.77   NK  DF   \n",
      "451  A   345  F  35.91  M  11.47  Q  AE  44  AF ...  48   CQ   95.25   NK  DF   \n",
      "300  C   690  E  35.91  J  39.69  Q  AC  66  AF ...  32   DC  100.54   NK  DF   \n",
      "162  A   552  F  35.91  L  21.56  Q  AE  88  BA ...  64   CQ   60.85   NK  DG   \n",
      "472  A  1035  H  35.91  O  78.77  Q  AA  44  AF ...  64   DC   76.73   NK  DG   \n",
      "225  C   483  F  35.91  J  21.07  P  AA  88  AF ...  48   DA  108.48   NK  DF   \n",
      "362  A   276  F  35.91  M   6.00  P  AB  88  BF ...  32   DC   60.85   NK  DF   \n",
      "0    A   966  E  35.91  V  22.63  Q  AD  88  AF ...  64   DC  171.97   NK  DF   \n",
      "244  C   552  E  35.91  K  12.85  P  AB  66  BA ...  32   DC   87.31   NK  DF   \n",
      "\n",
      "        X17  X18     X19  X20 X21  \n",
      "48   108642   DH   71.81   DP  DO  \n",
      "380   54321   DI   71.81   DP  DO  \n",
      "482   54321   DI   71.81   DP  DO  \n",
      "320   54321   DM   71.81   NN  DO  \n",
      "378   54321   DJ   71.81   DP  DO  \n",
      "446   54321   DI   71.81   DP  DO  \n",
      "146   54321   DM   71.81   DP  DO  \n",
      "379   54321   DM   71.81   DP  DO  \n",
      "235  108642   DM   71.81   DP  DO  \n",
      "483   54321   DH  143.62   NN  DO  \n",
      "7    108642   DM   71.81   NN  DO  \n",
      "346   54321   DM   71.81   DP  DO  \n",
      "36    54321   DH   71.81   NN  DO  \n",
      "338   54321   DI   71.81   NN  DO  \n",
      "400  108642   DM   71.81   NN  DO  \n",
      "402   54321   DH   71.81   NN  DO  \n",
      "68    54321   DM   71.81   NN  DO  \n",
      "272  108642   DM   71.81   NN  DT  \n",
      "84    54321   DH   71.81   NN  DO  \n",
      "160   54321   DH   71.81   NN  DO  \n",
      "79    54321   DM   71.81   NN  DO  \n",
      "475   54321   DM   71.81   NN  DO  \n",
      "243   54321   DM   71.81   DP  DO  \n",
      "345  108642   DM   71.81   NN  DO  \n",
      "387   54321   DM   71.81   NN  DO  \n",
      "13    54321   DM   71.81   NN  DO  \n",
      "123  108642   DH  143.62   NN  DO  \n",
      "202  108642   DM   71.81   NN  DO  \n",
      "364   54321   DM   71.81   NN  DO  \n",
      "497  108642   DI   71.81   DP  DO  \n",
      "..      ...  ...     ...  ...  ..  \n",
      "296  108642   DM   71.81   NN  DO  \n",
      "436  162963   DJ   71.81   NN  DO  \n",
      "409   54321   DM   71.81   NN  DO  \n",
      "327   54321   DI   71.81   DP  DO  \n",
      "86    54321   DM   71.81   DP  DO  \n",
      "444   54321   DH   71.81   NN  DO  \n",
      "278   54321   DM   71.81   NN  DO  \n",
      "210   54321   DI   71.81   NN  DO  \n",
      "325   54321   DM   71.81   NN  DO  \n",
      "180   54321   DM   71.81   NN  DO  \n",
      "499  162963   DM   71.81   NN  DO  \n",
      "117   54321   DM  143.62   DP  DO  \n",
      "198   54321   DM   71.81   DP  DO  \n",
      "44    54321   DM   71.81   NN  DT  \n",
      "149  108642   DH   71.81   DP  DO  \n",
      "290  108642   DM   71.81   DP  DO  \n",
      "216   54321   DJ   71.81   NN  DO  \n",
      "408   54321   DI   71.81   DP  DO  \n",
      "223  108642   DM   71.81   DP  DO  \n",
      "340   54321   DM   71.81   NN  DO  \n",
      "269  108642   DM   71.81   NN  DO  \n",
      "449  108642   DH  143.62   NN  DO  \n",
      "451   54321   DM   71.81   NN  DO  \n",
      "300   54321   DM   71.81   NN  DO  \n",
      "162   54321   DH   71.81   DP  DO  \n",
      "472  108642   DM   71.81   NN  DO  \n",
      "225   54321   DM   71.81   DP  DO  \n",
      "362   54321   DM   71.81   NN  DO  \n",
      "0    108642   DJ   71.81   NN  DO  \n",
      "244  108642   DM   71.81   DP  DO  \n",
      "\n",
      "[351 rows x 21 columns]\n"
     ]
    }
   ],
   "source": [
    "print (\"Train_x Shape :: \", train_x.shape)\n",
    "print(train_x)"
   ]
  },
  {
   "cell_type": "code",
   "execution_count": 123,
   "metadata": {},
   "outputs": [
    {
     "name": "stdout",
     "output_type": "stream",
     "text": [
      "Train_y Shape ::  (351,)\n",
      "48      MEM\n",
      "57      MEM\n",
      "26      MEM\n",
      "71      MEM\n",
      "102     MEM\n",
      "184     MEM\n",
      "134    NMEM\n",
      "498     MEM\n",
      "147    NMEM\n",
      "248     MEM\n",
      "178     MEM\n",
      "439     MEM\n",
      "119    NMEM\n",
      "446     MEM\n",
      "399     MEM\n",
      "283     MEM\n",
      "295     MEM\n",
      "176     MEM\n",
      "23     NMEM\n",
      "364    NMEM\n",
      "54      MEM\n",
      "133     MEM\n",
      "281    NMEM\n",
      "406     MEM\n",
      "218     MEM\n",
      "323     MEM\n",
      "400     MEM\n",
      "237     MEM\n",
      "320    NMEM\n",
      "309     MEM\n",
      "       ... \n",
      "82     NMEM\n",
      "88     NMEM\n",
      "211    NMEM\n",
      "496     MEM\n",
      "357     MEM\n",
      "491    NMEM\n",
      "65      MEM\n",
      "179     MEM\n",
      "249     MEM\n",
      "45      MEM\n",
      "405     MEM\n",
      "459     MEM\n",
      "144     MEM\n",
      "37     NMEM\n",
      "306    NMEM\n",
      "253     MEM\n",
      "53      MEM\n",
      "159    NMEM\n",
      "279    NMEM\n",
      "359    NMEM\n",
      "293     MEM\n",
      "425     MEM\n",
      "174     MEM\n",
      "122    NMEM\n",
      "458    NMEM\n",
      "432     MEM\n",
      "476     MEM\n",
      "469    NMEM\n",
      "481     MEM\n",
      "325    NMEM\n",
      "Name: Y, Length: 351, dtype: object\n",
      "Test_x Shape ::  (151, 21)\n",
      "Test_y Shape ::  (151,)\n"
     ]
    }
   ],
   "source": [
    "    print (\"Train_y Shape :: \", train_y.shape)\n",
    "    print(train_y)\n",
    "    print (\"Test_x Shape :: \", test_x.shape)\n",
    "    print (\"Test_y Shape :: \", test_y.shape)"
   ]
  },
  {
   "cell_type": "code",
   "execution_count": 127,
   "metadata": {
    "collapsed": true
   },
   "outputs": [],
   "source": [
    "def random_forest_classifier(features, target):\n",
    "    \"\"\"\n",
    "    To train the random forest classifier with features and target data\n",
    "    :param features:\n",
    "    :param target:\n",
    "    :return: trained random forest classifier\n",
    "    \"\"\"\n",
    "    clf = RandomForestClassifier()\n",
    "    clf.fit(features, target)\n",
    "    return clf"
   ]
  },
  {
   "cell_type": "code",
   "execution_count": 43,
   "metadata": {
    "collapsed": true
   },
   "outputs": [],
   "source": [
    "labels = []\n",
    "for i in range(503):\n",
    "    labels.append(data[i][21])"
=======
    "# Read data\n",
    "\n",
    "data = np.chararray(\"C:\\\\Users\\\\Varma\\\\ML Challenge\\\\data\\\\ml1data.train.txt\")\n",
    "# with open('C:\\\\Users\\\\Varma\\\\ML Challenge\\\\data\\\\ml1data.train.txt', 'r') as f:\n",
    "#     data = [i.split(\",\") for i in f.read().split()]\n",
    "#     print(data)"
>>>>>>> 15e419ba1f0a831aa24cf53aba86a1d89724e963
   ]
  },
  {
   "cell_type": "code",
<<<<<<< HEAD
   "execution_count": 46,
   "metadata": {},
   "outputs": [
    {
     "name": "stdout",
     "output_type": "stream",
     "text": [
      "503\n"
     ]
    }
   ],
   "source": [
    "print(len(labels))"
   ]
  },
  {
   "cell_type": "code",
   "execution_count": 55,
   "metadata": {
    "collapsed": true
   },
   "outputs": [],
   "source": [
    "x_data = []\n",
    "for i in range(503):\n",
    "    for j in range(21):\n",
    "        x_data.append(data[i][j])"
   ]
  },
  {
   "cell_type": "code",
   "execution_count": 61,
   "metadata": {
    "collapsed": true
   },
=======
   "execution_count": null,
   "metadata": {},
>>>>>>> 15e419ba1f0a831aa24cf53aba86a1d89724e963
   "outputs": [],
   "source": [
    "np.genfromtxt('C:\\\\Users\\\\Varma\\\\ML Challenge\\\\data\\\\ml1data.train.txt', delimiter=',')"
   ]
  },
  {
   "cell_type": "code",
<<<<<<< HEAD
   "execution_count": 69,
   "metadata": {
    "collapsed": true
   },
   "outputs": [],
   "source": [
    "import matplotlib.pyplot as plot"
   ]
  },
  {
   "cell_type": "code",
   "execution_count": 70,
   "metadata": {},
   "outputs": [
    {
     "data": {
      "text/plain": [
       "[<matplotlib.lines.Line2D at 0x7f36afae6da0>,\n",
       " <matplotlib.lines.Line2D at 0x7f36afa9c278>,\n",
       " <matplotlib.lines.Line2D at 0x7f36afa9c3c8>,\n",
       " <matplotlib.lines.Line2D at 0x7f36afa9c518>,\n",
       " <matplotlib.lines.Line2D at 0x7f36afa9c668>,\n",
       " <matplotlib.lines.Line2D at 0x7f36afa9c7b8>,\n",
       " <matplotlib.lines.Line2D at 0x7f36afa9c908>,\n",
       " <matplotlib.lines.Line2D at 0x7f36afa9ca58>,\n",
       " <matplotlib.lines.Line2D at 0x7f36afa9cba8>,\n",
       " <matplotlib.lines.Line2D at 0x7f36afa9ccf8>,\n",
       " <matplotlib.lines.Line2D at 0x7f36afaf2358>,\n",
       " <matplotlib.lines.Line2D at 0x7f36afa9cf60>,\n",
       " <matplotlib.lines.Line2D at 0x7f36afab70f0>,\n",
       " <matplotlib.lines.Line2D at 0x7f36afab7240>,\n",
       " <matplotlib.lines.Line2D at 0x7f36afab7390>,\n",
       " <matplotlib.lines.Line2D at 0x7f36afab74e0>,\n",
       " <matplotlib.lines.Line2D at 0x7f36afab7630>,\n",
       " <matplotlib.lines.Line2D at 0x7f36afab7780>,\n",
       " <matplotlib.lines.Line2D at 0x7f36afab78d0>,\n",
       " <matplotlib.lines.Line2D at 0x7f36afab7a20>,\n",
       " <matplotlib.lines.Line2D at 0x7f36afab7b70>]"
      ]
     },
     "execution_count": 70,
     "metadata": {},
     "output_type": "execute_result"
    }
   ],
   "source": [
    "plot.plot(input_data)"
=======
   "execution_count": null,
   "metadata": {},
   "outputs": [],
   "source": [
    "# Organize our data\n",
    "label_names = data['target_names']\n",
    "labels = data['target']\n",
    "feature_names = data['feature_names']\n",
    "features = data['data']"
>>>>>>> 15e419ba1f0a831aa24cf53aba86a1d89724e963
   ]
  },
  {
   "cell_type": "code",
   "execution_count": null,
   "metadata": {
    "collapsed": true
   },
   "outputs": [],
   "source": []
  }
 ],
 "metadata": {
  "kernelspec": {
   "display_name": "Python 3",
   "language": "python",
   "name": "python3"
  },
  "language_info": {
   "codemirror_mode": {
    "name": "ipython",
    "version": 3
   },
   "file_extension": ".py",
   "mimetype": "text/x-python",
   "name": "python",
   "nbconvert_exporter": "python",
   "pygments_lexer": "ipython3",
   "version": "3.6.1"
  }
 },
 "nbformat": 4,
 "nbformat_minor": 2
}
