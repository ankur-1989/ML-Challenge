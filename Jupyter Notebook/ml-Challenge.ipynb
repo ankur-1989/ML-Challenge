{
 "cells": [
  {
   "cell_type": "markdown",
   "metadata": {},
   "source": [
    "                                    Welcome to Machine Learning Challenge!"
   ]
  },
  {
   "cell_type": "code",
   "execution_count": 39,
   "metadata": {},
   "outputs": [
    {
     "data": {
      "text/html": [
       "<script>requirejs.config({paths: { 'plotly': ['https://cdn.plot.ly/plotly-latest.min']},});if(!window.Plotly) {{require(['plotly'],function(plotly) {window.Plotly=plotly;});}}</script>"
      ],
      "text/vnd.plotly.v1+html": [
       "<script>requirejs.config({paths: { 'plotly': ['https://cdn.plot.ly/plotly-latest.min']},});if(!window.Plotly) {{require(['plotly'],function(plotly) {window.Plotly=plotly;});}}</script>"
      ]
     },
     "metadata": {},
     "output_type": "display_data"
    }
   ],
   "source": [
    "import numpy as np\n",
    "import pandas as pd\n",
    "import plotly\n",
    "plotly.offline.init_notebook_mode(connected=True)\n",
    "import plotly.offline as py\n",
    "import plotly.graph_objs as go\n",
    "import plotly.figure_factory as FF\n",
    "from sklearn.model_selection import train_test_split\n",
    "import matplotlib.pyplot as plot"
   ]
  },
  {
   "cell_type": "code",
   "execution_count": 40,
   "metadata": {
    "collapsed": true
   },
   "outputs": [],
   "source": [
    "input_path = \"C:\\\\Users\\\\Varma\\\\ML Challenge\\\\data\\\\ml1data.train.txt\"\n",
    "output_path = \"C:\\\\Users\\\\Varma\\\\ML Challenge\\\\data\\\\challengeDataset.csv\"\n",
    "\n",
    "# input_path = \"/home/ankur/MachineLearning/challenge/ml-Challenge/data/ml1data.train.txt\"\n",
    "# output_path = \"/home/ankur/MachineLearning/challenge/ml-Challenge/data/challengeDataset.csv\"\n"
   ]
  },
  {
   "cell_type": "code",
   "execution_count": 41,
   "metadata": {},
   "outputs": [
    {
     "name": "stdout",
     "output_type": "stream",
     "text": [
      "     1     2  3      4  5       6  7   8   9  10  ...   13      14  15  16  \\\n",
      "0    A   138  E  35.91  J    7.79  P  AA  88  AF  ...   CQ  177.27  NK  DF   \n",
      "1    A   966  E  35.91  V   22.63  Q  AD  88  AF  ...   DC  171.97  NK  DF   \n",
      "2    C   345  E  35.91  J   12.19  Q  AA  88  AF  ...   DC  121.70  NK  DF   \n",
      "3    B   276  F  35.91  O    5.61  T  AC  44  BA  ...   CQ   60.85  NK  DG   \n",
      "4    C   552  G  35.91  L   27.67  T  AB  44  AF  ...   DA   92.60  NK  DF   \n",
      "5    B   161  F  35.91  J   17.17  Q  AB  44  AF  ...   CQ   92.60  NK  DF   \n",
      "6    A   345  H  71.81  M    6.33  Q  AA  88  AF  ...   DC   87.31  NK  DG   \n",
      "7    B   460  F  35.91  N   43.12  P  AD  22  AG  ...   CQ  158.75  NK  DF   \n",
      "8    C   414  E  35.91  N   25.67  Q  AC  66  AF  ...   DC   71.44  NK  DF   \n",
      "9    B  1242  H  35.91  O  106.30  Q  AE  66  AF  ...   DB  153.45  NK  DG   \n",
      "10   C   483  F  35.91  O   10.48  S  AA  88  BA  ...   CQ   95.25  DE  DF   \n",
      "11   B   138  F  35.91  J    3.93  Q  AE  66  BF  ...   CQ   68.79  NK  DF   \n",
      "12   C   276  F  35.91  L   10.49  Q  AB  88  AF  ...   CQ  132.29  NK  DF   \n",
      "13   B   345  F  35.91  V    8.72  Q  AA  88  AF  ...   DC  100.54  NK  DF   \n",
      "14   B   690  F  35.91  L   22.94  T  AB  44  BA  ...   DC   55.56  NK  DG   \n",
      "15   A   483  F  35.91  J   22.38  S  AE  88  BA  ...   DC   76.73  DE  DF   \n",
      "16   C   621  G  35.91  O   34.11  Q  AC  66  AF  ...   DC   68.79  NK  DF   \n",
      "17   B   345  E  35.91  O   15.51  R  AB  44  AF  ...   DC   71.44  DE  DF   \n",
      "18   A   299  E  35.91  O   11.98  Q  AE  66  AF  ...   DA   74.08  DE  DF   \n",
      "19   C   345  F  35.91  K   30.82  T  AB  66  AF  ...   DA  105.83  NK  DF   \n",
      "20   B   690  E  35.91  M   34.89  Q  AD  88  BF  ...   DC   74.08  NK  DF   \n",
      "21   B   690  F  35.91  M   14.33  Q  AB  88  BA  ...   DB   63.50  DE  DF   \n",
      "22   C   207  F  35.91  M   16.71  R  AA  44  AF  ...   DB  134.93  NK  DS   \n",
      "23   B   207  E  71.81  K    7.57  S  AA  88  AF  ...   DB   84.66  NK  DS   \n",
      "24   D   345  F  35.91  J   15.51  Q  AE  44  BA  ...   CQ   66.14  NK  DF   \n",
      "25   C   345  F  35.91  M   23.71  P  AB  66  AF  ...   DB   76.73  NK  DF   \n",
      "26   B   207  F  35.91  J    7.21  Q  AA  88  AF  ...   DC   71.44  NK  DF   \n",
      "27   B   276  E  71.81  M    6.39  Q  AC  44  AF  ...   CQ  124.35  NK  DF   \n",
      "28   C   828  F  35.91  L   73.16  Q  AD  88  BA  ...   DC   68.79  NK  DF   \n",
      "29   B   414  F  35.91  L   12.83  P  AE  88  BA  ...   CQ   71.44  NK  DG   \n",
      "..  ..   ... ..    ... ..     ... ..  ..  ..  ..  ...   ..     ...  ..  ..   \n",
      "473  A  1035  H  35.91  O   78.77  Q  AA  44  AF  ...   DC   76.73  NK  DG   \n",
      "474  C   828  F  35.91  J   25.57  P  AA  44  BA  ...   CQ  119.06  NK  DF   \n",
      "475  C   552  F  35.91  J    9.17  R  AC  88  BA  ...   DC   74.08  NK  DF   \n",
      "476  A   345  F  35.91  L   12.30  Q  AE  88  BA  ...   DA  121.70  NK  DG   \n",
      "477  C   207  F  35.91  L    8.75  Q  AA  22  AF  ...   DC   52.92  NK  DF   \n",
      "478  C   552  F  35.91  J   39.62  P  AE  22  BA  ...   DC  116.41  NK  DF   \n",
      "479  C   138  F  35.91  N    8.24  R  AB  44  AF  ...   DA  132.29  NK  DG   \n",
      "480  C   414  E  35.91  L   25.20  Q  AE  66  AG  ...   DC   92.60  NK  DF   \n",
      "481  C   230  E  71.81  M    8.21  Q  AA  66  AF  ...   CQ   84.66  NK  DF   \n",
      "482  A   184  E  35.91  M   22.65  Q  AC  22  AF  ...   CQ  103.18  NK  DF   \n",
      "483  B  1104  E  35.91  L   33.97  Q  AB  44  BA  ...   DC   79.37  NK  DF   \n",
      "484  D   230  F  71.81  M    8.27  T  AA  22  BA  ...   DB  127.00  NK  DS   \n",
      "485  C   483  H  35.91  M   33.35  P  AB  22  BA  ...   DA   76.73  DE  DF   \n",
      "486  C   345  G  35.91  N   23.96  Q  AE  22  BA  ...   DA  121.70  NK  DF   \n",
      "487  B   966  E  35.91  O   39.69  Q  AC  44  BA  ...   CQ  108.48  DE  DF   \n",
      "488  A   230  E  35.91  M    6.92  Q  AC  88  AF  ...   DA  129.64  NK  DF   \n",
      "489  B   276  F  35.91  M    5.57  T  AE  88  BA  ...   DA   60.85  DE  DF   \n",
      "490  A   920  E  35.91  K   39.99  Q  AB  88  AF  ...   DB   71.44  DE  DF   \n",
      "491  C   207  E  35.91  M    8.16  Q  AB  66  AF  ...   CQ   79.37  NK  DF   \n",
      "492  A   828  F  35.91  J   15.35  Q  AB  88  AG  ...   DC   82.02  NK  DG   \n",
      "493  C   207  F  35.91  L   15.34  T  AE  44  BA  ...   DA   58.21  NK  DG   \n",
      "494  C   276  E  35.91  L    9.35  R  AC  66  BA  ...   DC   97.89  NK  DG   \n",
      "495  C   115  F  35.91  O   22.99  Q  AC  22  AF  ...   CQ  195.79  NK  DF   \n",
      "496  A   138  F  35.91  N    9.01  R  AD  22  BA  ...   DA   60.85  NK  DG   \n",
      "497  C   552  F  35.91  N   36.22  P  AD  44  BA  ...   DA   68.79  NK  DG   \n",
      "498  A   828  E  35.91  K   53.77  Q  AB  66  BA  ...   DB   66.14  NK  DF   \n",
      "499  C   552  F  35.91  M    9.83  T  AE  88  BF  ...   CQ   87.31  NK  DF   \n",
      "500  C   276  E  35.91  J    4.78  Q  AA  88  AF  ...   CQ  137.58  NK  DF   \n",
      "501  A   276  F  71.81  L   23.93  Q  AB  44  AF  ...   DA   76.73  NK  DF   \n",
      "502  C   414  E  35.91  J    7.66  S  AB  88  AF  ...   CQ  121.70  NK  DF   \n",
      "\n",
      "         17  18      19  20  21    22  \n",
      "0    108642  DM   71.81  DP  DO   MEM  \n",
      "1    108642  DJ   71.81  NN  DO   MEM  \n",
      "2    108642  DM   71.81  DP  DO   MEM  \n",
      "3     54321  DH   71.81  NN  DO   MEM  \n",
      "4    108642  DM   71.81  NN  DO   MEM  \n",
      "5     54321  DM   71.81  NN  DO   MEM  \n",
      "6    108642  DM  143.62  NN  DO  NMEM  \n",
      "7     54321  DI   71.81  DP  DO   MEM  \n",
      "8    108642  DM   71.81  NN  DO   MEM  \n",
      "9     54321  DM   71.81  DP  DO  NMEM  \n",
      "10    54321  DH   71.81  NN  DO   MEM  \n",
      "11    54321  DH   71.81  NN  DT   MEM  \n",
      "12    54321  DM   71.81  NN  DO   MEM  \n",
      "13   108642  DH   71.81  NN  DO   MEM  \n",
      "14    54321  DM   71.81  NN  DO  NMEM  \n",
      "15    54321  DM   71.81  NN  DO   MEM  \n",
      "16   108642  DM   71.81  NN  DO   MEM  \n",
      "17    54321  DM   71.81  NN  DO   MEM  \n",
      "18   108642  DH   71.81  NN  DO   MEM  \n",
      "19    54321  DI   71.81  DP  DO  NMEM  \n",
      "20   108642  DI   71.81  NN  DO  NMEM  \n",
      "21    54321  DM   71.81  NN  DO  NMEM  \n",
      "22    54321  DH   71.81  NN  DO   MEM  \n",
      "23   108642  DM  143.62  NN  DO  NMEM  \n",
      "24    54321  DH   71.81  NN  DO  NMEM  \n",
      "25    54321  DM   71.81  NN  DO   MEM  \n",
      "26   108642  DH   71.81  NN  DO   MEM  \n",
      "27   108642  DH  143.62  NN  DO   MEM  \n",
      "28   108642  DI   71.81  DP  DO  NMEM  \n",
      "29    54321  DM   71.81  NN  DO  NMEM  \n",
      "..      ...  ..     ...  ..  ..   ...  \n",
      "473  108642  DM   71.81  NN  DO  NMEM  \n",
      "474   54321  DH   71.81  DP  DO   MEM  \n",
      "475   54321  DM   71.81  NN  DO   MEM  \n",
      "476   54321  DM   71.81  NN  DO   MEM  \n",
      "477   54321  DM   71.81  NN  DO   MEM  \n",
      "478  108642  DM   71.81  DP  DO  NMEM  \n",
      "479   54321  DM   71.81  NN  DO   MEM  \n",
      "480  108642  DI   71.81  DP  DO   MEM  \n",
      "481  108642  DH  143.62  NN  DT   MEM  \n",
      "482  108642  DH   71.81  NN  DT   MEM  \n",
      "483   54321  DI   71.81  DP  DO  NMEM  \n",
      "484   54321  DH  143.62  NN  DO  NMEM  \n",
      "485  108642  DM   71.81  DP  DO  NMEM  \n",
      "486  108642  DH   71.81  NN  DO   MEM  \n",
      "487  108642  DH   71.81  NN  DO   MEM  \n",
      "488  108642  DM   71.81  DP  DO   MEM  \n",
      "489   54321  DH   71.81  NN  DO  NMEM  \n",
      "490   54321  DM   71.81  DP  DO  NMEM  \n",
      "491  108642  DM   71.81  NN  DO   MEM  \n",
      "492   54321  DM   71.81  NN  DO  NMEM  \n",
      "493   54321  DM   71.81  NN  DO   MEM  \n",
      "494   54321  DM   71.81  DP  DO   MEM  \n",
      "495   54321  DH   71.81  NN  DO   MEM  \n",
      "496   54321  DJ   71.81  DP  DO   MEM  \n",
      "497   54321  DI   71.81  DP  DO   MEM  \n",
      "498  108642  DI   71.81  DP  DO  NMEM  \n",
      "499   54321  DM   71.81  DP  DO   MEM  \n",
      "500  162963  DM   71.81  NN  DO   MEM  \n",
      "501   54321  DH  143.62  NN  DO   MEM  \n",
      "502  108642  DM   71.81  NN  DO   MEM  \n",
      "\n",
      "[503 rows x 22 columns]\n"
     ]
    }
   ],
   "source": [
    "with open('C:\\\\Users\\\\Varma\\\\ML Challenge\\\\data\\\\ml1data.train.txt', 'r') as original: data = original.read()\n",
    "with open('C:\\\\Users\\\\Varma\\\\ML Challenge\\\\data\\\\ml1data.train.txt', 'w') as modified: modified.write(\"1,2,3,4,5,6,7,8,9,10,11,12,13,14,15,16,17,18,19,20,21,22\\n\" + data)\n",
    "dataset = pd.read_csv(input_path)\n",
    "print(dataset)"
   ]
  },
  {
   "cell_type": "code",
   "execution_count": 42,
   "metadata": {
    "collapsed": true
   },
   "outputs": [],
   "source": [
    "headers = [\"X1\", \"X2\", \"X3\", \"X4\", \"X5\",\n",
    "               \"X6\", \"X7\", \"X8\", \"X9\", \"X10\",\n",
    "               \"X11\",\"X12\",\"X13\",\"X14\", \"X15\", \"X16\", \"X17\", \"X18\",\n",
    "               \"X19\", \"X20\", \"X21\",\"Y\"]"
   ]
  },
  {
   "cell_type": "code",
   "execution_count": 43,
   "metadata": {},
   "outputs": [
    {
     "name": "stdout",
     "output_type": "stream",
     "text": [
      "    X1    X2 X3     X4 X5      X6 X7  X8  X9 X10  ...  X13     X14 X15  X16  \\\n",
      "0    A   138  E  35.91  J    7.79  P  AA  88  AF  ...   CQ  177.27  NK   DF   \n",
      "1    A   966  E  35.91  V   22.63  Q  AD  88  AF  ...   DC  171.97  NK   DF   \n",
      "2    C   345  E  35.91  J   12.19  Q  AA  88  AF  ...   DC  121.70  NK   DF   \n",
      "3    B   276  F  35.91  O    5.61  T  AC  44  BA  ...   CQ   60.85  NK   DG   \n",
      "4    C   552  G  35.91  L   27.67  T  AB  44  AF  ...   DA   92.60  NK   DF   \n",
      "5    B   161  F  35.91  J   17.17  Q  AB  44  AF  ...   CQ   92.60  NK   DF   \n",
      "6    A   345  H  71.81  M    6.33  Q  AA  88  AF  ...   DC   87.31  NK   DG   \n",
      "7    B   460  F  35.91  N   43.12  P  AD  22  AG  ...   CQ  158.75  NK   DF   \n",
      "8    C   414  E  35.91  N   25.67  Q  AC  66  AF  ...   DC   71.44  NK   DF   \n",
      "9    B  1242  H  35.91  O  106.30  Q  AE  66  AF  ...   DB  153.45  NK   DG   \n",
      "10   C   483  F  35.91  O   10.48  S  AA  88  BA  ...   CQ   95.25  DE   DF   \n",
      "11   B   138  F  35.91  J    3.93  Q  AE  66  BF  ...   CQ   68.79  NK   DF   \n",
      "12   C   276  F  35.91  L   10.49  Q  AB  88  AF  ...   CQ  132.29  NK   DF   \n",
      "13   B   345  F  35.91  V    8.72  Q  AA  88  AF  ...   DC  100.54  NK   DF   \n",
      "14   B   690  F  35.91  L   22.94  T  AB  44  BA  ...   DC   55.56  NK   DG   \n",
      "15   A   483  F  35.91  J   22.38  S  AE  88  BA  ...   DC   76.73  DE   DF   \n",
      "16   C   621  G  35.91  O   34.11  Q  AC  66  AF  ...   DC   68.79  NK   DF   \n",
      "17   B   345  E  35.91  O   15.51  R  AB  44  AF  ...   DC   71.44  DE   DF   \n",
      "18   A   299  E  35.91  O   11.98  Q  AE  66  AF  ...   DA   74.08  DE   DF   \n",
      "19   C   345  F  35.91  K   30.82  T  AB  66  AF  ...   DA  105.83  NK   DF   \n",
      "20   B   690  E  35.91  M   34.89  Q  AD  88  BF  ...   DC   74.08  NK   DF   \n",
      "21   B   690  F  35.91  M   14.33  Q  AB  88  BA  ...   DB   63.50  DE   DF   \n",
      "22   C   207  F  35.91  M   16.71  R  AA  44  AF  ...   DB  134.93  NK   DS   \n",
      "23   B   207  E  71.81  K    7.57  S  AA  88  AF  ...   DB   84.66  NK   DS   \n",
      "24   D   345  F  35.91  J   15.51  Q  AE  44  BA  ...   CQ   66.14  NK   DF   \n",
      "25   C   345  F  35.91  M   23.71  P  AB  66  AF  ...   DB   76.73  NK   DF   \n",
      "26   B   207  F  35.91  J    7.21  Q  AA  88  AF  ...   DC   71.44  NK   DF   \n",
      "27   B   276  E  71.81  M    6.39  Q  AC  44  AF  ...   CQ  124.35  NK   DF   \n",
      "28   C   828  F  35.91  L   73.16  Q  AD  88  BA  ...   DC   68.79  NK   DF   \n",
      "29   B   414  F  35.91  L   12.83  P  AE  88  BA  ...   CQ   71.44  NK   DG   \n",
      "..  ..   ... ..    ... ..     ... ..  ..  ..  ..  ...   ..     ...  ..  ...   \n",
      "473  A  1035  H  35.91  O   78.77  Q  AA  44  AF  ...   DC   76.73  NK   DG   \n",
      "474  C   828  F  35.91  J   25.57  P  AA  44  BA  ...   CQ  119.06  NK   DF   \n",
      "475  C   552  F  35.91  J    9.17  R  AC  88  BA  ...   DC   74.08  NK   DF   \n",
      "476  A   345  F  35.91  L   12.30  Q  AE  88  BA  ...   DA  121.70  NK   DG   \n",
      "477  C   207  F  35.91  L    8.75  Q  AA  22  AF  ...   DC   52.92  NK   DF   \n",
      "478  C   552  F  35.91  J   39.62  P  AE  22  BA  ...   DC  116.41  NK   DF   \n",
      "479  C   138  F  35.91  N    8.24  R  AB  44  AF  ...   DA  132.29  NK   DG   \n",
      "480  C   414  E  35.91  L   25.20  Q  AE  66  AG  ...   DC   92.60  NK   DF   \n",
      "481  C   230  E  71.81  M    8.21  Q  AA  66  AF  ...   CQ   84.66  NK   DF   \n",
      "482  A   184  E  35.91  M   22.65  Q  AC  22  AF  ...   CQ  103.18  NK   DF   \n",
      "483  B  1104  E  35.91  L   33.97  Q  AB  44  BA  ...   DC   79.37  NK   DF   \n",
      "484  D   230  F  71.81  M    8.27  T  AA  22  BA  ...   DB  127.00  NK   DS   \n",
      "485  C   483  H  35.91  M   33.35  P  AB  22  BA  ...   DA   76.73  DE   DF   \n",
      "486  C   345  G  35.91  N   23.96  Q  AE  22  BA  ...   DA  121.70  NK   DF   \n",
      "487  B   966  E  35.91  O   39.69  Q  AC  44  BA  ...   CQ  108.48  DE   DF   \n",
      "488  A   230  E  35.91  M    6.92  Q  AC  88  AF  ...   DA  129.64  NK   DF   \n",
      "489  B   276  F  35.91  M    5.57  T  AE  88  BA  ...   DA   60.85  DE   DF   \n",
      "490  A   920  E  35.91  K   39.99  Q  AB  88  AF  ...   DB   71.44  DE   DF   \n",
      "491  C   207  E  35.91  M    8.16  Q  AB  66  AF  ...   CQ   79.37  NK   DF   \n",
      "492  A   828  F  35.91  J   15.35  Q  AB  88  AG  ...   DC   82.02  NK   DG   \n",
      "493  C   207  F  35.91  L   15.34  T  AE  44  BA  ...   DA   58.21  NK   DG   \n",
      "494  C   276  E  35.91  L    9.35  R  AC  66  BA  ...   DC   97.89  NK   DG   \n",
      "495  C   115  F  35.91  O   22.99  Q  AC  22  AF  ...   CQ  195.79  NK   DF   \n",
      "496  A   138  F  35.91  N    9.01  R  AD  22  BA  ...   DA   60.85  NK   DG   \n",
      "497  C   552  F  35.91  N   36.22  P  AD  44  BA  ...   DA   68.79  NK   DG   \n",
      "498  A   828  E  35.91  K   53.77  Q  AB  66  BA  ...   DB   66.14  NK   DF   \n",
      "499  C   552  F  35.91  M    9.83  T  AE  88  BF  ...   CQ   87.31  NK   DF   \n",
      "500  C   276  E  35.91  J    4.78  Q  AA  88  AF  ...   CQ  137.58  NK   DF   \n",
      "501  A   276  F  71.81  L   23.93  Q  AB  44  AF  ...   DA   76.73  NK   DF   \n",
      "502  C   414  E  35.91  J    7.66  S  AB  88  AF  ...   CQ  121.70  NK   DF   \n",
      "\n",
      "        X17 X18     X19 X20  X21     Y  \n",
      "0    108642  DM   71.81  DP   DO   MEM  \n",
      "1    108642  DJ   71.81  NN   DO   MEM  \n",
      "2    108642  DM   71.81  DP   DO   MEM  \n",
      "3     54321  DH   71.81  NN   DO   MEM  \n",
      "4    108642  DM   71.81  NN   DO   MEM  \n",
      "5     54321  DM   71.81  NN   DO   MEM  \n",
      "6    108642  DM  143.62  NN   DO  NMEM  \n",
      "7     54321  DI   71.81  DP   DO   MEM  \n",
      "8    108642  DM   71.81  NN   DO   MEM  \n",
      "9     54321  DM   71.81  DP   DO  NMEM  \n",
      "10    54321  DH   71.81  NN   DO   MEM  \n",
      "11    54321  DH   71.81  NN   DT   MEM  \n",
      "12    54321  DM   71.81  NN   DO   MEM  \n",
      "13   108642  DH   71.81  NN   DO   MEM  \n",
      "14    54321  DM   71.81  NN   DO  NMEM  \n",
      "15    54321  DM   71.81  NN   DO   MEM  \n",
      "16   108642  DM   71.81  NN   DO   MEM  \n",
      "17    54321  DM   71.81  NN   DO   MEM  \n",
      "18   108642  DH   71.81  NN   DO   MEM  \n",
      "19    54321  DI   71.81  DP   DO  NMEM  \n",
      "20   108642  DI   71.81  NN   DO  NMEM  \n",
      "21    54321  DM   71.81  NN   DO  NMEM  \n",
      "22    54321  DH   71.81  NN   DO   MEM  \n",
      "23   108642  DM  143.62  NN   DO  NMEM  \n",
      "24    54321  DH   71.81  NN   DO  NMEM  \n",
      "25    54321  DM   71.81  NN   DO   MEM  \n",
      "26   108642  DH   71.81  NN   DO   MEM  \n",
      "27   108642  DH  143.62  NN   DO   MEM  \n",
      "28   108642  DI   71.81  DP   DO  NMEM  \n",
      "29    54321  DM   71.81  NN   DO  NMEM  \n",
      "..      ...  ..     ...  ..  ...   ...  \n",
      "473  108642  DM   71.81  NN   DO  NMEM  \n",
      "474   54321  DH   71.81  DP   DO   MEM  \n",
      "475   54321  DM   71.81  NN   DO   MEM  \n",
      "476   54321  DM   71.81  NN   DO   MEM  \n",
      "477   54321  DM   71.81  NN   DO   MEM  \n",
      "478  108642  DM   71.81  DP   DO  NMEM  \n",
      "479   54321  DM   71.81  NN   DO   MEM  \n",
      "480  108642  DI   71.81  DP   DO   MEM  \n",
      "481  108642  DH  143.62  NN   DT   MEM  \n",
      "482  108642  DH   71.81  NN   DT   MEM  \n",
      "483   54321  DI   71.81  DP   DO  NMEM  \n",
      "484   54321  DH  143.62  NN   DO  NMEM  \n",
      "485  108642  DM   71.81  DP   DO  NMEM  \n",
      "486  108642  DH   71.81  NN   DO   MEM  \n",
      "487  108642  DH   71.81  NN   DO   MEM  \n",
      "488  108642  DM   71.81  DP   DO   MEM  \n",
      "489   54321  DH   71.81  NN   DO  NMEM  \n",
      "490   54321  DM   71.81  DP   DO  NMEM  \n",
      "491  108642  DM   71.81  NN   DO   MEM  \n",
      "492   54321  DM   71.81  NN   DO  NMEM  \n",
      "493   54321  DM   71.81  NN   DO   MEM  \n",
      "494   54321  DM   71.81  DP   DO   MEM  \n",
      "495   54321  DH   71.81  NN   DO   MEM  \n",
      "496   54321  DJ   71.81  DP   DO   MEM  \n",
      "497   54321  DI   71.81  DP   DO   MEM  \n",
      "498  108642  DI   71.81  DP   DO  NMEM  \n",
      "499   54321  DM   71.81  DP   DO   MEM  \n",
      "500  162963  DM   71.81  NN   DO   MEM  \n",
      "501   54321  DH  143.62  NN   DO   MEM  \n",
      "502  108642  DM   71.81  NN   DO   MEM  \n",
      "\n",
      "[503 rows x 22 columns]\n"
     ]
    }
   ],
   "source": [
    "dataset.columns = headers\n",
    "print(dataset)"
   ]
  },
  {
   "cell_type": "code",
   "execution_count": 44,
   "metadata": {},
   "outputs": [
    {
     "name": "stdout",
     "output_type": "stream",
     "text": [
      "                X2          X4          X6          X9         X12  \\\n",
      "count   503.000000  503.000000  503.000000  503.000000  503.000000   \n",
      "mean    474.540755   41.262883   21.780020   66.000000   45.168986   \n",
      "std     283.995577   12.800034   18.918585   23.931176   17.655436   \n",
      "min      92.000000   35.910000    1.670000   22.000000   16.000000   \n",
      "25%     276.000000   35.910000    9.050000   44.000000   32.000000   \n",
      "50%     414.000000   35.910000   15.460000   66.000000   48.000000   \n",
      "75%     552.000000   35.910000   26.485000   88.000000   64.000000   \n",
      "max    1380.000000   71.810000  106.300000   88.000000   64.000000   \n",
      "\n",
      "              X14            X17         X19  \n",
      "count  503.000000     503.000000  503.000000  \n",
      "mean    95.042207   75055.854871   82.517256  \n",
      "std     30.421495   30543.613114   25.603633  \n",
      "min     52.920000   54321.000000   71.810000  \n",
      "25%     71.440000   54321.000000   71.810000  \n",
      "50%     89.960000   54321.000000   71.810000  \n",
      "75%    109.800000  108642.000000   71.810000  \n",
      "max    198.430000  217284.000000  143.620000  \n"
     ]
    }
   ],
   "source": [
    "dataset.to_csv(output_path, index=False)\n",
    "print(dataset.describe())"
   ]
  },
  {
   "cell_type": "code",
   "execution_count": 45,
   "metadata": {
    "collapsed": true
   },
   "outputs": [],
   "source": [
    "def split_dataset(dataset, train_percentage, feature_headers, target_header):\n",
    "    \"\"\"\n",
    "    Split the dataset with train_percentage\n",
    "    :param dataset:\n",
    "    :param train_percentage:\n",
    "    :param feature_headers:\n",
    "    :param target_header:\n",
    "    :return: train_x, test_x, train_y, test_y\n",
    "    \"\"\"\n",
    "\n",
    "    # Split dataset into train and test dataset\n",
    "    train_x, test_x, train_y, test_y = train_test_split(dataset[feature_headers], dataset[target_header],\n",
    "                                                        train_size=train_percentage)\n",
    "    return train_x, test_x, train_y, test_y"
   ]
  },
  {
   "cell_type": "code",
   "execution_count": 46,
   "metadata": {},
   "outputs": [
    {
     "name": "stdout",
     "output_type": "stream",
     "text": [
      "['X1', 'X2', 'X3', 'X4', 'X5', 'X6', 'X7', 'X8', 'X9', 'X10', 'X11', 'X12', 'X13', 'X14', 'X15', 'X16', 'X17', 'X18', 'X19', 'X20', 'X21', 'Y']\n"
     ]
    }
   ],
   "source": [
    "print(headers[0:])"
   ]
  },
  {
   "cell_type": "code",
   "execution_count": 47,
   "metadata": {},
   "outputs": [
    {
     "name": "stderr",
     "output_type": "stream",
     "text": [
      "C:\\Users\\Varma\\Anaconda3\\lib\\site-packages\\sklearn\\model_selection\\_split.py:2026: FutureWarning:\n",
      "\n",
      "From version 0.21, test_size will always complement train_size unless both are specified.\n",
      "\n"
     ]
    }
   ],
   "source": [
    "train_x, test_x, train_y, test_y = split_dataset(dataset, 0.7, headers[0:-1], headers[21])"
   ]
  },
  {
   "cell_type": "code",
   "execution_count": 48,
   "metadata": {},
   "outputs": [
    {
     "name": "stdout",
     "output_type": "stream",
     "text": [
      "Train_x Shape ::  (352, 21)\n",
      "    X1    X2 X3     X4 X5     X6 X7  X8  X9 X10 ... X12  X13     X14  X15 X16  \\\n",
      "187  C   828  F  35.91  J  23.97  Q  AA  88  AF ...  32   DC   74.08   NK  DF   \n",
      "332  C   552  E  35.91  J  16.16  P  AA  88  AF ...  64   DA  140.22   NK  DF   \n",
      "488  A   230  E  35.91  M   6.92  Q  AC  88  AF ...  48   DA  129.64   NK  DF   \n",
      "292  B   414  E  35.91  L  49.16  Q  AD  88  AF ...  64   DA  105.83   DD  DF   \n",
      "241  C   345  F  35.91  J  23.79  Q  AA  88  BA ...  32   DC  142.87   DE  DG   \n",
      "50   C   552  F  71.81  M  10.17  S  AC  88  BA ...  48   DC   89.96   NK  DF   \n",
      "374  C   552  F  35.91  J   8.74  T  AC  88  BF ...  48   DA   68.79   NK  DF   \n",
      "323  C   828  E  35.91  O  42.03  P  AA  88  AF ...  64   CQ   95.25   NK  DF   \n",
      "177  C   414  F  35.91  J   9.69  Q  AE  66  BA ...  16   CQ   68.79   NK  DF   \n",
      "18   A   299  E  35.91  O  11.98  Q  AE  66  AF ...  16   DA   74.08   DE  DF   \n",
      "498  A   828  E  35.91  K  53.77  Q  AB  66  BA ...  32   DB   66.14   NK  DF   \n",
      "114  C   230  E  35.91  L  13.79  P  AB  44  BF ...  16   DC   68.79   NK  DF   \n",
      "98   B  1104  H  71.81  O  25.63  T  AC  88  AF ...  64   DB   89.96   NK  DS   \n",
      "368  C   345  F  35.91  N  20.19  Q  AC  44  AF ...  32   DC   87.31   NK  DF   \n",
      "113  B   552  G  35.91  O  31.41  P  AB  88  AF ...  32   DA   97.89   DE  DF   \n",
      "412  C   276  E  35.91  K  13.41  P  AC  88  BA ...  32   DC  161.39   NK  DF   \n",
      "481  C   230  E  71.81  M   8.21  Q  AA  66  AF ...  64   CQ   84.66   NK  DF   \n",
      "148  B   552  F  35.91  M   8.31  Q  AE  88  AF ...  32   CQ   60.85   DD  DF   \n",
      "455  B   276  E  35.91  M  13.30  T  AE  88  AF ...  16   DC   71.44   NK  DF   \n",
      "411  C   276  F  71.81  K   4.79  Q  AA  88  AF ...  64   DC  108.48   DE  DF   \n",
      "286  A   345  F  35.91  M  16.74  Q  AD  22  BA ...  64   DC   60.85   NK  DG   \n",
      "456  D   552  F  35.91  L  12.83  Q  AB  44  AF ...  32   CQ   68.79   NK  DF   \n",
      "377  B  1380  F  35.91  K  41.92  Q  AB  88  AF ...  64   DB  111.12   NK  DS   \n",
      "163  A   552  F  35.91  L  21.56  Q  AE  88  BA ...  64   CQ   60.85   NK  DG   \n",
      "31   C  1104  E  35.91  M  67.51  R  AB  44  AF ...  32   DB  116.41   DE  DS   \n",
      "426  C   345  F  35.91  J  13.19  P  AA  88  AF ...  32   DC   92.60   NK  DF   \n",
      "319  A   414  F  35.91  L   7.54  Q  AD  88  BA ...  32   DC   87.31   NK  DF   \n",
      "437  D   276  E  35.91  M   9.87  R  AD  44  AF ...  64   DB  174.62   DE  DS   \n",
      "230  A  1104  F  35.91  M  51.75  Q  AA  88  AF ...  64   DB  111.12   DE  DS   \n",
      "436  B   414  E  35.91  J   8.30  Q  AB  88  BF ...  32   DC   87.31   NK  DF   \n",
      "..  ..   ... ..    ... ..    ... ..  ..  ..  .. ...  ..  ...     ...  ...  ..   \n",
      "271  C   414  E  35.91  M  10.20  Q  AB  66  AF ...  32   DA   84.66   DE  DF   \n",
      "305  C   552  G  35.91  O  57.65  Q  AE  44  AF ...  32   DC   71.44   DE  DF   \n",
      "266  B  1380  F  35.91  M  49.39  T  AE  88  BA ...  32   DA   63.50   NK  DF   \n",
      "82   A   552  I  35.91  J  10.31  Q  AC  88  AF ...  64   DC   63.50   DE  DG   \n",
      "189  C   276  E  35.91  V   6.64  P  AC  88  BA ...  64   CQ   60.85   NK  DF   \n",
      "143  C   552  F  35.91  J  21.57  R  AA  66  AG ...  32   DC   68.79   NK  DF   \n",
      "295  D    92  F  71.81  M   9.96  P  AE  22  AF ...  32   CQ   76.73   NK  DF   \n",
      "108  B   253  F  35.91  L  10.51  S  AE  88  BA ...  16   CQ   52.92   NK  DF   \n",
      "97   A   414  F  35.91  L  13.59  Q  AB  22  BA ...  64   CQ   52.92   DE  DG   \n",
      "268  B   552  G  35.91  M  13.10  P  AB  88  BA ...  64   DC  111.12   NK  DG   \n",
      "309  B   483  F  71.81  O   7.92  Q  AA  44  BA ...  64   DA  103.18   NK  DF   \n",
      "158  C   138  G  35.91  J   6.21  Q  AB  66  BA ...  32   CQ   63.50   NK  DF   \n",
      "72   C   230  F  35.91  M   9.09  Q  AB  44  BA ...  64   DC  169.33   NK  DF   \n",
      "192  D   966  E  35.91  N  31.97  Q  AA  88  AF ...  64   DB  148.16   NK  DS   \n",
      "405  C   276  F  35.91  O  10.28  Q  AC  44  AF ...  64   DC   95.25   NK  DF   \n",
      "60   B   414  E  35.91  L  42.41  Q  AA  44  AF ...  16   DB  108.48   NK  DF   \n",
      "24   D   345  F  35.91  J  15.51  Q  AE  44  BA ...  48   CQ   66.14   NK  DF   \n",
      "63   C   552  F  35.91  J  12.67  T  AB  88  AF ...  64   DC   76.73   NK  DG   \n",
      "298  D   207  F  35.91  J   7.51  T  AA  44  AG ...  64   CQ  129.64   NK  DF   \n",
      "137  D   230  E  35.91  M   5.21  Q  AA  88  AF ...  64   DB  166.68   NK  DS   \n",
      "88   A   552  F  71.81  J  13.25  Q  AB  44  AF ...  64   CQ   55.56   NK  DG   \n",
      "365  A   138  I  35.91  K   7.99  Q  AA  88  BA ...  64   DB   92.60   NK  DS   \n",
      "67   A   207  F  35.91  M   4.36  Q  AB  88  AF ...  48   DC   74.08   NK  DF   \n",
      "225  C   621  F  35.91  M  17.13  Q  AB  66  BA ...  48   CQ   55.56   NK  DG   \n",
      "215  C   138  H  35.91  J   2.84  Q  AA  88  BF ...  64   DC  103.18   NK  DF   \n",
      "360  B  1035  F  35.91  J  20.21  T  AB  88  AF ...  64   DA   55.56   NK  DG   \n",
      "304  C   345  E  35.91  L  18.59  Q  AC  44  BA ...  48   DC   63.50   DE  DF   \n",
      "130  C   414  F  35.91  M  12.13  Q  AB  44  BF ...  32   DA   79.37   NK  DF   \n",
      "36   B   897  G  35.91  K  78.40  T  AC  44  AF ...  48   DB   84.66   NK  DG   \n",
      "237  A   276  H  35.91  J  41.33  Q  AB  88  AF ...  32   DA   74.08   NK  DG   \n",
      "\n",
      "        X17  X18     X19  X20 X21  \n",
      "187   54321   DM   71.81   NN  DO  \n",
      "332  108642   DM   71.81   NN  DO  \n",
      "488  108642   DM   71.81   DP  DO  \n",
      "292  108642   DI   71.81   DP  DO  \n",
      "241   54321   DI   71.81   DP  DO  \n",
      "50    54321   DM  143.62   DP  DO  \n",
      "374   54321   DM   71.81   DP  DO  \n",
      "323  108642   DM   71.81   NN  DO  \n",
      "177   54321   DM   71.81   NN  DO  \n",
      "18   108642   DH   71.81   NN  DO  \n",
      "498  108642   DI   71.81   DP  DO  \n",
      "114  108642   DM   71.81   NN  DT  \n",
      "98    54321   DH  143.62   NN  DO  \n",
      "368   54321   DM   71.81   NN  DO  \n",
      "113  108642   DI   71.81   DP  DO  \n",
      "412   54321   DM   71.81   NN  DO  \n",
      "481  108642   DH  143.62   NN  DT  \n",
      "148   54321   DH   71.81   NN  DO  \n",
      "455   54321   DM   71.81   NN  DO  \n",
      "411   54321   DH  143.62   NN  DO  \n",
      "286   54321   DM   71.81   NN  DO  \n",
      "456   54321   DM   71.81   NN  DO  \n",
      "377   54321   DM   71.81   NN  DO  \n",
      "163   54321   DH   71.81   DP  DO  \n",
      "31    54321   DM   71.81   NN  DO  \n",
      "426   54321   DM   71.81   NN  DO  \n",
      "319   54321   DM   71.81   NN  DO  \n",
      "437  162963   DJ   71.81   NN  DO  \n",
      "230   54321   DI   71.81   NN  DO  \n",
      "436   54321   DM   71.81   NN  DO  \n",
      "..      ...  ...     ...  ...  ..  \n",
      "271  108642   DM   71.81   NN  DO  \n",
      "305  108642   DM   71.81   DP  DO  \n",
      "266   54321   DI   71.81   NN  DO  \n",
      "82    54321   DH   71.81   NN  DO  \n",
      "189  108642   DM   71.81   NN  DO  \n",
      "143   54321   DI   71.81   DP  DO  \n",
      "295   54321   DH  143.62   NN  DT  \n",
      "108   54321   DM   71.81   NN  DO  \n",
      "97    54321   DM   71.81   NN  DO  \n",
      "268  108642   DM   71.81   DP  DO  \n",
      "309   54321   DM  143.62   NN  DO  \n",
      "158   54321   DM   71.81   NN  DO  \n",
      "72    54321   DM   71.81   DP  DO  \n",
      "192   54321   DM   71.81   NN  DO  \n",
      "405   54321   DM   71.81   DP  DO  \n",
      "60    54321   DM   71.81   DP  DO  \n",
      "24    54321   DH   71.81   NN  DO  \n",
      "63    54321   DI   71.81   DP  DO  \n",
      "298   54321   DM   71.81   NN  DO  \n",
      "137  108642   DM   71.81   DP  DO  \n",
      "88    54321   DH  143.62   NN  DO  \n",
      "365   54321   DM   71.81   NN  DO  \n",
      "67    54321   DH   71.81   NN  DO  \n",
      "225   54321   DM   71.81   NN  DO  \n",
      "215   54321   DH   71.81   NN  DO  \n",
      "360   54321   DM   71.81   NN  DO  \n",
      "304  108642   DM   71.81   NN  DO  \n",
      "130   54321   DI   71.81   DP  DO  \n",
      "36    54321   DM   71.81   DP  DO  \n",
      "237  108642   DM   71.81   DP  DO  \n",
      "\n",
      "[352 rows x 21 columns]\n"
     ]
    }
   ],
   "source": [
    "print (\"Train_x Shape :: \", train_x.shape)\n",
    "print(train_x)"
   ]
  },
  {
   "cell_type": "code",
   "execution_count": 34,
   "metadata": {},
   "outputs": [
    {
     "name": "stdout",
     "output_type": "stream",
     "text": [
      "Train_y Shape ::  (353,)\n",
      "151     MEM\n",
      "389     MEM\n",
      "111    NMEM\n",
      "414     MEM\n",
      "267     MEM\n",
      "452     MEM\n",
      "245     MEM\n",
      "462     MEM\n",
      "501     MEM\n",
      "410     MEM\n",
      "198     MEM\n",
      "45      MEM\n",
      "350    NMEM\n",
      "354     MEM\n",
      "67      MEM\n",
      "383     MEM\n",
      "237    NMEM\n",
      "338     MEM\n",
      "498     MEM\n",
      "2       MEM\n",
      "129     MEM\n",
      "160     MEM\n",
      "255     MEM\n",
      "211    NMEM\n",
      "362    NMEM\n",
      "382    NMEM\n",
      "263     MEM\n",
      "65      MEM\n",
      "51      MEM\n",
      "157     MEM\n",
      "       ... \n",
      "268    NMEM\n",
      "423    NMEM\n",
      "461    NMEM\n",
      "103     MEM\n",
      "487    NMEM\n",
      "353     MEM\n",
      "273    NMEM\n",
      "490     MEM\n",
      "143     MEM\n",
      "438    NMEM\n",
      "405    NMEM\n",
      "417     MEM\n",
      "259     MEM\n",
      "260    NMEM\n",
      "110     MEM\n",
      "72      MEM\n",
      "381     MEM\n",
      "437     MEM\n",
      "155    NMEM\n",
      "373    NMEM\n",
      "286     MEM\n",
      "377    NMEM\n",
      "165    NMEM\n",
      "328    NMEM\n",
      "153     MEM\n",
      "348     MEM\n",
      "7       MEM\n",
      "449     MEM\n",
      "299     MEM\n",
      "215     MEM\n",
      "Name: Y, Length: 353, dtype: object\n",
      "Test_x Shape ::  (152, 21)\n",
      "Test_y Shape ::  (152,)\n"
     ]
    }
   ],
   "source": [
    "    print (\"Train_y Shape :: \", train_y.shape)\n",
    "    print(train_y)\n",
    "    print (\"Test_x Shape :: \", test_x.shape)\n",
    "    print (\"Test_y Shape :: \", test_y.shape)"
   ]
  },
  {
   "cell_type": "code",
   "execution_count": 49,
   "metadata": {
    "collapsed": true
   },
   "outputs": [],
   "source": [
    "def random_forest_classifier(features, target):\n",
    "    \"\"\"\n",
    "    To train the random forest classifier with features and target data\n",
    "    :param features:\n",
    "    :param target:\n",
    "    :return: trained random forest classifier\n",
    "    \"\"\"\n",
    "    clf = RandomForestClassifier()\n",
    "    clf.fit(features, target)\n",
    "    return clf"
   ]
  },
  {
   "cell_type": "code",
   "execution_count": 50,
   "metadata": {},
   "outputs": [
    {
     "data": {
      "image/png": "[encoded data removed]",
      "text/plain": [
       "<matplotlib.figure.Figure at 0x251089a6198>"
      ]
     },
     "metadata": {},
     "output_type": "display_data"
    }
   ],
   "source": [
    "data = np.genfromtxt(output_path, delimiter=',', skip_header=10,\n",
    "                     skip_footer=10, names=['x', 'y', 'z'])\n",
    "plot.plot(data['x'], data['y'], color='r', label='the data')\n",
    "plot.show()"
   ]
  },
  {
   "cell_type": "code",
   "execution_count": 51,
   "metadata": {},
   "outputs": [
    {
     "data": {
      "application/vnd.plotly.v1+json": {
       "data": [
        {
         "colorscale": [
          [
           0,
           "#00083e"
          ],
          [
           0.5,
           "#ededee"
          ],
          [
           1,
           "#ffffff"
          ]
         ],
         "hoverinfo": "none",
         "opacity": 0.75,
         "showscale": false,
         "type": "heatmap",
         "z": [
          [
           0,
           0,
           0,
           0,
           0,
           0,
           0,
           0,
           0,
           0,
           0,
           0,
           0,
           0,
           0,
           0,
           0,
           0,
           0,
           0,
           0,
           0
          ],
          [
           0.5,
           0.5,
           0.5,
           0.5,
           0.5,
           0.5,
           0.5,
           0.5,
           0.5,
           0.5,
           0.5,
           0.5,
           0.5,
           0.5,
           0.5,
           0.5,
           0.5,
           0.5,
           0.5,
           0.5,
           0.5,
           0.5
          ],
          [
           1,
           1,
           1,
           1,
           1,
           1,
           1,
           1,
           1,
           1,
           1,
           1,
           1,
           1,
           1,
           1,
           1,
           1,
           1,
           1,
           1,
           1
          ],
          [
           0.5,
           0.5,
           0.5,
           0.5,
           0.5,
           0.5,
           0.5,
           0.5,
           0.5,
           0.5,
           0.5,
           0.5,
           0.5,
           0.5,
           0.5,
           0.5,
           0.5,
           0.5,
           0.5,
           0.5,
           0.5,
           0.5
          ],
          [
           1,
           1,
           1,
           1,
           1,
           1,
           1,
           1,
           1,
           1,
           1,
           1,
           1,
           1,
           1,
           1,
           1,
           1,
           1,
           1,
           1,
           1
          ],
          [
           0.5,
           0.5,
           0.5,
           0.5,
           0.5,
           0.5,
           0.5,
           0.5,
           0.5,
           0.5,
           0.5,
           0.5,
           0.5,
           0.5,
           0.5,
           0.5,
           0.5,
           0.5,
           0.5,
           0.5,
           0.5,
           0.5
          ]
         ]
        }
       ],
       "layout": {
        "annotations": [
         {
          "align": "left",
          "font": {
           "color": "#ffffff"
          },
          "showarrow": false,
          "text": "<b>X1</b>",
          "x": -0.45,
          "xanchor": "left",
          "xref": "x1",
          "y": 0,
          "yref": "y1"
         },
         {
          "align": "left",
          "font": {
           "color": "#ffffff"
          },
          "showarrow": false,
          "text": "<b>X2</b>",
          "x": 0.55,
          "xanchor": "left",
          "xref": "x1",
          "y": 0,
          "yref": "y1"
         },
         {
          "align": "left",
          "font": {
           "color": "#ffffff"
          },
          "showarrow": false,
          "text": "<b>X3</b>",
          "x": 1.55,
          "xanchor": "left",
          "xref": "x1",
          "y": 0,
          "yref": "y1"
         },
         {
          "align": "left",
          "font": {
           "color": "#ffffff"
          },
          "showarrow": false,
          "text": "<b>X4</b>",
          "x": 2.55,
          "xanchor": "left",
          "xref": "x1",
          "y": 0,
          "yref": "y1"
         },
         {
          "align": "left",
          "font": {
           "color": "#ffffff"
          },
          "showarrow": false,
          "text": "<b>X5</b>",
          "x": 3.55,
          "xanchor": "left",
          "xref": "x1",
          "y": 0,
          "yref": "y1"
         },
         {
          "align": "left",
          "font": {
           "color": "#ffffff"
          },
          "showarrow": false,
          "text": "<b>X6</b>",
          "x": 4.55,
          "xanchor": "left",
          "xref": "x1",
          "y": 0,
          "yref": "y1"
         },
         {
          "align": "left",
          "font": {
           "color": "#ffffff"
          },
          "showarrow": false,
          "text": "<b>X7</b>",
          "x": 5.55,
          "xanchor": "left",
          "xref": "x1",
          "y": 0,
          "yref": "y1"
         },
         {
          "align": "left",
          "font": {
           "color": "#ffffff"
          },
          "showarrow": false,
          "text": "<b>X8</b>",
          "x": 6.55,
          "xanchor": "left",
          "xref": "x1",
          "y": 0,
          "yref": "y1"
         },
         {
          "align": "left",
          "font": {
           "color": "#ffffff"
          },
          "showarrow": false,
          "text": "<b>X9</b>",
          "x": 7.55,
          "xanchor": "left",
          "xref": "x1",
          "y": 0,
          "yref": "y1"
         },
         {
          "align": "left",
          "font": {
           "color": "#ffffff"
          },
          "showarrow": false,
          "text": "<b>X10</b>",
          "x": 8.55,
          "xanchor": "left",
          "xref": "x1",
          "y": 0,
          "yref": "y1"
         },
         {
          "align": "left",
          "font": {
           "color": "#ffffff"
          },
          "showarrow": false,
          "text": "<b>X11</b>",
          "x": 9.55,
          "xanchor": "left",
          "xref": "x1",
          "y": 0,
          "yref": "y1"
         },
         {
          "align": "left",
          "font": {
           "color": "#ffffff"
          },
          "showarrow": false,
          "text": "<b>X12</b>",
          "x": 10.55,
          "xanchor": "left",
          "xref": "x1",
          "y": 0,
          "yref": "y1"
         },
         {
          "align": "left",
          "font": {
           "color": "#ffffff"
          },
          "showarrow": false,
          "text": "<b>X13</b>",
          "x": 11.55,
          "xanchor": "left",
          "xref": "x1",
          "y": 0,
          "yref": "y1"
         },
         {
          "align": "left",
          "font": {
           "color": "#ffffff"
          },
          "showarrow": false,
          "text": "<b>X14</b>",
          "x": 12.55,
          "xanchor": "left",
          "xref": "x1",
          "y": 0,
          "yref": "y1"
         },
         {
          "align": "left",
          "font": {
           "color": "#ffffff"
          },
          "showarrow": false,
          "text": "<b>X15</b>",
          "x": 13.55,
          "xanchor": "left",
          "xref": "x1",
          "y": 0,
          "yref": "y1"
         },
         {
          "align": "left",
          "font": {
           "color": "#ffffff"
          },
          "showarrow": false,
          "text": "<b>X16</b>",
          "x": 14.55,
          "xanchor": "left",
          "xref": "x1",
          "y": 0,
          "yref": "y1"
         },
         {
          "align": "left",
          "font": {
           "color": "#ffffff"
          },
          "showarrow": false,
          "text": "<b>X17</b>",
          "x": 15.55,
          "xanchor": "left",
          "xref": "x1",
          "y": 0,
          "yref": "y1"
         },
         {
          "align": "left",
          "font": {
           "color": "#ffffff"
          },
          "showarrow": false,
          "text": "<b>X18</b>",
          "x": 16.55,
          "xanchor": "left",
          "xref": "x1",
          "y": 0,
          "yref": "y1"
         },
         {
          "align": "left",
          "font": {
           "color": "#ffffff"
          },
          "showarrow": false,
          "text": "<b>X19</b>",
          "x": 17.55,
          "xanchor": "left",
          "xref": "x1",
          "y": 0,
          "yref": "y1"
         },
         {
          "align": "left",
          "font": {
           "color": "#ffffff"
          },
          "showarrow": false,
          "text": "<b>X20</b>",
          "x": 18.55,
          "xanchor": "left",
          "xref": "x1",
          "y": 0,
          "yref": "y1"
         },
         {
          "align": "left",
          "font": {
           "color": "#ffffff"
          },
          "showarrow": false,
          "text": "<b>X21</b>",
          "x": 19.55,
          "xanchor": "left",
          "xref": "x1",
          "y": 0,
          "yref": "y1"
         },
         {
          "align": "left",
          "font": {
           "color": "#ffffff"
          },
          "showarrow": false,
          "text": "<b>Y</b>",
          "x": 20.55,
          "xanchor": "left",
          "xref": "x1",
          "y": 0,
          "yref": "y1"
         },
         {
          "align": "left",
          "font": {
           "color": "#000000"
          },
          "showarrow": false,
          "text": "A",
          "x": -0.45,
          "xanchor": "left",
          "xref": "x1",
          "y": 1,
          "yref": "y1"
         },
         {
          "align": "left",
          "font": {
           "color": "#000000"
          },
          "showarrow": false,
          "text": "138",
          "x": 0.55,
          "xanchor": "left",
          "xref": "x1",
          "y": 1,
          "yref": "y1"
         },
         {
          "align": "left",
          "font": {
           "color": "#000000"
          },
          "showarrow": false,
          "text": "E",
          "x": 1.55,
          "xanchor": "left",
          "xref": "x1",
          "y": 1,
          "yref": "y1"
         },
         {
          "align": "left",
          "font": {
           "color": "#000000"
          },
          "showarrow": false,
          "text": "35.91",
          "x": 2.55,
          "xanchor": "left",
          "xref": "x1",
          "y": 1,
          "yref": "y1"
         },
         {
          "align": "left",
          "font": {
           "color": "#000000"
          },
          "showarrow": false,
          "text": "J",
          "x": 3.55,
          "xanchor": "left",
          "xref": "x1",
          "y": 1,
          "yref": "y1"
         },
         {
          "align": "left",
          "font": {
           "color": "#000000"
          },
          "showarrow": false,
          "text": "7.79",
          "x": 4.55,
          "xanchor": "left",
          "xref": "x1",
          "y": 1,
          "yref": "y1"
         },
         {
          "align": "left",
          "font": {
           "color": "#000000"
          },
          "showarrow": false,
          "text": "P",
          "x": 5.55,
          "xanchor": "left",
          "xref": "x1",
          "y": 1,
          "yref": "y1"
         },
         {
          "align": "left",
          "font": {
           "color": "#000000"
          },
          "showarrow": false,
          "text": "AA",
          "x": 6.55,
          "xanchor": "left",
          "xref": "x1",
          "y": 1,
          "yref": "y1"
         },
         {
          "align": "left",
          "font": {
           "color": "#000000"
          },
          "showarrow": false,
          "text": "88",
          "x": 7.55,
          "xanchor": "left",
          "xref": "x1",
          "y": 1,
          "yref": "y1"
         },
         {
          "align": "left",
          "font": {
           "color": "#000000"
          },
          "showarrow": false,
          "text": "AF",
          "x": 8.55,
          "xanchor": "left",
          "xref": "x1",
          "y": 1,
          "yref": "y1"
         },
         {
          "align": "left",
          "font": {
           "color": "#000000"
          },
          "showarrow": false,
          "text": "NP",
          "x": 9.55,
          "xanchor": "left",
          "xref": "x1",
          "y": 1,
          "yref": "y1"
         },
         {
          "align": "left",
          "font": {
           "color": "#000000"
          },
          "showarrow": false,
          "text": "64",
          "x": 10.55,
          "xanchor": "left",
          "xref": "x1",
          "y": 1,
          "yref": "y1"
         },
         {
          "align": "left",
          "font": {
           "color": "#000000"
          },
          "showarrow": false,
          "text": "CQ",
          "x": 11.55,
          "xanchor": "left",
          "xref": "x1",
          "y": 1,
          "yref": "y1"
         },
         {
          "align": "left",
          "font": {
           "color": "#000000"
          },
          "showarrow": false,
          "text": "177.27",
          "x": 12.55,
          "xanchor": "left",
          "xref": "x1",
          "y": 1,
          "yref": "y1"
         },
         {
          "align": "left",
          "font": {
           "color": "#000000"
          },
          "showarrow": false,
          "text": "NK",
          "x": 13.55,
          "xanchor": "left",
          "xref": "x1",
          "y": 1,
          "yref": "y1"
         },
         {
          "align": "left",
          "font": {
           "color": "#000000"
          },
          "showarrow": false,
          "text": "DF",
          "x": 14.55,
          "xanchor": "left",
          "xref": "x1",
          "y": 1,
          "yref": "y1"
         },
         {
          "align": "left",
          "font": {
           "color": "#000000"
          },
          "showarrow": false,
          "text": "108642",
          "x": 15.55,
          "xanchor": "left",
          "xref": "x1",
          "y": 1,
          "yref": "y1"
         },
         {
          "align": "left",
          "font": {
           "color": "#000000"
          },
          "showarrow": false,
          "text": "DM",
          "x": 16.55,
          "xanchor": "left",
          "xref": "x1",
          "y": 1,
          "yref": "y1"
         },
         {
          "align": "left",
          "font": {
           "color": "#000000"
          },
          "showarrow": false,
          "text": "71.81",
          "x": 17.55,
          "xanchor": "left",
          "xref": "x1",
          "y": 1,
          "yref": "y1"
         },
         {
          "align": "left",
          "font": {
           "color": "#000000"
          },
          "showarrow": false,
          "text": "DP",
          "x": 18.55,
          "xanchor": "left",
          "xref": "x1",
          "y": 1,
          "yref": "y1"
         },
         {
          "align": "left",
          "font": {
           "color": "#000000"
          },
          "showarrow": false,
          "text": "DO",
          "x": 19.55,
          "xanchor": "left",
          "xref": "x1",
          "y": 1,
          "yref": "y1"
         },
         {
          "align": "left",
          "font": {
           "color": "#000000"
          },
          "showarrow": false,
          "text": "MEM",
          "x": 20.55,
          "xanchor": "left",
          "xref": "x1",
          "y": 1,
          "yref": "y1"
         },
         {
          "align": "left",
          "font": {
           "color": "#000000"
          },
          "showarrow": false,
          "text": "A",
          "x": -0.45,
          "xanchor": "left",
          "xref": "x1",
          "y": 2,
          "yref": "y1"
         },
         {
          "align": "left",
          "font": {
           "color": "#000000"
          },
          "showarrow": false,
          "text": "966",
          "x": 0.55,
          "xanchor": "left",
          "xref": "x1",
          "y": 2,
          "yref": "y1"
         },
         {
          "align": "left",
          "font": {
           "color": "#000000"
          },
          "showarrow": false,
          "text": "E",
          "x": 1.55,
          "xanchor": "left",
          "xref": "x1",
          "y": 2,
          "yref": "y1"
         },
         {
          "align": "left",
          "font": {
           "color": "#000000"
          },
          "showarrow": false,
          "text": "35.91",
          "x": 2.55,
          "xanchor": "left",
          "xref": "x1",
          "y": 2,
          "yref": "y1"
         },
         {
          "align": "left",
          "font": {
           "color": "#000000"
          },
          "showarrow": false,
          "text": "V",
          "x": 3.55,
          "xanchor": "left",
          "xref": "x1",
          "y": 2,
          "yref": "y1"
         },
         {
          "align": "left",
          "font": {
           "color": "#000000"
          },
          "showarrow": false,
          "text": "22.63",
          "x": 4.55,
          "xanchor": "left",
          "xref": "x1",
          "y": 2,
          "yref": "y1"
         },
         {
          "align": "left",
          "font": {
           "color": "#000000"
          },
          "showarrow": false,
          "text": "Q",
          "x": 5.55,
          "xanchor": "left",
          "xref": "x1",
          "y": 2,
          "yref": "y1"
         },
         {
          "align": "left",
          "font": {
           "color": "#000000"
          },
          "showarrow": false,
          "text": "AD",
          "x": 6.55,
          "xanchor": "left",
          "xref": "x1",
          "y": 2,
          "yref": "y1"
         },
         {
          "align": "left",
          "font": {
           "color": "#000000"
          },
          "showarrow": false,
          "text": "88",
          "x": 7.55,
          "xanchor": "left",
          "xref": "x1",
          "y": 2,
          "yref": "y1"
         },
         {
          "align": "left",
          "font": {
           "color": "#000000"
          },
          "showarrow": false,
          "text": "AF",
          "x": 8.55,
          "xanchor": "left",
          "xref": "x1",
          "y": 2,
          "yref": "y1"
         },
         {
          "align": "left",
          "font": {
           "color": "#000000"
          },
          "showarrow": false,
          "text": "CCA",
          "x": 9.55,
          "xanchor": "left",
          "xref": "x1",
          "y": 2,
          "yref": "y1"
         },
         {
          "align": "left",
          "font": {
           "color": "#000000"
          },
          "showarrow": false,
          "text": "64",
          "x": 10.55,
          "xanchor": "left",
          "xref": "x1",
          "y": 2,
          "yref": "y1"
         },
         {
          "align": "left",
          "font": {
           "color": "#000000"
          },
          "showarrow": false,
          "text": "DC",
          "x": 11.55,
          "xanchor": "left",
          "xref": "x1",
          "y": 2,
          "yref": "y1"
         },
         {
          "align": "left",
          "font": {
           "color": "#000000"
          },
          "showarrow": false,
          "text": "171.97",
          "x": 12.55,
          "xanchor": "left",
          "xref": "x1",
          "y": 2,
          "yref": "y1"
         },
         {
          "align": "left",
          "font": {
           "color": "#000000"
          },
          "showarrow": false,
          "text": "NK",
          "x": 13.55,
          "xanchor": "left",
          "xref": "x1",
          "y": 2,
          "yref": "y1"
         },
         {
          "align": "left",
          "font": {
           "color": "#000000"
          },
          "showarrow": false,
          "text": "DF",
          "x": 14.55,
          "xanchor": "left",
          "xref": "x1",
          "y": 2,
          "yref": "y1"
         },
         {
          "align": "left",
          "font": {
           "color": "#000000"
          },
          "showarrow": false,
          "text": "108642",
          "x": 15.55,
          "xanchor": "left",
          "xref": "x1",
          "y": 2,
          "yref": "y1"
         },
         {
          "align": "left",
          "font": {
           "color": "#000000"
          },
          "showarrow": false,
          "text": "DJ",
          "x": 16.55,
          "xanchor": "left",
          "xref": "x1",
          "y": 2,
          "yref": "y1"
         },
         {
          "align": "left",
          "font": {
           "color": "#000000"
          },
          "showarrow": false,
          "text": "71.81",
          "x": 17.55,
          "xanchor": "left",
          "xref": "x1",
          "y": 2,
          "yref": "y1"
         },
         {
          "align": "left",
          "font": {
           "color": "#000000"
          },
          "showarrow": false,
          "text": "NN",
          "x": 18.55,
          "xanchor": "left",
          "xref": "x1",
          "y": 2,
          "yref": "y1"
         },
         {
          "align": "left",
          "font": {
           "color": "#000000"
          },
          "showarrow": false,
          "text": "DO",
          "x": 19.55,
          "xanchor": "left",
          "xref": "x1",
          "y": 2,
          "yref": "y1"
         },
         {
          "align": "left",
          "font": {
           "color": "#000000"
          },
          "showarrow": false,
          "text": "MEM",
          "x": 20.55,
          "xanchor": "left",
          "xref": "x1",
          "y": 2,
          "yref": "y1"
         },
         {
          "align": "left",
          "font": {
           "color": "#000000"
          },
          "showarrow": false,
          "text": "C",
          "x": -0.45,
          "xanchor": "left",
          "xref": "x1",
          "y": 3,
          "yref": "y1"
         },
         {
          "align": "left",
          "font": {
           "color": "#000000"
          },
          "showarrow": false,
          "text": "345",
          "x": 0.55,
          "xanchor": "left",
          "xref": "x1",
          "y": 3,
          "yref": "y1"
         },
         {
          "align": "left",
          "font": {
           "color": "#000000"
          },
          "showarrow": false,
          "text": "E",
          "x": 1.55,
          "xanchor": "left",
          "xref": "x1",
          "y": 3,
          "yref": "y1"
         },
         {
          "align": "left",
          "font": {
           "color": "#000000"
          },
          "showarrow": false,
          "text": "35.91",
          "x": 2.55,
          "xanchor": "left",
          "xref": "x1",
          "y": 3,
          "yref": "y1"
         },
         {
          "align": "left",
          "font": {
           "color": "#000000"
          },
          "showarrow": false,
          "text": "J",
          "x": 3.55,
          "xanchor": "left",
          "xref": "x1",
          "y": 3,
          "yref": "y1"
         },
         {
          "align": "left",
          "font": {
           "color": "#000000"
          },
          "showarrow": false,
          "text": "12.19",
          "x": 4.55,
          "xanchor": "left",
          "xref": "x1",
          "y": 3,
          "yref": "y1"
         },
         {
          "align": "left",
          "font": {
           "color": "#000000"
          },
          "showarrow": false,
          "text": "Q",
          "x": 5.55,
          "xanchor": "left",
          "xref": "x1",
          "y": 3,
          "yref": "y1"
         },
         {
          "align": "left",
          "font": {
           "color": "#000000"
          },
          "showarrow": false,
          "text": "AA",
          "x": 6.55,
          "xanchor": "left",
          "xref": "x1",
          "y": 3,
          "yref": "y1"
         },
         {
          "align": "left",
          "font": {
           "color": "#000000"
          },
          "showarrow": false,
          "text": "88",
          "x": 7.55,
          "xanchor": "left",
          "xref": "x1",
          "y": 3,
          "yref": "y1"
         },
         {
          "align": "left",
          "font": {
           "color": "#000000"
          },
          "showarrow": false,
          "text": "AF",
          "x": 8.55,
          "xanchor": "left",
          "xref": "x1",
          "y": 3,
          "yref": "y1"
         },
         {
          "align": "left",
          "font": {
           "color": "#000000"
          },
          "showarrow": false,
          "text": "NP",
          "x": 9.55,
          "xanchor": "left",
          "xref": "x1",
          "y": 3,
          "yref": "y1"
         },
         {
          "align": "left",
          "font": {
           "color": "#000000"
          },
          "showarrow": false,
          "text": "64",
          "x": 10.55,
          "xanchor": "left",
          "xref": "x1",
          "y": 3,
          "yref": "y1"
         },
         {
          "align": "left",
          "font": {
           "color": "#000000"
          },
          "showarrow": false,
          "text": "DC",
          "x": 11.55,
          "xanchor": "left",
          "xref": "x1",
          "y": 3,
          "yref": "y1"
         },
         {
          "align": "left",
          "font": {
           "color": "#000000"
          },
          "showarrow": false,
          "text": "121.7",
          "x": 12.55,
          "xanchor": "left",
          "xref": "x1",
          "y": 3,
          "yref": "y1"
         },
         {
          "align": "left",
          "font": {
           "color": "#000000"
          },
          "showarrow": false,
          "text": "NK",
          "x": 13.55,
          "xanchor": "left",
          "xref": "x1",
          "y": 3,
          "yref": "y1"
         },
         {
          "align": "left",
          "font": {
           "color": "#000000"
          },
          "showarrow": false,
          "text": "DF",
          "x": 14.55,
          "xanchor": "left",
          "xref": "x1",
          "y": 3,
          "yref": "y1"
         },
         {
          "align": "left",
          "font": {
           "color": "#000000"
          },
          "showarrow": false,
          "text": "108642",
          "x": 15.55,
          "xanchor": "left",
          "xref": "x1",
          "y": 3,
          "yref": "y1"
         },
         {
          "align": "left",
          "font": {
           "color": "#000000"
          },
          "showarrow": false,
          "text": "DM",
          "x": 16.55,
          "xanchor": "left",
          "xref": "x1",
          "y": 3,
          "yref": "y1"
         },
         {
          "align": "left",
          "font": {
           "color": "#000000"
          },
          "showarrow": false,
          "text": "71.81",
          "x": 17.55,
          "xanchor": "left",
          "xref": "x1",
          "y": 3,
          "yref": "y1"
         },
         {
          "align": "left",
          "font": {
           "color": "#000000"
          },
          "showarrow": false,
          "text": "DP",
          "x": 18.55,
          "xanchor": "left",
          "xref": "x1",
          "y": 3,
          "yref": "y1"
         },
         {
          "align": "left",
          "font": {
           "color": "#000000"
          },
          "showarrow": false,
          "text": "DO",
          "x": 19.55,
          "xanchor": "left",
          "xref": "x1",
          "y": 3,
          "yref": "y1"
         },
         {
          "align": "left",
          "font": {
           "color": "#000000"
          },
          "showarrow": false,
          "text": "MEM",
          "x": 20.55,
          "xanchor": "left",
          "xref": "x1",
          "y": 3,
          "yref": "y1"
         },
         {
          "align": "left",
          "font": {
           "color": "#000000"
          },
          "showarrow": false,
          "text": "B",
          "x": -0.45,
          "xanchor": "left",
          "xref": "x1",
          "y": 4,
          "yref": "y1"
         },
         {
          "align": "left",
          "font": {
           "color": "#000000"
          },
          "showarrow": false,
          "text": "276",
          "x": 0.55,
          "xanchor": "left",
          "xref": "x1",
          "y": 4,
          "yref": "y1"
         },
         {
          "align": "left",
          "font": {
           "color": "#000000"
          },
          "showarrow": false,
          "text": "F",
          "x": 1.55,
          "xanchor": "left",
          "xref": "x1",
          "y": 4,
          "yref": "y1"
         },
         {
          "align": "left",
          "font": {
           "color": "#000000"
          },
          "showarrow": false,
          "text": "35.91",
          "x": 2.55,
          "xanchor": "left",
          "xref": "x1",
          "y": 4,
          "yref": "y1"
         },
         {
          "align": "left",
          "font": {
           "color": "#000000"
          },
          "showarrow": false,
          "text": "O",
          "x": 3.55,
          "xanchor": "left",
          "xref": "x1",
          "y": 4,
          "yref": "y1"
         },
         {
          "align": "left",
          "font": {
           "color": "#000000"
          },
          "showarrow": false,
          "text": "5.61",
          "x": 4.55,
          "xanchor": "left",
          "xref": "x1",
          "y": 4,
          "yref": "y1"
         },
         {
          "align": "left",
          "font": {
           "color": "#000000"
          },
          "showarrow": false,
          "text": "T",
          "x": 5.55,
          "xanchor": "left",
          "xref": "x1",
          "y": 4,
          "yref": "y1"
         },
         {
          "align": "left",
          "font": {
           "color": "#000000"
          },
          "showarrow": false,
          "text": "AC",
          "x": 6.55,
          "xanchor": "left",
          "xref": "x1",
          "y": 4,
          "yref": "y1"
         },
         {
          "align": "left",
          "font": {
           "color": "#000000"
          },
          "showarrow": false,
          "text": "44",
          "x": 7.55,
          "xanchor": "left",
          "xref": "x1",
          "y": 4,
          "yref": "y1"
         },
         {
          "align": "left",
          "font": {
           "color": "#000000"
          },
          "showarrow": false,
          "text": "BA",
          "x": 8.55,
          "xanchor": "left",
          "xref": "x1",
          "y": 4,
          "yref": "y1"
         },
         {
          "align": "left",
          "font": {
           "color": "#000000"
          },
          "showarrow": false,
          "text": "NP",
          "x": 9.55,
          "xanchor": "left",
          "xref": "x1",
          "y": 4,
          "yref": "y1"
         },
         {
          "align": "left",
          "font": {
           "color": "#000000"
          },
          "showarrow": false,
          "text": "64",
          "x": 10.55,
          "xanchor": "left",
          "xref": "x1",
          "y": 4,
          "yref": "y1"
         },
         {
          "align": "left",
          "font": {
           "color": "#000000"
          },
          "showarrow": false,
          "text": "CQ",
          "x": 11.55,
          "xanchor": "left",
          "xref": "x1",
          "y": 4,
          "yref": "y1"
         },
         {
          "align": "left",
          "font": {
           "color": "#000000"
          },
          "showarrow": false,
          "text": "60.85",
          "x": 12.55,
          "xanchor": "left",
          "xref": "x1",
          "y": 4,
          "yref": "y1"
         },
         {
          "align": "left",
          "font": {
           "color": "#000000"
          },
          "showarrow": false,
          "text": "NK",
          "x": 13.55,
          "xanchor": "left",
          "xref": "x1",
          "y": 4,
          "yref": "y1"
         },
         {
          "align": "left",
          "font": {
           "color": "#000000"
          },
          "showarrow": false,
          "text": "DG",
          "x": 14.55,
          "xanchor": "left",
          "xref": "x1",
          "y": 4,
          "yref": "y1"
         },
         {
          "align": "left",
          "font": {
           "color": "#000000"
          },
          "showarrow": false,
          "text": "54321",
          "x": 15.55,
          "xanchor": "left",
          "xref": "x1",
          "y": 4,
          "yref": "y1"
         },
         {
          "align": "left",
          "font": {
           "color": "#000000"
          },
          "showarrow": false,
          "text": "DH",
          "x": 16.55,
          "xanchor": "left",
          "xref": "x1",
          "y": 4,
          "yref": "y1"
         },
         {
          "align": "left",
          "font": {
           "color": "#000000"
          },
          "showarrow": false,
          "text": "71.81",
          "x": 17.55,
          "xanchor": "left",
          "xref": "x1",
          "y": 4,
          "yref": "y1"
         },
         {
          "align": "left",
          "font": {
           "color": "#000000"
          },
          "showarrow": false,
          "text": "NN",
          "x": 18.55,
          "xanchor": "left",
          "xref": "x1",
          "y": 4,
          "yref": "y1"
         },
         {
          "align": "left",
          "font": {
           "color": "#000000"
          },
          "showarrow": false,
          "text": "DO",
          "x": 19.55,
          "xanchor": "left",
          "xref": "x1",
          "y": 4,
          "yref": "y1"
         },
         {
          "align": "left",
          "font": {
           "color": "#000000"
          },
          "showarrow": false,
          "text": "MEM",
          "x": 20.55,
          "xanchor": "left",
          "xref": "x1",
          "y": 4,
          "yref": "y1"
         },
         {
          "align": "left",
          "font": {
           "color": "#000000"
          },
          "showarrow": false,
          "text": "C",
          "x": -0.45,
          "xanchor": "left",
          "xref": "x1",
          "y": 5,
          "yref": "y1"
         },
         {
          "align": "left",
          "font": {
           "color": "#000000"
          },
          "showarrow": false,
          "text": "552",
          "x": 0.55,
          "xanchor": "left",
          "xref": "x1",
          "y": 5,
          "yref": "y1"
         },
         {
          "align": "left",
          "font": {
           "color": "#000000"
          },
          "showarrow": false,
          "text": "G",
          "x": 1.55,
          "xanchor": "left",
          "xref": "x1",
          "y": 5,
          "yref": "y1"
         },
         {
          "align": "left",
          "font": {
           "color": "#000000"
          },
          "showarrow": false,
          "text": "35.91",
          "x": 2.55,
          "xanchor": "left",
          "xref": "x1",
          "y": 5,
          "yref": "y1"
         },
         {
          "align": "left",
          "font": {
           "color": "#000000"
          },
          "showarrow": false,
          "text": "L",
          "x": 3.55,
          "xanchor": "left",
          "xref": "x1",
          "y": 5,
          "yref": "y1"
         },
         {
          "align": "left",
          "font": {
           "color": "#000000"
          },
          "showarrow": false,
          "text": "27.67",
          "x": 4.55,
          "xanchor": "left",
          "xref": "x1",
          "y": 5,
          "yref": "y1"
         },
         {
          "align": "left",
          "font": {
           "color": "#000000"
          },
          "showarrow": false,
          "text": "T",
          "x": 5.55,
          "xanchor": "left",
          "xref": "x1",
          "y": 5,
          "yref": "y1"
         },
         {
          "align": "left",
          "font": {
           "color": "#000000"
          },
          "showarrow": false,
          "text": "AB",
          "x": 6.55,
          "xanchor": "left",
          "xref": "x1",
          "y": 5,
          "yref": "y1"
         },
         {
          "align": "left",
          "font": {
           "color": "#000000"
          },
          "showarrow": false,
          "text": "44",
          "x": 7.55,
          "xanchor": "left",
          "xref": "x1",
          "y": 5,
          "yref": "y1"
         },
         {
          "align": "left",
          "font": {
           "color": "#000000"
          },
          "showarrow": false,
          "text": "AF",
          "x": 8.55,
          "xanchor": "left",
          "xref": "x1",
          "y": 5,
          "yref": "y1"
         },
         {
          "align": "left",
          "font": {
           "color": "#000000"
          },
          "showarrow": false,
          "text": "NP",
          "x": 9.55,
          "xanchor": "left",
          "xref": "x1",
          "y": 5,
          "yref": "y1"
         },
         {
          "align": "left",
          "font": {
           "color": "#000000"
          },
          "showarrow": false,
          "text": "48",
          "x": 10.55,
          "xanchor": "left",
          "xref": "x1",
          "y": 5,
          "yref": "y1"
         },
         {
          "align": "left",
          "font": {
           "color": "#000000"
          },
          "showarrow": false,
          "text": "DA",
          "x": 11.55,
          "xanchor": "left",
          "xref": "x1",
          "y": 5,
          "yref": "y1"
         },
         {
          "align": "left",
          "font": {
           "color": "#000000"
          },
          "showarrow": false,
          "text": "92.6",
          "x": 12.55,
          "xanchor": "left",
          "xref": "x1",
          "y": 5,
          "yref": "y1"
         },
         {
          "align": "left",
          "font": {
           "color": "#000000"
          },
          "showarrow": false,
          "text": "NK",
          "x": 13.55,
          "xanchor": "left",
          "xref": "x1",
          "y": 5,
          "yref": "y1"
         },
         {
          "align": "left",
          "font": {
           "color": "#000000"
          },
          "showarrow": false,
          "text": "DF",
          "x": 14.55,
          "xanchor": "left",
          "xref": "x1",
          "y": 5,
          "yref": "y1"
         },
         {
          "align": "left",
          "font": {
           "color": "#000000"
          },
          "showarrow": false,
          "text": "108642",
          "x": 15.55,
          "xanchor": "left",
          "xref": "x1",
          "y": 5,
          "yref": "y1"
         },
         {
          "align": "left",
          "font": {
           "color": "#000000"
          },
          "showarrow": false,
          "text": "DM",
          "x": 16.55,
          "xanchor": "left",
          "xref": "x1",
          "y": 5,
          "yref": "y1"
         },
         {
          "align": "left",
          "font": {
           "color": "#000000"
          },
          "showarrow": false,
          "text": "71.81",
          "x": 17.55,
          "xanchor": "left",
          "xref": "x1",
          "y": 5,
          "yref": "y1"
         },
         {
          "align": "left",
          "font": {
           "color": "#000000"
          },
          "showarrow": false,
          "text": "NN",
          "x": 18.55,
          "xanchor": "left",
          "xref": "x1",
          "y": 5,
          "yref": "y1"
         },
         {
          "align": "left",
          "font": {
           "color": "#000000"
          },
          "showarrow": false,
          "text": "DO",
          "x": 19.55,
          "xanchor": "left",
          "xref": "x1",
          "y": 5,
          "yref": "y1"
         },
         {
          "align": "left",
          "font": {
           "color": "#000000"
          },
          "showarrow": false,
          "text": "MEM",
          "x": 20.55,
          "xanchor": "left",
          "xref": "x1",
          "y": 5,
          "yref": "y1"
         }
        ],
        "height": 230,
        "margin": {
         "b": 0,
         "l": 0,
         "r": 0,
         "t": 0
        },
        "xaxis": {
         "dtick": 1,
         "gridwidth": 2,
         "showticklabels": false,
         "tick0": -0.5,
         "ticks": "",
         "zeroline": false
        },
        "yaxis": {
         "autorange": "reversed",
         "dtick": 1,
         "gridwidth": 2,
         "showticklabels": false,
         "tick0": 0.5,
         "ticks": "",
         "zeroline": false
        }
       }
      },
      "text/html": [
       "<div id=\"e72f55c8-f16c-4c61-9442-914d0aa4e73d\" style=\"height: 230px; width: 100%;\" class=\"plotly-graph-div\"></div><script type=\"text/javascript\">require([\"plotly\"], function(Plotly) { window.PLOTLYENV=window.PLOTLYENV || {};window.PLOTLYENV.BASE_URL=\"https://plot.ly\";Plotly.newPlot(\"e72f55c8-f16c-4c61-9442-914d0aa4e73d\", [{\"type\": \"heatmap\", \"z\": [[0, 0, 0, 0, 0, 0, 0, 0, 0, 0, 0, 0, 0, 0, 0, 0, 0, 0, 0, 0, 0, 0], [0.5, 0.5, 0.5, 0.5, 0.5, 0.5, 0.5, 0.5, 0.5, 0.5, 0.5, 0.5, 0.5, 0.5, 0.5, 0.5, 0.5, 0.5, 0.5, 0.5, 0.5, 0.5], [1, 1, 1, 1, 1, 1, 1, 1, 1, 1, 1, 1, 1, 1, 1, 1, 1, 1, 1, 1, 1, 1], [0.5, 0.5, 0.5, 0.5, 0.5, 0.5, 0.5, 0.5, 0.5, 0.5, 0.5, 0.5, 0.5, 0.5, 0.5, 0.5, 0.5, 0.5, 0.5, 0.5, 0.5, 0.5], [1, 1, 1, 1, 1, 1, 1, 1, 1, 1, 1, 1, 1, 1, 1, 1, 1, 1, 1, 1, 1, 1], [0.5, 0.5, 0.5, 0.5, 0.5, 0.5, 0.5, 0.5, 0.5, 0.5, 0.5, 0.5, 0.5, 0.5, 0.5, 0.5, 0.5, 0.5, 0.5, 0.5, 0.5, 0.5]], \"opacity\": 0.75, \"colorscale\": [[0, \"#00083e\"], [0.5, \"#ededee\"], [1, \"#ffffff\"]], \"showscale\": false, \"hoverinfo\": \"none\"}], {\"annotations\": [{\"text\": \"<b>X1</b>\", \"x\": -0.45, \"y\": 0, \"xref\": \"x1\", \"yref\": \"y1\", \"align\": \"left\", \"xanchor\": \"left\", \"font\": {\"color\": \"#ffffff\"}, \"showarrow\": false}, {\"text\": \"<b>X2</b>\", \"x\": 0.55, \"y\": 0, \"xref\": \"x1\", \"yref\": \"y1\", \"align\": \"left\", \"xanchor\": \"left\", \"font\": {\"color\": \"#ffffff\"}, \"showarrow\": false}, {\"text\": \"<b>X3</b>\", \"x\": 1.55, \"y\": 0, \"xref\": \"x1\", \"yref\": \"y1\", \"align\": \"left\", \"xanchor\": \"left\", \"font\": {\"color\": \"#ffffff\"}, \"showarrow\": false}, {\"text\": \"<b>X4</b>\", \"x\": 2.55, \"y\": 0, \"xref\": \"x1\", \"yref\": \"y1\", \"align\": \"left\", \"xanchor\": \"left\", \"font\": {\"color\": \"#ffffff\"}, \"showarrow\": false}, {\"text\": \"<b>X5</b>\", \"x\": 3.55, \"y\": 0, \"xref\": \"x1\", \"yref\": \"y1\", \"align\": \"left\", \"xanchor\": \"left\", \"font\": {\"color\": \"#ffffff\"}, \"showarrow\": false}, {\"text\": \"<b>X6</b>\", \"x\": 4.55, \"y\": 0, \"xref\": \"x1\", \"yref\": \"y1\", \"align\": \"left\", \"xanchor\": \"left\", \"font\": {\"color\": \"#ffffff\"}, \"showarrow\": false}, {\"text\": \"<b>X7</b>\", \"x\": 5.55, \"y\": 0, \"xref\": \"x1\", \"yref\": \"y1\", \"align\": \"left\", \"xanchor\": \"left\", \"font\": {\"color\": \"#ffffff\"}, \"showarrow\": false}, {\"text\": \"<b>X8</b>\", \"x\": 6.55, \"y\": 0, \"xref\": \"x1\", \"yref\": \"y1\", \"align\": \"left\", \"xanchor\": \"left\", \"font\": {\"color\": \"#ffffff\"}, \"showarrow\": false}, {\"text\": \"<b>X9</b>\", \"x\": 7.55, \"y\": 0, \"xref\": \"x1\", \"yref\": \"y1\", \"align\": \"left\", \"xanchor\": \"left\", \"font\": {\"color\": \"#ffffff\"}, \"showarrow\": false}, {\"text\": \"<b>X10</b>\", \"x\": 8.55, \"y\": 0, \"xref\": \"x1\", \"yref\": \"y1\", \"align\": \"left\", \"xanchor\": \"left\", \"font\": {\"color\": \"#ffffff\"}, \"showarrow\": false}, {\"text\": \"<b>X11</b>\", \"x\": 9.55, \"y\": 0, \"xref\": \"x1\", \"yref\": \"y1\", \"align\": \"left\", \"xanchor\": \"left\", \"font\": {\"color\": \"#ffffff\"}, \"showarrow\": false}, {\"text\": \"<b>X12</b>\", \"x\": 10.55, \"y\": 0, \"xref\": \"x1\", \"yref\": \"y1\", \"align\": \"left\", \"xanchor\": \"left\", \"font\": {\"color\": \"#ffffff\"}, \"showarrow\": false}, {\"text\": \"<b>X13</b>\", \"x\": 11.55, \"y\": 0, \"xref\": \"x1\", \"yref\": \"y1\", \"align\": \"left\", \"xanchor\": \"left\", \"font\": {\"color\": \"#ffffff\"}, \"showarrow\": false}, {\"text\": \"<b>X14</b>\", \"x\": 12.55, \"y\": 0, \"xref\": \"x1\", \"yref\": \"y1\", \"align\": \"left\", \"xanchor\": \"left\", \"font\": {\"color\": \"#ffffff\"}, \"showarrow\": false}, {\"text\": \"<b>X15</b>\", \"x\": 13.55, \"y\": 0, \"xref\": \"x1\", \"yref\": \"y1\", \"align\": \"left\", \"xanchor\": \"left\", \"font\": {\"color\": \"#ffffff\"}, \"showarrow\": false}, {\"text\": \"<b>X16</b>\", \"x\": 14.55, \"y\": 0, \"xref\": \"x1\", \"yref\": \"y1\", \"align\": \"left\", \"xanchor\": \"left\", \"font\": {\"color\": \"#ffffff\"}, \"showarrow\": false}, {\"text\": \"<b>X17</b>\", \"x\": 15.55, \"y\": 0, \"xref\": \"x1\", \"yref\": \"y1\", \"align\": \"left\", \"xanchor\": \"left\", \"font\": {\"color\": \"#ffffff\"}, \"showarrow\": false}, {\"text\": \"<b>X18</b>\", \"x\": 16.55, \"y\": 0, \"xref\": \"x1\", \"yref\": \"y1\", \"align\": \"left\", \"xanchor\": \"left\", \"font\": {\"color\": \"#ffffff\"}, \"showarrow\": false}, {\"text\": \"<b>X19</b>\", \"x\": 17.55, \"y\": 0, \"xref\": \"x1\", \"yref\": \"y1\", \"align\": \"left\", \"xanchor\": \"left\", \"font\": {\"color\": \"#ffffff\"}, \"showarrow\": false}, {\"text\": \"<b>X20</b>\", \"x\": 18.55, \"y\": 0, \"xref\": \"x1\", \"yref\": \"y1\", \"align\": \"left\", \"xanchor\": \"left\", \"font\": {\"color\": \"#ffffff\"}, \"showarrow\": false}, {\"text\": \"<b>X21</b>\", \"x\": 19.55, \"y\": 0, \"xref\": \"x1\", \"yref\": \"y1\", \"align\": \"left\", \"xanchor\": \"left\", \"font\": {\"color\": \"#ffffff\"}, \"showarrow\": false}, {\"text\": \"<b>Y</b>\", \"x\": 20.55, \"y\": 0, \"xref\": \"x1\", \"yref\": \"y1\", \"align\": \"left\", \"xanchor\": \"left\", \"font\": {\"color\": \"#ffffff\"}, \"showarrow\": false}, {\"text\": \"A\", \"x\": -0.45, \"y\": 1, \"xref\": \"x1\", \"yref\": \"y1\", \"align\": \"left\", \"xanchor\": \"left\", \"font\": {\"color\": \"#000000\"}, \"showarrow\": false}, {\"text\": \"138\", \"x\": 0.55, \"y\": 1, \"xref\": \"x1\", \"yref\": \"y1\", \"align\": \"left\", \"xanchor\": \"left\", \"font\": {\"color\": \"#000000\"}, \"showarrow\": false}, {\"text\": \"E\", \"x\": 1.55, \"y\": 1, \"xref\": \"x1\", \"yref\": \"y1\", \"align\": \"left\", \"xanchor\": \"left\", \"font\": {\"color\": \"#000000\"}, \"showarrow\": false}, {\"text\": \"35.91\", \"x\": 2.55, \"y\": 1, \"xref\": \"x1\", \"yref\": \"y1\", \"align\": \"left\", \"xanchor\": \"left\", \"font\": {\"color\": \"#000000\"}, \"showarrow\": false}, {\"text\": \"J\", \"x\": 3.55, \"y\": 1, \"xref\": \"x1\", \"yref\": \"y1\", \"align\": \"left\", \"xanchor\": \"left\", \"font\": {\"color\": \"#000000\"}, \"showarrow\": false}, {\"text\": \"7.79\", \"x\": 4.55, \"y\": 1, \"xref\": \"x1\", \"yref\": \"y1\", \"align\": \"left\", \"xanchor\": \"left\", \"font\": {\"color\": \"#000000\"}, \"showarrow\": false}, {\"text\": \"P\", \"x\": 5.55, \"y\": 1, \"xref\": \"x1\", \"yref\": \"y1\", \"align\": \"left\", \"xanchor\": \"left\", \"font\": {\"color\": \"#000000\"}, \"showarrow\": false}, {\"text\": \"AA\", \"x\": 6.55, \"y\": 1, \"xref\": \"x1\", \"yref\": \"y1\", \"align\": \"left\", \"xanchor\": \"left\", \"font\": {\"color\": \"#000000\"}, \"showarrow\": false}, {\"text\": \"88\", \"x\": 7.55, \"y\": 1, \"xref\": \"x1\", \"yref\": \"y1\", \"align\": \"left\", \"xanchor\": \"left\", \"font\": {\"color\": \"#000000\"}, \"showarrow\": false}, {\"text\": \"AF\", \"x\": 8.55, \"y\": 1, \"xref\": \"x1\", \"yref\": \"y1\", \"align\": \"left\", \"xanchor\": \"left\", \"font\": {\"color\": \"#000000\"}, \"showarrow\": false}, {\"text\": \"NP\", \"x\": 9.55, \"y\": 1, \"xref\": \"x1\", \"yref\": \"y1\", \"align\": \"left\", \"xanchor\": \"left\", \"font\": {\"color\": \"#000000\"}, \"showarrow\": false}, {\"text\": \"64\", \"x\": 10.55, \"y\": 1, \"xref\": \"x1\", \"yref\": \"y1\", \"align\": \"left\", \"xanchor\": \"left\", \"font\": {\"color\": \"#000000\"}, \"showarrow\": false}, {\"text\": \"CQ\", \"x\": 11.55, \"y\": 1, \"xref\": \"x1\", \"yref\": \"y1\", \"align\": \"left\", \"xanchor\": \"left\", \"font\": {\"color\": \"#000000\"}, \"showarrow\": false}, {\"text\": \"177.27\", \"x\": 12.55, \"y\": 1, \"xref\": \"x1\", \"yref\": \"y1\", \"align\": \"left\", \"xanchor\": \"left\", \"font\": {\"color\": \"#000000\"}, \"showarrow\": false}, {\"text\": \"NK\", \"x\": 13.55, \"y\": 1, \"xref\": \"x1\", \"yref\": \"y1\", \"align\": \"left\", \"xanchor\": \"left\", \"font\": {\"color\": \"#000000\"}, \"showarrow\": false}, {\"text\": \"DF\", \"x\": 14.55, \"y\": 1, \"xref\": \"x1\", \"yref\": \"y1\", \"align\": \"left\", \"xanchor\": \"left\", \"font\": {\"color\": \"#000000\"}, \"showarrow\": false}, {\"text\": \"108642\", \"x\": 15.55, \"y\": 1, \"xref\": \"x1\", \"yref\": \"y1\", \"align\": \"left\", \"xanchor\": \"left\", \"font\": {\"color\": \"#000000\"}, \"showarrow\": false}, {\"text\": \"DM\", \"x\": 16.55, \"y\": 1, \"xref\": \"x1\", \"yref\": \"y1\", \"align\": \"left\", \"xanchor\": \"left\", \"font\": {\"color\": \"#000000\"}, \"showarrow\": false}, {\"text\": \"71.81\", \"x\": 17.55, \"y\": 1, \"xref\": \"x1\", \"yref\": \"y1\", \"align\": \"left\", \"xanchor\": \"left\", \"font\": {\"color\": \"#000000\"}, \"showarrow\": false}, {\"text\": \"DP\", \"x\": 18.55, \"y\": 1, \"xref\": \"x1\", \"yref\": \"y1\", \"align\": \"left\", \"xanchor\": \"left\", \"font\": {\"color\": \"#000000\"}, \"showarrow\": false}, {\"text\": \"DO\", \"x\": 19.55, \"y\": 1, \"xref\": \"x1\", \"yref\": \"y1\", \"align\": \"left\", \"xanchor\": \"left\", \"font\": {\"color\": \"#000000\"}, \"showarrow\": false}, {\"text\": \"MEM\", \"x\": 20.55, \"y\": 1, \"xref\": \"x1\", \"yref\": \"y1\", \"align\": \"left\", \"xanchor\": \"left\", \"font\": {\"color\": \"#000000\"}, \"showarrow\": false}, {\"text\": \"A\", \"x\": -0.45, \"y\": 2, \"xref\": \"x1\", \"yref\": \"y1\", \"align\": \"left\", \"xanchor\": \"left\", \"font\": {\"color\": \"#000000\"}, \"showarrow\": false}, {\"text\": \"966\", \"x\": 0.55, \"y\": 2, \"xref\": \"x1\", \"yref\": \"y1\", \"align\": \"left\", \"xanchor\": \"left\", \"font\": {\"color\": \"#000000\"}, \"showarrow\": false}, {\"text\": \"E\", \"x\": 1.55, \"y\": 2, \"xref\": \"x1\", \"yref\": \"y1\", \"align\": \"left\", \"xanchor\": \"left\", \"font\": {\"color\": \"#000000\"}, \"showarrow\": false}, {\"text\": \"35.91\", \"x\": 2.55, \"y\": 2, \"xref\": \"x1\", \"yref\": \"y1\", \"align\": \"left\", \"xanchor\": \"left\", \"font\": {\"color\": \"#000000\"}, \"showarrow\": false}, {\"text\": \"V\", \"x\": 3.55, \"y\": 2, \"xref\": \"x1\", \"yref\": \"y1\", \"align\": \"left\", \"xanchor\": \"left\", \"font\": {\"color\": \"#000000\"}, \"showarrow\": false}, {\"text\": \"22.63\", \"x\": 4.55, \"y\": 2, \"xref\": \"x1\", \"yref\": \"y1\", \"align\": \"left\", \"xanchor\": \"left\", \"font\": {\"color\": \"#000000\"}, \"showarrow\": false}, {\"text\": \"Q\", \"x\": 5.55, \"y\": 2, \"xref\": \"x1\", \"yref\": \"y1\", \"align\": \"left\", \"xanchor\": \"left\", \"font\": {\"color\": \"#000000\"}, \"showarrow\": false}, {\"text\": \"AD\", \"x\": 6.55, \"y\": 2, \"xref\": \"x1\", \"yref\": \"y1\", \"align\": \"left\", \"xanchor\": \"left\", \"font\": {\"color\": \"#000000\"}, \"showarrow\": false}, {\"text\": \"88\", \"x\": 7.55, \"y\": 2, \"xref\": \"x1\", \"yref\": \"y1\", \"align\": \"left\", \"xanchor\": \"left\", \"font\": {\"color\": \"#000000\"}, \"showarrow\": false}, {\"text\": \"AF\", \"x\": 8.55, \"y\": 2, \"xref\": \"x1\", \"yref\": \"y1\", \"align\": \"left\", \"xanchor\": \"left\", \"font\": {\"color\": \"#000000\"}, \"showarrow\": false}, {\"text\": \"CCA\", \"x\": 9.55, \"y\": 2, \"xref\": \"x1\", \"yref\": \"y1\", \"align\": \"left\", \"xanchor\": \"left\", \"font\": {\"color\": \"#000000\"}, \"showarrow\": false}, {\"text\": \"64\", \"x\": 10.55, \"y\": 2, \"xref\": \"x1\", \"yref\": \"y1\", \"align\": \"left\", \"xanchor\": \"left\", \"font\": {\"color\": \"#000000\"}, \"showarrow\": false}, {\"text\": \"DC\", \"x\": 11.55, \"y\": 2, \"xref\": \"x1\", \"yref\": \"y1\", \"align\": \"left\", \"xanchor\": \"left\", \"font\": {\"color\": \"#000000\"}, \"showarrow\": false}, {\"text\": \"171.97\", \"x\": 12.55, \"y\": 2, \"xref\": \"x1\", \"yref\": \"y1\", \"align\": \"left\", \"xanchor\": \"left\", \"font\": {\"color\": \"#000000\"}, \"showarrow\": false}, {\"text\": \"NK\", \"x\": 13.55, \"y\": 2, \"xref\": \"x1\", \"yref\": \"y1\", \"align\": \"left\", \"xanchor\": \"left\", \"font\": {\"color\": \"#000000\"}, \"showarrow\": false}, {\"text\": \"DF\", \"x\": 14.55, \"y\": 2, \"xref\": \"x1\", \"yref\": \"y1\", \"align\": \"left\", \"xanchor\": \"left\", \"font\": {\"color\": \"#000000\"}, \"showarrow\": false}, {\"text\": \"108642\", \"x\": 15.55, \"y\": 2, \"xref\": \"x1\", \"yref\": \"y1\", \"align\": \"left\", \"xanchor\": \"left\", \"font\": {\"color\": \"#000000\"}, \"showarrow\": false}, {\"text\": \"DJ\", \"x\": 16.55, \"y\": 2, \"xref\": \"x1\", \"yref\": \"y1\", \"align\": \"left\", \"xanchor\": \"left\", \"font\": {\"color\": \"#000000\"}, \"showarrow\": false}, {\"text\": \"71.81\", \"x\": 17.55, \"y\": 2, \"xref\": \"x1\", \"yref\": \"y1\", \"align\": \"left\", \"xanchor\": \"left\", \"font\": {\"color\": \"#000000\"}, \"showarrow\": false}, {\"text\": \"NN\", \"x\": 18.55, \"y\": 2, \"xref\": \"x1\", \"yref\": \"y1\", \"align\": \"left\", \"xanchor\": \"left\", \"font\": {\"color\": \"#000000\"}, \"showarrow\": false}, {\"text\": \"DO\", \"x\": 19.55, \"y\": 2, \"xref\": \"x1\", \"yref\": \"y1\", \"align\": \"left\", \"xanchor\": \"left\", \"font\": {\"color\": \"#000000\"}, \"showarrow\": false}, {\"text\": \"MEM\", \"x\": 20.55, \"y\": 2, \"xref\": \"x1\", \"yref\": \"y1\", \"align\": \"left\", \"xanchor\": \"left\", \"font\": {\"color\": \"#000000\"}, \"showarrow\": false}, {\"text\": \"C\", \"x\": -0.45, \"y\": 3, \"xref\": \"x1\", \"yref\": \"y1\", \"align\": \"left\", \"xanchor\": \"left\", \"font\": {\"color\": \"#000000\"}, \"showarrow\": false}, {\"text\": \"345\", \"x\": 0.55, \"y\": 3, \"xref\": \"x1\", \"yref\": \"y1\", \"align\": \"left\", \"xanchor\": \"left\", \"font\": {\"color\": \"#000000\"}, \"showarrow\": false}, {\"text\": \"E\", \"x\": 1.55, \"y\": 3, \"xref\": \"x1\", \"yref\": \"y1\", \"align\": \"left\", \"xanchor\": \"left\", \"font\": {\"color\": \"#000000\"}, \"showarrow\": false}, {\"text\": \"35.91\", \"x\": 2.55, \"y\": 3, \"xref\": \"x1\", \"yref\": \"y1\", \"align\": \"left\", \"xanchor\": \"left\", \"font\": {\"color\": \"#000000\"}, \"showarrow\": false}, {\"text\": \"J\", \"x\": 3.55, \"y\": 3, \"xref\": \"x1\", \"yref\": \"y1\", \"align\": \"left\", \"xanchor\": \"left\", \"font\": {\"color\": \"#000000\"}, \"showarrow\": false}, {\"text\": \"12.19\", \"x\": 4.55, \"y\": 3, \"xref\": \"x1\", \"yref\": \"y1\", \"align\": \"left\", \"xanchor\": \"left\", \"font\": {\"color\": \"#000000\"}, \"showarrow\": false}, {\"text\": \"Q\", \"x\": 5.55, \"y\": 3, \"xref\": \"x1\", \"yref\": \"y1\", \"align\": \"left\", \"xanchor\": \"left\", \"font\": {\"color\": \"#000000\"}, \"showarrow\": false}, {\"text\": \"AA\", \"x\": 6.55, \"y\": 3, \"xref\": \"x1\", \"yref\": \"y1\", \"align\": \"left\", \"xanchor\": \"left\", \"font\": {\"color\": \"#000000\"}, \"showarrow\": false}, {\"text\": \"88\", \"x\": 7.55, \"y\": 3, \"xref\": \"x1\", \"yref\": \"y1\", \"align\": \"left\", \"xanchor\": \"left\", \"font\": {\"color\": \"#000000\"}, \"showarrow\": false}, {\"text\": \"AF\", \"x\": 8.55, \"y\": 3, \"xref\": \"x1\", \"yref\": \"y1\", \"align\": \"left\", \"xanchor\": \"left\", \"font\": {\"color\": \"#000000\"}, \"showarrow\": false}, {\"text\": \"NP\", \"x\": 9.55, \"y\": 3, \"xref\": \"x1\", \"yref\": \"y1\", \"align\": \"left\", \"xanchor\": \"left\", \"font\": {\"color\": \"#000000\"}, \"showarrow\": false}, {\"text\": \"64\", \"x\": 10.55, \"y\": 3, \"xref\": \"x1\", \"yref\": \"y1\", \"align\": \"left\", \"xanchor\": \"left\", \"font\": {\"color\": \"#000000\"}, \"showarrow\": false}, {\"text\": \"DC\", \"x\": 11.55, \"y\": 3, \"xref\": \"x1\", \"yref\": \"y1\", \"align\": \"left\", \"xanchor\": \"left\", \"font\": {\"color\": \"#000000\"}, \"showarrow\": false}, {\"text\": \"121.7\", \"x\": 12.55, \"y\": 3, \"xref\": \"x1\", \"yref\": \"y1\", \"align\": \"left\", \"xanchor\": \"left\", \"font\": {\"color\": \"#000000\"}, \"showarrow\": false}, {\"text\": \"NK\", \"x\": 13.55, \"y\": 3, \"xref\": \"x1\", \"yref\": \"y1\", \"align\": \"left\", \"xanchor\": \"left\", \"font\": {\"color\": \"#000000\"}, \"showarrow\": false}, {\"text\": \"DF\", \"x\": 14.55, \"y\": 3, \"xref\": \"x1\", \"yref\": \"y1\", \"align\": \"left\", \"xanchor\": \"left\", \"font\": {\"color\": \"#000000\"}, \"showarrow\": false}, {\"text\": \"108642\", \"x\": 15.55, \"y\": 3, \"xref\": \"x1\", \"yref\": \"y1\", \"align\": \"left\", \"xanchor\": \"left\", \"font\": {\"color\": \"#000000\"}, \"showarrow\": false}, {\"text\": \"DM\", \"x\": 16.55, \"y\": 3, \"xref\": \"x1\", \"yref\": \"y1\", \"align\": \"left\", \"xanchor\": \"left\", \"font\": {\"color\": \"#000000\"}, \"showarrow\": false}, {\"text\": \"71.81\", \"x\": 17.55, \"y\": 3, \"xref\": \"x1\", \"yref\": \"y1\", \"align\": \"left\", \"xanchor\": \"left\", \"font\": {\"color\": \"#000000\"}, \"showarrow\": false}, {\"text\": \"DP\", \"x\": 18.55, \"y\": 3, \"xref\": \"x1\", \"yref\": \"y1\", \"align\": \"left\", \"xanchor\": \"left\", \"font\": {\"color\": \"#000000\"}, \"showarrow\": false}, {\"text\": \"DO\", \"x\": 19.55, \"y\": 3, \"xref\": \"x1\", \"yref\": \"y1\", \"align\": \"left\", \"xanchor\": \"left\", \"font\": {\"color\": \"#000000\"}, \"showarrow\": false}, {\"text\": \"MEM\", \"x\": 20.55, \"y\": 3, \"xref\": \"x1\", \"yref\": \"y1\", \"align\": \"left\", \"xanchor\": \"left\", \"font\": {\"color\": \"#000000\"}, \"showarrow\": false}, {\"text\": \"B\", \"x\": -0.45, \"y\": 4, \"xref\": \"x1\", \"yref\": \"y1\", \"align\": \"left\", \"xanchor\": \"left\", \"font\": {\"color\": \"#000000\"}, \"showarrow\": false}, {\"text\": \"276\", \"x\": 0.55, \"y\": 4, \"xref\": \"x1\", \"yref\": \"y1\", \"align\": \"left\", \"xanchor\": \"left\", \"font\": {\"color\": \"#000000\"}, \"showarrow\": false}, {\"text\": \"F\", \"x\": 1.55, \"y\": 4, \"xref\": \"x1\", \"yref\": \"y1\", \"align\": \"left\", \"xanchor\": \"left\", \"font\": {\"color\": \"#000000\"}, \"showarrow\": false}, {\"text\": \"35.91\", \"x\": 2.55, \"y\": 4, \"xref\": \"x1\", \"yref\": \"y1\", \"align\": \"left\", \"xanchor\": \"left\", \"font\": {\"color\": \"#000000\"}, \"showarrow\": false}, {\"text\": \"O\", \"x\": 3.55, \"y\": 4, \"xref\": \"x1\", \"yref\": \"y1\", \"align\": \"left\", \"xanchor\": \"left\", \"font\": {\"color\": \"#000000\"}, \"showarrow\": false}, {\"text\": \"5.61\", \"x\": 4.55, \"y\": 4, \"xref\": \"x1\", \"yref\": \"y1\", \"align\": \"left\", \"xanchor\": \"left\", \"font\": {\"color\": \"#000000\"}, \"showarrow\": false}, {\"text\": \"T\", \"x\": 5.55, \"y\": 4, \"xref\": \"x1\", \"yref\": \"y1\", \"align\": \"left\", \"xanchor\": \"left\", \"font\": {\"color\": \"#000000\"}, \"showarrow\": false}, {\"text\": \"AC\", \"x\": 6.55, \"y\": 4, \"xref\": \"x1\", \"yref\": \"y1\", \"align\": \"left\", \"xanchor\": \"left\", \"font\": {\"color\": \"#000000\"}, \"showarrow\": false}, {\"text\": \"44\", \"x\": 7.55, \"y\": 4, \"xref\": \"x1\", \"yref\": \"y1\", \"align\": \"left\", \"xanchor\": \"left\", \"font\": {\"color\": \"#000000\"}, \"showarrow\": false}, {\"text\": \"BA\", \"x\": 8.55, \"y\": 4, \"xref\": \"x1\", \"yref\": \"y1\", \"align\": \"left\", \"xanchor\": \"left\", \"font\": {\"color\": \"#000000\"}, \"showarrow\": false}, {\"text\": \"NP\", \"x\": 9.55, \"y\": 4, \"xref\": \"x1\", \"yref\": \"y1\", \"align\": \"left\", \"xanchor\": \"left\", \"font\": {\"color\": \"#000000\"}, \"showarrow\": false}, {\"text\": \"64\", \"x\": 10.55, \"y\": 4, \"xref\": \"x1\", \"yref\": \"y1\", \"align\": \"left\", \"xanchor\": \"left\", \"font\": {\"color\": \"#000000\"}, \"showarrow\": false}, {\"text\": \"CQ\", \"x\": 11.55, \"y\": 4, \"xref\": \"x1\", \"yref\": \"y1\", \"align\": \"left\", \"xanchor\": \"left\", \"font\": {\"color\": \"#000000\"}, \"showarrow\": false}, {\"text\": \"60.85\", \"x\": 12.55, \"y\": 4, \"xref\": \"x1\", \"yref\": \"y1\", \"align\": \"left\", \"xanchor\": \"left\", \"font\": {\"color\": \"#000000\"}, \"showarrow\": false}, {\"text\": \"NK\", \"x\": 13.55, \"y\": 4, \"xref\": \"x1\", \"yref\": \"y1\", \"align\": \"left\", \"xanchor\": \"left\", \"font\": {\"color\": \"#000000\"}, \"showarrow\": false}, {\"text\": \"DG\", \"x\": 14.55, \"y\": 4, \"xref\": \"x1\", \"yref\": \"y1\", \"align\": \"left\", \"xanchor\": \"left\", \"font\": {\"color\": \"#000000\"}, \"showarrow\": false}, {\"text\": \"54321\", \"x\": 15.55, \"y\": 4, \"xref\": \"x1\", \"yref\": \"y1\", \"align\": \"left\", \"xanchor\": \"left\", \"font\": {\"color\": \"#000000\"}, \"showarrow\": false}, {\"text\": \"DH\", \"x\": 16.55, \"y\": 4, \"xref\": \"x1\", \"yref\": \"y1\", \"align\": \"left\", \"xanchor\": \"left\", \"font\": {\"color\": \"#000000\"}, \"showarrow\": false}, {\"text\": \"71.81\", \"x\": 17.55, \"y\": 4, \"xref\": \"x1\", \"yref\": \"y1\", \"align\": \"left\", \"xanchor\": \"left\", \"font\": {\"color\": \"#000000\"}, \"showarrow\": false}, {\"text\": \"NN\", \"x\": 18.55, \"y\": 4, \"xref\": \"x1\", \"yref\": \"y1\", \"align\": \"left\", \"xanchor\": \"left\", \"font\": {\"color\": \"#000000\"}, \"showarrow\": false}, {\"text\": \"DO\", \"x\": 19.55, \"y\": 4, \"xref\": \"x1\", \"yref\": \"y1\", \"align\": \"left\", \"xanchor\": \"left\", \"font\": {\"color\": \"#000000\"}, \"showarrow\": false}, {\"text\": \"MEM\", \"x\": 20.55, \"y\": 4, \"xref\": \"x1\", \"yref\": \"y1\", \"align\": \"left\", \"xanchor\": \"left\", \"font\": {\"color\": \"#000000\"}, \"showarrow\": false}, {\"text\": \"C\", \"x\": -0.45, \"y\": 5, \"xref\": \"x1\", \"yref\": \"y1\", \"align\": \"left\", \"xanchor\": \"left\", \"font\": {\"color\": \"#000000\"}, \"showarrow\": false}, {\"text\": \"552\", \"x\": 0.55, \"y\": 5, \"xref\": \"x1\", \"yref\": \"y1\", \"align\": \"left\", \"xanchor\": \"left\", \"font\": {\"color\": \"#000000\"}, \"showarrow\": false}, {\"text\": \"G\", \"x\": 1.55, \"y\": 5, \"xref\": \"x1\", \"yref\": \"y1\", \"align\": \"left\", \"xanchor\": \"left\", \"font\": {\"color\": \"#000000\"}, \"showarrow\": false}, {\"text\": \"35.91\", \"x\": 2.55, \"y\": 5, \"xref\": \"x1\", \"yref\": \"y1\", \"align\": \"left\", \"xanchor\": \"left\", \"font\": {\"color\": \"#000000\"}, \"showarrow\": false}, {\"text\": \"L\", \"x\": 3.55, \"y\": 5, \"xref\": \"x1\", \"yref\": \"y1\", \"align\": \"left\", \"xanchor\": \"left\", \"font\": {\"color\": \"#000000\"}, \"showarrow\": false}, {\"text\": \"27.67\", \"x\": 4.55, \"y\": 5, \"xref\": \"x1\", \"yref\": \"y1\", \"align\": \"left\", \"xanchor\": \"left\", \"font\": {\"color\": \"#000000\"}, \"showarrow\": false}, {\"text\": \"T\", \"x\": 5.55, \"y\": 5, \"xref\": \"x1\", \"yref\": \"y1\", \"align\": \"left\", \"xanchor\": \"left\", \"font\": {\"color\": \"#000000\"}, \"showarrow\": false}, {\"text\": \"AB\", \"x\": 6.55, \"y\": 5, \"xref\": \"x1\", \"yref\": \"y1\", \"align\": \"left\", \"xanchor\": \"left\", \"font\": {\"color\": \"#000000\"}, \"showarrow\": false}, {\"text\": \"44\", \"x\": 7.55, \"y\": 5, \"xref\": \"x1\", \"yref\": \"y1\", \"align\": \"left\", \"xanchor\": \"left\", \"font\": {\"color\": \"#000000\"}, \"showarrow\": false}, {\"text\": \"AF\", \"x\": 8.55, \"y\": 5, \"xref\": \"x1\", \"yref\": \"y1\", \"align\": \"left\", \"xanchor\": \"left\", \"font\": {\"color\": \"#000000\"}, \"showarrow\": false}, {\"text\": \"NP\", \"x\": 9.55, \"y\": 5, \"xref\": \"x1\", \"yref\": \"y1\", \"align\": \"left\", \"xanchor\": \"left\", \"font\": {\"color\": \"#000000\"}, \"showarrow\": false}, {\"text\": \"48\", \"x\": 10.55, \"y\": 5, \"xref\": \"x1\", \"yref\": \"y1\", \"align\": \"left\", \"xanchor\": \"left\", \"font\": {\"color\": \"#000000\"}, \"showarrow\": false}, {\"text\": \"DA\", \"x\": 11.55, \"y\": 5, \"xref\": \"x1\", \"yref\": \"y1\", \"align\": \"left\", \"xanchor\": \"left\", \"font\": {\"color\": \"#000000\"}, \"showarrow\": false}, {\"text\": \"92.6\", \"x\": 12.55, \"y\": 5, \"xref\": \"x1\", \"yref\": \"y1\", \"align\": \"left\", \"xanchor\": \"left\", \"font\": {\"color\": \"#000000\"}, \"showarrow\": false}, {\"text\": \"NK\", \"x\": 13.55, \"y\": 5, \"xref\": \"x1\", \"yref\": \"y1\", \"align\": \"left\", \"xanchor\": \"left\", \"font\": {\"color\": \"#000000\"}, \"showarrow\": false}, {\"text\": \"DF\", \"x\": 14.55, \"y\": 5, \"xref\": \"x1\", \"yref\": \"y1\", \"align\": \"left\", \"xanchor\": \"left\", \"font\": {\"color\": \"#000000\"}, \"showarrow\": false}, {\"text\": \"108642\", \"x\": 15.55, \"y\": 5, \"xref\": \"x1\", \"yref\": \"y1\", \"align\": \"left\", \"xanchor\": \"left\", \"font\": {\"color\": \"#000000\"}, \"showarrow\": false}, {\"text\": \"DM\", \"x\": 16.55, \"y\": 5, \"xref\": \"x1\", \"yref\": \"y1\", \"align\": \"left\", \"xanchor\": \"left\", \"font\": {\"color\": \"#000000\"}, \"showarrow\": false}, {\"text\": \"71.81\", \"x\": 17.55, \"y\": 5, \"xref\": \"x1\", \"yref\": \"y1\", \"align\": \"left\", \"xanchor\": \"left\", \"font\": {\"color\": \"#000000\"}, \"showarrow\": false}, {\"text\": \"NN\", \"x\": 18.55, \"y\": 5, \"xref\": \"x1\", \"yref\": \"y1\", \"align\": \"left\", \"xanchor\": \"left\", \"font\": {\"color\": \"#000000\"}, \"showarrow\": false}, {\"text\": \"DO\", \"x\": 19.55, \"y\": 5, \"xref\": \"x1\", \"yref\": \"y1\", \"align\": \"left\", \"xanchor\": \"left\", \"font\": {\"color\": \"#000000\"}, \"showarrow\": false}, {\"text\": \"MEM\", \"x\": 20.55, \"y\": 5, \"xref\": \"x1\", \"yref\": \"y1\", \"align\": \"left\", \"xanchor\": \"left\", \"font\": {\"color\": \"#000000\"}, \"showarrow\": false}], \"height\": 230, \"margin\": {\"t\": 0, \"b\": 0, \"r\": 0, \"l\": 0}, \"yaxis\": {\"autorange\": \"reversed\", \"zeroline\": false, \"gridwidth\": 2, \"ticks\": \"\", \"dtick\": 1, \"tick0\": 0.5, \"showticklabels\": false}, \"xaxis\": {\"zeroline\": false, \"gridwidth\": 2, \"ticks\": \"\", \"dtick\": 1, \"tick0\": -0.5, \"showticklabels\": false}}, {\"showLink\": true, \"linkText\": \"Export to plot.ly\"})});</script>"
      ],
      "text/vnd.plotly.v1+html": [
       "<div id=\"e72f55c8-f16c-4c61-9442-914d0aa4e73d\" style=\"height: 230px; width: 100%;\" class=\"plotly-graph-div\"></div><script type=\"text/javascript\">require([\"plotly\"], function(Plotly) { window.PLOTLYENV=window.PLOTLYENV || {};window.PLOTLYENV.BASE_URL=\"https://plot.ly\";Plotly.newPlot(\"e72f55c8-f16c-4c61-9442-914d0aa4e73d\", [{\"type\": \"heatmap\", \"z\": [[0, 0, 0, 0, 0, 0, 0, 0, 0, 0, 0, 0, 0, 0, 0, 0, 0, 0, 0, 0, 0, 0], [0.5, 0.5, 0.5, 0.5, 0.5, 0.5, 0.5, 0.5, 0.5, 0.5, 0.5, 0.5, 0.5, 0.5, 0.5, 0.5, 0.5, 0.5, 0.5, 0.5, 0.5, 0.5], [1, 1, 1, 1, 1, 1, 1, 1, 1, 1, 1, 1, 1, 1, 1, 1, 1, 1, 1, 1, 1, 1], [0.5, 0.5, 0.5, 0.5, 0.5, 0.5, 0.5, 0.5, 0.5, 0.5, 0.5, 0.5, 0.5, 0.5, 0.5, 0.5, 0.5, 0.5, 0.5, 0.5, 0.5, 0.5], [1, 1, 1, 1, 1, 1, 1, 1, 1, 1, 1, 1, 1, 1, 1, 1, 1, 1, 1, 1, 1, 1], [0.5, 0.5, 0.5, 0.5, 0.5, 0.5, 0.5, 0.5, 0.5, 0.5, 0.5, 0.5, 0.5, 0.5, 0.5, 0.5, 0.5, 0.5, 0.5, 0.5, 0.5, 0.5]], \"opacity\": 0.75, \"colorscale\": [[0, \"#00083e\"], [0.5, \"#ededee\"], [1, \"#ffffff\"]], \"showscale\": false, \"hoverinfo\": \"none\"}], {\"annotations\": [{\"text\": \"<b>X1</b>\", \"x\": -0.45, \"y\": 0, \"xref\": \"x1\", \"yref\": \"y1\", \"align\": \"left\", \"xanchor\": \"left\", \"font\": {\"color\": \"#ffffff\"}, \"showarrow\": false}, {\"text\": \"<b>X2</b>\", \"x\": 0.55, \"y\": 0, \"xref\": \"x1\", \"yref\": \"y1\", \"align\": \"left\", \"xanchor\": \"left\", \"font\": {\"color\": \"#ffffff\"}, \"showarrow\": false}, {\"text\": \"<b>X3</b>\", \"x\": 1.55, \"y\": 0, \"xref\": \"x1\", \"yref\": \"y1\", \"align\": \"left\", \"xanchor\": \"left\", \"font\": {\"color\": \"#ffffff\"}, \"showarrow\": false}, {\"text\": \"<b>X4</b>\", \"x\": 2.55, \"y\": 0, \"xref\": \"x1\", \"yref\": \"y1\", \"align\": \"left\", \"xanchor\": \"left\", \"font\": {\"color\": \"#ffffff\"}, \"showarrow\": false}, {\"text\": \"<b>X5</b>\", \"x\": 3.55, \"y\": 0, \"xref\": \"x1\", \"yref\": \"y1\", \"align\": \"left\", \"xanchor\": \"left\", \"font\": {\"color\": \"#ffffff\"}, \"showarrow\": false}, {\"text\": \"<b>X6</b>\", \"x\": 4.55, \"y\": 0, \"xref\": \"x1\", \"yref\": \"y1\", \"align\": \"left\", \"xanchor\": \"left\", \"font\": {\"color\": \"#ffffff\"}, \"showarrow\": false}, {\"text\": \"<b>X7</b>\", \"x\": 5.55, \"y\": 0, \"xref\": \"x1\", \"yref\": \"y1\", \"align\": \"left\", \"xanchor\": \"left\", \"font\": {\"color\": \"#ffffff\"}, \"showarrow\": false}, {\"text\": \"<b>X8</b>\", \"x\": 6.55, \"y\": 0, \"xref\": \"x1\", \"yref\": \"y1\", \"align\": \"left\", \"xanchor\": \"left\", \"font\": {\"color\": \"#ffffff\"}, \"showarrow\": false}, {\"text\": \"<b>X9</b>\", \"x\": 7.55, \"y\": 0, \"xref\": \"x1\", \"yref\": \"y1\", \"align\": \"left\", \"xanchor\": \"left\", \"font\": {\"color\": \"#ffffff\"}, \"showarrow\": false}, {\"text\": \"<b>X10</b>\", \"x\": 8.55, \"y\": 0, \"xref\": \"x1\", \"yref\": \"y1\", \"align\": \"left\", \"xanchor\": \"left\", \"font\": {\"color\": \"#ffffff\"}, \"showarrow\": false}, {\"text\": \"<b>X11</b>\", \"x\": 9.55, \"y\": 0, \"xref\": \"x1\", \"yref\": \"y1\", \"align\": \"left\", \"xanchor\": \"left\", \"font\": {\"color\": \"#ffffff\"}, \"showarrow\": false}, {\"text\": \"<b>X12</b>\", \"x\": 10.55, \"y\": 0, \"xref\": \"x1\", \"yref\": \"y1\", \"align\": \"left\", \"xanchor\": \"left\", \"font\": {\"color\": \"#ffffff\"}, \"showarrow\": false}, {\"text\": \"<b>X13</b>\", \"x\": 11.55, \"y\": 0, \"xref\": \"x1\", \"yref\": \"y1\", \"align\": \"left\", \"xanchor\": \"left\", \"font\": {\"color\": \"#ffffff\"}, \"showarrow\": false}, {\"text\": \"<b>X14</b>\", \"x\": 12.55, \"y\": 0, \"xref\": \"x1\", \"yref\": \"y1\", \"align\": \"left\", \"xanchor\": \"left\", \"font\": {\"color\": \"#ffffff\"}, \"showarrow\": false}, {\"text\": \"<b>X15</b>\", \"x\": 13.55, \"y\": 0, \"xref\": \"x1\", \"yref\": \"y1\", \"align\": \"left\", \"xanchor\": \"left\", \"font\": {\"color\": \"#ffffff\"}, \"showarrow\": false}, {\"text\": \"<b>X16</b>\", \"x\": 14.55, \"y\": 0, \"xref\": \"x1\", \"yref\": \"y1\", \"align\": \"left\", \"xanchor\": \"left\", \"font\": {\"color\": \"#ffffff\"}, \"showarrow\": false}, {\"text\": \"<b>X17</b>\", \"x\": 15.55, \"y\": 0, \"xref\": \"x1\", \"yref\": \"y1\", \"align\": \"left\", \"xanchor\": \"left\", \"font\": {\"color\": \"#ffffff\"}, \"showarrow\": false}, {\"text\": \"<b>X18</b>\", \"x\": 16.55, \"y\": 0, \"xref\": \"x1\", \"yref\": \"y1\", \"align\": \"left\", \"xanchor\": \"left\", \"font\": {\"color\": \"#ffffff\"}, \"showarrow\": false}, {\"text\": \"<b>X19</b>\", \"x\": 17.55, \"y\": 0, \"xref\": \"x1\", \"yref\": \"y1\", \"align\": \"left\", \"xanchor\": \"left\", \"font\": {\"color\": \"#ffffff\"}, \"showarrow\": false}, {\"text\": \"<b>X20</b>\", \"x\": 18.55, \"y\": 0, \"xref\": \"x1\", \"yref\": \"y1\", \"align\": \"left\", \"xanchor\": \"left\", \"font\": {\"color\": \"#ffffff\"}, \"showarrow\": false}, {\"text\": \"<b>X21</b>\", \"x\": 19.55, \"y\": 0, \"xref\": \"x1\", \"yref\": \"y1\", \"align\": \"left\", \"xanchor\": \"left\", \"font\": {\"color\": \"#ffffff\"}, \"showarrow\": false}, {\"text\": \"<b>Y</b>\", \"x\": 20.55, \"y\": 0, \"xref\": \"x1\", \"yref\": \"y1\", \"align\": \"left\", \"xanchor\": \"left\", \"font\": {\"color\": \"#ffffff\"}, \"showarrow\": false}, {\"text\": \"A\", \"x\": -0.45, \"y\": 1, \"xref\": \"x1\", \"yref\": \"y1\", \"align\": \"left\", \"xanchor\": \"left\", \"font\": {\"color\": \"#000000\"}, \"showarrow\": false}, {\"text\": \"138\", \"x\": 0.55, \"y\": 1, \"xref\": \"x1\", \"yref\": \"y1\", \"align\": \"left\", \"xanchor\": \"left\", \"font\": {\"color\": \"#000000\"}, \"showarrow\": false}, {\"text\": \"E\", \"x\": 1.55, \"y\": 1, \"xref\": \"x1\", \"yref\": \"y1\", \"align\": \"left\", \"xanchor\": \"left\", \"font\": {\"color\": \"#000000\"}, \"showarrow\": false}, {\"text\": \"35.91\", \"x\": 2.55, \"y\": 1, \"xref\": \"x1\", \"yref\": \"y1\", \"align\": \"left\", \"xanchor\": \"left\", \"font\": {\"color\": \"#000000\"}, \"showarrow\": false}, {\"text\": \"J\", \"x\": 3.55, \"y\": 1, \"xref\": \"x1\", \"yref\": \"y1\", \"align\": \"left\", \"xanchor\": \"left\", \"font\": {\"color\": \"#000000\"}, \"showarrow\": false}, {\"text\": \"7.79\", \"x\": 4.55, \"y\": 1, \"xref\": \"x1\", \"yref\": \"y1\", \"align\": \"left\", \"xanchor\": \"left\", \"font\": {\"color\": \"#000000\"}, \"showarrow\": false}, {\"text\": \"P\", \"x\": 5.55, \"y\": 1, \"xref\": \"x1\", \"yref\": \"y1\", \"align\": \"left\", \"xanchor\": \"left\", \"font\": {\"color\": \"#000000\"}, \"showarrow\": false}, {\"text\": \"AA\", \"x\": 6.55, \"y\": 1, \"xref\": \"x1\", \"yref\": \"y1\", \"align\": \"left\", \"xanchor\": \"left\", \"font\": {\"color\": \"#000000\"}, \"showarrow\": false}, {\"text\": \"88\", \"x\": 7.55, \"y\": 1, \"xref\": \"x1\", \"yref\": \"y1\", \"align\": \"left\", \"xanchor\": \"left\", \"font\": {\"color\": \"#000000\"}, \"showarrow\": false}, {\"text\": \"AF\", \"x\": 8.55, \"y\": 1, \"xref\": \"x1\", \"yref\": \"y1\", \"align\": \"left\", \"xanchor\": \"left\", \"font\": {\"color\": \"#000000\"}, \"showarrow\": false}, {\"text\": \"NP\", \"x\": 9.55, \"y\": 1, \"xref\": \"x1\", \"yref\": \"y1\", \"align\": \"left\", \"xanchor\": \"left\", \"font\": {\"color\": \"#000000\"}, \"showarrow\": false}, {\"text\": \"64\", \"x\": 10.55, \"y\": 1, \"xref\": \"x1\", \"yref\": \"y1\", \"align\": \"left\", \"xanchor\": \"left\", \"font\": {\"color\": \"#000000\"}, \"showarrow\": false}, {\"text\": \"CQ\", \"x\": 11.55, \"y\": 1, \"xref\": \"x1\", \"yref\": \"y1\", \"align\": \"left\", \"xanchor\": \"left\", \"font\": {\"color\": \"#000000\"}, \"showarrow\": false}, {\"text\": \"177.27\", \"x\": 12.55, \"y\": 1, \"xref\": \"x1\", \"yref\": \"y1\", \"align\": \"left\", \"xanchor\": \"left\", \"font\": {\"color\": \"#000000\"}, \"showarrow\": false}, {\"text\": \"NK\", \"x\": 13.55, \"y\": 1, \"xref\": \"x1\", \"yref\": \"y1\", \"align\": \"left\", \"xanchor\": \"left\", \"font\": {\"color\": \"#000000\"}, \"showarrow\": false}, {\"text\": \"DF\", \"x\": 14.55, \"y\": 1, \"xref\": \"x1\", \"yref\": \"y1\", \"align\": \"left\", \"xanchor\": \"left\", \"font\": {\"color\": \"#000000\"}, \"showarrow\": false}, {\"text\": \"108642\", \"x\": 15.55, \"y\": 1, \"xref\": \"x1\", \"yref\": \"y1\", \"align\": \"left\", \"xanchor\": \"left\", \"font\": {\"color\": \"#000000\"}, \"showarrow\": false}, {\"text\": \"DM\", \"x\": 16.55, \"y\": 1, \"xref\": \"x1\", \"yref\": \"y1\", \"align\": \"left\", \"xanchor\": \"left\", \"font\": {\"color\": \"#000000\"}, \"showarrow\": false}, {\"text\": \"71.81\", \"x\": 17.55, \"y\": 1, \"xref\": \"x1\", \"yref\": \"y1\", \"align\": \"left\", \"xanchor\": \"left\", \"font\": {\"color\": \"#000000\"}, \"showarrow\": false}, {\"text\": \"DP\", \"x\": 18.55, \"y\": 1, \"xref\": \"x1\", \"yref\": \"y1\", \"align\": \"left\", \"xanchor\": \"left\", \"font\": {\"color\": \"#000000\"}, \"showarrow\": false}, {\"text\": \"DO\", \"x\": 19.55, \"y\": 1, \"xref\": \"x1\", \"yref\": \"y1\", \"align\": \"left\", \"xanchor\": \"left\", \"font\": {\"color\": \"#000000\"}, \"showarrow\": false}, {\"text\": \"MEM\", \"x\": 20.55, \"y\": 1, \"xref\": \"x1\", \"yref\": \"y1\", \"align\": \"left\", \"xanchor\": \"left\", \"font\": {\"color\": \"#000000\"}, \"showarrow\": false}, {\"text\": \"A\", \"x\": -0.45, \"y\": 2, \"xref\": \"x1\", \"yref\": \"y1\", \"align\": \"left\", \"xanchor\": \"left\", \"font\": {\"color\": \"#000000\"}, \"showarrow\": false}, {\"text\": \"966\", \"x\": 0.55, \"y\": 2, \"xref\": \"x1\", \"yref\": \"y1\", \"align\": \"left\", \"xanchor\": \"left\", \"font\": {\"color\": \"#000000\"}, \"showarrow\": false}, {\"text\": \"E\", \"x\": 1.55, \"y\": 2, \"xref\": \"x1\", \"yref\": \"y1\", \"align\": \"left\", \"xanchor\": \"left\", \"font\": {\"color\": \"#000000\"}, \"showarrow\": false}, {\"text\": \"35.91\", \"x\": 2.55, \"y\": 2, \"xref\": \"x1\", \"yref\": \"y1\", \"align\": \"left\", \"xanchor\": \"left\", \"font\": {\"color\": \"#000000\"}, \"showarrow\": false}, {\"text\": \"V\", \"x\": 3.55, \"y\": 2, \"xref\": \"x1\", \"yref\": \"y1\", \"align\": \"left\", \"xanchor\": \"left\", \"font\": {\"color\": \"#000000\"}, \"showarrow\": false}, {\"text\": \"22.63\", \"x\": 4.55, \"y\": 2, \"xref\": \"x1\", \"yref\": \"y1\", \"align\": \"left\", \"xanchor\": \"left\", \"font\": {\"color\": \"#000000\"}, \"showarrow\": false}, {\"text\": \"Q\", \"x\": 5.55, \"y\": 2, \"xref\": \"x1\", \"yref\": \"y1\", \"align\": \"left\", \"xanchor\": \"left\", \"font\": {\"color\": \"#000000\"}, \"showarrow\": false}, {\"text\": \"AD\", \"x\": 6.55, \"y\": 2, \"xref\": \"x1\", \"yref\": \"y1\", \"align\": \"left\", \"xanchor\": \"left\", \"font\": {\"color\": \"#000000\"}, \"showarrow\": false}, {\"text\": \"88\", \"x\": 7.55, \"y\": 2, \"xref\": \"x1\", \"yref\": \"y1\", \"align\": \"left\", \"xanchor\": \"left\", \"font\": {\"color\": \"#000000\"}, \"showarrow\": false}, {\"text\": \"AF\", \"x\": 8.55, \"y\": 2, \"xref\": \"x1\", \"yref\": \"y1\", \"align\": \"left\", \"xanchor\": \"left\", \"font\": {\"color\": \"#000000\"}, \"showarrow\": false}, {\"text\": \"CCA\", \"x\": 9.55, \"y\": 2, \"xref\": \"x1\", \"yref\": \"y1\", \"align\": \"left\", \"xanchor\": \"left\", \"font\": {\"color\": \"#000000\"}, \"showarrow\": false}, {\"text\": \"64\", \"x\": 10.55, \"y\": 2, \"xref\": \"x1\", \"yref\": \"y1\", \"align\": \"left\", \"xanchor\": \"left\", \"font\": {\"color\": \"#000000\"}, \"showarrow\": false}, {\"text\": \"DC\", \"x\": 11.55, \"y\": 2, \"xref\": \"x1\", \"yref\": \"y1\", \"align\": \"left\", \"xanchor\": \"left\", \"font\": {\"color\": \"#000000\"}, \"showarrow\": false}, {\"text\": \"171.97\", \"x\": 12.55, \"y\": 2, \"xref\": \"x1\", \"yref\": \"y1\", \"align\": \"left\", \"xanchor\": \"left\", \"font\": {\"color\": \"#000000\"}, \"showarrow\": false}, {\"text\": \"NK\", \"x\": 13.55, \"y\": 2, \"xref\": \"x1\", \"yref\": \"y1\", \"align\": \"left\", \"xanchor\": \"left\", \"font\": {\"color\": \"#000000\"}, \"showarrow\": false}, {\"text\": \"DF\", \"x\": 14.55, \"y\": 2, \"xref\": \"x1\", \"yref\": \"y1\", \"align\": \"left\", \"xanchor\": \"left\", \"font\": {\"color\": \"#000000\"}, \"showarrow\": false}, {\"text\": \"108642\", \"x\": 15.55, \"y\": 2, \"xref\": \"x1\", \"yref\": \"y1\", \"align\": \"left\", \"xanchor\": \"left\", \"font\": {\"color\": \"#000000\"}, \"showarrow\": false}, {\"text\": \"DJ\", \"x\": 16.55, \"y\": 2, \"xref\": \"x1\", \"yref\": \"y1\", \"align\": \"left\", \"xanchor\": \"left\", \"font\": {\"color\": \"#000000\"}, \"showarrow\": false}, {\"text\": \"71.81\", \"x\": 17.55, \"y\": 2, \"xref\": \"x1\", \"yref\": \"y1\", \"align\": \"left\", \"xanchor\": \"left\", \"font\": {\"color\": \"#000000\"}, \"showarrow\": false}, {\"text\": \"NN\", \"x\": 18.55, \"y\": 2, \"xref\": \"x1\", \"yref\": \"y1\", \"align\": \"left\", \"xanchor\": \"left\", \"font\": {\"color\": \"#000000\"}, \"showarrow\": false}, {\"text\": \"DO\", \"x\": 19.55, \"y\": 2, \"xref\": \"x1\", \"yref\": \"y1\", \"align\": \"left\", \"xanchor\": \"left\", \"font\": {\"color\": \"#000000\"}, \"showarrow\": false}, {\"text\": \"MEM\", \"x\": 20.55, \"y\": 2, \"xref\": \"x1\", \"yref\": \"y1\", \"align\": \"left\", \"xanchor\": \"left\", \"font\": {\"color\": \"#000000\"}, \"showarrow\": false}, {\"text\": \"C\", \"x\": -0.45, \"y\": 3, \"xref\": \"x1\", \"yref\": \"y1\", \"align\": \"left\", \"xanchor\": \"left\", \"font\": {\"color\": \"#000000\"}, \"showarrow\": false}, {\"text\": \"345\", \"x\": 0.55, \"y\": 3, \"xref\": \"x1\", \"yref\": \"y1\", \"align\": \"left\", \"xanchor\": \"left\", \"font\": {\"color\": \"#000000\"}, \"showarrow\": false}, {\"text\": \"E\", \"x\": 1.55, \"y\": 3, \"xref\": \"x1\", \"yref\": \"y1\", \"align\": \"left\", \"xanchor\": \"left\", \"font\": {\"color\": \"#000000\"}, \"showarrow\": false}, {\"text\": \"35.91\", \"x\": 2.55, \"y\": 3, \"xref\": \"x1\", \"yref\": \"y1\", \"align\": \"left\", \"xanchor\": \"left\", \"font\": {\"color\": \"#000000\"}, \"showarrow\": false}, {\"text\": \"J\", \"x\": 3.55, \"y\": 3, \"xref\": \"x1\", \"yref\": \"y1\", \"align\": \"left\", \"xanchor\": \"left\", \"font\": {\"color\": \"#000000\"}, \"showarrow\": false}, {\"text\": \"12.19\", \"x\": 4.55, \"y\": 3, \"xref\": \"x1\", \"yref\": \"y1\", \"align\": \"left\", \"xanchor\": \"left\", \"font\": {\"color\": \"#000000\"}, \"showarrow\": false}, {\"text\": \"Q\", \"x\": 5.55, \"y\": 3, \"xref\": \"x1\", \"yref\": \"y1\", \"align\": \"left\", \"xanchor\": \"left\", \"font\": {\"color\": \"#000000\"}, \"showarrow\": false}, {\"text\": \"AA\", \"x\": 6.55, \"y\": 3, \"xref\": \"x1\", \"yref\": \"y1\", \"align\": \"left\", \"xanchor\": \"left\", \"font\": {\"color\": \"#000000\"}, \"showarrow\": false}, {\"text\": \"88\", \"x\": 7.55, \"y\": 3, \"xref\": \"x1\", \"yref\": \"y1\", \"align\": \"left\", \"xanchor\": \"left\", \"font\": {\"color\": \"#000000\"}, \"showarrow\": false}, {\"text\": \"AF\", \"x\": 8.55, \"y\": 3, \"xref\": \"x1\", \"yref\": \"y1\", \"align\": \"left\", \"xanchor\": \"left\", \"font\": {\"color\": \"#000000\"}, \"showarrow\": false}, {\"text\": \"NP\", \"x\": 9.55, \"y\": 3, \"xref\": \"x1\", \"yref\": \"y1\", \"align\": \"left\", \"xanchor\": \"left\", \"font\": {\"color\": \"#000000\"}, \"showarrow\": false}, {\"text\": \"64\", \"x\": 10.55, \"y\": 3, \"xref\": \"x1\", \"yref\": \"y1\", \"align\": \"left\", \"xanchor\": \"left\", \"font\": {\"color\": \"#000000\"}, \"showarrow\": false}, {\"text\": \"DC\", \"x\": 11.55, \"y\": 3, \"xref\": \"x1\", \"yref\": \"y1\", \"align\": \"left\", \"xanchor\": \"left\", \"font\": {\"color\": \"#000000\"}, \"showarrow\": false}, {\"text\": \"121.7\", \"x\": 12.55, \"y\": 3, \"xref\": \"x1\", \"yref\": \"y1\", \"align\": \"left\", \"xanchor\": \"left\", \"font\": {\"color\": \"#000000\"}, \"showarrow\": false}, {\"text\": \"NK\", \"x\": 13.55, \"y\": 3, \"xref\": \"x1\", \"yref\": \"y1\", \"align\": \"left\", \"xanchor\": \"left\", \"font\": {\"color\": \"#000000\"}, \"showarrow\": false}, {\"text\": \"DF\", \"x\": 14.55, \"y\": 3, \"xref\": \"x1\", \"yref\": \"y1\", \"align\": \"left\", \"xanchor\": \"left\", \"font\": {\"color\": \"#000000\"}, \"showarrow\": false}, {\"text\": \"108642\", \"x\": 15.55, \"y\": 3, \"xref\": \"x1\", \"yref\": \"y1\", \"align\": \"left\", \"xanchor\": \"left\", \"font\": {\"color\": \"#000000\"}, \"showarrow\": false}, {\"text\": \"DM\", \"x\": 16.55, \"y\": 3, \"xref\": \"x1\", \"yref\": \"y1\", \"align\": \"left\", \"xanchor\": \"left\", \"font\": {\"color\": \"#000000\"}, \"showarrow\": false}, {\"text\": \"71.81\", \"x\": 17.55, \"y\": 3, \"xref\": \"x1\", \"yref\": \"y1\", \"align\": \"left\", \"xanchor\": \"left\", \"font\": {\"color\": \"#000000\"}, \"showarrow\": false}, {\"text\": \"DP\", \"x\": 18.55, \"y\": 3, \"xref\": \"x1\", \"yref\": \"y1\", \"align\": \"left\", \"xanchor\": \"left\", \"font\": {\"color\": \"#000000\"}, \"showarrow\": false}, {\"text\": \"DO\", \"x\": 19.55, \"y\": 3, \"xref\": \"x1\", \"yref\": \"y1\", \"align\": \"left\", \"xanchor\": \"left\", \"font\": {\"color\": \"#000000\"}, \"showarrow\": false}, {\"text\": \"MEM\", \"x\": 20.55, \"y\": 3, \"xref\": \"x1\", \"yref\": \"y1\", \"align\": \"left\", \"xanchor\": \"left\", \"font\": {\"color\": \"#000000\"}, \"showarrow\": false}, {\"text\": \"B\", \"x\": -0.45, \"y\": 4, \"xref\": \"x1\", \"yref\": \"y1\", \"align\": \"left\", \"xanchor\": \"left\", \"font\": {\"color\": \"#000000\"}, \"showarrow\": false}, {\"text\": \"276\", \"x\": 0.55, \"y\": 4, \"xref\": \"x1\", \"yref\": \"y1\", \"align\": \"left\", \"xanchor\": \"left\", \"font\": {\"color\": \"#000000\"}, \"showarrow\": false}, {\"text\": \"F\", \"x\": 1.55, \"y\": 4, \"xref\": \"x1\", \"yref\": \"y1\", \"align\": \"left\", \"xanchor\": \"left\", \"font\": {\"color\": \"#000000\"}, \"showarrow\": false}, {\"text\": \"35.91\", \"x\": 2.55, \"y\": 4, \"xref\": \"x1\", \"yref\": \"y1\", \"align\": \"left\", \"xanchor\": \"left\", \"font\": {\"color\": \"#000000\"}, \"showarrow\": false}, {\"text\": \"O\", \"x\": 3.55, \"y\": 4, \"xref\": \"x1\", \"yref\": \"y1\", \"align\": \"left\", \"xanchor\": \"left\", \"font\": {\"color\": \"#000000\"}, \"showarrow\": false}, {\"text\": \"5.61\", \"x\": 4.55, \"y\": 4, \"xref\": \"x1\", \"yref\": \"y1\", \"align\": \"left\", \"xanchor\": \"left\", \"font\": {\"color\": \"#000000\"}, \"showarrow\": false}, {\"text\": \"T\", \"x\": 5.55, \"y\": 4, \"xref\": \"x1\", \"yref\": \"y1\", \"align\": \"left\", \"xanchor\": \"left\", \"font\": {\"color\": \"#000000\"}, \"showarrow\": false}, {\"text\": \"AC\", \"x\": 6.55, \"y\": 4, \"xref\": \"x1\", \"yref\": \"y1\", \"align\": \"left\", \"xanchor\": \"left\", \"font\": {\"color\": \"#000000\"}, \"showarrow\": false}, {\"text\": \"44\", \"x\": 7.55, \"y\": 4, \"xref\": \"x1\", \"yref\": \"y1\", \"align\": \"left\", \"xanchor\": \"left\", \"font\": {\"color\": \"#000000\"}, \"showarrow\": false}, {\"text\": \"BA\", \"x\": 8.55, \"y\": 4, \"xref\": \"x1\", \"yref\": \"y1\", \"align\": \"left\", \"xanchor\": \"left\", \"font\": {\"color\": \"#000000\"}, \"showarrow\": false}, {\"text\": \"NP\", \"x\": 9.55, \"y\": 4, \"xref\": \"x1\", \"yref\": \"y1\", \"align\": \"left\", \"xanchor\": \"left\", \"font\": {\"color\": \"#000000\"}, \"showarrow\": false}, {\"text\": \"64\", \"x\": 10.55, \"y\": 4, \"xref\": \"x1\", \"yref\": \"y1\", \"align\": \"left\", \"xanchor\": \"left\", \"font\": {\"color\": \"#000000\"}, \"showarrow\": false}, {\"text\": \"CQ\", \"x\": 11.55, \"y\": 4, \"xref\": \"x1\", \"yref\": \"y1\", \"align\": \"left\", \"xanchor\": \"left\", \"font\": {\"color\": \"#000000\"}, \"showarrow\": false}, {\"text\": \"60.85\", \"x\": 12.55, \"y\": 4, \"xref\": \"x1\", \"yref\": \"y1\", \"align\": \"left\", \"xanchor\": \"left\", \"font\": {\"color\": \"#000000\"}, \"showarrow\": false}, {\"text\": \"NK\", \"x\": 13.55, \"y\": 4, \"xref\": \"x1\", \"yref\": \"y1\", \"align\": \"left\", \"xanchor\": \"left\", \"font\": {\"color\": \"#000000\"}, \"showarrow\": false}, {\"text\": \"DG\", \"x\": 14.55, \"y\": 4, \"xref\": \"x1\", \"yref\": \"y1\", \"align\": \"left\", \"xanchor\": \"left\", \"font\": {\"color\": \"#000000\"}, \"showarrow\": false}, {\"text\": \"54321\", \"x\": 15.55, \"y\": 4, \"xref\": \"x1\", \"yref\": \"y1\", \"align\": \"left\", \"xanchor\": \"left\", \"font\": {\"color\": \"#000000\"}, \"showarrow\": false}, {\"text\": \"DH\", \"x\": 16.55, \"y\": 4, \"xref\": \"x1\", \"yref\": \"y1\", \"align\": \"left\", \"xanchor\": \"left\", \"font\": {\"color\": \"#000000\"}, \"showarrow\": false}, {\"text\": \"71.81\", \"x\": 17.55, \"y\": 4, \"xref\": \"x1\", \"yref\": \"y1\", \"align\": \"left\", \"xanchor\": \"left\", \"font\": {\"color\": \"#000000\"}, \"showarrow\": false}, {\"text\": \"NN\", \"x\": 18.55, \"y\": 4, \"xref\": \"x1\", \"yref\": \"y1\", \"align\": \"left\", \"xanchor\": \"left\", \"font\": {\"color\": \"#000000\"}, \"showarrow\": false}, {\"text\": \"DO\", \"x\": 19.55, \"y\": 4, \"xref\": \"x1\", \"yref\": \"y1\", \"align\": \"left\", \"xanchor\": \"left\", \"font\": {\"color\": \"#000000\"}, \"showarrow\": false}, {\"text\": \"MEM\", \"x\": 20.55, \"y\": 4, \"xref\": \"x1\", \"yref\": \"y1\", \"align\": \"left\", \"xanchor\": \"left\", \"font\": {\"color\": \"#000000\"}, \"showarrow\": false}, {\"text\": \"C\", \"x\": -0.45, \"y\": 5, \"xref\": \"x1\", \"yref\": \"y1\", \"align\": \"left\", \"xanchor\": \"left\", \"font\": {\"color\": \"#000000\"}, \"showarrow\": false}, {\"text\": \"552\", \"x\": 0.55, \"y\": 5, \"xref\": \"x1\", \"yref\": \"y1\", \"align\": \"left\", \"xanchor\": \"left\", \"font\": {\"color\": \"#000000\"}, \"showarrow\": false}, {\"text\": \"G\", \"x\": 1.55, \"y\": 5, \"xref\": \"x1\", \"yref\": \"y1\", \"align\": \"left\", \"xanchor\": \"left\", \"font\": {\"color\": \"#000000\"}, \"showarrow\": false}, {\"text\": \"35.91\", \"x\": 2.55, \"y\": 5, \"xref\": \"x1\", \"yref\": \"y1\", \"align\": \"left\", \"xanchor\": \"left\", \"font\": {\"color\": \"#000000\"}, \"showarrow\": false}, {\"text\": \"L\", \"x\": 3.55, \"y\": 5, \"xref\": \"x1\", \"yref\": \"y1\", \"align\": \"left\", \"xanchor\": \"left\", \"font\": {\"color\": \"#000000\"}, \"showarrow\": false}, {\"text\": \"27.67\", \"x\": 4.55, \"y\": 5, \"xref\": \"x1\", \"yref\": \"y1\", \"align\": \"left\", \"xanchor\": \"left\", \"font\": {\"color\": \"#000000\"}, \"showarrow\": false}, {\"text\": \"T\", \"x\": 5.55, \"y\": 5, \"xref\": \"x1\", \"yref\": \"y1\", \"align\": \"left\", \"xanchor\": \"left\", \"font\": {\"color\": \"#000000\"}, \"showarrow\": false}, {\"text\": \"AB\", \"x\": 6.55, \"y\": 5, \"xref\": \"x1\", \"yref\": \"y1\", \"align\": \"left\", \"xanchor\": \"left\", \"font\": {\"color\": \"#000000\"}, \"showarrow\": false}, {\"text\": \"44\", \"x\": 7.55, \"y\": 5, \"xref\": \"x1\", \"yref\": \"y1\", \"align\": \"left\", \"xanchor\": \"left\", \"font\": {\"color\": \"#000000\"}, \"showarrow\": false}, {\"text\": \"AF\", \"x\": 8.55, \"y\": 5, \"xref\": \"x1\", \"yref\": \"y1\", \"align\": \"left\", \"xanchor\": \"left\", \"font\": {\"color\": \"#000000\"}, \"showarrow\": false}, {\"text\": \"NP\", \"x\": 9.55, \"y\": 5, \"xref\": \"x1\", \"yref\": \"y1\", \"align\": \"left\", \"xanchor\": \"left\", \"font\": {\"color\": \"#000000\"}, \"showarrow\": false}, {\"text\": \"48\", \"x\": 10.55, \"y\": 5, \"xref\": \"x1\", \"yref\": \"y1\", \"align\": \"left\", \"xanchor\": \"left\", \"font\": {\"color\": \"#000000\"}, \"showarrow\": false}, {\"text\": \"DA\", \"x\": 11.55, \"y\": 5, \"xref\": \"x1\", \"yref\": \"y1\", \"align\": \"left\", \"xanchor\": \"left\", \"font\": {\"color\": \"#000000\"}, \"showarrow\": false}, {\"text\": \"92.6\", \"x\": 12.55, \"y\": 5, \"xref\": \"x1\", \"yref\": \"y1\", \"align\": \"left\", \"xanchor\": \"left\", \"font\": {\"color\": \"#000000\"}, \"showarrow\": false}, {\"text\": \"NK\", \"x\": 13.55, \"y\": 5, \"xref\": \"x1\", \"yref\": \"y1\", \"align\": \"left\", \"xanchor\": \"left\", \"font\": {\"color\": \"#000000\"}, \"showarrow\": false}, {\"text\": \"DF\", \"x\": 14.55, \"y\": 5, \"xref\": \"x1\", \"yref\": \"y1\", \"align\": \"left\", \"xanchor\": \"left\", \"font\": {\"color\": \"#000000\"}, \"showarrow\": false}, {\"text\": \"108642\", \"x\": 15.55, \"y\": 5, \"xref\": \"x1\", \"yref\": \"y1\", \"align\": \"left\", \"xanchor\": \"left\", \"font\": {\"color\": \"#000000\"}, \"showarrow\": false}, {\"text\": \"DM\", \"x\": 16.55, \"y\": 5, \"xref\": \"x1\", \"yref\": \"y1\", \"align\": \"left\", \"xanchor\": \"left\", \"font\": {\"color\": \"#000000\"}, \"showarrow\": false}, {\"text\": \"71.81\", \"x\": 17.55, \"y\": 5, \"xref\": \"x1\", \"yref\": \"y1\", \"align\": \"left\", \"xanchor\": \"left\", \"font\": {\"color\": \"#000000\"}, \"showarrow\": false}, {\"text\": \"NN\", \"x\": 18.55, \"y\": 5, \"xref\": \"x1\", \"yref\": \"y1\", \"align\": \"left\", \"xanchor\": \"left\", \"font\": {\"color\": \"#000000\"}, \"showarrow\": false}, {\"text\": \"DO\", \"x\": 19.55, \"y\": 5, \"xref\": \"x1\", \"yref\": \"y1\", \"align\": \"left\", \"xanchor\": \"left\", \"font\": {\"color\": \"#000000\"}, \"showarrow\": false}, {\"text\": \"MEM\", \"x\": 20.55, \"y\": 5, \"xref\": \"x1\", \"yref\": \"y1\", \"align\": \"left\", \"xanchor\": \"left\", \"font\": {\"color\": \"#000000\"}, \"showarrow\": false}], \"height\": 230, \"margin\": {\"t\": 0, \"b\": 0, \"r\": 0, \"l\": 0}, \"yaxis\": {\"autorange\": \"reversed\", \"zeroline\": false, \"gridwidth\": 2, \"ticks\": \"\", \"dtick\": 1, \"tick0\": 0.5, \"showticklabels\": false}, \"xaxis\": {\"zeroline\": false, \"gridwidth\": 2, \"ticks\": \"\", \"dtick\": 1, \"tick0\": -0.5, \"showticklabels\": false}}, {\"showLink\": true, \"linkText\": \"Export to plot.ly\"})});</script>"
      ]
     },
     "metadata": {},
     "output_type": "display_data"
    },
    {
     "ename": "KeyError",
     "evalue": "'x'",
     "output_type": "error",
     "traceback": [
      "\u001b[1;31m---------------------------------------------------------------------------\u001b[0m",
      "\u001b[1;31mKeyError\u001b[0m                                  Traceback (most recent call last)",
      "\u001b[1;32m~\\Anaconda3\\lib\\site-packages\\pandas\\core\\indexes\\base.py\u001b[0m in \u001b[0;36mget_loc\u001b[1;34m(self, key, method, tolerance)\u001b[0m\n\u001b[0;32m   2441\u001b[0m             \u001b[1;32mtry\u001b[0m\u001b[1;33m:\u001b[0m\u001b[1;33m\u001b[0m\u001b[0m\n\u001b[1;32m-> 2442\u001b[1;33m                 \u001b[1;32mreturn\u001b[0m \u001b[0mself\u001b[0m\u001b[1;33m.\u001b[0m\u001b[0m_engine\u001b[0m\u001b[1;33m.\u001b[0m\u001b[0mget_loc\u001b[0m\u001b[1;33m(\u001b[0m\u001b[0mkey\u001b[0m\u001b[1;33m)\u001b[0m\u001b[1;33m\u001b[0m\u001b[0m\n\u001b[0m\u001b[0;32m   2443\u001b[0m             \u001b[1;32mexcept\u001b[0m \u001b[0mKeyError\u001b[0m\u001b[1;33m:\u001b[0m\u001b[1;33m\u001b[0m\u001b[0m\n",
      "\u001b[1;32mpandas\\_libs\\index.pyx\u001b[0m in \u001b[0;36mpandas._libs.index.IndexEngine.get_loc\u001b[1;34m()\u001b[0m\n",
      "\u001b[1;32mpandas\\_libs\\index.pyx\u001b[0m in \u001b[0;36mpandas._libs.index.IndexEngine.get_loc\u001b[1;34m()\u001b[0m\n",
      "\u001b[1;32mpandas\\_libs\\hashtable_class_helper.pxi\u001b[0m in \u001b[0;36mpandas._libs.hashtable.PyObjectHashTable.get_item\u001b[1;34m()\u001b[0m\n",
      "\u001b[1;32mpandas\\_libs\\hashtable_class_helper.pxi\u001b[0m in \u001b[0;36mpandas._libs.hashtable.PyObjectHashTable.get_item\u001b[1;34m()\u001b[0m\n",
      "\u001b[1;31mKeyError\u001b[0m: 'x'",
      "\nDuring handling of the above exception, another exception occurred:\n",
      "\u001b[1;31mKeyError\u001b[0m                                  Traceback (most recent call last)",
      "\u001b[1;32m<ipython-input-51-b12b5f38ed4e>\u001b[0m in \u001b[0;36m<module>\u001b[1;34m()\u001b[0m\n\u001b[0;32m      6\u001b[0m \u001b[1;33m\u001b[0m\u001b[0m\n\u001b[0;32m      7\u001b[0m trace1 = go.Scatter(\n\u001b[1;32m----> 8\u001b[1;33m                     \u001b[0mx\u001b[0m\u001b[1;33m=\u001b[0m\u001b[0mdf\u001b[0m\u001b[1;33m[\u001b[0m\u001b[1;34m'x'\u001b[0m\u001b[1;33m]\u001b[0m\u001b[1;33m,\u001b[0m \u001b[0my\u001b[0m\u001b[1;33m=\u001b[0m\u001b[0mdf\u001b[0m\u001b[1;33m[\u001b[0m\u001b[1;34m'logx'\u001b[0m\u001b[1;33m]\u001b[0m\u001b[1;33m,\u001b[0m \u001b[1;31m# Data\u001b[0m\u001b[1;33m\u001b[0m\u001b[0m\n\u001b[0m\u001b[0;32m      9\u001b[0m                     \u001b[0mmode\u001b[0m\u001b[1;33m=\u001b[0m\u001b[1;34m'lines'\u001b[0m\u001b[1;33m,\u001b[0m \u001b[0mname\u001b[0m\u001b[1;33m=\u001b[0m\u001b[1;34m'logx'\u001b[0m \u001b[1;31m# Additional options\u001b[0m\u001b[1;33m\u001b[0m\u001b[0m\n\u001b[0;32m     10\u001b[0m                    )\n",
      "\u001b[1;32m~\\Anaconda3\\lib\\site-packages\\pandas\\core\\frame.py\u001b[0m in \u001b[0;36m__getitem__\u001b[1;34m(self, key)\u001b[0m\n\u001b[0;32m   1962\u001b[0m             \u001b[1;32mreturn\u001b[0m \u001b[0mself\u001b[0m\u001b[1;33m.\u001b[0m\u001b[0m_getitem_multilevel\u001b[0m\u001b[1;33m(\u001b[0m\u001b[0mkey\u001b[0m\u001b[1;33m)\u001b[0m\u001b[1;33m\u001b[0m\u001b[0m\n\u001b[0;32m   1963\u001b[0m         \u001b[1;32melse\u001b[0m\u001b[1;33m:\u001b[0m\u001b[1;33m\u001b[0m\u001b[0m\n\u001b[1;32m-> 1964\u001b[1;33m             \u001b[1;32mreturn\u001b[0m \u001b[0mself\u001b[0m\u001b[1;33m.\u001b[0m\u001b[0m_getitem_column\u001b[0m\u001b[1;33m(\u001b[0m\u001b[0mkey\u001b[0m\u001b[1;33m)\u001b[0m\u001b[1;33m\u001b[0m\u001b[0m\n\u001b[0m\u001b[0;32m   1965\u001b[0m \u001b[1;33m\u001b[0m\u001b[0m\n\u001b[0;32m   1966\u001b[0m     \u001b[1;32mdef\u001b[0m \u001b[0m_getitem_column\u001b[0m\u001b[1;33m(\u001b[0m\u001b[0mself\u001b[0m\u001b[1;33m,\u001b[0m \u001b[0mkey\u001b[0m\u001b[1;33m)\u001b[0m\u001b[1;33m:\u001b[0m\u001b[1;33m\u001b[0m\u001b[0m\n",
      "\u001b[1;32m~\\Anaconda3\\lib\\site-packages\\pandas\\core\\frame.py\u001b[0m in \u001b[0;36m_getitem_column\u001b[1;34m(self, key)\u001b[0m\n\u001b[0;32m   1969\u001b[0m         \u001b[1;31m# get column\u001b[0m\u001b[1;33m\u001b[0m\u001b[1;33m\u001b[0m\u001b[0m\n\u001b[0;32m   1970\u001b[0m         \u001b[1;32mif\u001b[0m \u001b[0mself\u001b[0m\u001b[1;33m.\u001b[0m\u001b[0mcolumns\u001b[0m\u001b[1;33m.\u001b[0m\u001b[0mis_unique\u001b[0m\u001b[1;33m:\u001b[0m\u001b[1;33m\u001b[0m\u001b[0m\n\u001b[1;32m-> 1971\u001b[1;33m             \u001b[1;32mreturn\u001b[0m \u001b[0mself\u001b[0m\u001b[1;33m.\u001b[0m\u001b[0m_get_item_cache\u001b[0m\u001b[1;33m(\u001b[0m\u001b[0mkey\u001b[0m\u001b[1;33m)\u001b[0m\u001b[1;33m\u001b[0m\u001b[0m\n\u001b[0m\u001b[0;32m   1972\u001b[0m \u001b[1;33m\u001b[0m\u001b[0m\n\u001b[0;32m   1973\u001b[0m         \u001b[1;31m# duplicate columns & possible reduce dimensionality\u001b[0m\u001b[1;33m\u001b[0m\u001b[1;33m\u001b[0m\u001b[0m\n",
      "\u001b[1;32m~\\Anaconda3\\lib\\site-packages\\pandas\\core\\generic.py\u001b[0m in \u001b[0;36m_get_item_cache\u001b[1;34m(self, item)\u001b[0m\n\u001b[0;32m   1643\u001b[0m         \u001b[0mres\u001b[0m \u001b[1;33m=\u001b[0m \u001b[0mcache\u001b[0m\u001b[1;33m.\u001b[0m\u001b[0mget\u001b[0m\u001b[1;33m(\u001b[0m\u001b[0mitem\u001b[0m\u001b[1;33m)\u001b[0m\u001b[1;33m\u001b[0m\u001b[0m\n\u001b[0;32m   1644\u001b[0m         \u001b[1;32mif\u001b[0m \u001b[0mres\u001b[0m \u001b[1;32mis\u001b[0m \u001b[1;32mNone\u001b[0m\u001b[1;33m:\u001b[0m\u001b[1;33m\u001b[0m\u001b[0m\n\u001b[1;32m-> 1645\u001b[1;33m             \u001b[0mvalues\u001b[0m \u001b[1;33m=\u001b[0m \u001b[0mself\u001b[0m\u001b[1;33m.\u001b[0m\u001b[0m_data\u001b[0m\u001b[1;33m.\u001b[0m\u001b[0mget\u001b[0m\u001b[1;33m(\u001b[0m\u001b[0mitem\u001b[0m\u001b[1;33m)\u001b[0m\u001b[1;33m\u001b[0m\u001b[0m\n\u001b[0m\u001b[0;32m   1646\u001b[0m             \u001b[0mres\u001b[0m \u001b[1;33m=\u001b[0m \u001b[0mself\u001b[0m\u001b[1;33m.\u001b[0m\u001b[0m_box_item_values\u001b[0m\u001b[1;33m(\u001b[0m\u001b[0mitem\u001b[0m\u001b[1;33m,\u001b[0m \u001b[0mvalues\u001b[0m\u001b[1;33m)\u001b[0m\u001b[1;33m\u001b[0m\u001b[0m\n\u001b[0;32m   1647\u001b[0m             \u001b[0mcache\u001b[0m\u001b[1;33m[\u001b[0m\u001b[0mitem\u001b[0m\u001b[1;33m]\u001b[0m \u001b[1;33m=\u001b[0m \u001b[0mres\u001b[0m\u001b[1;33m\u001b[0m\u001b[0m\n",
      "\u001b[1;32m~\\Anaconda3\\lib\\site-packages\\pandas\\core\\internals.py\u001b[0m in \u001b[0;36mget\u001b[1;34m(self, item, fastpath)\u001b[0m\n\u001b[0;32m   3588\u001b[0m \u001b[1;33m\u001b[0m\u001b[0m\n\u001b[0;32m   3589\u001b[0m             \u001b[1;32mif\u001b[0m \u001b[1;32mnot\u001b[0m \u001b[0misnull\u001b[0m\u001b[1;33m(\u001b[0m\u001b[0mitem\u001b[0m\u001b[1;33m)\u001b[0m\u001b[1;33m:\u001b[0m\u001b[1;33m\u001b[0m\u001b[0m\n\u001b[1;32m-> 3590\u001b[1;33m                 \u001b[0mloc\u001b[0m \u001b[1;33m=\u001b[0m \u001b[0mself\u001b[0m\u001b[1;33m.\u001b[0m\u001b[0mitems\u001b[0m\u001b[1;33m.\u001b[0m\u001b[0mget_loc\u001b[0m\u001b[1;33m(\u001b[0m\u001b[0mitem\u001b[0m\u001b[1;33m)\u001b[0m\u001b[1;33m\u001b[0m\u001b[0m\n\u001b[0m\u001b[0;32m   3591\u001b[0m             \u001b[1;32melse\u001b[0m\u001b[1;33m:\u001b[0m\u001b[1;33m\u001b[0m\u001b[0m\n\u001b[0;32m   3592\u001b[0m                 \u001b[0mindexer\u001b[0m \u001b[1;33m=\u001b[0m \u001b[0mnp\u001b[0m\u001b[1;33m.\u001b[0m\u001b[0marange\u001b[0m\u001b[1;33m(\u001b[0m\u001b[0mlen\u001b[0m\u001b[1;33m(\u001b[0m\u001b[0mself\u001b[0m\u001b[1;33m.\u001b[0m\u001b[0mitems\u001b[0m\u001b[1;33m)\u001b[0m\u001b[1;33m)\u001b[0m\u001b[1;33m[\u001b[0m\u001b[0misnull\u001b[0m\u001b[1;33m(\u001b[0m\u001b[0mself\u001b[0m\u001b[1;33m.\u001b[0m\u001b[0mitems\u001b[0m\u001b[1;33m)\u001b[0m\u001b[1;33m]\u001b[0m\u001b[1;33m\u001b[0m\u001b[0m\n",
      "\u001b[1;32m~\\Anaconda3\\lib\\site-packages\\pandas\\core\\indexes\\base.py\u001b[0m in \u001b[0;36mget_loc\u001b[1;34m(self, key, method, tolerance)\u001b[0m\n\u001b[0;32m   2442\u001b[0m                 \u001b[1;32mreturn\u001b[0m \u001b[0mself\u001b[0m\u001b[1;33m.\u001b[0m\u001b[0m_engine\u001b[0m\u001b[1;33m.\u001b[0m\u001b[0mget_loc\u001b[0m\u001b[1;33m(\u001b[0m\u001b[0mkey\u001b[0m\u001b[1;33m)\u001b[0m\u001b[1;33m\u001b[0m\u001b[0m\n\u001b[0;32m   2443\u001b[0m             \u001b[1;32mexcept\u001b[0m \u001b[0mKeyError\u001b[0m\u001b[1;33m:\u001b[0m\u001b[1;33m\u001b[0m\u001b[0m\n\u001b[1;32m-> 2444\u001b[1;33m                 \u001b[1;32mreturn\u001b[0m \u001b[0mself\u001b[0m\u001b[1;33m.\u001b[0m\u001b[0m_engine\u001b[0m\u001b[1;33m.\u001b[0m\u001b[0mget_loc\u001b[0m\u001b[1;33m(\u001b[0m\u001b[0mself\u001b[0m\u001b[1;33m.\u001b[0m\u001b[0m_maybe_cast_indexer\u001b[0m\u001b[1;33m(\u001b[0m\u001b[0mkey\u001b[0m\u001b[1;33m)\u001b[0m\u001b[1;33m)\u001b[0m\u001b[1;33m\u001b[0m\u001b[0m\n\u001b[0m\u001b[0;32m   2445\u001b[0m \u001b[1;33m\u001b[0m\u001b[0m\n\u001b[0;32m   2446\u001b[0m         \u001b[0mindexer\u001b[0m \u001b[1;33m=\u001b[0m \u001b[0mself\u001b[0m\u001b[1;33m.\u001b[0m\u001b[0mget_indexer\u001b[0m\u001b[1;33m(\u001b[0m\u001b[1;33m[\u001b[0m\u001b[0mkey\u001b[0m\u001b[1;33m]\u001b[0m\u001b[1;33m,\u001b[0m \u001b[0mmethod\u001b[0m\u001b[1;33m=\u001b[0m\u001b[0mmethod\u001b[0m\u001b[1;33m,\u001b[0m \u001b[0mtolerance\u001b[0m\u001b[1;33m=\u001b[0m\u001b[0mtolerance\u001b[0m\u001b[1;33m)\u001b[0m\u001b[1;33m\u001b[0m\u001b[0m\n",
      "\u001b[1;32mpandas\\_libs\\index.pyx\u001b[0m in \u001b[0;36mpandas._libs.index.IndexEngine.get_loc\u001b[1;34m()\u001b[0m\n",
      "\u001b[1;32mpandas\\_libs\\index.pyx\u001b[0m in \u001b[0;36mpandas._libs.index.IndexEngine.get_loc\u001b[1;34m()\u001b[0m\n",
      "\u001b[1;32mpandas\\_libs\\hashtable_class_helper.pxi\u001b[0m in \u001b[0;36mpandas._libs.hashtable.PyObjectHashTable.get_item\u001b[1;34m()\u001b[0m\n",
      "\u001b[1;32mpandas\\_libs\\hashtable_class_helper.pxi\u001b[0m in \u001b[0;36mpandas._libs.hashtable.PyObjectHashTable.get_item\u001b[1;34m()\u001b[0m\n",
      "\u001b[1;31mKeyError\u001b[0m: 'x'"
     ]
    }
   ],
   "source": [
    "#Plot CSV\n",
    "df = pd.read_csv(output_path)\n",
    "\n",
    "sample_data_table = FF.create_table(df.head())\n",
    "py.iplot(sample_data_table, filename='sample-data-table')\n",
    "\n",
    "trace1 = go.Scatter(\n",
    "                    x=df['x'], y=df['logx'], # Data\n",
    "                    mode='lines', name='logx' # Additional options\n",
    "                   )\n",
    "trace2 = go.Scatter(x=df['x'], y=df['sinx'], mode='lines', name='sinx' )\n",
    "trace3 = go.Scatter(x=df['x'], y=df['cosx'], mode='lines', name='cosx')\n",
    "\n",
    "layout = go.Layout(title='Simple Plot from csv data',\n",
    "                   plot_bgcolor='rgb(230, 230,230)')\n",
    "\n",
    "fig = go.Figure(data=[trace1, trace2, trace3], layout=layout)\n",
    "\n",
    "# Plot data in the notebook\n",
    "py.iplot(fig, filename='simple-plot-from-csv')"
   ]
  },
  {
   "cell_type": "code",
   "execution_count": null,
   "metadata": {
    "collapsed": true
   },
   "outputs": [],
   "source": []
  }
 ],
 "metadata": {
  "kernelspec": {
   "display_name": "Python 3",
   "language": "python",
   "name": "python3"
  },
  "language_info": {
   "codemirror_mode": {
    "name": "ipython",
    "version": 3
   },
   "file_extension": ".py",
   "mimetype": "text/x-python",
   "name": "python",
   "nbconvert_exporter": "python",
   "pygments_lexer": "ipython3",
   "version": "3.6.3"
  }
 },
 "nbformat": 4,
 "nbformat_minor": 2
}
