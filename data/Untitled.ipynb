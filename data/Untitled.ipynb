{
 "cells": [
  {
   "cell_type": "code",

   "execution_count": 1,

   "execution_count": 18,

   "metadata": {
    "collapsed": true
   },
   "outputs": [],
   "source": [
    "import pandas as pd\n",
    "import sklearn\n",
    "import sklearn.datasets\n",
    "import sklearn.ensemble\n",
    "import numpy as np\n",
    "import sklearn.model_selection\n",
    "from __future__ import print_function"
   ]
  },
  {
   "cell_type": "code",

   "execution_count": 17,

   "execution_count": 19,

   "metadata": {
    "collapsed": true
   },
   "outputs": [],
   "source": [
    "dataml =  np.genfromtxt('ml1data.train.txt', delimiter=',', dtype=str)"
   ]
  },
  {
   "cell_type": "code",

   "execution_count": 18,

   "execution_count": 20,

   "metadata": {
    "collapsed": true
   },
   "outputs": [],
   "source": [
    "labels = dataml[:,21]\n",
    "le= sklearn.preprocessing.LabelEncoder()\n",
    "le.fit(labels)\n",
    "labels = le.transform(labels)\n",
    "class_names = le.classes_\n",
    "dataml = dataml[:,:-1]"
   ]
  },
  {
   "cell_type": "code",

   "execution_count": 19,

   "execution_count": 21,

   "metadata": {},
   "outputs": [
    {
     "data": {
      "text/plain": [
       "array([['A', '138', 'E', ..., '71.81', 'DP', 'DO'],\n",
       "       ['A', '966', 'E', ..., '71.81', 'NN', 'DO'],\n",
       "       ['C', '345', 'E', ..., '71.81', 'DP', 'DO'],\n",
       "       ..., \n",
       "       ['C', '276', 'E', ..., '71.81', 'NN', 'DO'],\n",
       "       ['A', '276', 'F', ..., '143.62', 'NN', 'DO'],\n",
       "       ['C', '414', 'E', ..., '71.81', 'NN', 'DO']],\n",
       "      dtype='<U6')"
      ]
     },

     "execution_count": 19,

     "execution_count": 21,

     "metadata": {},
     "output_type": "execute_result"
    }
   ],
   "source": [
    "dataml"
   ]
  },
  {
   "cell_type": "code",

   "execution_count": 20,

   "execution_count": 22,

   "metadata": {
    "collapsed": true
   },
   "outputs": [],
   "source": [
    "categorical_features = [0,2,4,6,7,9,10,12,14,15,17,19,20]"
   ]
  },
  {
   "cell_type": "code",

   "execution_count": 21,

   "execution_count": 23,

   "metadata": {
    "collapsed": true
   },
   "outputs": [],
   "source": [
    "categorical_names = {}\n",
    "for feature in categorical_features:\n",
    "    le = sklearn.preprocessing.LabelEncoder()\n",
    "    le.fit(dataml[:, feature])\n",
    "    dataml[:, feature] = le.transform(dataml[:, feature])\n",
    "    categorical_names[feature] = le.classes_"
   ]
  },
  {
   "cell_type": "code",

   "execution_count": 22,

   "execution_count": 24,

   "metadata": {
    "collapsed": true
   },
   "outputs": [],
   "source": [
    "dataml = dataml.astype(float)"
   ]
  },
  {
   "cell_type": "code",

   "execution_count": null,
   "metadata": {
    "collapsed": true
   },
   "outputs": [],
   "source": []
  },
  {
   "cell_type": "code",
   "execution_count": null,
   "metadata": {
    "collapsed": true
   },
   "outputs": [],
   "source": []
  },
  {
   "cell_type": "code",
   "execution_count": 23,

   "execution_count": 25,

   "metadata": {
    "collapsed": true
   },
   "outputs": [],
   "source": [
    "encoder = sklearn.preprocessing.OneHotEncoder(categorical_features=categorical_features)"
   ]
  },
  {
   "cell_type": "code",

   "execution_count": 40,
   "metadata": {},
   "outputs": [],
   "source": [
    "from sklearn.cross_validation import StratifiedKFold\n",
    "eval_size = 0.10\n",
    "kf = StratifiedKFold(labels,round(1. / eval_size))\n",
    "train_indices , valid_indices = next(iter(kf))\n",
    "x_train , y_train = dataml[train_indices] , labels[train_indices]\n",
    "x_valid , y_valid = dataml[valid_indices] , labels[valid_indices]"
   ]
  },
  {
   "cell_type": "code",
   "execution_count": 44,
   "metadata": {},
   "outputs": [
    {
     "data": {
      "text/plain": [
       "array([0, 0, 0, 0, 0, 0, 1, 0, 0, 1, 0, 0, 0, 0, 1, 0, 0, 0, 0, 1, 1, 1, 0,\n",
       "       1, 1, 0, 0, 0, 1, 1, 0, 1, 0, 0, 0, 0, 0, 0, 1, 1, 0, 1, 0, 0, 1, 0,\n",
       "       0, 1, 0, 0, 0, 0])"
      ]
     },
     "execution_count": 44,
     "metadata": {},
     "output_type": "execute_result"
    }
   ],
   "source": []
  },
  {
   "cell_type": "code",
   "execution_count": 24,

   "execution_count": 26,

   "metadata": {},
   "outputs": [
    {
     "name": "stderr",
     "output_type": "stream",
     "text": [
      "C:\\Users\\Varma\\Anaconda3\\lib\\site-packages\\sklearn\\model_selection\\_split.py:2026: FutureWarning: From version 0.21, test_size will always complement train_size unless both are specified.\n",
      "  FutureWarning)\n"
     ]
    }
   ],
   "source": [
    "np.random.seed(1)\n",
    "train, test, labels_train, labels_test = sklearn.model_selection.train_test_split(dataml, labels, train_size=0.80)"
   ]
  },
  {
   "cell_type": "code",

   "execution_count": 25,

   "execution_count": 27,

   "metadata": {
    "collapsed": true
   },
   "outputs": [],
   "source": [
    "encoder.fit(dataml)\n",
    "encoded_train = encoder.transform(train)"
   ]
  },
  {
   "cell_type": "code",

   "execution_count": 45,
   "metadata": {},
   "outputs": [
    {
     "data": {
      "text/plain": [
       "<402x62 sparse matrix of type '<class 'numpy.float64'>'\n",
       "\twith 8442 stored elements in COOrdinate format>"
      ]
     },
     "execution_count": 45,
     "metadata": {},
     "output_type": "execute_result"
    }
   ],
   "source": [
    "encoded_train"
   ]
  },
  {
   "cell_type": "code",
   "execution_count": 26,

   "execution_count": 28,

   "metadata": {
    "collapsed": true
   },
   "outputs": [],
   "source": [
    "from sklearn.ensemble import GradientBoostingClassifier\n",
    "clf = GradientBoostingClassifier(n_estimators=100, learning_rate=1.0, max_depth=1, random_state=0).fit(encoded_train, labels_train)"
   ]
  },
  {
   "cell_type": "code",

   "execution_count": 27,

   "execution_count": 29,

   "metadata": {},
   "outputs": [
    {
     "data": {
      "text/plain": [
       "0.67326732673267331"
      ]
     },

     "execution_count": 27,

     "execution_count": 29,

     "metadata": {},
     "output_type": "execute_result"
    }
   ],
   "source": [
    "clf.score(encoder.transform(test),labels_test)"
   ]
  },
  {
   "cell_type": "code",

   "execution_count": 28,

   "execution_count": 30,

   "metadata": {
    "collapsed": true
   },
   "outputs": [],
   "source": [
    "from sklearn.model_selection import cross_val_score\n",
    "from sklearn.linear_model import LogisticRegression\n",
    "from sklearn.naive_bayes import GaussianNB\n",
    "from sklearn.ensemble import RandomForestClassifier\n",
    "from sklearn.ensemble import VotingClassifier"
   ]
  },
  {
   "cell_type": "code",

   "execution_count": 29,

   "execution_count": 31,

   "metadata": {
    "collapsed": true
   },
   "outputs": [],
   "source": [
    "clf1 = LogisticRegression(random_state=1)\n",
    "clf2 = RandomForestClassifier(random_state=1)\n",
    "clf3 = GaussianNB()\n"
   ]
  },
  {
   "cell_type": "code",

   "execution_count": 30,

   "execution_count": 32,

   "metadata": {
    "collapsed": true
   },
   "outputs": [],
   "source": [
    "eclf = VotingClassifier(estimators=[('lr', clf1), ('rf', clf2), ('gnb', clf3)], voting='hard')"
   ]
  },
  {
   "cell_type": "code",

   "execution_count": 31,

   "execution_count": 33,

   "metadata": {},
   "outputs": [
    {
     "name": "stdout",
     "output_type": "stream",
     "text": [
      "Accuracy: 0.71 (+/- 0.01) [Logistic Regression]\n",
      "Accuracy: 0.70 (+/- 0.04) [Random Forest]\n",
      "Accuracy: 0.73 (+/- 0.02) [naive Bayes]\n",
      "Accuracy: 0.71 (+/- 0.01) [Ensemble]\n"
     ]
    }
   ],
   "source": [
    "for clf, label in zip([clf1, clf2, clf3, eclf], ['Logistic Regression', 'Random Forest', 'naive Bayes', 'Ensemble']):\n",
    "    scores = cross_val_score(clf, encoded_train.toarray(), labels_train, cv=5, scoring='accuracy')\n",
    "    print(\"Accuracy: %0.2f (+/- %0.2f) [%s]\" % (scores.mean(), scores.std(), label))    "
   ]
  },
  {
   "cell_type": "code",

   "execution_count": 32,
   "metadata": {
    "collapsed": true
   },
   "outputs": [],

   "execution_count": 36,
   "metadata": {},
   "outputs": [
    {
     "ename": "ModuleNotFoundError",
     "evalue": "No module named 'xgboost'",
     "output_type": "error",
     "traceback": [
      "\u001b[1;31m---------------------------------------------------------------------------\u001b[0m",
      "\u001b[1;31mModuleNotFoundError\u001b[0m                       Traceback (most recent call last)",
      "\u001b[1;32m<ipython-input-36-afdaff4619ce>\u001b[0m in \u001b[0;36m<module>\u001b[1;34m()\u001b[0m\n\u001b[1;32m----> 1\u001b[1;33m \u001b[1;32mimport\u001b[0m \u001b[0mxgboost\u001b[0m\u001b[1;33m\u001b[0m\u001b[0m\n\u001b[0m",
      "\u001b[1;31mModuleNotFoundError\u001b[0m: No module named 'xgboost'"
     ]
    }
   ],

   "source": [
    "import xgboost\n"
   ]
  },
  {
   "cell_type": "code",

   "execution_count": 33,
   "metadata": {
    "collapsed": true
   },
   "outputs": [],

   "execution_count": 35,
   "metadata": {},
   "outputs": [
    {
     "ename": "NameError",
     "evalue": "name 'xgboost' is not defined",
     "output_type": "error",
     "traceback": [
      "\u001b[1;31m---------------------------------------------------------------------------\u001b[0m",
      "\u001b[1;31mNameError\u001b[0m                                 Traceback (most recent call last)",
      "\u001b[1;32m<ipython-input-35-6b6748dd58ef>\u001b[0m in \u001b[0;36m<module>\u001b[1;34m()\u001b[0m\n\u001b[1;32m----> 1\u001b[1;33m \u001b[0mgbtree\u001b[0m \u001b[1;33m=\u001b[0m \u001b[0mxgboost\u001b[0m\u001b[1;33m.\u001b[0m\u001b[0mXGBClassifier\u001b[0m\u001b[1;33m(\u001b[0m\u001b[0mn_estimators\u001b[0m\u001b[1;33m=\u001b[0m\u001b[1;36m300\u001b[0m\u001b[1;33m,\u001b[0m \u001b[0mmax_depth\u001b[0m\u001b[1;33m=\u001b[0m\u001b[1;36m5\u001b[0m\u001b[1;33m)\u001b[0m\u001b[1;33m\u001b[0m\u001b[0m\n\u001b[0m",
      "\u001b[1;31mNameError\u001b[0m: name 'xgboost' is not defined"
     ]
    }
   ],

   "source": [
    "gbtree = xgboost.XGBClassifier(n_estimators=300, max_depth=5)\n"
   ]
  },
  {
   "cell_type": "code",

   "execution_count": 34,
   "metadata": {},
   "outputs": [
    {
     "data": {
      "text/plain": [
       "XGBClassifier(base_score=0.5, booster='gbtree', colsample_bylevel=1,\n",
       "       colsample_bytree=1, gamma=0, learning_rate=0.1, max_delta_step=0,\n",
       "       max_depth=5, min_child_weight=1, missing=None, n_estimators=300,\n",
       "       n_jobs=1, nthread=None, objective='binary:logistic', random_state=0,\n",
       "       reg_alpha=0, reg_lambda=1, scale_pos_weight=1, seed=None,\n",
       "       silent=True, subsample=1)"
      ]
     },
     "execution_count": 34,
     "metadata": {},
     "output_type": "execute_result"
    }
   ],

   "execution_count": null,
   "metadata": {
    "collapsed": true
   },
   "outputs": [],

   "source": [
    "gbtree.fit(encoded_train, labels_train)"
   ]
  },
  {
   "cell_type": "code",

   "execution_count": 35,
   "metadata": {},
   "outputs": [
    {
     "data": {
      "text/plain": [
       "0.65346534653465349"
      ]
     },
     "execution_count": 35,
     "metadata": {},
     "output_type": "execute_result"
    }
   ],

   "execution_count": null,
   "metadata": {
    "collapsed": true
   },
   "outputs": [],

   "source": [
    "sklearn.metrics.accuracy_score(labels_test, gbtree.predict(encoder.transform(test)))"
   ]
  },
  {
   "cell_type": "code",

   "execution_count": 36,

   "execution_count": null,

   "metadata": {
    "collapsed": true
   },
   "outputs": [],
   "source": [
    "predict_fn = lambda x: gbtree.predict_proba(encoder.transform(x)).astype(float)"
   ]
  },
  {
   "cell_type": "code",

   "execution_count": 21,

   "execution_count": 38,
   "metadata": {
    "collapsed": true
   },
   "outputs": [],
   "source": [
    "import pip"
   ]
  },
  {
   "cell_type": "code",
   "execution_count": 41,
   "metadata": {},
   "outputs": [
    {
     "name": "stdout",
     "output_type": "stream",
     "text": [
      "Collecting xgboost\n",
      "  Using cached xgboost-0.7.post3.tar.gz\n"
     ]
    },
    {
     "name": "stderr",
     "output_type": "stream",
     "text": [
      "No files/directories in C:\\Users\\Varma\\AppData\\Local\\Temp\\pip-build-g1slgkvt\\xgboost\\pip-egg-info (from PKG-INFO)\n"
     ]
    },
    {
     "data": {
      "text/plain": [
       "1"
      ]
     },
     "execution_count": 41,
     "metadata": {},
     "output_type": "execute_result"
    }
   ],
   "source": [
    "pip.main(['install', 'xgboost'])"
   ]
  },
  {
   "cell_type": "code",
   "execution_count": null,

   "metadata": {
    "collapsed": true
   },
   "outputs": [],
   "source": [
    "import lime\n",
    "import lime.lime_tabular"
   ]
  },
  {
   "cell_type": "code",
   "execution_count": null,
   "metadata": {
    "collapsed": true
   },
   "outputs": [],
   "source": [
    "explainer = lime.lime_tabular.LimeTabularExplainer(train ,feature_names = feature_names,class_names=class_names,\n",
    "                                                   categorical_features=categorical_features, \n",
    "                                                   categorical_names=categorical_names, kernel_width=3)"
   ]
  },
  {
   "cell_type": "code",
   "execution_count": null,
   "metadata": {
    "collapsed": true
   },
   "outputs": [],
   "source": []
  }
 ],
 "metadata": {
  "kernelspec": {
   "display_name": "Python 3",
   "language": "python",
   "name": "python3"
  },
  "language_info": {
   "codemirror_mode": {
    "name": "ipython",
    "version": 3
   },
   "file_extension": ".py",
   "mimetype": "text/x-python",
   "name": "python",
   "nbconvert_exporter": "python",
   "pygments_lexer": "ipython3",
   "version": "3.6.3"
  }
 },
 "nbformat": 4,
 "nbformat_minor": 2
}
